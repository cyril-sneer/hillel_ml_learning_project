{
 "cells": [
  {
   "cell_type": "markdown",
   "source": [
    "# Imports"
   ],
   "metadata": {
    "collapsed": false
   },
   "id": "1a30587254e77b96"
  },
  {
   "cell_type": "code",
   "execution_count": 1,
   "id": "initial_id",
   "metadata": {
    "collapsed": true,
    "ExecuteTime": {
     "end_time": "2024-02-11T23:04:53.594326221Z",
     "start_time": "2024-02-11T23:04:52.403833367Z"
    }
   },
   "outputs": [],
   "source": [
    "from time import time\n",
    "\n",
    "import numpy as np\n",
    "import pandas as pd\n",
    "\n",
    "from sklearn.model_selection import train_test_split\n",
    "from sklearn.model_selection import cross_val_score\n",
    "\n",
    "from sklearn.feature_extraction.text import CountVectorizer, TfidfVectorizer\n",
    "from sklearn.ensemble import RandomForestClassifier\n",
    "\n",
    "from sklearn.metrics import accuracy_score, classification_report"
   ]
  },
  {
   "cell_type": "markdown",
   "source": [
    "# Чтение и анализ датасета"
   ],
   "metadata": {
    "collapsed": false
   },
   "id": "aca6f55cc86b02df"
  },
  {
   "cell_type": "code",
   "outputs": [],
   "source": [
    "df = pd.read_csv('IMDB Dataset.csv')"
   ],
   "metadata": {
    "collapsed": false,
    "ExecuteTime": {
     "end_time": "2024-02-11T23:04:54.293311613Z",
     "start_time": "2024-02-11T23:04:53.598093730Z"
    }
   },
   "id": "5ce1f8b8017df9d1",
   "execution_count": 2
  },
  {
   "cell_type": "code",
   "outputs": [
    {
     "data": {
      "text/plain": "                                                  review sentiment\n0      One of the other reviewers has mentioned that ...  positive\n1      A wonderful little production. <br /><br />The...  positive\n2      I thought this was a wonderful way to spend ti...  positive\n3      Basically there's a family where a little boy ...  negative\n4      Petter Mattei's \"Love in the Time of Money\" is...  positive\n...                                                  ...       ...\n49995  I thought this movie did a down right good job...  positive\n49996  Bad plot, bad dialogue, bad acting, idiotic di...  negative\n49997  I am a Catholic taught in parochial elementary...  negative\n49998  I'm going to have to disagree with the previou...  negative\n49999  No one expects the Star Trek movies to be high...  negative\n\n[50000 rows x 2 columns]",
      "text/html": "<div>\n<style scoped>\n    .dataframe tbody tr th:only-of-type {\n        vertical-align: middle;\n    }\n\n    .dataframe tbody tr th {\n        vertical-align: top;\n    }\n\n    .dataframe thead th {\n        text-align: right;\n    }\n</style>\n<table border=\"1\" class=\"dataframe\">\n  <thead>\n    <tr style=\"text-align: right;\">\n      <th></th>\n      <th>review</th>\n      <th>sentiment</th>\n    </tr>\n  </thead>\n  <tbody>\n    <tr>\n      <th>0</th>\n      <td>One of the other reviewers has mentioned that ...</td>\n      <td>positive</td>\n    </tr>\n    <tr>\n      <th>1</th>\n      <td>A wonderful little production. &lt;br /&gt;&lt;br /&gt;The...</td>\n      <td>positive</td>\n    </tr>\n    <tr>\n      <th>2</th>\n      <td>I thought this was a wonderful way to spend ti...</td>\n      <td>positive</td>\n    </tr>\n    <tr>\n      <th>3</th>\n      <td>Basically there's a family where a little boy ...</td>\n      <td>negative</td>\n    </tr>\n    <tr>\n      <th>4</th>\n      <td>Petter Mattei's \"Love in the Time of Money\" is...</td>\n      <td>positive</td>\n    </tr>\n    <tr>\n      <th>...</th>\n      <td>...</td>\n      <td>...</td>\n    </tr>\n    <tr>\n      <th>49995</th>\n      <td>I thought this movie did a down right good job...</td>\n      <td>positive</td>\n    </tr>\n    <tr>\n      <th>49996</th>\n      <td>Bad plot, bad dialogue, bad acting, idiotic di...</td>\n      <td>negative</td>\n    </tr>\n    <tr>\n      <th>49997</th>\n      <td>I am a Catholic taught in parochial elementary...</td>\n      <td>negative</td>\n    </tr>\n    <tr>\n      <th>49998</th>\n      <td>I'm going to have to disagree with the previou...</td>\n      <td>negative</td>\n    </tr>\n    <tr>\n      <th>49999</th>\n      <td>No one expects the Star Trek movies to be high...</td>\n      <td>negative</td>\n    </tr>\n  </tbody>\n</table>\n<p>50000 rows × 2 columns</p>\n</div>"
     },
     "execution_count": 3,
     "metadata": {},
     "output_type": "execute_result"
    }
   ],
   "source": [
    "df"
   ],
   "metadata": {
    "collapsed": false,
    "ExecuteTime": {
     "end_time": "2024-02-11T23:04:54.310848499Z",
     "start_time": "2024-02-11T23:04:54.296791066Z"
    }
   },
   "id": "25676dfac474123c",
   "execution_count": 3
  },
  {
   "cell_type": "markdown",
   "source": [
    "Дата сет представляет собой 50 000 пользовательских отзывов на \n",
    "фильмы с классификацией положительный `(positive)` или отрицательный `(negative)`"
   ],
   "metadata": {
    "collapsed": false
   },
   "id": "7c8b80aafce7a381"
  },
  {
   "cell_type": "markdown",
   "source": [
    "Посмотрим на таргет"
   ],
   "metadata": {
    "collapsed": false
   },
   "id": "131ffb5582a46256"
  },
  {
   "cell_type": "code",
   "outputs": [
    {
     "data": {
      "text/plain": "sentiment\npositive    25000\nnegative    25000\nName: count, dtype: int64"
     },
     "execution_count": 4,
     "metadata": {},
     "output_type": "execute_result"
    }
   ],
   "source": [
    "df['sentiment'].value_counts()"
   ],
   "metadata": {
    "collapsed": false,
    "ExecuteTime": {
     "end_time": "2024-02-11T23:04:54.341769715Z",
     "start_time": "2024-02-11T23:04:54.310951654Z"
    }
   },
   "id": "a43d16fd90b271b7",
   "execution_count": 4
  },
  {
   "cell_type": "markdown",
   "source": [
    "Таргет сбалансирован, имеем по 25000 положительных и отрицательных отзывов"
   ],
   "metadata": {
    "collapsed": false
   },
   "id": "e2670a65e300decb"
  },
  {
   "cell_type": "markdown",
   "source": [
    "Сформируем пространство признаков и таргет."
   ],
   "metadata": {
    "collapsed": false
   },
   "id": "a338f6f5e4b4b0ce"
  },
  {
   "cell_type": "code",
   "outputs": [],
   "source": [
    "X = df['review']\n",
    "y = df['sentiment'].replace({'negative': 0, 'positive': 1})"
   ],
   "metadata": {
    "collapsed": false,
    "ExecuteTime": {
     "end_time": "2024-02-11T23:04:54.387428517Z",
     "start_time": "2024-02-11T23:04:54.330377504Z"
    }
   },
   "id": "ae102e2ad439a347",
   "execution_count": 5
  },
  {
   "cell_type": "markdown",
   "source": [
    "Разобъем датасет на обучающую и тестовую выборки."
   ],
   "metadata": {
    "collapsed": false
   },
   "id": "4b4822ce0fc1b8d1"
  },
  {
   "cell_type": "code",
   "outputs": [],
   "source": [
    "X_train, X_test, y_train, y_test = train_test_split(X, y, test_size=0.3, random_state=42)"
   ],
   "metadata": {
    "collapsed": false,
    "ExecuteTime": {
     "end_time": "2024-02-11T23:04:54.437685544Z",
     "start_time": "2024-02-11T23:04:54.354953336Z"
    }
   },
   "id": "866fa76bce3e8d29",
   "execution_count": 6
  },
  {
   "cell_type": "markdown",
   "source": [
    "# Bag of words (CountVectorizer)"
   ],
   "metadata": {
    "collapsed": false
   },
   "id": "fd57ca96b9de41b8"
  },
  {
   "cell_type": "markdown",
   "source": [
    "## Обучение модели"
   ],
   "metadata": {
    "collapsed": false
   },
   "id": "b198162dddf03571"
  },
  {
   "cell_type": "markdown",
   "source": [
    "Для классификации я выбрал `RandomForest`.\n",
    "\n",
    "Но сначала нужно перевести текст отзывов в цифры. \n",
    "Для этого используем класс `CountVectorizer` который преобразовывает коллекцию текстовых \n",
    "документов в матрицу количества токенов, где каждый столбец соответствует отдельному \n",
    "токену (суть - слову в исходном тексте). \n",
    "Можно было бы показать данному векторайзеру все отзывы для того чтобы его словарь был полнее,\n",
    "но думаю, что будет более честно и приближенно к реальности, когда не только сама модель,\n",
    "но и различные трансформеры на этапе предпроцессинга тренируются только на обучающей выборке.\n",
    "\n",
    "Параметр `min_df` указывает количество раз, которое слово должно встретиться в тексте, \n",
    "чтобы быть включенным в выходную матрицу.\n",
    "\n",
    "Есть гипотеза, что эмоциональную окраску отзывам на тему хороший/плохой фильм\n",
    "придают не так много слов и на обучающей выборке в 35000 отзывов они будут встречаться часто.\n",
    "Поэтому можно попробовать установить это значение в широких пределах от 1 (взять все слова)\n",
    "до 500 (взять слова, которые встретились не менее 500 раз). \n",
    "Посмотрим как это будет отражаться на точности классификации.\n",
    "\n",
    "Метрики модели при различных значениях параметра `min_df` будем оценивать на кросс-валидации.\n",
    "Натренированные на разных матрицах токенов векторайзеры будем сохранять в словаре `vectorizers`."
   ],
   "metadata": {
    "collapsed": false
   },
   "id": "685768d0d3e4225"
  },
  {
   "cell_type": "code",
   "outputs": [
    {
     "name": "stdout",
     "output_type": "stream",
     "text": [
      "min_df: 1, X_train shape: (35000, 87687)\n",
      "Model cross validation score: 0.8553142857142857\n",
      "min_df: 50, X_train shape: (35000, 7685)\n",
      "Model cross validation score: 0.8473428571428571\n",
      "min_df: 200, X_train shape: (35000, 2584)\n",
      "Model cross validation score: 0.8372285714285713\n",
      "min_df: 500, X_train shape: (35000, 1097)\n",
      "Model cross validation score: 0.8287428571428572\n"
     ]
    }
   ],
   "source": [
    "vectorizers = {}\n",
    "\n",
    "model = RandomForestClassifier(random_state=42)\n",
    "\n",
    "for mindf in [1, 50, 200, 500]:\n",
    "    vectorizer = CountVectorizer(stop_words='english', min_df=mindf)\n",
    "    X_train_transformed = vectorizer.fit_transform(X_train)\n",
    "    vectorizers[mindf] = vectorizer\n",
    "    print(f\"min_df: {mindf}, X_train shape: {X_train_transformed.shape}\")\n",
    "    \n",
    "    model_cv_score = np.mean(\n",
    "        cross_val_score(model, X_train_transformed, y_train, cv=5, scoring=\"accuracy\", n_jobs=-1)\n",
    "    )\n",
    "    print(f\"Model cross validation score: {model_cv_score}\\n\")"
   ],
   "metadata": {
    "collapsed": false,
    "ExecuteTime": {
     "end_time": "2024-02-11T23:13:41.800466494Z",
     "start_time": "2024-02-11T23:04:54.395377506Z"
    }
   },
   "id": "2925cf3ab5325fc0",
   "execution_count": 7
  },
  {
   "cell_type": "markdown",
   "source": [
    "В выводе видно, что при уменьшении размера словаря с 87687 слов до 1097,\n",
    "точность модели незначительно падает с 85,5% до 82,8%\n",
    "\n",
    "Возьмем для предсказания словарь, содержащий слова, которые встретились \n",
    "не менее 200 раз и натренируем модель на всей обучающей выборке"
   ],
   "metadata": {
    "collapsed": false
   },
   "id": "3f356915005e9b9d"
  },
  {
   "cell_type": "code",
   "outputs": [
    {
     "data": {
      "text/plain": "{1: CountVectorizer(stop_words='english'),\n 50: CountVectorizer(min_df=50, stop_words='english'),\n 200: CountVectorizer(min_df=200, stop_words='english'),\n 500: CountVectorizer(min_df=500, stop_words='english')}"
     },
     "execution_count": 20,
     "metadata": {},
     "output_type": "execute_result"
    }
   ],
   "source": [
    "vectorizers"
   ],
   "metadata": {
    "collapsed": false,
    "ExecuteTime": {
     "end_time": "2024-02-11T23:16:55.403514198Z",
     "start_time": "2024-02-11T23:16:55.390764045Z"
    }
   },
   "id": "e8fa089624e143dd",
   "execution_count": 20
  },
  {
   "cell_type": "code",
   "outputs": [],
   "source": [
    "X_train_transformed = vectorizers[200].transform(X_train)"
   ],
   "metadata": {
    "collapsed": false,
    "ExecuteTime": {
     "end_time": "2024-02-11T23:13:46.580873996Z",
     "start_time": "2024-02-11T23:13:41.795215269Z"
    }
   },
   "id": "1435a3edd7c6ed6",
   "execution_count": 8
  },
  {
   "cell_type": "code",
   "outputs": [
    {
     "name": "stdout",
     "output_type": "stream",
     "text": [
      "  (0, 225)\t1\n",
      "  (0, 248)\t1\n",
      "  (0, 250)\t1\n",
      "  (0, 271)\t2\n",
      "  (0, 490)\t1\n",
      "  (0, 672)\t1\n",
      "  (0, 676)\t1\n",
      "  (0, 976)\t1\n",
      "  (0, 995)\t1\n",
      "  (0, 1032)\t2\n",
      "  (0, 1065)\t1\n",
      "  (0, 1102)\t1\n",
      "  (0, 1143)\t1\n",
      "  (0, 1155)\t1\n",
      "  (0, 1160)\t1\n",
      "  (0, 1349)\t1\n",
      "  (0, 1354)\t1\n",
      "  (0, 1386)\t1\n",
      "  (0, 1442)\t1\n",
      "  (0, 1513)\t1\n",
      "  (0, 1550)\t1\n",
      "  (0, 1552)\t1\n",
      "  (0, 1655)\t1\n",
      "  (0, 1695)\t1\n",
      "  (0, 1730)\t1\n",
      "  :\t:\n",
      "  (34999, 1093)\t1\n",
      "  (34999, 1110)\t1\n",
      "  (34999, 1196)\t1\n",
      "  (34999, 1233)\t1\n",
      "  (34999, 1354)\t1\n",
      "  (34999, 1380)\t1\n",
      "  (34999, 1404)\t1\n",
      "  (34999, 1412)\t1\n",
      "  (34999, 1435)\t1\n",
      "  (34999, 1513)\t10\n",
      "  (34999, 1678)\t1\n",
      "  (34999, 1742)\t1\n",
      "  (34999, 1793)\t1\n",
      "  (34999, 1825)\t1\n",
      "  (34999, 1840)\t1\n",
      "  (34999, 1947)\t1\n",
      "  (34999, 1989)\t1\n",
      "  (34999, 2038)\t1\n",
      "  (34999, 2176)\t1\n",
      "  (34999, 2179)\t1\n",
      "  (34999, 2258)\t1\n",
      "  (34999, 2289)\t1\n",
      "  (34999, 2329)\t2\n",
      "  (34999, 2356)\t1\n",
      "  (34999, 2396)\t1\n"
     ]
    }
   ],
   "source": [
    "print(X_train_transformed)"
   ],
   "metadata": {
    "collapsed": false,
    "ExecuteTime": {
     "end_time": "2024-02-11T23:13:46.612941115Z",
     "start_time": "2024-02-11T23:13:46.584033528Z"
    }
   },
   "id": "5600081105f8a1b4",
   "execution_count": 9
  },
  {
   "cell_type": "code",
   "outputs": [
    {
     "name": "stdout",
     "output_type": "stream",
     "text": [
      "Training time: 89.11080694198608\n"
     ]
    }
   ],
   "source": [
    "start_time = time()\n",
    "model.fit(X_train_transformed, y_train)\n",
    "print(f\"Training time: {time() - start_time}\")"
   ],
   "metadata": {
    "collapsed": false,
    "ExecuteTime": {
     "end_time": "2024-02-11T23:15:15.775352634Z",
     "start_time": "2024-02-11T23:13:46.615805333Z"
    }
   },
   "id": "6e5b6a9e678f3b5e",
   "execution_count": 10
  },
  {
   "cell_type": "markdown",
   "source": [
    "## Предсказание, вывод метрик"
   ],
   "metadata": {
    "collapsed": false
   },
   "id": "c61297d6c28938f0"
  },
  {
   "cell_type": "markdown",
   "source": [
    "Перекодируем тестовую выборку, прогоним ее через модель, выведем метрики."
   ],
   "metadata": {
    "collapsed": false
   },
   "id": "f6125ff736028162"
  },
  {
   "cell_type": "code",
   "outputs": [],
   "source": [
    "X_test_transformed = vectorizers[200].transform(X_test)"
   ],
   "metadata": {
    "collapsed": false,
    "ExecuteTime": {
     "end_time": "2024-02-11T23:15:17.586601480Z",
     "start_time": "2024-02-11T23:15:15.767163869Z"
    }
   },
   "id": "ee30fabe47e471d2",
   "execution_count": 11
  },
  {
   "cell_type": "code",
   "outputs": [
    {
     "name": "stdout",
     "output_type": "stream",
     "text": [
      "Model test set score: 0.8396\n",
      "\n",
      "               precision    recall  f1-score   support\n",
      "\n",
      "           0       0.83      0.85      0.84      7411\n",
      "           1       0.85      0.83      0.84      7589\n",
      "\n",
      "    accuracy                           0.84     15000\n",
      "   macro avg       0.84      0.84      0.84     15000\n",
      "weighted avg       0.84      0.84      0.84     15000\n"
     ]
    }
   ],
   "source": [
    "y_predicted = model.predict(X_test_transformed)\n",
    "model_test_score = accuracy_score(y_true=y_test, y_pred=y_predicted)\n",
    "\n",
    "print(f\"Model test set score: {model_test_score}\")\n",
    "print(\"\\n\", classification_report(y_true=y_test, y_pred=y_predicted))"
   ],
   "metadata": {
    "collapsed": false,
    "ExecuteTime": {
     "end_time": "2024-02-11T23:15:18.245031992Z",
     "start_time": "2024-02-11T23:15:17.590753983Z"
    }
   },
   "id": "f81f9121af5de7bd",
   "execution_count": 12
  },
  {
   "cell_type": "markdown",
   "source": [
    "# TF - IDF (TfidfVectorizer)\n",
    "\n",
    "TF - term frequency, IDF - inverse document frequency"
   ],
   "metadata": {
    "collapsed": false
   },
   "id": "16083afaf9f5907c"
  },
  {
   "cell_type": "markdown",
   "source": [
    "Теперь попробуем подать на классификатор не количества найденных слов, а их TF-IDF индекс.\n",
    "\n",
    "Делаем аналогичную последовательность действий:\n",
    "- векторизация обучающей выборки;\n",
    "- тренировка модели;\n",
    "- векторизация тестовой выборки;\n",
    "- проверка модели на тестовой выборке, вывод метрик."
   ],
   "metadata": {
    "collapsed": false
   },
   "id": "54ec56efb86290e9"
  },
  {
   "cell_type": "code",
   "outputs": [],
   "source": [
    "vectorizer = TfidfVectorizer(stop_words='english', min_df=200)"
   ],
   "metadata": {
    "collapsed": false,
    "ExecuteTime": {
     "end_time": "2024-02-11T23:15:18.254128798Z",
     "start_time": "2024-02-11T23:15:18.247047942Z"
    }
   },
   "id": "9f43ad5e924506a6",
   "execution_count": 13
  },
  {
   "cell_type": "code",
   "outputs": [],
   "source": [
    "X_train_tfidf = vectorizer.fit_transform(X_train)"
   ],
   "metadata": {
    "collapsed": false,
    "ExecuteTime": {
     "end_time": "2024-02-11T23:15:23.277443973Z",
     "start_time": "2024-02-11T23:15:18.254543328Z"
    }
   },
   "id": "8b249d039455adb5",
   "execution_count": 14
  },
  {
   "cell_type": "code",
   "outputs": [
    {
     "data": {
      "text/plain": "(35000, 2584)"
     },
     "execution_count": 15,
     "metadata": {},
     "output_type": "execute_result"
    }
   ],
   "source": [
    "X_train_tfidf.shape"
   ],
   "metadata": {
    "collapsed": false,
    "ExecuteTime": {
     "end_time": "2024-02-11T23:15:23.325257316Z",
     "start_time": "2024-02-11T23:15:23.323117937Z"
    }
   },
   "id": "a044b561d669ac5a",
   "execution_count": 15
  },
  {
   "cell_type": "code",
   "outputs": [
    {
     "name": "stdout",
     "output_type": "stream",
     "text": [
      "  (0, 976)\t0.12698426520305237\n",
      "  (0, 2176)\t0.08573780127745301\n",
      "  (0, 2257)\t0.139504208203309\n",
      "  (0, 1354)\t0.1035471930821437\n",
      "  (0, 1032)\t0.26363076998364265\n",
      "  (0, 250)\t0.22493038065566745\n",
      "  (0, 1442)\t0.195535607802665\n",
      "  (0, 1655)\t0.13341285107472725\n",
      "  (0, 995)\t0.07674092923257012\n",
      "  (0, 2388)\t0.16095587732147681\n",
      "  (0, 225)\t0.10292484921993565\n",
      "  (0, 2382)\t0.14444853821494988\n",
      "  (0, 1552)\t0.144381430048271\n",
      "  (0, 1942)\t0.13899011272372694\n",
      "  (0, 1065)\t0.13417883439884773\n",
      "  (0, 271)\t0.11986344681807265\n",
      "  (0, 1143)\t0.14301445638156335\n",
      "  (0, 2577)\t0.18754236658031506\n",
      "  (0, 1550)\t0.12080576671642523\n",
      "  (0, 676)\t0.21438503095934316\n",
      "  (0, 2157)\t0.2381165085168505\n",
      "  (0, 1155)\t0.1779034175048819\n",
      "  (0, 248)\t0.21479314385121762\n",
      "  (0, 1102)\t0.16834213330870518\n",
      "  (0, 1349)\t0.15229202432826924\n",
      "  :\t:\n",
      "  (34999, 624)\t0.13078230165397273\n",
      "  (34999, 1196)\t0.16843212627298232\n",
      "  (34999, 1793)\t0.1115578580581452\n",
      "  (34999, 1989)\t0.09848505968362213\n",
      "  (34999, 233)\t0.09102321791018046\n",
      "  (34999, 1840)\t0.10262696935820277\n",
      "  (34999, 43)\t0.13986156564607904\n",
      "  (34999, 52)\t0.08217249590817988\n",
      "  (34999, 296)\t0.10427792407718106\n",
      "  (34999, 644)\t0.074912679222971\n",
      "  (34999, 1678)\t0.09634230504914956\n",
      "  (34999, 357)\t0.14577127572433957\n",
      "  (34999, 1380)\t0.08326529615389051\n",
      "  (34999, 44)\t0.280741342277181\n",
      "  (34999, 1412)\t0.08150460538689427\n",
      "  (34999, 1093)\t0.1570559648856168\n",
      "  (34999, 1011)\t0.19680263013568536\n",
      "  (34999, 1825)\t0.08014096916005649\n",
      "  (34999, 358)\t0.07114315957720217\n",
      "  (34999, 2038)\t0.10321144448372142\n",
      "  (34999, 2329)\t0.11351641087700284\n",
      "  (34999, 2176)\t0.060694304770611954\n",
      "  (34999, 1354)\t0.07330168025572828\n",
      "  (34999, 995)\t0.05432536498281358\n",
      "  (34999, 1513)\t0.4106675577604483\n"
     ]
    }
   ],
   "source": [
    "print(X_train_tfidf)"
   ],
   "metadata": {
    "collapsed": false,
    "ExecuteTime": {
     "end_time": "2024-02-11T23:15:23.326835870Z",
     "start_time": "2024-02-11T23:15:23.323413874Z"
    }
   },
   "id": "708cede5c3a00ce6",
   "execution_count": 16
  },
  {
   "cell_type": "code",
   "outputs": [
    {
     "name": "stdout",
     "output_type": "stream",
     "text": [
      "Training time: 89.23653221130371\n"
     ]
    }
   ],
   "source": [
    "start_time = time()\n",
    "model.fit(X_train_tfidf, y_train)\n",
    "print(f\"Training time: {time() - start_time}\")"
   ],
   "metadata": {
    "collapsed": false,
    "ExecuteTime": {
     "end_time": "2024-02-11T23:16:52.613439717Z",
     "start_time": "2024-02-11T23:15:23.323672673Z"
    }
   },
   "id": "b38f62a9cfbd08fc",
   "execution_count": 17
  },
  {
   "cell_type": "code",
   "outputs": [],
   "source": [
    "X_test_tfidf = vectorizer.transform(X_test)"
   ],
   "metadata": {
    "collapsed": false,
    "ExecuteTime": {
     "end_time": "2024-02-11T23:16:54.749020854Z",
     "start_time": "2024-02-11T23:16:52.637091880Z"
    }
   },
   "id": "e23e060a7f6f037d",
   "execution_count": 18
  },
  {
   "cell_type": "code",
   "outputs": [
    {
     "name": "stdout",
     "output_type": "stream",
     "text": [
      "Model test set score: 0.8465333333333334\n",
      "\n",
      "               precision    recall  f1-score   support\n",
      "\n",
      "           0       0.84      0.86      0.85      7411\n",
      "           1       0.86      0.84      0.85      7589\n",
      "\n",
      "    accuracy                           0.85     15000\n",
      "   macro avg       0.85      0.85      0.85     15000\n",
      "weighted avg       0.85      0.85      0.85     15000\n"
     ]
    }
   ],
   "source": [
    "y_predicted = model.predict(X_test_tfidf)\n",
    "model_test_score = accuracy_score(y_true=y_test, y_pred=y_predicted)\n",
    "\n",
    "print(f\"Model test set score: {model_test_score}\")\n",
    "print(\"\\n\", classification_report(y_true=y_test, y_pred=y_predicted))"
   ],
   "metadata": {
    "collapsed": false,
    "ExecuteTime": {
     "end_time": "2024-02-11T23:16:55.386121567Z",
     "start_time": "2024-02-11T23:16:54.753469525Z"
    }
   },
   "id": "4458e5534ffadf63",
   "execution_count": 19
  },
  {
   "cell_type": "markdown",
   "source": [
    "# Вывод\n",
    "\n",
    "Выбор в качестве обучающих данных индексов TF-IDF вместо количественной матрицы\n",
    "не отразился ни на времени тренировки модели, ни на ее точности.\n",
    "\n",
    "В обоих случаях точность на тестовой выборке составила порядка 85%. \n",
    "На точность в бОльшей степени влияет размер словаря."
   ],
   "metadata": {
    "collapsed": false
   },
   "id": "c521eb2323488d92"
  }
 ],
 "metadata": {
  "kernelspec": {
   "display_name": "Python 3",
   "language": "python",
   "name": "python3"
  },
  "language_info": {
   "codemirror_mode": {
    "name": "ipython",
    "version": 2
   },
   "file_extension": ".py",
   "mimetype": "text/x-python",
   "name": "python",
   "nbconvert_exporter": "python",
   "pygments_lexer": "ipython2",
   "version": "2.7.6"
  }
 },
 "nbformat": 4,
 "nbformat_minor": 5
}
