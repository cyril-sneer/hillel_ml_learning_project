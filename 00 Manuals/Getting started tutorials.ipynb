{
 "cells": [
  {
   "cell_type": "code",
   "execution_count": 19,
   "id": "initial_id",
   "metadata": {
    "collapsed": true,
    "ExecuteTime": {
     "end_time": "2023-12-30T18:36:34.925925896Z",
     "start_time": "2023-12-30T18:36:34.763427965Z"
    }
   },
   "outputs": [],
   "source": [
    "import pandas as pd"
   ]
  },
  {
   "cell_type": "code",
   "outputs": [
    {
     "data": {
      "text/plain": "   PassengerId  Survived  Pclass  \\\n0            1         0       3   \n1            2         1       1   \n2            3         1       3   \n3            4         1       1   \n4            5         0       3   \n\n                                                Name     Sex   Age  SibSp  \\\n0                            Braund, Mr. Owen Harris    male  22.0      1   \n1  Cumings, Mrs. John Bradley (Florence Briggs Th...  female  38.0      1   \n2                             Heikkinen, Miss. Laina  female  26.0      0   \n3       Futrelle, Mrs. Jacques Heath (Lily May Peel)  female  35.0      1   \n4                           Allen, Mr. William Henry    male  35.0      0   \n\n   Parch            Ticket     Fare Cabin Embarked  \n0      0         A/5 21171   7.2500   NaN        S  \n1      0          PC 17599  71.2833   C85        C  \n2      0  STON/O2. 3101282   7.9250   NaN        S  \n3      0            113803  53.1000  C123        S  \n4      0            373450   8.0500   NaN        S  ",
      "text/html": "<div>\n<style scoped>\n    .dataframe tbody tr th:only-of-type {\n        vertical-align: middle;\n    }\n\n    .dataframe tbody tr th {\n        vertical-align: top;\n    }\n\n    .dataframe thead th {\n        text-align: right;\n    }\n</style>\n<table border=\"1\" class=\"dataframe\">\n  <thead>\n    <tr style=\"text-align: right;\">\n      <th></th>\n      <th>PassengerId</th>\n      <th>Survived</th>\n      <th>Pclass</th>\n      <th>Name</th>\n      <th>Sex</th>\n      <th>Age</th>\n      <th>SibSp</th>\n      <th>Parch</th>\n      <th>Ticket</th>\n      <th>Fare</th>\n      <th>Cabin</th>\n      <th>Embarked</th>\n    </tr>\n  </thead>\n  <tbody>\n    <tr>\n      <th>0</th>\n      <td>1</td>\n      <td>0</td>\n      <td>3</td>\n      <td>Braund, Mr. Owen Harris</td>\n      <td>male</td>\n      <td>22.0</td>\n      <td>1</td>\n      <td>0</td>\n      <td>A/5 21171</td>\n      <td>7.2500</td>\n      <td>NaN</td>\n      <td>S</td>\n    </tr>\n    <tr>\n      <th>1</th>\n      <td>2</td>\n      <td>1</td>\n      <td>1</td>\n      <td>Cumings, Mrs. John Bradley (Florence Briggs Th...</td>\n      <td>female</td>\n      <td>38.0</td>\n      <td>1</td>\n      <td>0</td>\n      <td>PC 17599</td>\n      <td>71.2833</td>\n      <td>C85</td>\n      <td>C</td>\n    </tr>\n    <tr>\n      <th>2</th>\n      <td>3</td>\n      <td>1</td>\n      <td>3</td>\n      <td>Heikkinen, Miss. Laina</td>\n      <td>female</td>\n      <td>26.0</td>\n      <td>0</td>\n      <td>0</td>\n      <td>STON/O2. 3101282</td>\n      <td>7.9250</td>\n      <td>NaN</td>\n      <td>S</td>\n    </tr>\n    <tr>\n      <th>3</th>\n      <td>4</td>\n      <td>1</td>\n      <td>1</td>\n      <td>Futrelle, Mrs. Jacques Heath (Lily May Peel)</td>\n      <td>female</td>\n      <td>35.0</td>\n      <td>1</td>\n      <td>0</td>\n      <td>113803</td>\n      <td>53.1000</td>\n      <td>C123</td>\n      <td>S</td>\n    </tr>\n    <tr>\n      <th>4</th>\n      <td>5</td>\n      <td>0</td>\n      <td>3</td>\n      <td>Allen, Mr. William Henry</td>\n      <td>male</td>\n      <td>35.0</td>\n      <td>0</td>\n      <td>0</td>\n      <td>373450</td>\n      <td>8.0500</td>\n      <td>NaN</td>\n      <td>S</td>\n    </tr>\n  </tbody>\n</table>\n</div>"
     },
     "execution_count": 20,
     "metadata": {},
     "output_type": "execute_result"
    }
   ],
   "source": [
    "titanic = pd.read_csv(\"data/titanic.csv\")\n",
    "titanic.head()"
   ],
   "metadata": {
    "collapsed": false,
    "ExecuteTime": {
     "end_time": "2023-12-30T18:36:35.013249641Z",
     "start_time": "2023-12-30T18:36:34.931176172Z"
    }
   },
   "id": "e2b303397949e111",
   "execution_count": 20
  },
  {
   "cell_type": "code",
   "outputs": [
    {
     "data": {
      "text/plain": "              Age        Fare\nmin      0.420000    0.000000\nmax     80.000000  512.329200\nmedian  28.000000   14.454200\nskew     0.389108         NaN\nmean          NaN   32.204208",
      "text/html": "<div>\n<style scoped>\n    .dataframe tbody tr th:only-of-type {\n        vertical-align: middle;\n    }\n\n    .dataframe tbody tr th {\n        vertical-align: top;\n    }\n\n    .dataframe thead th {\n        text-align: right;\n    }\n</style>\n<table border=\"1\" class=\"dataframe\">\n  <thead>\n    <tr style=\"text-align: right;\">\n      <th></th>\n      <th>Age</th>\n      <th>Fare</th>\n    </tr>\n  </thead>\n  <tbody>\n    <tr>\n      <th>min</th>\n      <td>0.420000</td>\n      <td>0.000000</td>\n    </tr>\n    <tr>\n      <th>max</th>\n      <td>80.000000</td>\n      <td>512.329200</td>\n    </tr>\n    <tr>\n      <th>median</th>\n      <td>28.000000</td>\n      <td>14.454200</td>\n    </tr>\n    <tr>\n      <th>skew</th>\n      <td>0.389108</td>\n      <td>NaN</td>\n    </tr>\n    <tr>\n      <th>mean</th>\n      <td>NaN</td>\n      <td>32.204208</td>\n    </tr>\n  </tbody>\n</table>\n</div>"
     },
     "execution_count": 21,
     "metadata": {},
     "output_type": "execute_result"
    }
   ],
   "source": [
    "titanic.agg(\n",
    "    {\n",
    "        \"Age\": [\"min\", \"max\", \"median\", \"skew\"],\n",
    "        \"Fare\": [\"min\", \"max\", \"median\", \"mean\"],\n",
    "    }\n",
    ")"
   ],
   "metadata": {
    "collapsed": false,
    "ExecuteTime": {
     "end_time": "2023-12-30T18:36:35.035190303Z",
     "start_time": "2023-12-30T18:36:34.959287602Z"
    }
   },
   "id": "9e12b263a384d77b",
   "execution_count": 21
  },
  {
   "cell_type": "code",
   "outputs": [
    {
     "data": {
      "text/plain": "              Age\nSex              \nfemale  27.915709\nmale    30.726645",
      "text/html": "<div>\n<style scoped>\n    .dataframe tbody tr th:only-of-type {\n        vertical-align: middle;\n    }\n\n    .dataframe tbody tr th {\n        vertical-align: top;\n    }\n\n    .dataframe thead th {\n        text-align: right;\n    }\n</style>\n<table border=\"1\" class=\"dataframe\">\n  <thead>\n    <tr style=\"text-align: right;\">\n      <th></th>\n      <th>Age</th>\n    </tr>\n    <tr>\n      <th>Sex</th>\n      <th></th>\n    </tr>\n  </thead>\n  <tbody>\n    <tr>\n      <th>female</th>\n      <td>27.915709</td>\n    </tr>\n    <tr>\n      <th>male</th>\n      <td>30.726645</td>\n    </tr>\n  </tbody>\n</table>\n</div>"
     },
     "execution_count": 22,
     "metadata": {},
     "output_type": "execute_result"
    }
   ],
   "source": [
    "titanic[[\"Sex\", \"Age\"]].groupby(\"Sex\").mean()"
   ],
   "metadata": {
    "collapsed": false,
    "ExecuteTime": {
     "end_time": "2023-12-30T18:36:35.101198294Z",
     "start_time": "2023-12-30T18:36:35.026983544Z"
    }
   },
   "id": "9befcbfd9766d437",
   "execution_count": 22
  },
  {
   "cell_type": "code",
   "outputs": [
    {
     "data": {
      "text/plain": "Sex\nfemale    27.915709\nmale      30.726645\nName: Age, dtype: float64"
     },
     "execution_count": 23,
     "metadata": {},
     "output_type": "execute_result"
    }
   ],
   "source": [
    "titanic.groupby(\"Sex\")[\"Age\"].mean()"
   ],
   "metadata": {
    "collapsed": false,
    "ExecuteTime": {
     "end_time": "2023-12-30T18:36:35.213757967Z",
     "start_time": "2023-12-30T18:36:35.099805711Z"
    }
   },
   "id": "efe5ee01b17a519d",
   "execution_count": 23
  },
  {
   "cell_type": "code",
   "outputs": [
    {
     "data": {
      "text/plain": "Sex     Pclass\nfemale  1         106.125798\n        2          21.970121\n        3          16.118810\nmale    1          67.226127\n        2          19.741782\n        3          12.661633\nName: Fare, dtype: float64"
     },
     "execution_count": 24,
     "metadata": {},
     "output_type": "execute_result"
    }
   ],
   "source": [
    "titanic.groupby([\"Sex\", \"Pclass\"])[\"Fare\"].mean()"
   ],
   "metadata": {
    "collapsed": false,
    "ExecuteTime": {
     "end_time": "2023-12-30T18:36:35.347996594Z",
     "start_time": "2023-12-30T18:36:35.107018870Z"
    }
   },
   "id": "21bbcf73725680c0",
   "execution_count": 24
  },
  {
   "cell_type": "code",
   "outputs": [
    {
     "data": {
      "text/plain": "                                city country location parameter  value   unit\ndate.utc                                                                     \n2019-06-18 06:00:00+00:00  Antwerpen      BE  BETR801      pm25   18.0  µg/m³\n2019-06-17 08:00:00+00:00  Antwerpen      BE  BETR801      pm25    6.5  µg/m³\n2019-06-17 07:00:00+00:00  Antwerpen      BE  BETR801      pm25   18.5  µg/m³\n2019-06-17 06:00:00+00:00  Antwerpen      BE  BETR801      pm25   16.0  µg/m³\n2019-06-17 05:00:00+00:00  Antwerpen      BE  BETR801      pm25    7.5  µg/m³",
      "text/html": "<div>\n<style scoped>\n    .dataframe tbody tr th:only-of-type {\n        vertical-align: middle;\n    }\n\n    .dataframe tbody tr th {\n        vertical-align: top;\n    }\n\n    .dataframe thead th {\n        text-align: right;\n    }\n</style>\n<table border=\"1\" class=\"dataframe\">\n  <thead>\n    <tr style=\"text-align: right;\">\n      <th></th>\n      <th>city</th>\n      <th>country</th>\n      <th>location</th>\n      <th>parameter</th>\n      <th>value</th>\n      <th>unit</th>\n    </tr>\n    <tr>\n      <th>date.utc</th>\n      <th></th>\n      <th></th>\n      <th></th>\n      <th></th>\n      <th></th>\n      <th></th>\n    </tr>\n  </thead>\n  <tbody>\n    <tr>\n      <th>2019-06-18 06:00:00+00:00</th>\n      <td>Antwerpen</td>\n      <td>BE</td>\n      <td>BETR801</td>\n      <td>pm25</td>\n      <td>18.0</td>\n      <td>µg/m³</td>\n    </tr>\n    <tr>\n      <th>2019-06-17 08:00:00+00:00</th>\n      <td>Antwerpen</td>\n      <td>BE</td>\n      <td>BETR801</td>\n      <td>pm25</td>\n      <td>6.5</td>\n      <td>µg/m³</td>\n    </tr>\n    <tr>\n      <th>2019-06-17 07:00:00+00:00</th>\n      <td>Antwerpen</td>\n      <td>BE</td>\n      <td>BETR801</td>\n      <td>pm25</td>\n      <td>18.5</td>\n      <td>µg/m³</td>\n    </tr>\n    <tr>\n      <th>2019-06-17 06:00:00+00:00</th>\n      <td>Antwerpen</td>\n      <td>BE</td>\n      <td>BETR801</td>\n      <td>pm25</td>\n      <td>16.0</td>\n      <td>µg/m³</td>\n    </tr>\n    <tr>\n      <th>2019-06-17 05:00:00+00:00</th>\n      <td>Antwerpen</td>\n      <td>BE</td>\n      <td>BETR801</td>\n      <td>pm25</td>\n      <td>7.5</td>\n      <td>µg/m³</td>\n    </tr>\n  </tbody>\n</table>\n</div>"
     },
     "execution_count": 25,
     "metadata": {},
     "output_type": "execute_result"
    }
   ],
   "source": [
    "air_quality = pd.read_csv(\n",
    "    \"data/air_quality_long.csv\", index_col=\"date.utc\", parse_dates=True\n",
    ")\n",
    "air_quality.head()"
   ],
   "metadata": {
    "collapsed": false,
    "ExecuteTime": {
     "end_time": "2023-12-30T18:36:35.471487512Z",
     "start_time": "2023-12-30T18:36:35.244727202Z"
    }
   },
   "id": "cd448669b6974fa8",
   "execution_count": 25
  },
  {
   "cell_type": "markdown",
   "source": [
    "Let’s use a small subset of the air quality data set. We focus on NO2 data and only use the first two measurements of each location (i.e. the head of each group). The subset of data will be called"
   ],
   "metadata": {
    "collapsed": false
   },
   "id": "4c40935d5e8f438b"
  },
  {
   "cell_type": "code",
   "outputs": [],
   "source": [
    "# filter for no2 data only\n",
    "no2 = air_quality[air_quality[\"parameter\"] == \"no2\"]"
   ],
   "metadata": {
    "collapsed": false,
    "ExecuteTime": {
     "end_time": "2023-12-30T18:36:35.546124841Z",
     "start_time": "2023-12-30T18:36:35.410039039Z"
    }
   },
   "id": "da7a5c542fd8561d",
   "execution_count": 26
  },
  {
   "cell_type": "code",
   "outputs": [
    {
     "data": {
      "text/plain": "                                city country            location parameter  \\\ndate.utc                                                                     \n2019-04-09 01:00:00+00:00  Antwerpen      BE             BETR801       no2   \n2019-04-09 01:00:00+00:00      Paris      FR             FR04014       no2   \n2019-04-09 02:00:00+00:00     London      GB  London Westminster       no2   \n2019-04-09 02:00:00+00:00  Antwerpen      BE             BETR801       no2   \n2019-04-09 02:00:00+00:00      Paris      FR             FR04014       no2   \n2019-04-09 03:00:00+00:00     London      GB  London Westminster       no2   \n\n                           value   unit  \ndate.utc                                 \n2019-04-09 01:00:00+00:00   22.5  µg/m³  \n2019-04-09 01:00:00+00:00   24.4  µg/m³  \n2019-04-09 02:00:00+00:00   67.0  µg/m³  \n2019-04-09 02:00:00+00:00   53.5  µg/m³  \n2019-04-09 02:00:00+00:00   27.4  µg/m³  \n2019-04-09 03:00:00+00:00   67.0  µg/m³  ",
      "text/html": "<div>\n<style scoped>\n    .dataframe tbody tr th:only-of-type {\n        vertical-align: middle;\n    }\n\n    .dataframe tbody tr th {\n        vertical-align: top;\n    }\n\n    .dataframe thead th {\n        text-align: right;\n    }\n</style>\n<table border=\"1\" class=\"dataframe\">\n  <thead>\n    <tr style=\"text-align: right;\">\n      <th></th>\n      <th>city</th>\n      <th>country</th>\n      <th>location</th>\n      <th>parameter</th>\n      <th>value</th>\n      <th>unit</th>\n    </tr>\n    <tr>\n      <th>date.utc</th>\n      <th></th>\n      <th></th>\n      <th></th>\n      <th></th>\n      <th></th>\n      <th></th>\n    </tr>\n  </thead>\n  <tbody>\n    <tr>\n      <th>2019-04-09 01:00:00+00:00</th>\n      <td>Antwerpen</td>\n      <td>BE</td>\n      <td>BETR801</td>\n      <td>no2</td>\n      <td>22.5</td>\n      <td>µg/m³</td>\n    </tr>\n    <tr>\n      <th>2019-04-09 01:00:00+00:00</th>\n      <td>Paris</td>\n      <td>FR</td>\n      <td>FR04014</td>\n      <td>no2</td>\n      <td>24.4</td>\n      <td>µg/m³</td>\n    </tr>\n    <tr>\n      <th>2019-04-09 02:00:00+00:00</th>\n      <td>London</td>\n      <td>GB</td>\n      <td>London Westminster</td>\n      <td>no2</td>\n      <td>67.0</td>\n      <td>µg/m³</td>\n    </tr>\n    <tr>\n      <th>2019-04-09 02:00:00+00:00</th>\n      <td>Antwerpen</td>\n      <td>BE</td>\n      <td>BETR801</td>\n      <td>no2</td>\n      <td>53.5</td>\n      <td>µg/m³</td>\n    </tr>\n    <tr>\n      <th>2019-04-09 02:00:00+00:00</th>\n      <td>Paris</td>\n      <td>FR</td>\n      <td>FR04014</td>\n      <td>no2</td>\n      <td>27.4</td>\n      <td>µg/m³</td>\n    </tr>\n    <tr>\n      <th>2019-04-09 03:00:00+00:00</th>\n      <td>London</td>\n      <td>GB</td>\n      <td>London Westminster</td>\n      <td>no2</td>\n      <td>67.0</td>\n      <td>µg/m³</td>\n    </tr>\n  </tbody>\n</table>\n</div>"
     },
     "execution_count": 27,
     "metadata": {},
     "output_type": "execute_result"
    }
   ],
   "source": [
    "# use 2 measurements (head) for each location (groupby)\n",
    "no2_subset = no2.sort_index().groupby([\"location\"]).head(2)\n",
    "no2_subset"
   ],
   "metadata": {
    "collapsed": false,
    "ExecuteTime": {
     "end_time": "2023-12-30T18:36:35.648759540Z",
     "start_time": "2023-12-30T18:36:35.490901832Z"
    }
   },
   "id": "2eb8d6b10034c19c",
   "execution_count": 27
  },
  {
   "cell_type": "markdown",
   "source": [
    "I want the values for the three stations as separate columns next to each other."
   ],
   "metadata": {
    "collapsed": false
   },
   "id": "21871bbd4153658b"
  },
  {
   "cell_type": "code",
   "outputs": [
    {
     "data": {
      "text/plain": "location                   BETR801  FR04014  London Westminster\ndate.utc                                                       \n2019-04-09 01:00:00+00:00     22.5     24.4                 NaN\n2019-04-09 02:00:00+00:00     53.5     27.4                67.0\n2019-04-09 03:00:00+00:00      NaN      NaN                67.0",
      "text/html": "<div>\n<style scoped>\n    .dataframe tbody tr th:only-of-type {\n        vertical-align: middle;\n    }\n\n    .dataframe tbody tr th {\n        vertical-align: top;\n    }\n\n    .dataframe thead th {\n        text-align: right;\n    }\n</style>\n<table border=\"1\" class=\"dataframe\">\n  <thead>\n    <tr style=\"text-align: right;\">\n      <th>location</th>\n      <th>BETR801</th>\n      <th>FR04014</th>\n      <th>London Westminster</th>\n    </tr>\n    <tr>\n      <th>date.utc</th>\n      <th></th>\n      <th></th>\n      <th></th>\n    </tr>\n  </thead>\n  <tbody>\n    <tr>\n      <th>2019-04-09 01:00:00+00:00</th>\n      <td>22.5</td>\n      <td>24.4</td>\n      <td>NaN</td>\n    </tr>\n    <tr>\n      <th>2019-04-09 02:00:00+00:00</th>\n      <td>53.5</td>\n      <td>27.4</td>\n      <td>67.0</td>\n    </tr>\n    <tr>\n      <th>2019-04-09 03:00:00+00:00</th>\n      <td>NaN</td>\n      <td>NaN</td>\n      <td>67.0</td>\n    </tr>\n  </tbody>\n</table>\n</div>"
     },
     "execution_count": 28,
     "metadata": {},
     "output_type": "execute_result"
    }
   ],
   "source": [
    "no2_subset.pivot(columns=\"location\", values=\"value\")"
   ],
   "metadata": {
    "collapsed": false,
    "ExecuteTime": {
     "end_time": "2023-12-30T18:36:35.715907133Z",
     "start_time": "2023-12-30T18:36:35.590855216Z"
    }
   },
   "id": "dd990bebed088e9d",
   "execution_count": 28
  },
  {
   "cell_type": "markdown",
   "source": [
    "As pandas supports plotting of multiple columns (see plotting tutorial) out of the box, the conversion from long to wide table format enables the plotting of the different time series at the same time:"
   ],
   "metadata": {
    "collapsed": false
   },
   "id": "c4b6a79559ac9c43"
  },
  {
   "cell_type": "code",
   "outputs": [
    {
     "data": {
      "text/plain": "                            city country location parameter  value   unit\ndate.utc                                                                 \n2019-06-21 00:00:00+00:00  Paris      FR  FR04014       no2   20.0  µg/m³\n2019-06-20 23:00:00+00:00  Paris      FR  FR04014       no2   21.8  µg/m³\n2019-06-20 22:00:00+00:00  Paris      FR  FR04014       no2   26.5  µg/m³\n2019-06-20 21:00:00+00:00  Paris      FR  FR04014       no2   24.9  µg/m³\n2019-06-20 20:00:00+00:00  Paris      FR  FR04014       no2   21.4  µg/m³",
      "text/html": "<div>\n<style scoped>\n    .dataframe tbody tr th:only-of-type {\n        vertical-align: middle;\n    }\n\n    .dataframe tbody tr th {\n        vertical-align: top;\n    }\n\n    .dataframe thead th {\n        text-align: right;\n    }\n</style>\n<table border=\"1\" class=\"dataframe\">\n  <thead>\n    <tr style=\"text-align: right;\">\n      <th></th>\n      <th>city</th>\n      <th>country</th>\n      <th>location</th>\n      <th>parameter</th>\n      <th>value</th>\n      <th>unit</th>\n    </tr>\n    <tr>\n      <th>date.utc</th>\n      <th></th>\n      <th></th>\n      <th></th>\n      <th></th>\n      <th></th>\n      <th></th>\n    </tr>\n  </thead>\n  <tbody>\n    <tr>\n      <th>2019-06-21 00:00:00+00:00</th>\n      <td>Paris</td>\n      <td>FR</td>\n      <td>FR04014</td>\n      <td>no2</td>\n      <td>20.0</td>\n      <td>µg/m³</td>\n    </tr>\n    <tr>\n      <th>2019-06-20 23:00:00+00:00</th>\n      <td>Paris</td>\n      <td>FR</td>\n      <td>FR04014</td>\n      <td>no2</td>\n      <td>21.8</td>\n      <td>µg/m³</td>\n    </tr>\n    <tr>\n      <th>2019-06-20 22:00:00+00:00</th>\n      <td>Paris</td>\n      <td>FR</td>\n      <td>FR04014</td>\n      <td>no2</td>\n      <td>26.5</td>\n      <td>µg/m³</td>\n    </tr>\n    <tr>\n      <th>2019-06-20 21:00:00+00:00</th>\n      <td>Paris</td>\n      <td>FR</td>\n      <td>FR04014</td>\n      <td>no2</td>\n      <td>24.9</td>\n      <td>µg/m³</td>\n    </tr>\n    <tr>\n      <th>2019-06-20 20:00:00+00:00</th>\n      <td>Paris</td>\n      <td>FR</td>\n      <td>FR04014</td>\n      <td>no2</td>\n      <td>21.4</td>\n      <td>µg/m³</td>\n    </tr>\n  </tbody>\n</table>\n</div>"
     },
     "execution_count": 29,
     "metadata": {},
     "output_type": "execute_result"
    }
   ],
   "source": [
    "no2.head()"
   ],
   "metadata": {
    "collapsed": false,
    "ExecuteTime": {
     "end_time": "2023-12-30T18:36:35.822475573Z",
     "start_time": "2023-12-30T18:36:35.684078045Z"
    }
   },
   "id": "5c108adba2c42775",
   "execution_count": 29
  },
  {
   "cell_type": "code",
   "outputs": [
    {
     "data": {
      "text/plain": "<Axes: xlabel='date.utc'>"
     },
     "execution_count": 30,
     "metadata": {},
     "output_type": "execute_result"
    },
    {
     "data": {
      "text/plain": "<Figure size 640x480 with 1 Axes>",
      "image/png": "[encoded data removed]"
     },
     "metadata": {},
     "output_type": "display_data"
    }
   ],
   "source": [
    "no2.pivot(columns=\"location\", values=\"value\").plot()"
   ],
   "metadata": {
    "collapsed": false,
    "ExecuteTime": {
     "end_time": "2023-12-30T18:36:36.476519977Z",
     "start_time": "2023-12-30T18:36:35.780010299Z"
    }
   },
   "id": "9057311866415a00",
   "execution_count": 30
  },
  {
   "cell_type": "markdown",
   "source": [
    "I want the mean concentrations for and in each of the stations in table form."
   ],
   "metadata": {
    "collapsed": false
   },
   "id": "7bc82ce2bd7b935f"
  },
  {
   "cell_type": "code",
   "outputs": [
    {
     "data": {
      "text/plain": "parameter                 no2       pm25\nlocation                                \nBETR801             26.950920  23.169492\nFR04014             29.374284        NaN\nLondon Westminster  29.740050  13.443568",
      "text/html": "<div>\n<style scoped>\n    .dataframe tbody tr th:only-of-type {\n        vertical-align: middle;\n    }\n\n    .dataframe tbody tr th {\n        vertical-align: top;\n    }\n\n    .dataframe thead th {\n        text-align: right;\n    }\n</style>\n<table border=\"1\" class=\"dataframe\">\n  <thead>\n    <tr style=\"text-align: right;\">\n      <th>parameter</th>\n      <th>no2</th>\n      <th>pm25</th>\n    </tr>\n    <tr>\n      <th>location</th>\n      <th></th>\n      <th></th>\n    </tr>\n  </thead>\n  <tbody>\n    <tr>\n      <th>BETR801</th>\n      <td>26.950920</td>\n      <td>23.169492</td>\n    </tr>\n    <tr>\n      <th>FR04014</th>\n      <td>29.374284</td>\n      <td>NaN</td>\n    </tr>\n    <tr>\n      <th>London Westminster</th>\n      <td>29.740050</td>\n      <td>13.443568</td>\n    </tr>\n  </tbody>\n</table>\n</div>"
     },
     "execution_count": 31,
     "metadata": {},
     "output_type": "execute_result"
    }
   ],
   "source": [
    "air_quality.pivot_table(\n",
    "    index=\"location\", values=\"value\", columns=\"parameter\", aggfunc=\"mean\"\n",
    ")"
   ],
   "metadata": {
    "collapsed": false,
    "ExecuteTime": {
     "end_time": "2023-12-30T18:36:36.477825930Z",
     "start_time": "2023-12-30T18:36:36.235313286Z"
    }
   },
   "id": "98fa4c5142480d0a",
   "execution_count": 31
  },
  {
   "cell_type": "markdown",
   "source": [
    "В случае с Pivot() данные только переупорядочиваются. Когда необходимо агрегировать несколько значений (в данном конкретном случае значения на разных временных шагах), можно использовать Pivot_table(), предоставляя функцию агрегирования (например, среднее значение), позволяющую объединить эти значения."
   ],
   "metadata": {
    "collapsed": false
   },
   "id": "2e63ad2f9f895b5"
  },
  {
   "cell_type": "markdown",
   "source": [
    "Pivot table is a well known concept in spreadsheet software. When interested in the row/column margins (subtotals) for each variable, set the margins parameter to True:"
   ],
   "metadata": {
    "collapsed": false
   },
   "id": "50076d153359fe92"
  },
  {
   "cell_type": "code",
   "outputs": [
    {
     "data": {
      "text/plain": "parameter                 no2       pm25        All\nlocation                                           \nBETR801             26.950920  23.169492  24.982353\nFR04014             29.374284        NaN  29.374284\nLondon Westminster  29.740050  13.443568  21.491708\nAll                 29.430316  14.386849  24.222743",
      "text/html": "<div>\n<style scoped>\n    .dataframe tbody tr th:only-of-type {\n        vertical-align: middle;\n    }\n\n    .dataframe tbody tr th {\n        vertical-align: top;\n    }\n\n    .dataframe thead th {\n        text-align: right;\n    }\n</style>\n<table border=\"1\" class=\"dataframe\">\n  <thead>\n    <tr style=\"text-align: right;\">\n      <th>parameter</th>\n      <th>no2</th>\n      <th>pm25</th>\n      <th>All</th>\n    </tr>\n    <tr>\n      <th>location</th>\n      <th></th>\n      <th></th>\n      <th></th>\n    </tr>\n  </thead>\n  <tbody>\n    <tr>\n      <th>BETR801</th>\n      <td>26.950920</td>\n      <td>23.169492</td>\n      <td>24.982353</td>\n    </tr>\n    <tr>\n      <th>FR04014</th>\n      <td>29.374284</td>\n      <td>NaN</td>\n      <td>29.374284</td>\n    </tr>\n    <tr>\n      <th>London Westminster</th>\n      <td>29.740050</td>\n      <td>13.443568</td>\n      <td>21.491708</td>\n    </tr>\n    <tr>\n      <th>All</th>\n      <td>29.430316</td>\n      <td>14.386849</td>\n      <td>24.222743</td>\n    </tr>\n  </tbody>\n</table>\n</div>"
     },
     "execution_count": 32,
     "metadata": {},
     "output_type": "execute_result"
    }
   ],
   "source": [
    "air_quality.pivot_table(\n",
    "    values=\"value\",\n",
    "    index=\"location\",\n",
    "    columns=\"parameter\",\n",
    "    aggfunc=\"mean\",\n",
    "    margins=True,\n",
    ")"
   ],
   "metadata": {
    "collapsed": false,
    "ExecuteTime": {
     "end_time": "2023-12-30T18:36:36.505910357Z",
     "start_time": "2023-12-30T18:36:36.253693692Z"
    }
   },
   "id": "2adc7c4864e630df",
   "execution_count": 32
  },
  {
   "cell_type": "markdown",
   "source": [
    "In case you are wondering, pivot_table() is indeed directly linked to groupby(). The same result can be derived by grouping on both parameter and location:"
   ],
   "metadata": {
    "collapsed": false
   },
   "id": "c73f8a9c8758b671"
  },
  {
   "cell_type": "code",
   "outputs": [
    {
     "data": {
      "text/plain": "location            parameter\nBETR801             no2          26.950920\n                    pm25         23.169492\nFR04014             no2          29.374284\nLondon Westminster  no2          29.740050\n                    pm25         13.443568\nName: value, dtype: float64"
     },
     "execution_count": 33,
     "metadata": {},
     "output_type": "execute_result"
    }
   ],
   "source": [
    "air_quality.groupby([\"location\", \"parameter\"])[\"value\"].mean()"
   ],
   "metadata": {
    "collapsed": false,
    "ExecuteTime": {
     "end_time": "2023-12-30T18:36:36.506941924Z",
     "start_time": "2023-12-30T18:36:36.335958610Z"
    }
   },
   "id": "74b07f2ce88bdca2",
   "execution_count": 33
  },
  {
   "cell_type": "markdown",
   "source": [
    "### REMEMBER\n",
    "* Sorting by one or more columns is supported by sort_values.\n",
    "\n",
    "* The pivot function is purely restructuring of the data, pivot_table supports aggregations.\n",
    "\n",
    "* The reverse of pivot (long to wide format) is melt (wide to long format)."
   ],
   "metadata": {
    "collapsed": false
   },
   "id": "7e97edf5672485fa"
  },
  {
   "cell_type": "markdown",
   "source": [
    "# How to combine data from multiple tables"
   ],
   "metadata": {
    "collapsed": false
   },
   "id": "251b192f173ee2eb"
  },
  {
   "cell_type": "markdown",
   "source": [
    "## Concatenating objects"
   ],
   "metadata": {
    "collapsed": false
   },
   "id": "91b2ccea82f02290"
  },
  {
   "cell_type": "code",
   "outputs": [
    {
     "data": {
      "text/plain": "                    date.utc location parameter  value\n0  2019-06-21 00:00:00+00:00  FR04014       no2   20.0\n1  2019-06-20 23:00:00+00:00  FR04014       no2   21.8\n2  2019-06-20 22:00:00+00:00  FR04014       no2   26.5\n3  2019-06-20 21:00:00+00:00  FR04014       no2   24.9\n4  2019-06-20 20:00:00+00:00  FR04014       no2   21.4",
      "text/html": "<div>\n<style scoped>\n    .dataframe tbody tr th:only-of-type {\n        vertical-align: middle;\n    }\n\n    .dataframe tbody tr th {\n        vertical-align: top;\n    }\n\n    .dataframe thead th {\n        text-align: right;\n    }\n</style>\n<table border=\"1\" class=\"dataframe\">\n  <thead>\n    <tr style=\"text-align: right;\">\n      <th></th>\n      <th>date.utc</th>\n      <th>location</th>\n      <th>parameter</th>\n      <th>value</th>\n    </tr>\n  </thead>\n  <tbody>\n    <tr>\n      <th>0</th>\n      <td>2019-06-21 00:00:00+00:00</td>\n      <td>FR04014</td>\n      <td>no2</td>\n      <td>20.0</td>\n    </tr>\n    <tr>\n      <th>1</th>\n      <td>2019-06-20 23:00:00+00:00</td>\n      <td>FR04014</td>\n      <td>no2</td>\n      <td>21.8</td>\n    </tr>\n    <tr>\n      <th>2</th>\n      <td>2019-06-20 22:00:00+00:00</td>\n      <td>FR04014</td>\n      <td>no2</td>\n      <td>26.5</td>\n    </tr>\n    <tr>\n      <th>3</th>\n      <td>2019-06-20 21:00:00+00:00</td>\n      <td>FR04014</td>\n      <td>no2</td>\n      <td>24.9</td>\n    </tr>\n    <tr>\n      <th>4</th>\n      <td>2019-06-20 20:00:00+00:00</td>\n      <td>FR04014</td>\n      <td>no2</td>\n      <td>21.4</td>\n    </tr>\n  </tbody>\n</table>\n</div>"
     },
     "execution_count": 34,
     "metadata": {},
     "output_type": "execute_result"
    }
   ],
   "source": [
    "air_quality_no2 = pd.read_csv(\"data/air_quality_no2_long.csv\",\n",
    "                              parse_dates=True)\n",
    "\n",
    "\n",
    "air_quality_no2 = air_quality_no2[[\"date.utc\", \"location\",\n",
    "                                   \"parameter\", \"value\"]]\n",
    "\n",
    "\n",
    "air_quality_no2.head()"
   ],
   "metadata": {
    "collapsed": false,
    "ExecuteTime": {
     "end_time": "2023-12-30T18:36:36.717474166Z",
     "start_time": "2023-12-30T18:36:36.510634847Z"
    }
   },
   "id": "9d6ff6049e5e5dcb",
   "execution_count": 34
  },
  {
   "cell_type": "code",
   "outputs": [
    {
     "data": {
      "text/plain": "                    date.utc location parameter  value\n0  2019-06-18 06:00:00+00:00  BETR801      pm25   18.0\n1  2019-06-17 08:00:00+00:00  BETR801      pm25    6.5\n2  2019-06-17 07:00:00+00:00  BETR801      pm25   18.5\n3  2019-06-17 06:00:00+00:00  BETR801      pm25   16.0\n4  2019-06-17 05:00:00+00:00  BETR801      pm25    7.5",
      "text/html": "<div>\n<style scoped>\n    .dataframe tbody tr th:only-of-type {\n        vertical-align: middle;\n    }\n\n    .dataframe tbody tr th {\n        vertical-align: top;\n    }\n\n    .dataframe thead th {\n        text-align: right;\n    }\n</style>\n<table border=\"1\" class=\"dataframe\">\n  <thead>\n    <tr style=\"text-align: right;\">\n      <th></th>\n      <th>date.utc</th>\n      <th>location</th>\n      <th>parameter</th>\n      <th>value</th>\n    </tr>\n  </thead>\n  <tbody>\n    <tr>\n      <th>0</th>\n      <td>2019-06-18 06:00:00+00:00</td>\n      <td>BETR801</td>\n      <td>pm25</td>\n      <td>18.0</td>\n    </tr>\n    <tr>\n      <th>1</th>\n      <td>2019-06-17 08:00:00+00:00</td>\n      <td>BETR801</td>\n      <td>pm25</td>\n      <td>6.5</td>\n    </tr>\n    <tr>\n      <th>2</th>\n      <td>2019-06-17 07:00:00+00:00</td>\n      <td>BETR801</td>\n      <td>pm25</td>\n      <td>18.5</td>\n    </tr>\n    <tr>\n      <th>3</th>\n      <td>2019-06-17 06:00:00+00:00</td>\n      <td>BETR801</td>\n      <td>pm25</td>\n      <td>16.0</td>\n    </tr>\n    <tr>\n      <th>4</th>\n      <td>2019-06-17 05:00:00+00:00</td>\n      <td>BETR801</td>\n      <td>pm25</td>\n      <td>7.5</td>\n    </tr>\n  </tbody>\n</table>\n</div>"
     },
     "execution_count": 35,
     "metadata": {},
     "output_type": "execute_result"
    }
   ],
   "source": [
    "air_quality_pm25 = pd.read_csv(\"data/air_quality_pm25_long.csv\",\n",
    "                               parse_dates=True)\n",
    "\n",
    "\n",
    "air_quality_pm25 = air_quality_pm25[[\"date.utc\", \"location\",\n",
    "                                     \"parameter\", \"value\"]]\n",
    "\n",
    "\n",
    "air_quality_pm25.head()"
   ],
   "metadata": {
    "collapsed": false,
    "ExecuteTime": {
     "end_time": "2023-12-30T18:37:33.204900166Z",
     "start_time": "2023-12-30T18:37:33.177670024Z"
    }
   },
   "id": "c675acdff44a5f9e",
   "execution_count": 35
  },
  {
   "cell_type": "markdown",
   "source": [
    "I want to combine the measurements of NO2 and PM25, two tables with a similar structure, in a single table."
   ],
   "metadata": {
    "collapsed": false
   },
   "id": "d3a192c33eae8903"
  },
  {
   "cell_type": "code",
   "outputs": [
    {
     "data": {
      "text/plain": "                    date.utc location parameter  value\n0  2019-06-18 06:00:00+00:00  BETR801      pm25   18.0\n1  2019-06-17 08:00:00+00:00  BETR801      pm25    6.5\n2  2019-06-17 07:00:00+00:00  BETR801      pm25   18.5\n3  2019-06-17 06:00:00+00:00  BETR801      pm25   16.0\n4  2019-06-17 05:00:00+00:00  BETR801      pm25    7.5",
      "text/html": "<div>\n<style scoped>\n    .dataframe tbody tr th:only-of-type {\n        vertical-align: middle;\n    }\n\n    .dataframe tbody tr th {\n        vertical-align: top;\n    }\n\n    .dataframe thead th {\n        text-align: right;\n    }\n</style>\n<table border=\"1\" class=\"dataframe\">\n  <thead>\n    <tr style=\"text-align: right;\">\n      <th></th>\n      <th>date.utc</th>\n      <th>location</th>\n      <th>parameter</th>\n      <th>value</th>\n    </tr>\n  </thead>\n  <tbody>\n    <tr>\n      <th>0</th>\n      <td>2019-06-18 06:00:00+00:00</td>\n      <td>BETR801</td>\n      <td>pm25</td>\n      <td>18.0</td>\n    </tr>\n    <tr>\n      <th>1</th>\n      <td>2019-06-17 08:00:00+00:00</td>\n      <td>BETR801</td>\n      <td>pm25</td>\n      <td>6.5</td>\n    </tr>\n    <tr>\n      <th>2</th>\n      <td>2019-06-17 07:00:00+00:00</td>\n      <td>BETR801</td>\n      <td>pm25</td>\n      <td>18.5</td>\n    </tr>\n    <tr>\n      <th>3</th>\n      <td>2019-06-17 06:00:00+00:00</td>\n      <td>BETR801</td>\n      <td>pm25</td>\n      <td>16.0</td>\n    </tr>\n    <tr>\n      <th>4</th>\n      <td>2019-06-17 05:00:00+00:00</td>\n      <td>BETR801</td>\n      <td>pm25</td>\n      <td>7.5</td>\n    </tr>\n  </tbody>\n</table>\n</div>"
     },
     "execution_count": 36,
     "metadata": {},
     "output_type": "execute_result"
    }
   ],
   "source": [
    "air_quality = pd.concat([air_quality_pm25, air_quality_no2], axis=0)\n",
    "\n",
    "air_quality.head()\n",
    "\n",
    "# The concat() function performs concatenation operations of multiple tables along one of the axes (row-wise or column-wise)."
   ],
   "metadata": {
    "collapsed": false,
    "ExecuteTime": {
     "end_time": "2023-12-30T18:39:14.636529057Z",
     "start_time": "2023-12-30T18:39:14.594319980Z"
    }
   },
   "id": "e7db10d584684e80",
   "execution_count": 36
  },
  {
   "cell_type": "code",
   "outputs": [
    {
     "name": "stdout",
     "output_type": "stream",
     "text": [
      "Shape of the ``air_quality_pm25`` table:  (1110, 4)\n",
      "Shape of the ``air_quality_no2`` table:  (2068, 4)\n",
      "Shape of the resulting ``air_quality`` table:  (3178, 4)\n"
     ]
    }
   ],
   "source": [
    "print('Shape of the ``air_quality_pm25`` table: ', air_quality_pm25.shape)\n",
    "\n",
    "print('Shape of the ``air_quality_no2`` table: ', air_quality_no2.shape)\n",
    "\n",
    "print('Shape of the resulting ``air_quality`` table: ', air_quality.shape)"
   ],
   "metadata": {
    "collapsed": false,
    "ExecuteTime": {
     "end_time": "2023-12-30T18:42:01.480527921Z",
     "start_time": "2023-12-30T18:42:01.428766812Z"
    }
   },
   "id": "25e46f931cc136aa",
   "execution_count": 37
  },
  {
   "cell_type": "code",
   "outputs": [
    {
     "data": {
      "text/plain": "                       date.utc            location parameter  value\n2067  2019-05-07 01:00:00+00:00  London Westminster       no2   23.0\n1003  2019-05-07 01:00:00+00:00             FR04014       no2   25.0\n100   2019-05-07 01:00:00+00:00             BETR801      pm25   12.5\n1098  2019-05-07 01:00:00+00:00             BETR801       no2   50.5\n1109  2019-05-07 01:00:00+00:00  London Westminster      pm25    8.0",
      "text/html": "<div>\n<style scoped>\n    .dataframe tbody tr th:only-of-type {\n        vertical-align: middle;\n    }\n\n    .dataframe tbody tr th {\n        vertical-align: top;\n    }\n\n    .dataframe thead th {\n        text-align: right;\n    }\n</style>\n<table border=\"1\" class=\"dataframe\">\n  <thead>\n    <tr style=\"text-align: right;\">\n      <th></th>\n      <th>date.utc</th>\n      <th>location</th>\n      <th>parameter</th>\n      <th>value</th>\n    </tr>\n  </thead>\n  <tbody>\n    <tr>\n      <th>2067</th>\n      <td>2019-05-07 01:00:00+00:00</td>\n      <td>London Westminster</td>\n      <td>no2</td>\n      <td>23.0</td>\n    </tr>\n    <tr>\n      <th>1003</th>\n      <td>2019-05-07 01:00:00+00:00</td>\n      <td>FR04014</td>\n      <td>no2</td>\n      <td>25.0</td>\n    </tr>\n    <tr>\n      <th>100</th>\n      <td>2019-05-07 01:00:00+00:00</td>\n      <td>BETR801</td>\n      <td>pm25</td>\n      <td>12.5</td>\n    </tr>\n    <tr>\n      <th>1098</th>\n      <td>2019-05-07 01:00:00+00:00</td>\n      <td>BETR801</td>\n      <td>no2</td>\n      <td>50.5</td>\n    </tr>\n    <tr>\n      <th>1109</th>\n      <td>2019-05-07 01:00:00+00:00</td>\n      <td>London Westminster</td>\n      <td>pm25</td>\n      <td>8.0</td>\n    </tr>\n  </tbody>\n</table>\n</div>"
     },
     "execution_count": 38,
     "metadata": {},
     "output_type": "execute_result"
    }
   ],
   "source": [
    "air_quality = air_quality.sort_values(\"date.utc\")\n",
    "\n",
    "air_quality.head()"
   ],
   "metadata": {
    "collapsed": false,
    "ExecuteTime": {
     "end_time": "2023-12-30T18:47:12.582766562Z",
     "start_time": "2023-12-30T18:47:12.532651403Z"
    }
   },
   "id": "915b4cead0bed109",
   "execution_count": 38
  },
  {
   "cell_type": "markdown",
   "source": [
    "In this specific example, the parameter column provided by the data ensures that each of the original tables can be identified. This is not always the case. The concat function provides a convenient solution with the keys argument, adding an additional (hierarchical) row index. For example:\n"
   ],
   "metadata": {
    "collapsed": false
   },
   "id": "7bde3ca45d40eb6e"
  },
  {
   "cell_type": "code",
   "outputs": [
    {
     "data": {
      "text/plain": "                         date.utc location parameter  value\nPM25 0  2019-06-18 06:00:00+00:00  BETR801      pm25   18.0\n     1  2019-06-17 08:00:00+00:00  BETR801      pm25    6.5\n     2  2019-06-17 07:00:00+00:00  BETR801      pm25   18.5\n     3  2019-06-17 06:00:00+00:00  BETR801      pm25   16.0\n     4  2019-06-17 05:00:00+00:00  BETR801      pm25    7.5",
      "text/html": "<div>\n<style scoped>\n    .dataframe tbody tr th:only-of-type {\n        vertical-align: middle;\n    }\n\n    .dataframe tbody tr th {\n        vertical-align: top;\n    }\n\n    .dataframe thead th {\n        text-align: right;\n    }\n</style>\n<table border=\"1\" class=\"dataframe\">\n  <thead>\n    <tr style=\"text-align: right;\">\n      <th></th>\n      <th></th>\n      <th>date.utc</th>\n      <th>location</th>\n      <th>parameter</th>\n      <th>value</th>\n    </tr>\n  </thead>\n  <tbody>\n    <tr>\n      <th rowspan=\"5\" valign=\"top\">PM25</th>\n      <th>0</th>\n      <td>2019-06-18 06:00:00+00:00</td>\n      <td>BETR801</td>\n      <td>pm25</td>\n      <td>18.0</td>\n    </tr>\n    <tr>\n      <th>1</th>\n      <td>2019-06-17 08:00:00+00:00</td>\n      <td>BETR801</td>\n      <td>pm25</td>\n      <td>6.5</td>\n    </tr>\n    <tr>\n      <th>2</th>\n      <td>2019-06-17 07:00:00+00:00</td>\n      <td>BETR801</td>\n      <td>pm25</td>\n      <td>18.5</td>\n    </tr>\n    <tr>\n      <th>3</th>\n      <td>2019-06-17 06:00:00+00:00</td>\n      <td>BETR801</td>\n      <td>pm25</td>\n      <td>16.0</td>\n    </tr>\n    <tr>\n      <th>4</th>\n      <td>2019-06-17 05:00:00+00:00</td>\n      <td>BETR801</td>\n      <td>pm25</td>\n      <td>7.5</td>\n    </tr>\n  </tbody>\n</table>\n</div>"
     },
     "execution_count": 41,
     "metadata": {},
     "output_type": "execute_result"
    }
   ],
   "source": [
    "air_quality_ = pd.concat([air_quality_pm25, air_quality_no2], keys=[\"PM25\", \"NO2\"])\n",
    "\n",
    "air_quality_.head()"
   ],
   "metadata": {
    "collapsed": false,
    "ExecuteTime": {
     "end_time": "2023-12-30T18:56:38.942317933Z",
     "start_time": "2023-12-30T18:56:38.908552570Z"
    }
   },
   "id": "edfc7c84024341a0",
   "execution_count": 41
  },
  {
   "cell_type": "markdown",
   "source": [
    "## Join tables using a common identifier"
   ],
   "metadata": {
    "collapsed": false
   },
   "id": "b9af3ce721c3f4c9"
  },
  {
   "cell_type": "code",
   "outputs": [
    {
     "data": {
      "text/plain": "  location  coordinates.latitude  coordinates.longitude\n0  BELAL01              51.23619                4.38522\n1  BELHB23              51.17030                4.34100\n2  BELLD01              51.10998                5.00486\n3  BELLD02              51.12038                5.02155\n4  BELR833              51.32766                4.36226",
      "text/html": "<div>\n<style scoped>\n    .dataframe tbody tr th:only-of-type {\n        vertical-align: middle;\n    }\n\n    .dataframe tbody tr th {\n        vertical-align: top;\n    }\n\n    .dataframe thead th {\n        text-align: right;\n    }\n</style>\n<table border=\"1\" class=\"dataframe\">\n  <thead>\n    <tr style=\"text-align: right;\">\n      <th></th>\n      <th>location</th>\n      <th>coordinates.latitude</th>\n      <th>coordinates.longitude</th>\n    </tr>\n  </thead>\n  <tbody>\n    <tr>\n      <th>0</th>\n      <td>BELAL01</td>\n      <td>51.23619</td>\n      <td>4.38522</td>\n    </tr>\n    <tr>\n      <th>1</th>\n      <td>BELHB23</td>\n      <td>51.17030</td>\n      <td>4.34100</td>\n    </tr>\n    <tr>\n      <th>2</th>\n      <td>BELLD01</td>\n      <td>51.10998</td>\n      <td>5.00486</td>\n    </tr>\n    <tr>\n      <th>3</th>\n      <td>BELLD02</td>\n      <td>51.12038</td>\n      <td>5.02155</td>\n    </tr>\n    <tr>\n      <th>4</th>\n      <td>BELR833</td>\n      <td>51.32766</td>\n      <td>4.36226</td>\n    </tr>\n  </tbody>\n</table>\n</div>"
     },
     "execution_count": 42,
     "metadata": {},
     "output_type": "execute_result"
    }
   ],
   "source": [
    "stations_coord = pd.read_csv(\"data/air_quality_stations.csv\")\n",
    "\n",
    "stations_coord.head()"
   ],
   "metadata": {
    "collapsed": false,
    "ExecuteTime": {
     "end_time": "2023-12-30T19:03:22.130205624Z",
     "start_time": "2023-12-30T19:03:22.096981280Z"
    }
   },
   "id": "6eff6c7e789850b0",
   "execution_count": 42
  },
  {
   "cell_type": "code",
   "outputs": [
    {
     "data": {
      "text/plain": "                       date.utc            location parameter  value\n2067  2019-05-07 01:00:00+00:00  London Westminster       no2   23.0\n1003  2019-05-07 01:00:00+00:00             FR04014       no2   25.0\n100   2019-05-07 01:00:00+00:00             BETR801      pm25   12.5\n1098  2019-05-07 01:00:00+00:00             BETR801       no2   50.5\n1109  2019-05-07 01:00:00+00:00  London Westminster      pm25    8.0",
      "text/html": "<div>\n<style scoped>\n    .dataframe tbody tr th:only-of-type {\n        vertical-align: middle;\n    }\n\n    .dataframe tbody tr th {\n        vertical-align: top;\n    }\n\n    .dataframe thead th {\n        text-align: right;\n    }\n</style>\n<table border=\"1\" class=\"dataframe\">\n  <thead>\n    <tr style=\"text-align: right;\">\n      <th></th>\n      <th>date.utc</th>\n      <th>location</th>\n      <th>parameter</th>\n      <th>value</th>\n    </tr>\n  </thead>\n  <tbody>\n    <tr>\n      <th>2067</th>\n      <td>2019-05-07 01:00:00+00:00</td>\n      <td>London Westminster</td>\n      <td>no2</td>\n      <td>23.0</td>\n    </tr>\n    <tr>\n      <th>1003</th>\n      <td>2019-05-07 01:00:00+00:00</td>\n      <td>FR04014</td>\n      <td>no2</td>\n      <td>25.0</td>\n    </tr>\n    <tr>\n      <th>100</th>\n      <td>2019-05-07 01:00:00+00:00</td>\n      <td>BETR801</td>\n      <td>pm25</td>\n      <td>12.5</td>\n    </tr>\n    <tr>\n      <th>1098</th>\n      <td>2019-05-07 01:00:00+00:00</td>\n      <td>BETR801</td>\n      <td>no2</td>\n      <td>50.5</td>\n    </tr>\n    <tr>\n      <th>1109</th>\n      <td>2019-05-07 01:00:00+00:00</td>\n      <td>London Westminster</td>\n      <td>pm25</td>\n      <td>8.0</td>\n    </tr>\n  </tbody>\n</table>\n</div>"
     },
     "execution_count": 43,
     "metadata": {},
     "output_type": "execute_result"
    }
   ],
   "source": [
    "air_quality.head()"
   ],
   "metadata": {
    "collapsed": false,
    "ExecuteTime": {
     "end_time": "2023-12-30T19:04:27.046877923Z",
     "start_time": "2023-12-30T19:04:27.040251513Z"
    }
   },
   "id": "73febad959381968",
   "execution_count": 43
  },
  {
   "cell_type": "code",
   "outputs": [
    {
     "data": {
      "text/plain": "                    date.utc            location parameter  value  \\\n0  2019-05-07 01:00:00+00:00  London Westminster       no2   23.0   \n1  2019-05-07 01:00:00+00:00             FR04014       no2   25.0   \n2  2019-05-07 01:00:00+00:00             FR04014       no2   25.0   \n3  2019-05-07 01:00:00+00:00             BETR801      pm25   12.5   \n4  2019-05-07 01:00:00+00:00             BETR801       no2   50.5   \n\n   coordinates.latitude  coordinates.longitude  \n0              51.49467               -0.13193  \n1              48.83724                2.39390  \n2              48.83722                2.39390  \n3              51.20966                4.43182  \n4              51.20966                4.43182  ",
      "text/html": "<div>\n<style scoped>\n    .dataframe tbody tr th:only-of-type {\n        vertical-align: middle;\n    }\n\n    .dataframe tbody tr th {\n        vertical-align: top;\n    }\n\n    .dataframe thead th {\n        text-align: right;\n    }\n</style>\n<table border=\"1\" class=\"dataframe\">\n  <thead>\n    <tr style=\"text-align: right;\">\n      <th></th>\n      <th>date.utc</th>\n      <th>location</th>\n      <th>parameter</th>\n      <th>value</th>\n      <th>coordinates.latitude</th>\n      <th>coordinates.longitude</th>\n    </tr>\n  </thead>\n  <tbody>\n    <tr>\n      <th>0</th>\n      <td>2019-05-07 01:00:00+00:00</td>\n      <td>London Westminster</td>\n      <td>no2</td>\n      <td>23.0</td>\n      <td>51.49467</td>\n      <td>-0.13193</td>\n    </tr>\n    <tr>\n      <th>1</th>\n      <td>2019-05-07 01:00:00+00:00</td>\n      <td>FR04014</td>\n      <td>no2</td>\n      <td>25.0</td>\n      <td>48.83724</td>\n      <td>2.39390</td>\n    </tr>\n    <tr>\n      <th>2</th>\n      <td>2019-05-07 01:00:00+00:00</td>\n      <td>FR04014</td>\n      <td>no2</td>\n      <td>25.0</td>\n      <td>48.83722</td>\n      <td>2.39390</td>\n    </tr>\n    <tr>\n      <th>3</th>\n      <td>2019-05-07 01:00:00+00:00</td>\n      <td>BETR801</td>\n      <td>pm25</td>\n      <td>12.5</td>\n      <td>51.20966</td>\n      <td>4.43182</td>\n    </tr>\n    <tr>\n      <th>4</th>\n      <td>2019-05-07 01:00:00+00:00</td>\n      <td>BETR801</td>\n      <td>no2</td>\n      <td>50.5</td>\n      <td>51.20966</td>\n      <td>4.43182</td>\n    </tr>\n  </tbody>\n</table>\n</div>"
     },
     "execution_count": 44,
     "metadata": {},
     "output_type": "execute_result"
    }
   ],
   "source": [
    "air_quality = pd.merge(air_quality, stations_coord, how=\"left\", on=\"location\")\n",
    "\n",
    "air_quality.head()"
   ],
   "metadata": {
    "collapsed": false,
    "ExecuteTime": {
     "end_time": "2023-12-30T19:04:37.796677946Z",
     "start_time": "2023-12-30T19:04:37.764448356Z"
    }
   },
   "id": "41a41835d9086b06",
   "execution_count": 44
  },
  {
   "cell_type": "markdown",
   "source": [
    "Using the merge() function, for each of the rows in the air_quality table, the corresponding coordinates are added from the air_quality_stations_coord table. Both tables have the column location in common which is used as a key to combine the information. By choosing the left join, only the locations available in the air_quality (left) table, i.e. FR04014, BETR801 and London Westminster, end up in the resulting table. The merge function supports multiple join options similar to database-style operations."
   ],
   "metadata": {
    "collapsed": false
   },
   "id": "119ac2bbb68c50ec"
  },
  {
   "cell_type": "markdown",
   "source": [
    "Add the parameters’ full description and name, provided by the parameters metadata table, to the measurements table."
   ],
   "metadata": {
    "collapsed": false
   },
   "id": "c1516a6c4ec6c622"
  },
  {
   "cell_type": "code",
   "outputs": [
    {
     "data": {
      "text/plain": "     id                                        description  name\n0    bc                                       Black Carbon    BC\n1    co                                    Carbon Monoxide    CO\n2   no2                                   Nitrogen Dioxide   NO2\n3    o3                                              Ozone    O3\n4  pm10  Particulate matter less than 10 micrometers in...  PM10",
      "text/html": "<div>\n<style scoped>\n    .dataframe tbody tr th:only-of-type {\n        vertical-align: middle;\n    }\n\n    .dataframe tbody tr th {\n        vertical-align: top;\n    }\n\n    .dataframe thead th {\n        text-align: right;\n    }\n</style>\n<table border=\"1\" class=\"dataframe\">\n  <thead>\n    <tr style=\"text-align: right;\">\n      <th></th>\n      <th>id</th>\n      <th>description</th>\n      <th>name</th>\n    </tr>\n  </thead>\n  <tbody>\n    <tr>\n      <th>0</th>\n      <td>bc</td>\n      <td>Black Carbon</td>\n      <td>BC</td>\n    </tr>\n    <tr>\n      <th>1</th>\n      <td>co</td>\n      <td>Carbon Monoxide</td>\n      <td>CO</td>\n    </tr>\n    <tr>\n      <th>2</th>\n      <td>no2</td>\n      <td>Nitrogen Dioxide</td>\n      <td>NO2</td>\n    </tr>\n    <tr>\n      <th>3</th>\n      <td>o3</td>\n      <td>Ozone</td>\n      <td>O3</td>\n    </tr>\n    <tr>\n      <th>4</th>\n      <td>pm10</td>\n      <td>Particulate matter less than 10 micrometers in...</td>\n      <td>PM10</td>\n    </tr>\n  </tbody>\n</table>\n</div>"
     },
     "execution_count": 45,
     "metadata": {},
     "output_type": "execute_result"
    }
   ],
   "source": [
    "air_quality_parameters = pd.read_csv(\"data/air_quality_parameters.csv\")\n",
    "\n",
    "air_quality_parameters.head()"
   ],
   "metadata": {
    "collapsed": false,
    "ExecuteTime": {
     "end_time": "2023-12-30T19:08:39.782687811Z",
     "start_time": "2023-12-30T19:08:39.726149437Z"
    }
   },
   "id": "24b2b4fc20c394f",
   "execution_count": 45
  },
  {
   "cell_type": "code",
   "outputs": [
    {
     "data": {
      "text/plain": "                    date.utc            location parameter  value  \\\n0  2019-05-07 01:00:00+00:00  London Westminster       no2   23.0   \n1  2019-05-07 01:00:00+00:00             FR04014       no2   25.0   \n2  2019-05-07 01:00:00+00:00             FR04014       no2   25.0   \n3  2019-05-07 01:00:00+00:00             BETR801      pm25   12.5   \n4  2019-05-07 01:00:00+00:00             BETR801       no2   50.5   \n\n   coordinates.latitude  coordinates.longitude    id  \\\n0              51.49467               -0.13193   no2   \n1              48.83724                2.39390   no2   \n2              48.83722                2.39390   no2   \n3              51.20966                4.43182  pm25   \n4              51.20966                4.43182   no2   \n\n                                         description   name  \n0                                   Nitrogen Dioxide    NO2  \n1                                   Nitrogen Dioxide    NO2  \n2                                   Nitrogen Dioxide    NO2  \n3  Particulate matter less than 2.5 micrometers i...  PM2.5  \n4                                   Nitrogen Dioxide    NO2  ",
      "text/html": "<div>\n<style scoped>\n    .dataframe tbody tr th:only-of-type {\n        vertical-align: middle;\n    }\n\n    .dataframe tbody tr th {\n        vertical-align: top;\n    }\n\n    .dataframe thead th {\n        text-align: right;\n    }\n</style>\n<table border=\"1\" class=\"dataframe\">\n  <thead>\n    <tr style=\"text-align: right;\">\n      <th></th>\n      <th>date.utc</th>\n      <th>location</th>\n      <th>parameter</th>\n      <th>value</th>\n      <th>coordinates.latitude</th>\n      <th>coordinates.longitude</th>\n      <th>id</th>\n      <th>description</th>\n      <th>name</th>\n    </tr>\n  </thead>\n  <tbody>\n    <tr>\n      <th>0</th>\n      <td>2019-05-07 01:00:00+00:00</td>\n      <td>London Westminster</td>\n      <td>no2</td>\n      <td>23.0</td>\n      <td>51.49467</td>\n      <td>-0.13193</td>\n      <td>no2</td>\n      <td>Nitrogen Dioxide</td>\n      <td>NO2</td>\n    </tr>\n    <tr>\n      <th>1</th>\n      <td>2019-05-07 01:00:00+00:00</td>\n      <td>FR04014</td>\n      <td>no2</td>\n      <td>25.0</td>\n      <td>48.83724</td>\n      <td>2.39390</td>\n      <td>no2</td>\n      <td>Nitrogen Dioxide</td>\n      <td>NO2</td>\n    </tr>\n    <tr>\n      <th>2</th>\n      <td>2019-05-07 01:00:00+00:00</td>\n      <td>FR04014</td>\n      <td>no2</td>\n      <td>25.0</td>\n      <td>48.83722</td>\n      <td>2.39390</td>\n      <td>no2</td>\n      <td>Nitrogen Dioxide</td>\n      <td>NO2</td>\n    </tr>\n    <tr>\n      <th>3</th>\n      <td>2019-05-07 01:00:00+00:00</td>\n      <td>BETR801</td>\n      <td>pm25</td>\n      <td>12.5</td>\n      <td>51.20966</td>\n      <td>4.43182</td>\n      <td>pm25</td>\n      <td>Particulate matter less than 2.5 micrometers i...</td>\n      <td>PM2.5</td>\n    </tr>\n    <tr>\n      <th>4</th>\n      <td>2019-05-07 01:00:00+00:00</td>\n      <td>BETR801</td>\n      <td>no2</td>\n      <td>50.5</td>\n      <td>51.20966</td>\n      <td>4.43182</td>\n      <td>no2</td>\n      <td>Nitrogen Dioxide</td>\n      <td>NO2</td>\n    </tr>\n  </tbody>\n</table>\n</div>"
     },
     "execution_count": 46,
     "metadata": {},
     "output_type": "execute_result"
    }
   ],
   "source": [
    "air_quality = pd.merge(air_quality, air_quality_parameters,\n",
    "                       how='left', left_on='parameter', right_on='id')\n",
    "\n",
    "\n",
    "air_quality.head()"
   ],
   "metadata": {
    "collapsed": false,
    "ExecuteTime": {
     "end_time": "2023-12-30T19:10:04.705336649Z",
     "start_time": "2023-12-30T19:10:04.669296991Z"
    }
   },
   "id": "b2c3e29645d2002c",
   "execution_count": 46
  },
  {
   "cell_type": "markdown",
   "source": [
    "Compared to the previous example, there is no common column name. However, the parameter column in the air_quality table and the id column in the air_quality_parameters_name both provide the measured variable in a common format. The left_on and right_on arguments are used here (instead of just on) to make the link between the two tables."
   ],
   "metadata": {
    "collapsed": false
   },
   "id": "17f59a03f41f6d79"
  },
  {
   "cell_type": "markdown",
   "source": [
    "REMEMBER\n",
    "Multiple tables can be concatenated both column-wise and row-wise using the concat function.\n",
    "\n",
    "For database-like merging/joining of tables, use the merge function."
   ],
   "metadata": {
    "collapsed": false
   },
   "id": "d3ce476923387b8"
  },
  {
   "cell_type": "markdown",
   "source": [
    "# How to handle time series data with ease"
   ],
   "metadata": {
    "collapsed": false
   },
   "id": "fe9aa10fcb789541"
  },
  {
   "cell_type": "code",
   "outputs": [],
   "source": [
    "import matplotlib.pyplot as plt"
   ],
   "metadata": {
    "collapsed": false,
    "ExecuteTime": {
     "end_time": "2023-12-30T19:20:06.781740969Z",
     "start_time": "2023-12-30T19:20:06.724017495Z"
    }
   },
   "id": "4f40b2f3c362a3fb",
   "execution_count": 47
  },
  {
   "cell_type": "code",
   "outputs": [
    {
     "data": {
      "text/plain": "    city country                   datetime location parameter  value   unit\n0  Paris      FR  2019-06-21 00:00:00+00:00  FR04014       no2   20.0  µg/m³\n1  Paris      FR  2019-06-20 23:00:00+00:00  FR04014       no2   21.8  µg/m³\n2  Paris      FR  2019-06-20 22:00:00+00:00  FR04014       no2   26.5  µg/m³\n3  Paris      FR  2019-06-20 21:00:00+00:00  FR04014       no2   24.9  µg/m³\n4  Paris      FR  2019-06-20 20:00:00+00:00  FR04014       no2   21.4  µg/m³",
      "text/html": "<div>\n<style scoped>\n    .dataframe tbody tr th:only-of-type {\n        vertical-align: middle;\n    }\n\n    .dataframe tbody tr th {\n        vertical-align: top;\n    }\n\n    .dataframe thead th {\n        text-align: right;\n    }\n</style>\n<table border=\"1\" class=\"dataframe\">\n  <thead>\n    <tr style=\"text-align: right;\">\n      <th></th>\n      <th>city</th>\n      <th>country</th>\n      <th>datetime</th>\n      <th>location</th>\n      <th>parameter</th>\n      <th>value</th>\n      <th>unit</th>\n    </tr>\n  </thead>\n  <tbody>\n    <tr>\n      <th>0</th>\n      <td>Paris</td>\n      <td>FR</td>\n      <td>2019-06-21 00:00:00+00:00</td>\n      <td>FR04014</td>\n      <td>no2</td>\n      <td>20.0</td>\n      <td>µg/m³</td>\n    </tr>\n    <tr>\n      <th>1</th>\n      <td>Paris</td>\n      <td>FR</td>\n      <td>2019-06-20 23:00:00+00:00</td>\n      <td>FR04014</td>\n      <td>no2</td>\n      <td>21.8</td>\n      <td>µg/m³</td>\n    </tr>\n    <tr>\n      <th>2</th>\n      <td>Paris</td>\n      <td>FR</td>\n      <td>2019-06-20 22:00:00+00:00</td>\n      <td>FR04014</td>\n      <td>no2</td>\n      <td>26.5</td>\n      <td>µg/m³</td>\n    </tr>\n    <tr>\n      <th>3</th>\n      <td>Paris</td>\n      <td>FR</td>\n      <td>2019-06-20 21:00:00+00:00</td>\n      <td>FR04014</td>\n      <td>no2</td>\n      <td>24.9</td>\n      <td>µg/m³</td>\n    </tr>\n    <tr>\n      <th>4</th>\n      <td>Paris</td>\n      <td>FR</td>\n      <td>2019-06-20 20:00:00+00:00</td>\n      <td>FR04014</td>\n      <td>no2</td>\n      <td>21.4</td>\n      <td>µg/m³</td>\n    </tr>\n  </tbody>\n</table>\n</div>"
     },
     "execution_count": 48,
     "metadata": {},
     "output_type": "execute_result"
    }
   ],
   "source": [
    "air_quality = pd.read_csv(\"data/air_quality_no2_long.csv\")\n",
    "\n",
    "air_quality = air_quality.rename(columns={\"date.utc\": \"datetime\"})\n",
    "\n",
    "air_quality.head()"
   ],
   "metadata": {
    "collapsed": false,
    "ExecuteTime": {
     "end_time": "2023-12-30T19:20:10.180363157Z",
     "start_time": "2023-12-30T19:20:10.160652690Z"
    }
   },
   "id": "9af81de37aab120f",
   "execution_count": 48
  },
  {
   "cell_type": "markdown",
   "source": [],
   "metadata": {
    "collapsed": false
   },
   "id": "8e0a6eabaa47c4fe"
  },
  {
   "cell_type": "code",
   "outputs": [
    {
     "data": {
      "text/plain": "array(['Paris', 'Antwerpen', 'London'], dtype=object)"
     },
     "execution_count": 51,
     "metadata": {},
     "output_type": "execute_result"
    }
   ],
   "source": [
    "air_quality.city.unique()"
   ],
   "metadata": {
    "collapsed": false,
    "ExecuteTime": {
     "end_time": "2023-12-30T19:31:47.695975293Z",
     "start_time": "2023-12-30T19:31:47.683227218Z"
    }
   },
   "id": "40f91ca12fc38f7c",
   "execution_count": 51
  },
  {
   "cell_type": "markdown",
   "source": [
    "## Using pandas datetime properties"
   ],
   "metadata": {
    "collapsed": false
   },
   "id": "50125b71b16f03fe"
  },
  {
   "cell_type": "markdown",
   "source": [
    "I want to work with the dates in the column datetime as datetime objects instead of plain text"
   ],
   "metadata": {
    "collapsed": false
   },
   "id": "1857324218789a4b"
  },
  {
   "cell_type": "code",
   "outputs": [
    {
     "data": {
      "text/plain": "0      2019-06-21 00:00:00+00:00\n1      2019-06-20 23:00:00+00:00\n2      2019-06-20 22:00:00+00:00\n3      2019-06-20 21:00:00+00:00\n4      2019-06-20 20:00:00+00:00\n                  ...           \n2063   2019-05-07 06:00:00+00:00\n2064   2019-05-07 04:00:00+00:00\n2065   2019-05-07 03:00:00+00:00\n2066   2019-05-07 02:00:00+00:00\n2067   2019-05-07 01:00:00+00:00\nName: datetime, Length: 2068, dtype: datetime64[ns, UTC]"
     },
     "execution_count": 57,
     "metadata": {},
     "output_type": "execute_result"
    }
   ],
   "source": [
    "air_quality[\"datetime\"] = pd.to_datetime(air_quality[\"datetime\"])\n",
    "air_quality[\"datetime\"]"
   ],
   "metadata": {
    "collapsed": false,
    "ExecuteTime": {
     "end_time": "2023-12-30T19:37:29.509419239Z",
     "start_time": "2023-12-30T19:37:29.469453454Z"
    }
   },
   "id": "f903a93ea1e1a9a6",
   "execution_count": 57
  },
  {
   "cell_type": "markdown",
   "source": [
    "Initially, the values in datetime are character strings and do not provide any datetime operations (e.g. extract the year, day of the week,…). By applying the to_datetime function, pandas interprets the strings and convert these to datetime (i.e. datetime64[ns, UTC]) objects. In pandas we call these datetime objects similar to datetime.datetime from the standard library as pandas.Timestamp"
   ],
   "metadata": {
    "collapsed": false
   },
   "id": "acf6adb90c17787d"
  },
  {
   "cell_type": "markdown",
   "source": [
    "As many data sets do contain datetime information in one of the columns, pandas input function like pandas.read_csv() and pandas.read_json() can do the transformation to dates when reading the data using the parse_dates parameter with a list of the columns to read as Timestamp:\n",
    "\n",
    "pd.read_csv(\"../data/air_quality_no2_long.csv\", parse_dates=[\"datetime\"])\n"
   ],
   "metadata": {
    "collapsed": false
   },
   "id": "20c4ac62fd55b63a"
  },
  {
   "cell_type": "markdown",
   "source": [
    "Why are these pandas.Timestamp objects useful? Let’s illustrate the added value with some example cases."
   ],
   "metadata": {
    "collapsed": false
   },
   "id": "211eed9c30db78f2"
  },
  {
   "cell_type": "markdown",
   "source": [
    "What is the start and end date of the time series data set we are working with?"
   ],
   "metadata": {
    "collapsed": false
   },
   "id": "6d2e3eb0df31337"
  },
  {
   "cell_type": "code",
   "outputs": [
    {
     "data": {
      "text/plain": "(Timestamp('2019-05-07 01:00:00+0000', tz='UTC'),\n Timestamp('2019-06-21 00:00:00+0000', tz='UTC'))"
     },
     "execution_count": 58,
     "metadata": {},
     "output_type": "execute_result"
    }
   ],
   "source": [
    "air_quality[\"datetime\"].min(), air_quality[\"datetime\"].max()"
   ],
   "metadata": {
    "collapsed": false,
    "ExecuteTime": {
     "end_time": "2023-12-30T19:55:24.475681297Z",
     "start_time": "2023-12-30T19:55:24.465477915Z"
    }
   },
   "id": "d002a4f98871a601",
   "execution_count": 58
  },
  {
   "cell_type": "markdown",
   "source": [
    "Using pandas.Timestamp for datetimes enables us to calculate with date information and make them comparable. Hence, we can use this to get the length of our time series:"
   ],
   "metadata": {
    "collapsed": false
   },
   "id": "4d136d5e6a0fa2f9"
  },
  {
   "cell_type": "code",
   "outputs": [
    {
     "data": {
      "text/plain": "Timedelta('44 days 23:00:00')"
     },
     "execution_count": 59,
     "metadata": {},
     "output_type": "execute_result"
    }
   ],
   "source": [
    "air_quality[\"datetime\"].max() - air_quality[\"datetime\"].min()"
   ],
   "metadata": {
    "collapsed": false,
    "ExecuteTime": {
     "end_time": "2023-12-30T19:55:55.064247908Z",
     "start_time": "2023-12-30T19:55:55.018210368Z"
    }
   },
   "id": "d73277c8825728ef",
   "execution_count": 59
  },
  {
   "cell_type": "markdown",
   "source": [
    "I want to add a new column to the DataFrame containing only the month of the measurement"
   ],
   "metadata": {
    "collapsed": false
   },
   "id": "2a209ddff96f165c"
  },
  {
   "cell_type": "code",
   "outputs": [
    {
     "data": {
      "text/plain": "    city country                  datetime location parameter  value   unit  \\\n0  Paris      FR 2019-06-21 00:00:00+00:00  FR04014       no2   20.0  µg/m³   \n1  Paris      FR 2019-06-20 23:00:00+00:00  FR04014       no2   21.8  µg/m³   \n2  Paris      FR 2019-06-20 22:00:00+00:00  FR04014       no2   26.5  µg/m³   \n3  Paris      FR 2019-06-20 21:00:00+00:00  FR04014       no2   24.9  µg/m³   \n4  Paris      FR 2019-06-20 20:00:00+00:00  FR04014       no2   21.4  µg/m³   \n\n   month  \n0      6  \n1      6  \n2      6  \n3      6  \n4      6  ",
      "text/html": "<div>\n<style scoped>\n    .dataframe tbody tr th:only-of-type {\n        vertical-align: middle;\n    }\n\n    .dataframe tbody tr th {\n        vertical-align: top;\n    }\n\n    .dataframe thead th {\n        text-align: right;\n    }\n</style>\n<table border=\"1\" class=\"dataframe\">\n  <thead>\n    <tr style=\"text-align: right;\">\n      <th></th>\n      <th>city</th>\n      <th>country</th>\n      <th>datetime</th>\n      <th>location</th>\n      <th>parameter</th>\n      <th>value</th>\n      <th>unit</th>\n      <th>month</th>\n    </tr>\n  </thead>\n  <tbody>\n    <tr>\n      <th>0</th>\n      <td>Paris</td>\n      <td>FR</td>\n      <td>2019-06-21 00:00:00+00:00</td>\n      <td>FR04014</td>\n      <td>no2</td>\n      <td>20.0</td>\n      <td>µg/m³</td>\n      <td>6</td>\n    </tr>\n    <tr>\n      <th>1</th>\n      <td>Paris</td>\n      <td>FR</td>\n      <td>2019-06-20 23:00:00+00:00</td>\n      <td>FR04014</td>\n      <td>no2</td>\n      <td>21.8</td>\n      <td>µg/m³</td>\n      <td>6</td>\n    </tr>\n    <tr>\n      <th>2</th>\n      <td>Paris</td>\n      <td>FR</td>\n      <td>2019-06-20 22:00:00+00:00</td>\n      <td>FR04014</td>\n      <td>no2</td>\n      <td>26.5</td>\n      <td>µg/m³</td>\n      <td>6</td>\n    </tr>\n    <tr>\n      <th>3</th>\n      <td>Paris</td>\n      <td>FR</td>\n      <td>2019-06-20 21:00:00+00:00</td>\n      <td>FR04014</td>\n      <td>no2</td>\n      <td>24.9</td>\n      <td>µg/m³</td>\n      <td>6</td>\n    </tr>\n    <tr>\n      <th>4</th>\n      <td>Paris</td>\n      <td>FR</td>\n      <td>2019-06-20 20:00:00+00:00</td>\n      <td>FR04014</td>\n      <td>no2</td>\n      <td>21.4</td>\n      <td>µg/m³</td>\n      <td>6</td>\n    </tr>\n  </tbody>\n</table>\n</div>"
     },
     "execution_count": 60,
     "metadata": {},
     "output_type": "execute_result"
    }
   ],
   "source": [
    "air_quality[\"month\"] = air_quality[\"datetime\"].dt.month\n",
    "air_quality.head()"
   ],
   "metadata": {
    "collapsed": false,
    "ExecuteTime": {
     "end_time": "2023-12-30T19:56:30.667370788Z",
     "start_time": "2023-12-30T19:56:30.640883928Z"
    }
   },
   "id": "3e7e52f6c7a948f5",
   "execution_count": 60
  },
  {
   "cell_type": "markdown",
   "source": [
    "By using Timestamp objects for dates, a lot of time-related properties are provided by pandas. For example the month, but also year, quarter,… All of these properties are accessible by the dt accessor."
   ],
   "metadata": {
    "collapsed": false
   },
   "id": "dce0a6aac33e6c5e"
  },
  {
   "cell_type": "markdown",
   "source": [
    "What is the average NO2 concentration for each day of the week for each of the measurement locations?"
   ],
   "metadata": {
    "collapsed": false
   },
   "id": "3ef22f7cb372b83a"
  },
  {
   "cell_type": "code",
   "outputs": [
    {
     "data": {
      "text/plain": "datetime  location          \n0         BETR801               27.875000\n          FR04014               24.856250\n          London Westminster    23.969697\n1         BETR801               22.214286\n          FR04014               30.999359\n          London Westminster    24.885714\n2         BETR801               21.125000\n          FR04014               29.165753\n          London Westminster    23.460432\n3         BETR801               27.500000\n          FR04014               28.600690\n          London Westminster    24.780142\n4         BETR801               28.400000\n          FR04014               31.617986\n          London Westminster    26.446809\n5         BETR801               33.500000\n          FR04014               25.266154\n          London Westminster    24.977612\n6         BETR801               21.896552\n          FR04014               23.274306\n          London Westminster    24.859155\nName: value, dtype: float64"
     },
     "execution_count": 61,
     "metadata": {},
     "output_type": "execute_result"
    }
   ],
   "source": [
    "air_quality.groupby(\n",
    "    [air_quality[\"datetime\"].dt.weekday, \"location\"])[\"value\"].mean()"
   ],
   "metadata": {
    "collapsed": false,
    "ExecuteTime": {
     "end_time": "2023-12-30T19:59:37.263961285Z",
     "start_time": "2023-12-30T19:59:37.170118453Z"
    }
   },
   "id": "c2e407ac7dd42eeb",
   "execution_count": 61
  },
  {
   "cell_type": "markdown",
   "source": [
    "Plot the typical NO2 pattern during the day of our time series of all stations together. In other words, what is the average value for each hour of the day?"
   ],
   "metadata": {
    "collapsed": false
   },
   "id": "c3cf6153e9820cbd"
  },
  {
   "cell_type": "code",
   "outputs": [
    {
     "data": {
      "text/plain": "'\\nSimilar to the previous case, we want to calculate a given statistic (e.g. mean NO2) for each hour of the day and we can use the split-apply-combine approach again. For this case, we use the datetime property hour of pandas Timestamp, which is also accessible by the dt accessor. \\n'"
     },
     "execution_count": 64,
     "metadata": {},
     "output_type": "execute_result"
    },
    {
     "data": {
      "text/plain": "<Figure size 1200x400 with 1 Axes>",
      "image/png": "[encoded data removed]"
     },
     "metadata": {},
     "output_type": "display_data"
    }
   ],
   "source": [
    "fig, axs = plt.subplots(figsize=(12, 4))\n",
    "\n",
    "air_quality.groupby(air_quality[\"datetime\"].dt.hour)[\"value\"].mean().plot(\n",
    "    kind='bar', rot=0, ax=axs\n",
    ")\n",
    "\n",
    "plt.xlabel(\"Hour of the day\");  # custom x label using Matplotlib\n",
    "\n",
    "plt.ylabel(\"$NO_2 (µg/m^3)$\");\n",
    "\n",
    "\"\"\"\n",
    "Similar to the previous case, we want to calculate a given statistic (e.g. mean NO2) for each hour of the day and we can use the split-apply-combine approach again. For this case, we use the datetime property hour of pandas Timestamp, which is also accessible by the dt accessor. \n",
    "\"\"\""
   ],
   "metadata": {
    "collapsed": false,
    "ExecuteTime": {
     "end_time": "2023-12-30T20:05:47.985319955Z",
     "start_time": "2023-12-30T20:05:47.660216583Z"
    }
   },
   "id": "f2315f55dcce1cc5",
   "execution_count": 64
  },
  {
   "cell_type": "markdown",
   "source": [
    "## Datetime as index"
   ],
   "metadata": {
    "collapsed": false
   },
   "id": "a2098ff2d724f4de"
  },
  {
   "cell_type": "markdown",
   "source": [
    "In the tutorial on reshaping, pivot() was introduced to reshape the data table with each of the measurements locations as a separate column:"
   ],
   "metadata": {
    "collapsed": false
   },
   "id": "9ac2b7f420dc7ca1"
  },
  {
   "cell_type": "code",
   "outputs": [
    {
     "data": {
      "text/plain": "location                   BETR801  FR04014  London Westminster\ndatetime                                                       \n2019-05-07 01:00:00+00:00     50.5     25.0                23.0\n2019-05-07 02:00:00+00:00     45.0     27.7                19.0\n2019-05-07 03:00:00+00:00      NaN     50.4                19.0\n2019-05-07 04:00:00+00:00      NaN     61.9                16.0\n2019-05-07 05:00:00+00:00      NaN     72.4                 NaN",
      "text/html": "<div>\n<style scoped>\n    .dataframe tbody tr th:only-of-type {\n        vertical-align: middle;\n    }\n\n    .dataframe tbody tr th {\n        vertical-align: top;\n    }\n\n    .dataframe thead th {\n        text-align: right;\n    }\n</style>\n<table border=\"1\" class=\"dataframe\">\n  <thead>\n    <tr style=\"text-align: right;\">\n      <th>location</th>\n      <th>BETR801</th>\n      <th>FR04014</th>\n      <th>London Westminster</th>\n    </tr>\n    <tr>\n      <th>datetime</th>\n      <th></th>\n      <th></th>\n      <th></th>\n    </tr>\n  </thead>\n  <tbody>\n    <tr>\n      <th>2019-05-07 01:00:00+00:00</th>\n      <td>50.5</td>\n      <td>25.0</td>\n      <td>23.0</td>\n    </tr>\n    <tr>\n      <th>2019-05-07 02:00:00+00:00</th>\n      <td>45.0</td>\n      <td>27.7</td>\n      <td>19.0</td>\n    </tr>\n    <tr>\n      <th>2019-05-07 03:00:00+00:00</th>\n      <td>NaN</td>\n      <td>50.4</td>\n      <td>19.0</td>\n    </tr>\n    <tr>\n      <th>2019-05-07 04:00:00+00:00</th>\n      <td>NaN</td>\n      <td>61.9</td>\n      <td>16.0</td>\n    </tr>\n    <tr>\n      <th>2019-05-07 05:00:00+00:00</th>\n      <td>NaN</td>\n      <td>72.4</td>\n      <td>NaN</td>\n    </tr>\n  </tbody>\n</table>\n</div>"
     },
     "execution_count": 65,
     "metadata": {},
     "output_type": "execute_result"
    }
   ],
   "source": [
    "no_2 = air_quality.pivot(index=\"datetime\", columns=\"location\", values=\"value\")\n",
    "\n",
    "no_2.head()"
   ],
   "metadata": {
    "collapsed": false,
    "ExecuteTime": {
     "end_time": "2023-12-30T20:07:32.886224351Z",
     "start_time": "2023-12-30T20:07:32.850601539Z"
    }
   },
   "id": "a6967cf1974c2a3b",
   "execution_count": 65
  },
  {
   "cell_type": "markdown",
   "source": [
    "By pivoting the data, the datetime information became the index of the table. In general, setting a column as an index can be achieved by the set_index function.\n",
    "\n",
    "Working with a datetime index (i.e. DatetimeIndex) provides powerful functionalities. For example, we do not need the dt accessor to get the time series properties, but have these properties available on the index directly:"
   ],
   "metadata": {
    "collapsed": false
   },
   "id": "2477267926925201"
  },
  {
   "cell_type": "code",
   "outputs": [
    {
     "data": {
      "text/plain": "(Index([2019, 2019, 2019, 2019, 2019, 2019, 2019, 2019, 2019, 2019,\n        ...\n        2019, 2019, 2019, 2019, 2019, 2019, 2019, 2019, 2019, 2019],\n       dtype='int32', name='datetime', length=1033),\n Index([1, 1, 1, 1, 1, 1, 1, 1, 1, 1,\n        ...\n        3, 3, 3, 3, 3, 3, 3, 3, 3, 4],\n       dtype='int32', name='datetime', length=1033))"
     },
     "execution_count": 66,
     "metadata": {},
     "output_type": "execute_result"
    }
   ],
   "source": [
    "no_2.index.year, no_2.index.weekday"
   ],
   "metadata": {
    "collapsed": false,
    "ExecuteTime": {
     "end_time": "2023-12-30T20:08:13.425345346Z",
     "start_time": "2023-12-30T20:08:13.395863820Z"
    }
   },
   "id": "7e350412f0fe9d9b",
   "execution_count": 66
  },
  {
   "cell_type": "markdown",
   "source": [
    "Some other advantages are the convenient subsetting of time period or the adapted time scale on plots. Let’s apply this on our data.\n",
    "\n",
    "Create a plot of the NO2 values in the different stations from the 20th of May till the end of 21st of May"
   ],
   "metadata": {
    "collapsed": false
   },
   "id": "35683c4d881759cd"
  },
  {
   "cell_type": "code",
   "outputs": [
    {
     "data": {
      "text/plain": "<Figure size 640x480 with 1 Axes>",
      "image/png": "[encoded data removed]"
     },
     "metadata": {},
     "output_type": "display_data"
    }
   ],
   "source": [
    "no_2[\"2019-05-20\":\"2019-05-21\"].plot();"
   ],
   "metadata": {
    "collapsed": false,
    "ExecuteTime": {
     "end_time": "2023-12-30T20:09:58.323752059Z",
     "start_time": "2023-12-30T20:09:58.143438945Z"
    }
   },
   "id": "589f32e265811ac3",
   "execution_count": 69
  },
  {
   "cell_type": "markdown",
   "source": [
    "## Resample a time series to another frequency"
   ],
   "metadata": {
    "collapsed": false
   },
   "id": "8e1a793d090a58cd"
  },
  {
   "cell_type": "markdown",
   "source": [
    "Aggregate the current hourly time series values to the monthly maximum value in each of the stations."
   ],
   "metadata": {
    "collapsed": false
   },
   "id": "2b5bc1c861d760aa"
  },
  {
   "cell_type": "code",
   "outputs": [
    {
     "data": {
      "text/plain": "location                   BETR801  FR04014  London Westminster\ndatetime                                                       \n2019-05-31 00:00:00+00:00     74.5     97.0                97.0\n2019-06-30 00:00:00+00:00     52.5     84.7                52.0",
      "text/html": "<div>\n<style scoped>\n    .dataframe tbody tr th:only-of-type {\n        vertical-align: middle;\n    }\n\n    .dataframe tbody tr th {\n        vertical-align: top;\n    }\n\n    .dataframe thead th {\n        text-align: right;\n    }\n</style>\n<table border=\"1\" class=\"dataframe\">\n  <thead>\n    <tr style=\"text-align: right;\">\n      <th>location</th>\n      <th>BETR801</th>\n      <th>FR04014</th>\n      <th>London Westminster</th>\n    </tr>\n    <tr>\n      <th>datetime</th>\n      <th></th>\n      <th></th>\n      <th></th>\n    </tr>\n  </thead>\n  <tbody>\n    <tr>\n      <th>2019-05-31 00:00:00+00:00</th>\n      <td>74.5</td>\n      <td>97.0</td>\n      <td>97.0</td>\n    </tr>\n    <tr>\n      <th>2019-06-30 00:00:00+00:00</th>\n      <td>52.5</td>\n      <td>84.7</td>\n      <td>52.0</td>\n    </tr>\n  </tbody>\n</table>\n</div>"
     },
     "execution_count": 70,
     "metadata": {},
     "output_type": "execute_result"
    }
   ],
   "source": [
    "monthly_max = no_2.resample(\"M\").max()\n",
    "\n",
    "monthly_max"
   ],
   "metadata": {
    "collapsed": false,
    "ExecuteTime": {
     "end_time": "2023-12-30T20:11:25.043508132Z",
     "start_time": "2023-12-30T20:11:25.022330974Z"
    }
   },
   "id": "49d96fbd2e60982",
   "execution_count": 70
  },
  {
   "cell_type": "markdown",
   "source": [
    "A very powerful method on time series data with a datetime index, is the ability to resample() time series to another frequency (e.g., converting secondly data into 5-minutely data).\n",
    "\n",
    "The resample() method is similar to a groupby operation:\n",
    "\n",
    "* it provides a time-based grouping, by using a string (e.g. M, 5H,…) that defines the target frequency\n",
    "\n",
    "* it requires an aggregation function such as mean, max,…\n",
    "\n",
    "An overview of the aliases used to define time series frequencies is given in the offset aliases overview table.\n",
    "\n",
    "When defined, the frequency of the time series is provided by the freq attribute:"
   ],
   "metadata": {
    "collapsed": false
   },
   "id": "66293ff2b6ab795f"
  },
  {
   "cell_type": "code",
   "outputs": [
    {
     "data": {
      "text/plain": "<MonthEnd>"
     },
     "execution_count": 71,
     "metadata": {},
     "output_type": "execute_result"
    }
   ],
   "source": [
    "monthly_max.index.freq"
   ],
   "metadata": {
    "collapsed": false,
    "ExecuteTime": {
     "end_time": "2023-12-30T20:13:42.638937545Z",
     "start_time": "2023-12-30T20:13:42.584081509Z"
    }
   },
   "id": "64edf4673ccdb0a7",
   "execution_count": 71
  },
  {
   "cell_type": "markdown",
   "source": [
    "Make a plot of the daily mean NO2 value in each of the stations."
   ],
   "metadata": {
    "collapsed": false
   },
   "id": "fb846e2c1cbf2fcc"
  },
  {
   "cell_type": "code",
   "outputs": [
    {
     "data": {
      "text/plain": "<Figure size 1000x500 with 1 Axes>",
      "image/png": "[encoded data removed]"
     },
     "metadata": {},
     "output_type": "display_data"
    }
   ],
   "source": [
    "In [25]: no_2.resample(\"D\").mean().plot(style=\"-o\", figsize=(10, 5));"
   ],
   "metadata": {
    "collapsed": false,
    "ExecuteTime": {
     "end_time": "2023-12-30T20:14:47.072421004Z",
     "start_time": "2023-12-30T20:14:46.742181567Z"
    }
   },
   "id": "86ca88d389f58950",
   "execution_count": 72
  },
  {
   "cell_type": "markdown",
   "source": [
    "More details on the power of time series resampling is provided in the user guide section on resampling."
   ],
   "metadata": {
    "collapsed": false
   },
   "id": "e611fffeaf7854e"
  },
  {
   "cell_type": "markdown",
   "source": [
    "### REMEMBER\n",
    "* Valid date strings can be converted to datetime objects using to_datetime function or as part of read functions.\n",
    "\n",
    "* Datetime objects in pandas support calculations, logical operations and convenient date-related properties using the dt accessor.\n",
    "\n",
    "* A DatetimeIndex contains these date-related properties and supports convenient slicing.\n",
    "\n",
    "* Resample is a powerful method to change the frequency of a time series."
   ],
   "metadata": {
    "collapsed": false
   },
   "id": "b85e4cf28930ceb4"
  },
  {
   "cell_type": "markdown",
   "source": [
    "# How to manipulate textual data"
   ],
   "metadata": {
    "collapsed": false
   },
   "id": "dd65e1c15c82d08e"
  },
  {
   "cell_type": "code",
   "outputs": [],
   "source": [],
   "metadata": {
    "collapsed": false
   },
   "id": "23be715722e0a460"
  },
  {
   "cell_type": "code",
   "outputs": [
    {
     "data": {
      "text/plain": "   PassengerId  Survived  Pclass  \\\n0            1         0       3   \n1            2         1       1   \n2            3         1       3   \n3            4         1       1   \n4            5         0       3   \n\n                                                Name     Sex   Age  SibSp  \\\n0                            Braund, Mr. Owen Harris    male  22.0      1   \n1  Cumings, Mrs. John Bradley (Florence Briggs Th...  female  38.0      1   \n2                             Heikkinen, Miss. Laina  female  26.0      0   \n3       Futrelle, Mrs. Jacques Heath (Lily May Peel)  female  35.0      1   \n4                           Allen, Mr. William Henry    male  35.0      0   \n\n   Parch            Ticket     Fare Cabin Embarked  \n0      0         A/5 21171   7.2500   NaN        S  \n1      0          PC 17599  71.2833   C85        C  \n2      0  STON/O2. 3101282   7.9250   NaN        S  \n3      0            113803  53.1000  C123        S  \n4      0            373450   8.0500   NaN        S  ",
      "text/html": "<div>\n<style scoped>\n    .dataframe tbody tr th:only-of-type {\n        vertical-align: middle;\n    }\n\n    .dataframe tbody tr th {\n        vertical-align: top;\n    }\n\n    .dataframe thead th {\n        text-align: right;\n    }\n</style>\n<table border=\"1\" class=\"dataframe\">\n  <thead>\n    <tr style=\"text-align: right;\">\n      <th></th>\n      <th>PassengerId</th>\n      <th>Survived</th>\n      <th>Pclass</th>\n      <th>Name</th>\n      <th>Sex</th>\n      <th>Age</th>\n      <th>SibSp</th>\n      <th>Parch</th>\n      <th>Ticket</th>\n      <th>Fare</th>\n      <th>Cabin</th>\n      <th>Embarked</th>\n    </tr>\n  </thead>\n  <tbody>\n    <tr>\n      <th>0</th>\n      <td>1</td>\n      <td>0</td>\n      <td>3</td>\n      <td>Braund, Mr. Owen Harris</td>\n      <td>male</td>\n      <td>22.0</td>\n      <td>1</td>\n      <td>0</td>\n      <td>A/5 21171</td>\n      <td>7.2500</td>\n      <td>NaN</td>\n      <td>S</td>\n    </tr>\n    <tr>\n      <th>1</th>\n      <td>2</td>\n      <td>1</td>\n      <td>1</td>\n      <td>Cumings, Mrs. John Bradley (Florence Briggs Th...</td>\n      <td>female</td>\n      <td>38.0</td>\n      <td>1</td>\n      <td>0</td>\n      <td>PC 17599</td>\n      <td>71.2833</td>\n      <td>C85</td>\n      <td>C</td>\n    </tr>\n    <tr>\n      <th>2</th>\n      <td>3</td>\n      <td>1</td>\n      <td>3</td>\n      <td>Heikkinen, Miss. Laina</td>\n      <td>female</td>\n      <td>26.0</td>\n      <td>0</td>\n      <td>0</td>\n      <td>STON/O2. 3101282</td>\n      <td>7.9250</td>\n      <td>NaN</td>\n      <td>S</td>\n    </tr>\n    <tr>\n      <th>3</th>\n      <td>4</td>\n      <td>1</td>\n      <td>1</td>\n      <td>Futrelle, Mrs. Jacques Heath (Lily May Peel)</td>\n      <td>female</td>\n      <td>35.0</td>\n      <td>1</td>\n      <td>0</td>\n      <td>113803</td>\n      <td>53.1000</td>\n      <td>C123</td>\n      <td>S</td>\n    </tr>\n    <tr>\n      <th>4</th>\n      <td>5</td>\n      <td>0</td>\n      <td>3</td>\n      <td>Allen, Mr. William Henry</td>\n      <td>male</td>\n      <td>35.0</td>\n      <td>0</td>\n      <td>0</td>\n      <td>373450</td>\n      <td>8.0500</td>\n      <td>NaN</td>\n      <td>S</td>\n    </tr>\n  </tbody>\n</table>\n</div>"
     },
     "execution_count": 73,
     "metadata": {},
     "output_type": "execute_result"
    }
   ],
   "source": [
    "titanic = pd.read_csv(\"data/titanic.csv\")\n",
    "\n",
    "titanic.head()"
   ],
   "metadata": {
    "collapsed": false,
    "ExecuteTime": {
     "end_time": "2023-12-30T20:33:37.293443301Z",
     "start_time": "2023-12-30T20:33:37.245840753Z"
    }
   },
   "id": "b97be7f216124d46",
   "execution_count": 73
  },
  {
   "cell_type": "markdown",
   "source": [
    "Make all name characters lowercase."
   ],
   "metadata": {
    "collapsed": false
   },
   "id": "324d146c9d39466f"
  },
  {
   "cell_type": "code",
   "outputs": [
    {
     "data": {
      "text/plain": "0                                braund, mr. owen harris\n1      cumings, mrs. john bradley (florence briggs th...\n2                                 heikkinen, miss. laina\n3           futrelle, mrs. jacques heath (lily may peel)\n4                               allen, mr. william henry\n                             ...                        \n886                                montvila, rev. juozas\n887                         graham, miss. margaret edith\n888             johnston, miss. catherine helen \"carrie\"\n889                                behr, mr. karl howell\n890                                  dooley, mr. patrick\nName: Name, Length: 891, dtype: object"
     },
     "execution_count": 74,
     "metadata": {},
     "output_type": "execute_result"
    }
   ],
   "source": [
    "titanic[\"Name\"].str.lower()"
   ],
   "metadata": {
    "collapsed": false,
    "ExecuteTime": {
     "end_time": "2023-12-30T20:34:01.764037765Z",
     "start_time": "2023-12-30T20:34:01.697597852Z"
    }
   },
   "id": "aa16d87545272976",
   "execution_count": 74
  },
  {
   "cell_type": "markdown",
   "source": [
    "Create a new column Surname that contains the surname of the passengers by extracting the part before the comma."
   ],
   "metadata": {
    "collapsed": false
   },
   "id": "f2bc6f8224a26bd7"
  },
  {
   "cell_type": "code",
   "outputs": [
    {
     "data": {
      "text/plain": "0                             [Braund,  Mr. Owen Harris]\n1      [Cumings,  Mrs. John Bradley (Florence Briggs ...\n2                              [Heikkinen,  Miss. Laina]\n3        [Futrelle,  Mrs. Jacques Heath (Lily May Peel)]\n4                            [Allen,  Mr. William Henry]\n                             ...                        \n886                             [Montvila,  Rev. Juozas]\n887                      [Graham,  Miss. Margaret Edith]\n888          [Johnston,  Miss. Catherine Helen \"Carrie\"]\n889                             [Behr,  Mr. Karl Howell]\n890                               [Dooley,  Mr. Patrick]\nName: Name, Length: 891, dtype: object"
     },
     "execution_count": 75,
     "metadata": {},
     "output_type": "execute_result"
    }
   ],
   "source": [
    "titanic[\"Name\"].str.split(\",\")"
   ],
   "metadata": {
    "collapsed": false,
    "ExecuteTime": {
     "end_time": "2023-12-30T20:35:19.410796206Z",
     "start_time": "2023-12-30T20:35:19.345410588Z"
    }
   },
   "id": "bbede102512ffe0e",
   "execution_count": 75
  },
  {
   "cell_type": "markdown",
   "source": [
    "Using the Series.str.split() method, each of the values is returned as a list of 2 elements. The first element is the part before the comma and the second element is the part after the comma."
   ],
   "metadata": {
    "collapsed": false
   },
   "id": "28d22c740672469a"
  },
  {
   "cell_type": "code",
   "outputs": [
    {
     "data": {
      "text/plain": "0         Braund\n1        Cumings\n2      Heikkinen\n3       Futrelle\n4          Allen\n         ...    \n886     Montvila\n887       Graham\n888     Johnston\n889         Behr\n890       Dooley\nName: Surname, Length: 891, dtype: object"
     },
     "execution_count": 97,
     "metadata": {},
     "output_type": "execute_result"
    }
   ],
   "source": [
    "titanic[\"Surname\"] = titanic[\"Name\"].str.split(\",\").str.get(0)\n",
    "titanic[\"Surname\"] = titanic[\"Name\"].str.split(\",\", expand=True)[0]\n",
    "\n",
    "titanic[\"Surname\"]"
   ],
   "metadata": {
    "collapsed": false,
    "ExecuteTime": {
     "end_time": "2023-12-30T22:57:50.839058695Z",
     "start_time": "2023-12-30T22:57:50.744890762Z"
    }
   },
   "id": "2bf7df8be4d9e410",
   "execution_count": 97
  },
  {
   "cell_type": "markdown",
   "source": [
    "Extract the passenger data about the countesses on board of the Titanic."
   ],
   "metadata": {
    "collapsed": false
   },
   "id": "72ebe7571b97b006"
  },
  {
   "cell_type": "code",
   "outputs": [
    {
     "data": {
      "text/plain": "0      False\n1      False\n2      False\n3      False\n4      False\n       ...  \n886    False\n887    False\n888    False\n889    False\n890    False\nName: Name, Length: 891, dtype: bool"
     },
     "execution_count": 83,
     "metadata": {},
     "output_type": "execute_result"
    }
   ],
   "source": [
    "titanic[\"Name\"].str.contains(\"Countess\")"
   ],
   "metadata": {
    "collapsed": false,
    "ExecuteTime": {
     "end_time": "2023-12-30T20:41:55.303511512Z",
     "start_time": "2023-12-30T20:41:55.222619553Z"
    }
   },
   "id": "2a759b6f1501032",
   "execution_count": 83
  },
  {
   "cell_type": "code",
   "outputs": [
    {
     "data": {
      "text/plain": "     PassengerId  Survived  Pclass  \\\n759          760         1       1   \n\n                                                  Name     Sex   Age  SibSp  \\\n759  Rothes, the Countess. of (Lucy Noel Martha Dye...  female  33.0      0   \n\n     Parch  Ticket  Fare Cabin Embarked Surname  \n759      0  110152  86.5   B77        S  Rothes  ",
      "text/html": "<div>\n<style scoped>\n    .dataframe tbody tr th:only-of-type {\n        vertical-align: middle;\n    }\n\n    .dataframe tbody tr th {\n        vertical-align: top;\n    }\n\n    .dataframe thead th {\n        text-align: right;\n    }\n</style>\n<table border=\"1\" class=\"dataframe\">\n  <thead>\n    <tr style=\"text-align: right;\">\n      <th></th>\n      <th>PassengerId</th>\n      <th>Survived</th>\n      <th>Pclass</th>\n      <th>Name</th>\n      <th>Sex</th>\n      <th>Age</th>\n      <th>SibSp</th>\n      <th>Parch</th>\n      <th>Ticket</th>\n      <th>Fare</th>\n      <th>Cabin</th>\n      <th>Embarked</th>\n      <th>Surname</th>\n    </tr>\n  </thead>\n  <tbody>\n    <tr>\n      <th>759</th>\n      <td>760</td>\n      <td>1</td>\n      <td>1</td>\n      <td>Rothes, the Countess. of (Lucy Noel Martha Dye...</td>\n      <td>female</td>\n      <td>33.0</td>\n      <td>0</td>\n      <td>0</td>\n      <td>110152</td>\n      <td>86.5</td>\n      <td>B77</td>\n      <td>S</td>\n      <td>Rothes</td>\n    </tr>\n  </tbody>\n</table>\n</div>"
     },
     "execution_count": 84,
     "metadata": {},
     "output_type": "execute_result"
    }
   ],
   "source": [
    "titanic[titanic[\"Name\"].str.contains(\"Countess\")]"
   ],
   "metadata": {
    "collapsed": false,
    "ExecuteTime": {
     "end_time": "2023-12-30T20:42:07.462827825Z",
     "start_time": "2023-12-30T20:42:07.405779613Z"
    }
   },
   "id": "e3e192529c9de2f6",
   "execution_count": 84
  },
  {
   "cell_type": "markdown",
   "source": [
    "Which passenger of the Titanic has the longest name?"
   ],
   "metadata": {
    "collapsed": false
   },
   "id": "bbb4ab3760af61cf"
  },
  {
   "cell_type": "code",
   "outputs": [
    {
     "data": {
      "text/plain": "0      23\n1      51\n2      22\n3      44\n4      24\n       ..\n886    21\n887    28\n888    40\n889    21\n890    19\nName: Name, Length: 891, dtype: int64"
     },
     "execution_count": 85,
     "metadata": {},
     "output_type": "execute_result"
    }
   ],
   "source": [
    "titanic[\"Name\"].str.len()"
   ],
   "metadata": {
    "collapsed": false,
    "ExecuteTime": {
     "end_time": "2023-12-30T20:45:40.650385816Z",
     "start_time": "2023-12-30T20:45:40.616988101Z"
    }
   },
   "id": "59fb4a1b62c78647",
   "execution_count": 85
  },
  {
   "cell_type": "markdown",
   "source": [
    "To get the longest name we first have to get the lengths of each of the names in the Name column. By using pandas string methods, the Series.str.len() function is applied to each of the names individually (element-wise)."
   ],
   "metadata": {
    "collapsed": false
   },
   "id": "6260957256255788"
  },
  {
   "cell_type": "code",
   "outputs": [
    {
     "data": {
      "text/plain": "307"
     },
     "execution_count": 89,
     "metadata": {},
     "output_type": "execute_result"
    }
   ],
   "source": [
    "titanic[\"Name\"].str.len().idxmax()"
   ],
   "metadata": {
    "collapsed": false,
    "ExecuteTime": {
     "end_time": "2023-12-30T20:49:22.036653804Z",
     "start_time": "2023-12-30T20:49:22.001810756Z"
    }
   },
   "id": "590c57edef95caa",
   "execution_count": 89
  },
  {
   "cell_type": "markdown",
   "source": [
    "Next, we need to get the corresponding location, preferably the index label, in the table for which the name length is the largest. The idxmax() method does exactly that. It is not a string method and is applied to integers, so no str is used.\n",
    "\n",
    "Based on the index name of the row (307) and the column (Name), we can do a selection using the loc operator, introduced in the tutorial on subsetting."
   ],
   "metadata": {
    "collapsed": false
   },
   "id": "3b39fdacd656e8a1"
  },
  {
   "cell_type": "code",
   "outputs": [
    {
     "data": {
      "text/plain": "'Penasco y Castellana, Mrs. Victor de Satode (Maria Josefa Perez de Soto y Vallejo)'"
     },
     "execution_count": 94,
     "metadata": {},
     "output_type": "execute_result"
    }
   ],
   "source": [
    "titanic.loc[titanic[\"Name\"].str.len().idxmax(), \"Name\"]"
   ],
   "metadata": {
    "collapsed": false,
    "ExecuteTime": {
     "end_time": "2023-12-30T20:51:24.286866576Z",
     "start_time": "2023-12-30T20:51:24.265351095Z"
    }
   },
   "id": "28f2125e08400ae2",
   "execution_count": 94
  },
  {
   "cell_type": "markdown",
   "source": [
    "In the “Sex” column, replace values of “male” by “M” and values of “female” by “F”."
   ],
   "metadata": {
    "collapsed": false
   },
   "id": "72d19db961dce4d4"
  },
  {
   "cell_type": "code",
   "outputs": [
    {
     "data": {
      "text/plain": "0      M\n1      F\n2      F\n3      F\n4      M\n      ..\n886    M\n887    F\n888    F\n889    M\n890    M\nName: Sex_short, Length: 891, dtype: object"
     },
     "execution_count": 95,
     "metadata": {},
     "output_type": "execute_result"
    }
   ],
   "source": [
    "titanic[\"Sex_short\"] = titanic[\"Sex\"].replace({\"male\": \"M\", \"female\": \"F\"})\n",
    "\n",
    "titanic[\"Sex_short\"]"
   ],
   "metadata": {
    "collapsed": false,
    "ExecuteTime": {
     "end_time": "2023-12-30T20:52:16.597752787Z",
     "start_time": "2023-12-30T20:52:16.516847234Z"
    }
   },
   "id": "b3d0c62de9e0fb7",
   "execution_count": 95
  },
  {
   "cell_type": "markdown",
   "source": [
    "Whereas replace() is not a string method, it provides a convenient way to use mappings or vocabularies to translate certain values. It requires a dictionary to define the mapping {from : to}."
   ],
   "metadata": {
    "collapsed": false
   },
   "id": "b3e98af0057bfa36"
  },
  {
   "cell_type": "markdown",
   "source": [
    "### REMEMBER\n",
    "* String methods are available using the str accessor.\n",
    "\n",
    "* String methods work element-wise and can be used for conditional indexing.\n",
    "\n",
    "* The replace method is a convenient method to convert values according to a given dictionary."
   ],
   "metadata": {
    "collapsed": false
   },
   "id": "43458fd9f61659da"
  }
 ],
 "metadata": {
  "kernelspec": {
   "display_name": "Python 3",
   "language": "python",
   "name": "python3"
  },
  "language_info": {
   "codemirror_mode": {
    "name": "ipython",
    "version": 2
   },
   "file_extension": ".py",
   "mimetype": "text/x-python",
   "name": "python",
   "nbconvert_exporter": "python",
   "pygments_lexer": "ipython2",
   "version": "2.7.6"
  }
 },
 "nbformat": 4,
 "nbformat_minor": 5
}
