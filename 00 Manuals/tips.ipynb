{
 "cells": [
  {
   "cell_type": "markdown",
   "source": [
    "# Предпроцессинг"
   ],
   "metadata": {
    "collapsed": false
   },
   "id": "62551174f2ad92a9"
  },
  {
   "cell_type": "markdown",
   "source": [
    "## Заполнение пустых значений"
   ],
   "metadata": {
    "collapsed": false
   },
   "id": "117cc2d9a242e9c3"
  },
  {
   "cell_type": "code",
   "execution_count": null,
   "id": "initial_id",
   "metadata": {
    "collapsed": true
   },
   "outputs": [],
   "source": [
    "train_df[\"Age\"].fillna(train_df[\"Age\"].median(), inplace=True)\n",
    "test_df[\"Age\"].fillna(train_df[\"Age\"].median(), inplace=True)\n",
    "train_df[\"Embarked\"].fillna(\"S\", inplace=True)\n",
    "test_df[\"Fare\"].fillna(train_df[\"Fare\"].median(), inplace=True)"
   ]
  },
  {
   "cell_type": "code",
   "outputs": [],
   "source": [
    "inputer = SimpleImputer(strategy='median')\n",
    "X_ = inputer.fit_transform(X_)"
   ],
   "metadata": {
    "collapsed": false
   },
   "id": "1489f6cd10e03eac"
  },
  {
   "cell_type": "markdown",
   "source": [
    "## LabelEncoding методами pandas"
   ],
   "metadata": {
    "collapsed": false
   },
   "id": "ce8868652fa46314"
  },
  {
   "cell_type": "code",
   "outputs": [],
   "source": [
    "df[\"International plan\"] = pd.factorize(df[\"International plan\"])[0]\n",
    "df[\"Voice mail plan\"] = pd.factorize(df[\"Voice mail plan\"])[0]\n",
    "\n",
    "df[\"Churn\"] = df[\"Churn\"].astype(\"int\")\n",
    "y = df[\"Churn\"]\n",
    "\n",
    "states = df[\"State\"]\n",
    "df.drop([\"State\", \"Churn\"], axis=1, inplace=True)"
   ],
   "metadata": {
    "collapsed": false
   },
   "id": "9b1baf072f46f5d5"
  },
  {
   "cell_type": "code",
   "outputs": [],
   "source": [
    "data[\"International plan\"] = data[\"International plan\"].map({\"Yes\": 1, \"No\": 0})"
   ],
   "metadata": {
    "collapsed": false
   },
   "id": "ce941a7bb79cfe5a"
  },
  {
   "cell_type": "markdown",
   "source": [
    "## OneHotEncoding методами pandas"
   ],
   "metadata": {
    "collapsed": false
   },
   "id": "5700bc937ed6a664"
  },
  {
   "cell_type": "code",
   "outputs": [],
   "source": [
    "train_df = pd.concat(\n",
    "    [\n",
    "        train_df,\n",
    "        pd.get_dummies(train_df[\"Pclass\"], prefix=\"PClass\"),\n",
    "        pd.get_dummies(train_df[\"Sex\"], prefix=\"Sex\"),\n",
    "        pd.get_dummies(train_df[\"SibSp\"], prefix=\"SibSp\"),\n",
    "        pd.get_dummies(train_df[\"Parch\"], prefix=\"Parch\"),\n",
    "        pd.get_dummies(train_df[\"Embarked\"], prefix=\"Embarked\"),\n",
    "    ],\n",
    "    axis=1,\n",
    ")\n",
    "\n",
    "train_df.drop(\n",
    "    [\n",
    "        \"Survived\",\n",
    "        \"Pclass\",\n",
    "        \"Name\",\n",
    "        \"Sex\",\n",
    "        \"SibSp\",\n",
    "        \"Parch\",\n",
    "        \"Ticket\",\n",
    "        \"Cabin\",\n",
    "        \"Embarked\",\n",
    "        \"PassengerId\",\n",
    "    ],\n",
    "    axis=1,\n",
    "    inplace=True,\n",
    ")"
   ],
   "metadata": {
    "collapsed": false
   },
   "id": "ee40987c8bdd6b97"
  },
  {
   "cell_type": "markdown",
   "source": [
    "# GreadSearchCV + PipeLine"
   ],
   "metadata": {
    "collapsed": false
   },
   "id": "fdc691d3628840f8"
  },
  {
   "cell_type": "code",
   "outputs": [],
   "source": [
    "from sklearn.pipeline import Pipeline\n",
    "from sklearn.preprocessing import StandardScaler\n",
    "\n",
    "knn_pipe = Pipeline(\n",
    "    [(\"scaler\", StandardScaler()), (\"knn\", KNeighborsClassifier(n_jobs=-1))]\n",
    ")\n",
    "\n",
    "knn_params = {\"knn__n_neighbors\": range(1, 10)}\n",
    "\n",
    "knn_grid = GridSearchCV(knn_pipe, knn_params, cv=5, n_jobs=-1, verbose=True)\n",
    "knn_grid.fit(X_train, y_train)\n",
    "\n",
    "knn_grid.best_params_, knn_grid.best_score_\n",
    "\n",
    "accuracy_score(y_holdout, knn_grid.predict(X_holdout))"
   ],
   "metadata": {
    "collapsed": false
   },
   "id": "230b682be541af23"
  }
 ],
 "metadata": {
  "kernelspec": {
   "display_name": "Python 3",
   "language": "python",
   "name": "python3"
  },
  "language_info": {
   "codemirror_mode": {
    "name": "ipython",
    "version": 2
   },
   "file_extension": ".py",
   "mimetype": "text/x-python",
   "name": "python",
   "nbconvert_exporter": "python",
   "pygments_lexer": "ipython2",
   "version": "2.7.6"
  }
 },
 "nbformat": 4,
 "nbformat_minor": 5
}
