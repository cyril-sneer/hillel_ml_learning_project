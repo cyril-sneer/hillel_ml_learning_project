{
 "cells": [
  {
   "cell_type": "markdown",
   "source": [
    "# Install spaCy\n",
    "\n",
    "pip install -U pip setuptools wheel\n",
    "pip install -U spacy\n",
    "python -m spacy download en_core_web_md"
   ],
   "metadata": {
    "collapsed": false
   },
   "id": "51e3e1296fc31088"
  },
  {
   "cell_type": "markdown",
   "source": [
    "# Imports"
   ],
   "metadata": {
    "collapsed": false
   },
   "id": "304e64a2073e2a8c"
  },
  {
   "cell_type": "code",
   "execution_count": 1,
   "id": "initial_id",
   "metadata": {
    "collapsed": true,
    "ExecuteTime": {
     "end_time": "2024-02-16T14:23:30.926746812Z",
     "start_time": "2024-02-16T14:23:27.446432144Z"
    }
   },
   "outputs": [],
   "source": [
    "from time import time\n",
    "\n",
    "import numpy as np\n",
    "import pandas as pd\n",
    "\n",
    "import spacy\n",
    "from spacy.tokens import Doc\n",
    "\n",
    "from sklearn.model_selection import train_test_split\n",
    "from sklearn.model_selection import cross_val_score\n",
    "\n",
    "from sklearn.ensemble import RandomForestClassifier\n",
    "\n",
    "from sklearn.metrics import accuracy_score, classification_report"
   ]
  },
  {
   "cell_type": "markdown",
   "source": [
    "# Чтение и анализ датасета"
   ],
   "metadata": {
    "collapsed": false
   },
   "id": "d42894eee007d7db"
  },
  {
   "cell_type": "code",
   "outputs": [
    {
     "data": {
      "text/plain": "                                                  review sentiment\n0      One of the other reviewers has mentioned that ...  positive\n1      A wonderful little production. <br /><br />The...  positive\n2      I thought this was a wonderful way to spend ti...  positive\n3      Basically there's a family where a little boy ...  negative\n4      Petter Mattei's \"Love in the Time of Money\" is...  positive\n...                                                  ...       ...\n49995  I thought this movie did a down right good job...  positive\n49996  Bad plot, bad dialogue, bad acting, idiotic di...  negative\n49997  I am a Catholic taught in parochial elementary...  negative\n49998  I'm going to have to disagree with the previou...  negative\n49999  No one expects the Star Trek movies to be high...  negative\n\n[50000 rows x 2 columns]",
      "text/html": "<div>\n<style scoped>\n    .dataframe tbody tr th:only-of-type {\n        vertical-align: middle;\n    }\n\n    .dataframe tbody tr th {\n        vertical-align: top;\n    }\n\n    .dataframe thead th {\n        text-align: right;\n    }\n</style>\n<table border=\"1\" class=\"dataframe\">\n  <thead>\n    <tr style=\"text-align: right;\">\n      <th></th>\n      <th>review</th>\n      <th>sentiment</th>\n    </tr>\n  </thead>\n  <tbody>\n    <tr>\n      <th>0</th>\n      <td>One of the other reviewers has mentioned that ...</td>\n      <td>positive</td>\n    </tr>\n    <tr>\n      <th>1</th>\n      <td>A wonderful little production. &lt;br /&gt;&lt;br /&gt;The...</td>\n      <td>positive</td>\n    </tr>\n    <tr>\n      <th>2</th>\n      <td>I thought this was a wonderful way to spend ti...</td>\n      <td>positive</td>\n    </tr>\n    <tr>\n      <th>3</th>\n      <td>Basically there's a family where a little boy ...</td>\n      <td>negative</td>\n    </tr>\n    <tr>\n      <th>4</th>\n      <td>Petter Mattei's \"Love in the Time of Money\" is...</td>\n      <td>positive</td>\n    </tr>\n    <tr>\n      <th>...</th>\n      <td>...</td>\n      <td>...</td>\n    </tr>\n    <tr>\n      <th>49995</th>\n      <td>I thought this movie did a down right good job...</td>\n      <td>positive</td>\n    </tr>\n    <tr>\n      <th>49996</th>\n      <td>Bad plot, bad dialogue, bad acting, idiotic di...</td>\n      <td>negative</td>\n    </tr>\n    <tr>\n      <th>49997</th>\n      <td>I am a Catholic taught in parochial elementary...</td>\n      <td>negative</td>\n    </tr>\n    <tr>\n      <th>49998</th>\n      <td>I'm going to have to disagree with the previou...</td>\n      <td>negative</td>\n    </tr>\n    <tr>\n      <th>49999</th>\n      <td>No one expects the Star Trek movies to be high...</td>\n      <td>negative</td>\n    </tr>\n  </tbody>\n</table>\n<p>50000 rows × 2 columns</p>\n</div>"
     },
     "execution_count": 2,
     "metadata": {},
     "output_type": "execute_result"
    }
   ],
   "source": [
    "df = pd.read_csv('IMDB Dataset.csv')\n",
    "df"
   ],
   "metadata": {
    "collapsed": false,
    "ExecuteTime": {
     "end_time": "2024-02-16T14:23:31.586405386Z",
     "start_time": "2024-02-16T14:23:30.929941838Z"
    }
   },
   "id": "fd41f9c6a0ba7f02",
   "execution_count": 2
  },
  {
   "cell_type": "markdown",
   "source": [
    "Дата сет представляет собой 50 000 пользовательских отзывов на \n",
    "фильмы с классификацией положительный `(positive)` или отрицательный `(negative)`"
   ],
   "metadata": {
    "collapsed": false
   },
   "id": "ea8fb3f1b54f5cef"
  },
  {
   "cell_type": "markdown",
   "source": [
    "Посмотрим на таргет"
   ],
   "metadata": {
    "collapsed": false
   },
   "id": "1cb68774b82c0d70"
  },
  {
   "cell_type": "code",
   "outputs": [
    {
     "data": {
      "text/plain": "sentiment\npositive    25000\nnegative    25000\nName: count, dtype: int64"
     },
     "execution_count": 3,
     "metadata": {},
     "output_type": "execute_result"
    }
   ],
   "source": [
    "df['sentiment'].value_counts()"
   ],
   "metadata": {
    "collapsed": false,
    "ExecuteTime": {
     "end_time": "2024-02-16T14:23:31.596546021Z",
     "start_time": "2024-02-16T14:23:31.592284643Z"
    }
   },
   "id": "b3fa0c8076caf1f8",
   "execution_count": 3
  },
  {
   "cell_type": "markdown",
   "source": [
    "Таргет сбалансирован, имеем по 25000 положительных и отрицательных отзывов"
   ],
   "metadata": {
    "collapsed": false
   },
   "id": "813f60af31e3f0f7"
  },
  {
   "cell_type": "markdown",
   "source": [
    "# Формирование выборки. Векторизация текста.  "
   ],
   "metadata": {
    "collapsed": false
   },
   "id": "3e3061884ba1f7d7"
  },
  {
   "cell_type": "markdown",
   "source": [
    "Выполняя это задания я провел ряд экспериментов и выяснил, что spaCy \n",
    "будет обрабатывать весь датасет не менее 30 минут (на моем компьютере)\n",
    "\n",
    "Поэтому, для скорости, дальнейшую работу будем выполнять над частью \n",
    "датасета в 5000 отзывов "
   ],
   "metadata": {
    "collapsed": false
   },
   "id": "55cd4e0333e34ba4"
  },
  {
   "cell_type": "code",
   "outputs": [],
   "source": [
    "QTY = 5000"
   ],
   "metadata": {
    "collapsed": false,
    "ExecuteTime": {
     "end_time": "2024-02-16T14:23:31.606054088Z",
     "start_time": "2024-02-16T14:23:31.600114617Z"
    }
   },
   "id": "10a0314d8f535933",
   "execution_count": 4
  },
  {
   "cell_type": "code",
   "outputs": [],
   "source": [
    "X_str = df['review'][:QTY]\n",
    "y = df['sentiment'][:QTY].replace({'negative': 0, 'positive': 1})"
   ],
   "metadata": {
    "collapsed": false,
    "ExecuteTime": {
     "end_time": "2024-02-16T14:23:31.737501597Z",
     "start_time": "2024-02-16T14:23:31.609039256Z"
    }
   },
   "id": "177f3463542edd1b",
   "execution_count": 5
  },
  {
   "cell_type": "markdown",
   "source": [
    "Загрузим языковой конвейер `en_core_web_md`"
   ],
   "metadata": {
    "collapsed": false
   },
   "id": "a51520fa52d4f150"
  },
  {
   "cell_type": "code",
   "outputs": [],
   "source": [
    "nlp = spacy.load('en_core_web_md')"
   ],
   "metadata": {
    "collapsed": false,
    "ExecuteTime": {
     "end_time": "2024-02-16T14:23:33.348887384Z",
     "start_time": "2024-02-16T14:23:31.654285111Z"
    }
   },
   "id": "15f986298f53fa0",
   "execution_count": 6
  },
  {
   "cell_type": "markdown",
   "source": [
    "Сформируем датасет путем обработки текстовых записей (обзоров на фильмы) языковым конвейером."
   ],
   "metadata": {
    "collapsed": false
   },
   "id": "394cd5420fc449fd"
  },
  {
   "cell_type": "code",
   "outputs": [
    {
     "name": "stdout",
     "output_type": "stream",
     "text": [
      "Time: 173 sec\n"
     ]
    }
   ],
   "source": [
    "start = time()\n",
    "\n",
    "X_doc = X_str.apply(nlp)\n",
    "\n",
    "print(f'Time: {time() - start:.0f} sec')"
   ],
   "metadata": {
    "collapsed": false,
    "ExecuteTime": {
     "end_time": "2024-02-16T14:26:26.822360042Z",
     "start_time": "2024-02-16T14:23:33.355384318Z"
    }
   },
   "id": "58bef7a8c106209e",
   "execution_count": 7
  },
  {
   "cell_type": "code",
   "outputs": [
    {
     "data": {
      "text/plain": "0       (One, of, the, other, reviewers, has, mentione...\n1       (A, wonderful, little, production, ., <, br, /...\n2       (I, thought, this, was, a, wonderful, way, to,...\n3       (Basically, there, 's, a, family, where, a, li...\n4       (Petter, Mattei, 's, \", Love, in, the, Time, o...\n                              ...                        \n4995    (An, interesting, slasher, film, with, multipl...\n4996    (i, watched, this, series, when, it, first, ca...\n4997    (Once, again, Jet, Li, brings, his, charismati...\n4998    (I, rented, this, movie, ,, after, hearing, Ch...\n4999    (This, was, a, big, disappointment, for, me, ....\nName: review, Length: 5000, dtype: object"
     },
     "execution_count": 8,
     "metadata": {},
     "output_type": "execute_result"
    }
   ],
   "source": [
    "X_doc"
   ],
   "metadata": {
    "collapsed": false,
    "ExecuteTime": {
     "end_time": "2024-02-16T14:26:26.825363810Z",
     "start_time": "2024-02-16T14:26:26.822388812Z"
    }
   },
   "id": "60ed972a0bdd4d97",
   "execution_count": 8
  },
  {
   "cell_type": "code",
   "outputs": [
    {
     "name": "stdout",
     "output_type": "stream",
     "text": [
      "<class 'spacy.tokens.doc.Doc'>\n"
     ]
    },
    {
     "data": {
      "text/plain": "['_',\n '__bytes__',\n '__class__',\n '__delattr__',\n '__dir__',\n '__doc__',\n '__eq__',\n '__format__',\n '__ge__',\n '__getattribute__',\n '__getitem__',\n '__gt__',\n '__hash__',\n '__init__',\n '__init_subclass__',\n '__iter__',\n '__le__',\n '__len__',\n '__lt__',\n '__ne__',\n '__new__',\n '__pyx_vtable__',\n '__reduce__',\n '__reduce_ex__',\n '__repr__',\n '__setattr__',\n '__setstate__',\n '__sizeof__',\n '__str__',\n '__subclasshook__',\n '__unicode__',\n '_bulk_merge',\n '_context',\n '_get_array_attrs',\n '_realloc',\n '_vector',\n '_vector_norm',\n 'cats',\n 'char_span',\n 'copy',\n 'count_by',\n 'doc',\n 'ents',\n 'extend_tensor',\n 'from_array',\n 'from_bytes',\n 'from_dict',\n 'from_disk',\n 'from_docs',\n 'from_json',\n 'get_extension',\n 'get_lca_matrix',\n 'has_annotation',\n 'has_extension',\n 'has_unknown_spaces',\n 'has_vector',\n 'is_nered',\n 'is_parsed',\n 'is_sentenced',\n 'is_tagged',\n 'lang',\n 'lang_',\n 'mem',\n 'noun_chunks',\n 'noun_chunks_iterator',\n 'remove_extension',\n 'retokenize',\n 'sentiment',\n 'sents',\n 'set_ents',\n 'set_extension',\n 'similarity',\n 'spans',\n 'tensor',\n 'text',\n 'text_with_ws',\n 'to_array',\n 'to_bytes',\n 'to_dict',\n 'to_disk',\n 'to_json',\n 'to_utf8_array',\n 'user_data',\n 'user_hooks',\n 'user_span_hooks',\n 'user_token_hooks',\n 'vector',\n 'vector_norm',\n 'vocab']"
     },
     "execution_count": 9,
     "metadata": {},
     "output_type": "execute_result"
    }
   ],
   "source": [
    "print(type(X_doc[0]))\n",
    "dir(X_doc[0])"
   ],
   "metadata": {
    "collapsed": false,
    "ExecuteTime": {
     "end_time": "2024-02-16T14:26:26.827231388Z",
     "start_time": "2024-02-16T14:26:26.822807526Z"
    }
   },
   "id": "7fe70ff989803184",
   "execution_count": 9
  },
  {
   "cell_type": "markdown",
   "source": [
    "Языковой конвейер возвращает объект типа `spacy.tokens.doc.Doc`\n",
    "У этого объекта есть много атрибутов, один из которых - `vector`.\n",
    "Это векторное представление исходного текста.\n",
    "\n",
    "Эти вектора мы и будем использовать для обучения модели."
   ],
   "metadata": {
    "collapsed": false
   },
   "id": "78263c41db8dc22f"
  },
  {
   "cell_type": "markdown",
   "source": [
    "Сформируем датасет с которым в дальнейшем будет работать наша модель,\n",
    "используя векторное представление исходных текстов (обзоров). "
   ],
   "metadata": {
    "collapsed": false
   },
   "id": "2d9481bca814e844"
  },
  {
   "cell_type": "code",
   "outputs": [],
   "source": [
    "X = np.zeros((1, 300))  # инициализируем матрицу векторов нулевым вектором-строкой\n",
    "for doc in X_doc:\n",
    "    vector = doc.vector.reshape(1, -1)\n",
    "    X = np.vstack((X, vector))\n",
    "X = np.delete(arr=X, obj=0, axis=0)  # удаляем первую нулевую строку в полученной матрице"
   ],
   "metadata": {
    "collapsed": false,
    "ExecuteTime": {
     "end_time": "2024-02-16T14:26:33.828479581Z",
     "start_time": "2024-02-16T14:26:26.823136407Z"
    }
   },
   "id": "edf4619abe844c1a",
   "execution_count": 10
  },
  {
   "cell_type": "code",
   "outputs": [
    {
     "data": {
      "text/plain": "array([[-1.75048316,  0.70223123, -2.26069546, ..., -0.75643164,\n        -2.84037662,  1.16227973],\n       [-1.72586012,  0.40414372, -0.70506632, ..., -1.227211  ,\n        -3.30375242,  0.76335639],\n       [-2.07742572,  1.27698457, -1.43668723, ...,  0.01261111,\n        -3.35728073,  1.43638575],\n       ...,\n       [-1.26115525,  1.3370682 , -2.53299332, ..., -0.9334181 ,\n        -3.5286839 ,  1.42038274],\n       [-1.79231286,  0.87925476, -2.40937471, ..., -0.49132967,\n        -3.41382909,  0.77604485],\n       [-1.44713509,  1.85639131, -2.43208957, ...,  0.91516876,\n        -3.60654378,  1.49083591]])"
     },
     "execution_count": 11,
     "metadata": {},
     "output_type": "execute_result"
    }
   ],
   "source": [
    "X"
   ],
   "metadata": {
    "collapsed": false,
    "ExecuteTime": {
     "end_time": "2024-02-16T14:26:33.872372568Z",
     "start_time": "2024-02-16T14:26:33.870293400Z"
    }
   },
   "id": "98195a410c095b16",
   "execution_count": 11
  },
  {
   "cell_type": "markdown",
   "source": [
    "Перед тем, как начать обучение модели еще раз проверим, что наш таргет репрезентативен."
   ],
   "metadata": {
    "collapsed": false
   },
   "id": "831dddb63bc0b117"
  },
  {
   "cell_type": "code",
   "outputs": [
    {
     "data": {
      "text/plain": "sentiment\n0    2532\n1    2468\nName: count, dtype: int64"
     },
     "execution_count": 12,
     "metadata": {},
     "output_type": "execute_result"
    }
   ],
   "source": [
    "y.value_counts()"
   ],
   "metadata": {
    "collapsed": false,
    "ExecuteTime": {
     "end_time": "2024-02-16T14:26:33.873487077Z",
     "start_time": "2024-02-16T14:26:33.870709871Z"
    }
   },
   "id": "3fde0af1309138db",
   "execution_count": 12
  },
  {
   "cell_type": "markdown",
   "source": [
    "Все в порядке. У нас есть примерно поровну положительных и отрицательных отзывов."
   ],
   "metadata": {
    "collapsed": false
   },
   "id": "8aa22c8e9c8db005"
  },
  {
   "cell_type": "markdown",
   "source": [
    "# Обучение и проверка модели классификации"
   ],
   "metadata": {
    "collapsed": false
   },
   "id": "8032253536ecb2b4"
  },
  {
   "cell_type": "code",
   "outputs": [],
   "source": [
    "X_train, X_test, y_train, y_test = train_test_split(X, y, test_size=0.3, random_state=42)"
   ],
   "metadata": {
    "collapsed": false,
    "ExecuteTime": {
     "end_time": "2024-02-16T14:26:33.874423079Z",
     "start_time": "2024-02-16T14:26:33.871091617Z"
    }
   },
   "id": "ad770e01724054af",
   "execution_count": 13
  },
  {
   "cell_type": "code",
   "outputs": [
    {
     "name": "stdout",
     "output_type": "stream",
     "text": [
      "Model cross validation score: 0.7254285714285714\n"
     ]
    }
   ],
   "source": [
    "model = RandomForestClassifier(random_state=42)\n",
    "\n",
    "model_cv_score = np.mean(\n",
    "    cross_val_score(model, X_train, y_train, cv=5, scoring=\"accuracy\", n_jobs=-1)\n",
    ")\n",
    "print(f\"Model cross validation score: {model_cv_score}\\n\")"
   ],
   "metadata": {
    "collapsed": false,
    "ExecuteTime": {
     "end_time": "2024-02-16T14:26:41.064609255Z",
     "start_time": "2024-02-16T14:26:33.871406457Z"
    }
   },
   "id": "ec4024154120fe4b",
   "execution_count": 14
  },
  {
   "cell_type": "code",
   "outputs": [
    {
     "data": {
      "text/plain": "RandomForestClassifier(random_state=42)",
      "text/html": "<style>#sk-container-id-1 {color: black;}#sk-container-id-1 pre{padding: 0;}#sk-container-id-1 div.sk-toggleable {background-color: white;}#sk-container-id-1 label.sk-toggleable__label {cursor: pointer;display: block;width: 100%;margin-bottom: 0;padding: 0.3em;box-sizing: border-box;text-align: center;}#sk-container-id-1 label.sk-toggleable__label-arrow:before {content: \"▸\";float: left;margin-right: 0.25em;color: #696969;}#sk-container-id-1 label.sk-toggleable__label-arrow:hover:before {color: black;}#sk-container-id-1 div.sk-estimator:hover label.sk-toggleable__label-arrow:before {color: black;}#sk-container-id-1 div.sk-toggleable__content {max-height: 0;max-width: 0;overflow: hidden;text-align: left;background-color: #f0f8ff;}#sk-container-id-1 div.sk-toggleable__content pre {margin: 0.2em;color: black;border-radius: 0.25em;background-color: #f0f8ff;}#sk-container-id-1 input.sk-toggleable__control:checked~div.sk-toggleable__content {max-height: 200px;max-width: 100%;overflow: auto;}#sk-container-id-1 input.sk-toggleable__control:checked~label.sk-toggleable__label-arrow:before {content: \"▾\";}#sk-container-id-1 div.sk-estimator input.sk-toggleable__control:checked~label.sk-toggleable__label {background-color: #d4ebff;}#sk-container-id-1 div.sk-label input.sk-toggleable__control:checked~label.sk-toggleable__label {background-color: #d4ebff;}#sk-container-id-1 input.sk-hidden--visually {border: 0;clip: rect(1px 1px 1px 1px);clip: rect(1px, 1px, 1px, 1px);height: 1px;margin: -1px;overflow: hidden;padding: 0;position: absolute;width: 1px;}#sk-container-id-1 div.sk-estimator {font-family: monospace;background-color: #f0f8ff;border: 1px dotted black;border-radius: 0.25em;box-sizing: border-box;margin-bottom: 0.5em;}#sk-container-id-1 div.sk-estimator:hover {background-color: #d4ebff;}#sk-container-id-1 div.sk-parallel-item::after {content: \"\";width: 100%;border-bottom: 1px solid gray;flex-grow: 1;}#sk-container-id-1 div.sk-label:hover label.sk-toggleable__label {background-color: #d4ebff;}#sk-container-id-1 div.sk-serial::before {content: \"\";position: absolute;border-left: 1px solid gray;box-sizing: border-box;top: 0;bottom: 0;left: 50%;z-index: 0;}#sk-container-id-1 div.sk-serial {display: flex;flex-direction: column;align-items: center;background-color: white;padding-right: 0.2em;padding-left: 0.2em;position: relative;}#sk-container-id-1 div.sk-item {position: relative;z-index: 1;}#sk-container-id-1 div.sk-parallel {display: flex;align-items: stretch;justify-content: center;background-color: white;position: relative;}#sk-container-id-1 div.sk-item::before, #sk-container-id-1 div.sk-parallel-item::before {content: \"\";position: absolute;border-left: 1px solid gray;box-sizing: border-box;top: 0;bottom: 0;left: 50%;z-index: -1;}#sk-container-id-1 div.sk-parallel-item {display: flex;flex-direction: column;z-index: 1;position: relative;background-color: white;}#sk-container-id-1 div.sk-parallel-item:first-child::after {align-self: flex-end;width: 50%;}#sk-container-id-1 div.sk-parallel-item:last-child::after {align-self: flex-start;width: 50%;}#sk-container-id-1 div.sk-parallel-item:only-child::after {width: 0;}#sk-container-id-1 div.sk-dashed-wrapped {border: 1px dashed gray;margin: 0 0.4em 0.5em 0.4em;box-sizing: border-box;padding-bottom: 0.4em;background-color: white;}#sk-container-id-1 div.sk-label label {font-family: monospace;font-weight: bold;display: inline-block;line-height: 1.2em;}#sk-container-id-1 div.sk-label-container {text-align: center;}#sk-container-id-1 div.sk-container {/* jupyter's `normalize.less` sets `[hidden] { display: none; }` but bootstrap.min.css set `[hidden] { display: none !important; }` so we also need the `!important` here to be able to override the default hidden behavior on the sphinx rendered scikit-learn.org. See: https://github.com/scikit-learn/scikit-learn/issues/21755 */display: inline-block !important;position: relative;}#sk-container-id-1 div.sk-text-repr-fallback {display: none;}</style><div id=\"sk-container-id-1\" class=\"sk-top-container\"><div class=\"sk-text-repr-fallback\"><pre>RandomForestClassifier(random_state=42)</pre><b>In a Jupyter environment, please rerun this cell to show the HTML representation or trust the notebook. <br />On GitHub, the HTML representation is unable to render, please try loading this page with nbviewer.org.</b></div><div class=\"sk-container\" hidden><div class=\"sk-item\"><div class=\"sk-estimator sk-toggleable\"><input class=\"sk-toggleable__control sk-hidden--visually\" id=\"sk-estimator-id-1\" type=\"checkbox\" checked><label for=\"sk-estimator-id-1\" class=\"sk-toggleable__label sk-toggleable__label-arrow\">RandomForestClassifier</label><div class=\"sk-toggleable__content\"><pre>RandomForestClassifier(random_state=42)</pre></div></div></div></div></div>"
     },
     "execution_count": 15,
     "metadata": {},
     "output_type": "execute_result"
    }
   ],
   "source": [
    "model.fit(X_train, y_train)"
   ],
   "metadata": {
    "collapsed": false,
    "ExecuteTime": {
     "end_time": "2024-02-16T14:26:46.638809152Z",
     "start_time": "2024-02-16T14:26:41.057149862Z"
    }
   },
   "id": "dc4f9b3cc1ddb614",
   "execution_count": 15
  },
  {
   "cell_type": "code",
   "outputs": [
    {
     "name": "stdout",
     "output_type": "stream",
     "text": [
      "Model test set score: 0.7273333333333334\n",
      "\n",
      "               precision    recall  f1-score   support\n",
      "\n",
      "           0       0.75      0.72      0.73       783\n",
      "           1       0.71      0.74      0.72       717\n",
      "\n",
      "    accuracy                           0.73      1500\n",
      "   macro avg       0.73      0.73      0.73      1500\n",
      "weighted avg       0.73      0.73      0.73      1500\n"
     ]
    }
   ],
   "source": [
    "y_predicted = model.predict(X_test)\n",
    "model_test_score = accuracy_score(y_true=y_test, y_pred=y_predicted)\n",
    "\n",
    "print(f\"Model test set score: {model_test_score}\")\n",
    "print(\"\\n\", classification_report(y_true=y_test, y_pred=y_predicted))"
   ],
   "metadata": {
    "collapsed": false,
    "ExecuteTime": {
     "end_time": "2024-02-16T14:26:46.700435870Z",
     "start_time": "2024-02-16T14:26:46.641516768Z"
    }
   },
   "id": "a8ecb99f3aa6cf5a",
   "execution_count": 16
  },
  {
   "cell_type": "markdown",
   "source": [
    "На тестовой выборке наша модель показала точность 72.7%\n",
    "Это не мало, но и не сказать, что много.\n",
    "\n",
    "Попробуем что-то с этим сделать."
   ],
   "metadata": {
    "collapsed": false
   },
   "id": "e193ded7a552e9c0"
  },
  {
   "cell_type": "markdown",
   "source": [
    "# Обучение модели только на прилагательных\n",
    "\n",
    "Напомню, что речь о классификации отзывов на фильмы на положительные и отрицательные.\n",
    "Как правило, для того, чтобы выразить свое отношение к чему-либо, \n",
    "мы используем прилагательные, например: `хороший`, `плохой` и т.д.\n",
    "\n",
    "Идея состоит в том, чтобы выделить из отзывов только прилагательные и обучить \n",
    "модель только на них, исключив, таким образом, влияние остальных слов."
   ],
   "metadata": {
    "collapsed": false
   },
   "id": "fd916d7689dc98b6"
  },
  {
   "cell_type": "markdown",
   "source": [
    "Формируем датасет из прилагательных"
   ],
   "metadata": {
    "collapsed": false
   },
   "id": "46184f296c29aa19"
  },
  {
   "cell_type": "code",
   "outputs": [
    {
     "data": {
      "text/plain": "0       (other, right, first, faint, hearted, timid, h...\n1       (wonderful, little, unassuming-, old, entire, ...\n2       (wonderful, hot, light, hearted, simplistic, w...\n3       (little, slow, watchable, divorcing, real, sim...\n4       (stunning, vivid, human, different, same, pres...\n                              ...                        \n4995    (interesting, multiple, typical, creepy, unusu...\n4996    (old, good, weekly, reverential, broad, diffic...\n4997    (charismatic, super, normal, peaceful, other, ...\n4998    (other, least, main, much, raw, bare, unbiased...\n4999                            (big, bad, hard, typical)\nName: review, Length: 5000, dtype: object"
     },
     "execution_count": 17,
     "metadata": {},
     "output_type": "execute_result"
    }
   ],
   "source": [
    "from spacy.tokens import Doc\n",
    "\n",
    "def get_adjectives(doc: spacy.tokens.Doc) -> spacy.tokens.Doc:\n",
    "    adjectives = [token.lemma_ for token in doc if token.pos_ == \"ADJ\"]\n",
    "    return Doc(nlp.vocab, words=adjectives)\n",
    "\n",
    "X_adj_doc = X_doc.apply(get_adjectives)\n",
    "X_adj_doc"
   ],
   "metadata": {
    "collapsed": false,
    "ExecuteTime": {
     "end_time": "2024-02-16T14:26:47.267242412Z",
     "start_time": "2024-02-16T14:26:46.711984751Z"
    }
   },
   "id": "43ed35f373d2c031",
   "execution_count": 17
  },
  {
   "cell_type": "markdown",
   "source": [
    "Переходим к векторам"
   ],
   "metadata": {
    "collapsed": false
   },
   "id": "7b797ef089af2259"
  },
  {
   "cell_type": "code",
   "outputs": [],
   "source": [
    "X = np.zeros((1, 300))  # инициализируем матрицу векторов нулевым вектором-строкой\n",
    "for doc in X_adj_doc:\n",
    "    vector = doc.vector.reshape(1, -1)\n",
    "    X = np.vstack((X, vector))\n",
    "X = np.delete(arr=X, obj=0, axis=0)  # удаляем первую нулевую строку в полученной матрице"
   ],
   "metadata": {
    "collapsed": false,
    "ExecuteTime": {
     "end_time": "2024-02-16T14:26:50.606671002Z",
     "start_time": "2024-02-16T14:26:47.264202361Z"
    }
   },
   "id": "6fec6596e6c5450",
   "execution_count": 18
  },
  {
   "cell_type": "code",
   "outputs": [
    {
     "data": {
      "text/plain": "array([[-0.40639281,  0.23371167, -1.50917244, ..., -0.14155047,\n        -3.28597641,  0.88043147],\n       [-0.42534426,  0.08912002, -2.53276205, ...,  1.69812787,\n        -3.43252563,  0.15116785],\n       [ 0.18922471,  0.26509333, -0.47760415, ...,  0.9715609 ,\n        -4.76701069,  1.451056  ],\n       ...,\n       [-0.84462392, -0.20629264, -2.06435227, ..., -0.55455095,\n        -3.80893469,  1.20794415],\n       [-0.15281355, -0.78035438, -1.13539529, ...,  0.04319851,\n        -4.12046623,  0.79743236],\n       [ 1.75609982,  1.4727999 , -3.27535248, ...,  2.70974994,\n        -2.8594625 ,  2.65460014]])"
     },
     "execution_count": 19,
     "metadata": {},
     "output_type": "execute_result"
    }
   ],
   "source": [
    "X"
   ],
   "metadata": {
    "collapsed": false,
    "ExecuteTime": {
     "end_time": "2024-02-16T14:26:50.623758372Z",
     "start_time": "2024-02-16T14:26:50.613071751Z"
    }
   },
   "id": "be98af0820b373d4",
   "execution_count": 19
  },
  {
   "cell_type": "markdown",
   "source": [
    "Обучение модели, вывод метрик"
   ],
   "metadata": {
    "collapsed": false
   },
   "id": "aab149dec3674f25"
  },
  {
   "cell_type": "code",
   "outputs": [
    {
     "name": "stdout",
     "output_type": "stream",
     "text": [
      "Model test set score: 0.78\n",
      "\n",
      "               precision    recall  f1-score   support\n",
      "\n",
      "           0       0.81      0.76      0.78       783\n",
      "           1       0.75      0.80      0.78       717\n",
      "\n",
      "    accuracy                           0.78      1500\n",
      "   macro avg       0.78      0.78      0.78      1500\n",
      "weighted avg       0.78      0.78      0.78      1500\n"
     ]
    }
   ],
   "source": [
    "X_train, X_test, y_train, y_test = train_test_split(X, y, test_size=0.3, random_state=42)\n",
    "\n",
    "model.fit(X_train, y_train)\n",
    "\n",
    "y_predicted = model.predict(X_test)\n",
    "model_test_score = accuracy_score(y_true=y_test, y_pred=y_predicted)\n",
    "\n",
    "print(f\"Model test set score: {model_test_score}\")\n",
    "print(\"\\n\", classification_report(y_true=y_test, y_pred=y_predicted))"
   ],
   "metadata": {
    "collapsed": false,
    "ExecuteTime": {
     "end_time": "2024-02-16T14:26:55.932824477Z",
     "start_time": "2024-02-16T14:26:50.620615034Z"
    }
   },
   "id": "6825577ae6a21241",
   "execution_count": 20
  },
  {
   "cell_type": "markdown",
   "source": [
    "Как мы видим, точность модели увеличилась до 78%"
   ],
   "metadata": {
    "collapsed": false
   },
   "id": "df6a272b9ab992d9"
  }
 ],
 "metadata": {
  "kernelspec": {
   "display_name": "Python 3",
   "language": "python",
   "name": "python3"
  },
  "language_info": {
   "codemirror_mode": {
    "name": "ipython",
    "version": 2
   },
   "file_extension": ".py",
   "mimetype": "text/x-python",
   "name": "python",
   "nbconvert_exporter": "python",
   "pygments_lexer": "ipython2",
   "version": "2.7.6"
  }
 },
 "nbformat": 4,
 "nbformat_minor": 5
}
