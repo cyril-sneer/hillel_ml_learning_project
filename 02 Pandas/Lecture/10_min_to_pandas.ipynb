{
 "cells": [
  {
   "cell_type": "markdown",
   "source": [
    "# 10 minutes to pandas"
   ],
   "metadata": {
    "collapsed": false
   },
   "id": "d87bdaee7ebd358b"
  },
  {
   "cell_type": "markdown",
   "source": [
    "#### Customarily, we import as follows:"
   ],
   "metadata": {
    "collapsed": false
   },
   "id": "c4332089b5c0875"
  },
  {
   "cell_type": "code",
   "execution_count": 1,
   "outputs": [],
   "source": [
    "import numpy as np\n",
    "import pandas as pd"
   ],
   "metadata": {
    "collapsed": false,
    "ExecuteTime": {
     "end_time": "2023-12-25T16:02:19.827732984Z",
     "start_time": "2023-12-25T16:02:18.876415500Z"
    }
   },
   "id": "34a25785b49f26b4"
  },
  {
   "cell_type": "markdown",
   "source": [
    "# Basic data structures in pandas"
   ],
   "metadata": {
    "collapsed": false
   },
   "id": "168767b8f873e228"
  },
  {
   "cell_type": "markdown",
   "source": [
    "#### Pandas provides two types of classes for handling data:\n",
    "\n",
    "#### Series: a one-dimensional labeled array holding data of any type such as integers, strings, Python objects etc.\n",
    "\n",
    "#### DataFrame: a two-dimensional data structure that holds data like a two-dimension array or a table with rows and columns."
   ],
   "metadata": {
    "collapsed": false
   },
   "id": "db8bce7c47acaa64"
  },
  {
   "cell_type": "markdown",
   "source": [
    "# Object creation"
   ],
   "metadata": {
    "collapsed": false
   },
   "id": "31e9d33163bb176"
  },
  {
   "cell_type": "markdown",
   "source": [
    "#### Creating a Series by passing a list of values, letting pandas create a default RangeIndex"
   ],
   "metadata": {
    "collapsed": false
   },
   "id": "ff9b52c4a2f8b801"
  },
  {
   "cell_type": "code",
   "outputs": [
    {
     "data": {
      "text/plain": "0    1.0\n1    3.0\n2    5.0\n3    NaN\n4    6.0\n5    8.0\ndtype: float64"
     },
     "execution_count": 2,
     "metadata": {},
     "output_type": "execute_result"
    }
   ],
   "source": [
    "s = pd.Series([1,3,5,np.nan,6,8])\n",
    "s"
   ],
   "metadata": {
    "collapsed": false,
    "ExecuteTime": {
     "end_time": "2023-12-25T16:02:19.987463355Z",
     "start_time": "2023-12-25T16:02:19.767368835Z"
    }
   },
   "id": "3fe96945db5dbdd3",
   "execution_count": 2
  },
  {
   "cell_type": "markdown",
   "source": [
    "#### Creating a DataFrame by passing a NumPy array with a datetime index using date_range() and labeled columns:"
   ],
   "metadata": {
    "collapsed": false
   },
   "id": "dde5d8c17f21eaeb"
  },
  {
   "cell_type": "code",
   "outputs": [
    {
     "data": {
      "text/plain": "DatetimeIndex(['2013-01-01', '2013-01-02', '2013-01-03', '2013-01-04',\n               '2013-01-05', '2013-01-06'],\n              dtype='datetime64[ns]', freq='D')"
     },
     "execution_count": 3,
     "metadata": {},
     "output_type": "execute_result"
    }
   ],
   "source": [
    "dates = pd.date_range('20130101', periods=6)\n",
    "dates"
   ],
   "metadata": {
    "collapsed": false,
    "ExecuteTime": {
     "end_time": "2023-12-25T16:02:20.050769937Z",
     "start_time": "2023-12-25T16:02:19.812272162Z"
    }
   },
   "id": "421606e6915da6e7",
   "execution_count": 3
  },
  {
   "cell_type": "code",
   "outputs": [
    {
     "data": {
      "text/plain": "                   A         B         C         D\n2013-01-01 -2.676098 -0.288082  1.572647  1.019299\n2013-01-02  1.428894 -0.825014  0.847679  0.689150\n2013-01-03  0.669800 -0.274790  1.006162 -1.144133\n2013-01-04  1.327075 -1.109091 -0.569616  0.505253\n2013-01-05  0.719515  0.752348 -0.881247 -0.150154\n2013-01-06  0.468485  0.003140 -0.211682  2.918998",
      "text/html": "<div>\n<style scoped>\n    .dataframe tbody tr th:only-of-type {\n        vertical-align: middle;\n    }\n\n    .dataframe tbody tr th {\n        vertical-align: top;\n    }\n\n    .dataframe thead th {\n        text-align: right;\n    }\n</style>\n<table border=\"1\" class=\"dataframe\">\n  <thead>\n    <tr style=\"text-align: right;\">\n      <th></th>\n      <th>A</th>\n      <th>B</th>\n      <th>C</th>\n      <th>D</th>\n    </tr>\n  </thead>\n  <tbody>\n    <tr>\n      <th>2013-01-01</th>\n      <td>-2.676098</td>\n      <td>-0.288082</td>\n      <td>1.572647</td>\n      <td>1.019299</td>\n    </tr>\n    <tr>\n      <th>2013-01-02</th>\n      <td>1.428894</td>\n      <td>-0.825014</td>\n      <td>0.847679</td>\n      <td>0.689150</td>\n    </tr>\n    <tr>\n      <th>2013-01-03</th>\n      <td>0.669800</td>\n      <td>-0.274790</td>\n      <td>1.006162</td>\n      <td>-1.144133</td>\n    </tr>\n    <tr>\n      <th>2013-01-04</th>\n      <td>1.327075</td>\n      <td>-1.109091</td>\n      <td>-0.569616</td>\n      <td>0.505253</td>\n    </tr>\n    <tr>\n      <th>2013-01-05</th>\n      <td>0.719515</td>\n      <td>0.752348</td>\n      <td>-0.881247</td>\n      <td>-0.150154</td>\n    </tr>\n    <tr>\n      <th>2013-01-06</th>\n      <td>0.468485</td>\n      <td>0.003140</td>\n      <td>-0.211682</td>\n      <td>2.918998</td>\n    </tr>\n  </tbody>\n</table>\n</div>"
     },
     "execution_count": 4,
     "metadata": {},
     "output_type": "execute_result"
    }
   ],
   "source": [
    "df = pd.DataFrame(np.random.randn(6, 4), index=dates, columns=list('ABCD'))\n",
    "df"
   ],
   "metadata": {
    "collapsed": false,
    "ExecuteTime": {
     "end_time": "2023-12-25T16:02:20.127336526Z",
     "start_time": "2023-12-25T16:02:19.825715840Z"
    }
   },
   "id": "8374b66a87f7f2c1",
   "execution_count": 4
  },
  {
   "cell_type": "markdown",
   "source": [
    "#### Creating a DataFrame by passing a dictionary of objects where the keys are the column labels and the values are the column values."
   ],
   "metadata": {
    "collapsed": false
   },
   "id": "c8c603ea5df6c813"
  },
  {
   "cell_type": "code",
   "outputs": [
    {
     "data": {
      "text/plain": "     A          B    C  D      E    F\n0  1.0 2013-01-02  1.0  3   test  foo\n1  1.0 2013-01-02  1.0  3  train  foo\n2  1.0 2013-01-02  1.0  3   test  foo\n3  1.0 2013-01-02  1.0  3  train  foo",
      "text/html": "<div>\n<style scoped>\n    .dataframe tbody tr th:only-of-type {\n        vertical-align: middle;\n    }\n\n    .dataframe tbody tr th {\n        vertical-align: top;\n    }\n\n    .dataframe thead th {\n        text-align: right;\n    }\n</style>\n<table border=\"1\" class=\"dataframe\">\n  <thead>\n    <tr style=\"text-align: right;\">\n      <th></th>\n      <th>A</th>\n      <th>B</th>\n      <th>C</th>\n      <th>D</th>\n      <th>E</th>\n      <th>F</th>\n    </tr>\n  </thead>\n  <tbody>\n    <tr>\n      <th>0</th>\n      <td>1.0</td>\n      <td>2013-01-02</td>\n      <td>1.0</td>\n      <td>3</td>\n      <td>test</td>\n      <td>foo</td>\n    </tr>\n    <tr>\n      <th>1</th>\n      <td>1.0</td>\n      <td>2013-01-02</td>\n      <td>1.0</td>\n      <td>3</td>\n      <td>train</td>\n      <td>foo</td>\n    </tr>\n    <tr>\n      <th>2</th>\n      <td>1.0</td>\n      <td>2013-01-02</td>\n      <td>1.0</td>\n      <td>3</td>\n      <td>test</td>\n      <td>foo</td>\n    </tr>\n    <tr>\n      <th>3</th>\n      <td>1.0</td>\n      <td>2013-01-02</td>\n      <td>1.0</td>\n      <td>3</td>\n      <td>train</td>\n      <td>foo</td>\n    </tr>\n  </tbody>\n</table>\n</div>"
     },
     "execution_count": 5,
     "metadata": {},
     "output_type": "execute_result"
    }
   ],
   "source": [
    "df2 = pd.DataFrame(\n",
    "    {\n",
    "        \"A\": 1.0,\n",
    "        \"B\": pd.Timestamp(\"20130102\"),\n",
    "        \"C\": pd.Series(1, index=list(range(4)), dtype=\"float32\"),\n",
    "        \"D\": np.array([3] * 4, dtype=\"int32\"),\n",
    "        \"E\": pd.Categorical([\"test\", \"train\", \"test\", \"train\"]),\n",
    "        \"F\": \"foo\",\n",
    "    }\n",
    ")\n",
    "df2"
   ],
   "metadata": {
    "collapsed": false,
    "ExecuteTime": {
     "end_time": "2023-12-25T16:02:20.293560570Z",
     "start_time": "2023-12-25T16:02:19.876582476Z"
    }
   },
   "id": "53a62d6d2934d0df",
   "execution_count": 5
  },
  {
   "cell_type": "markdown",
   "source": [
    "#### The columns of the resulting DataFrame have different dtypes:"
   ],
   "metadata": {
    "collapsed": false
   },
   "id": "6f1680f3ee10766a"
  },
  {
   "cell_type": "code",
   "outputs": [
    {
     "data": {
      "text/plain": "A          float64\nB    datetime64[s]\nC          float32\nD            int32\nE         category\nF           object\ndtype: object"
     },
     "execution_count": 6,
     "metadata": {},
     "output_type": "execute_result"
    }
   ],
   "source": [
    "df2.dtypes"
   ],
   "metadata": {
    "collapsed": false,
    "ExecuteTime": {
     "end_time": "2023-12-25T16:02:20.343950844Z",
     "start_time": "2023-12-25T16:02:19.907528999Z"
    }
   },
   "id": "52f80ed260730fd4",
   "execution_count": 6
  },
  {
   "cell_type": "markdown",
   "source": [
    "# Viewing data"
   ],
   "metadata": {
    "collapsed": false
   },
   "id": "d8deed94fef6ab32"
  },
  {
   "cell_type": "markdown",
   "source": [
    "#### Use DataFrame.head() and DataFrame.tail() to view the top and bottom rows of the frame respectively:"
   ],
   "metadata": {
    "collapsed": false
   },
   "id": "ef3ae0b7818f00b0"
  },
  {
   "cell_type": "code",
   "outputs": [
    {
     "data": {
      "text/plain": "                   A         B         C         D\n2013-01-01 -2.676098 -0.288082  1.572647  1.019299\n2013-01-02  1.428894 -0.825014  0.847679  0.689150\n2013-01-03  0.669800 -0.274790  1.006162 -1.144133\n2013-01-04  1.327075 -1.109091 -0.569616  0.505253\n2013-01-05  0.719515  0.752348 -0.881247 -0.150154",
      "text/html": "<div>\n<style scoped>\n    .dataframe tbody tr th:only-of-type {\n        vertical-align: middle;\n    }\n\n    .dataframe tbody tr th {\n        vertical-align: top;\n    }\n\n    .dataframe thead th {\n        text-align: right;\n    }\n</style>\n<table border=\"1\" class=\"dataframe\">\n  <thead>\n    <tr style=\"text-align: right;\">\n      <th></th>\n      <th>A</th>\n      <th>B</th>\n      <th>C</th>\n      <th>D</th>\n    </tr>\n  </thead>\n  <tbody>\n    <tr>\n      <th>2013-01-01</th>\n      <td>-2.676098</td>\n      <td>-0.288082</td>\n      <td>1.572647</td>\n      <td>1.019299</td>\n    </tr>\n    <tr>\n      <th>2013-01-02</th>\n      <td>1.428894</td>\n      <td>-0.825014</td>\n      <td>0.847679</td>\n      <td>0.689150</td>\n    </tr>\n    <tr>\n      <th>2013-01-03</th>\n      <td>0.669800</td>\n      <td>-0.274790</td>\n      <td>1.006162</td>\n      <td>-1.144133</td>\n    </tr>\n    <tr>\n      <th>2013-01-04</th>\n      <td>1.327075</td>\n      <td>-1.109091</td>\n      <td>-0.569616</td>\n      <td>0.505253</td>\n    </tr>\n    <tr>\n      <th>2013-01-05</th>\n      <td>0.719515</td>\n      <td>0.752348</td>\n      <td>-0.881247</td>\n      <td>-0.150154</td>\n    </tr>\n  </tbody>\n</table>\n</div>"
     },
     "execution_count": 7,
     "metadata": {},
     "output_type": "execute_result"
    }
   ],
   "source": [
    "df.head()"
   ],
   "metadata": {
    "collapsed": false,
    "ExecuteTime": {
     "end_time": "2023-12-25T16:02:20.393422915Z",
     "start_time": "2023-12-25T16:02:19.923038355Z"
    }
   },
   "id": "7b4f16b8af00e96f",
   "execution_count": 7
  },
  {
   "cell_type": "code",
   "outputs": [
    {
     "data": {
      "text/plain": "                   A         B         C         D\n2013-01-04  1.327075 -1.109091 -0.569616  0.505253\n2013-01-05  0.719515  0.752348 -0.881247 -0.150154\n2013-01-06  0.468485  0.003140 -0.211682  2.918998",
      "text/html": "<div>\n<style scoped>\n    .dataframe tbody tr th:only-of-type {\n        vertical-align: middle;\n    }\n\n    .dataframe tbody tr th {\n        vertical-align: top;\n    }\n\n    .dataframe thead th {\n        text-align: right;\n    }\n</style>\n<table border=\"1\" class=\"dataframe\">\n  <thead>\n    <tr style=\"text-align: right;\">\n      <th></th>\n      <th>A</th>\n      <th>B</th>\n      <th>C</th>\n      <th>D</th>\n    </tr>\n  </thead>\n  <tbody>\n    <tr>\n      <th>2013-01-04</th>\n      <td>1.327075</td>\n      <td>-1.109091</td>\n      <td>-0.569616</td>\n      <td>0.505253</td>\n    </tr>\n    <tr>\n      <th>2013-01-05</th>\n      <td>0.719515</td>\n      <td>0.752348</td>\n      <td>-0.881247</td>\n      <td>-0.150154</td>\n    </tr>\n    <tr>\n      <th>2013-01-06</th>\n      <td>0.468485</td>\n      <td>0.003140</td>\n      <td>-0.211682</td>\n      <td>2.918998</td>\n    </tr>\n  </tbody>\n</table>\n</div>"
     },
     "execution_count": 8,
     "metadata": {},
     "output_type": "execute_result"
    }
   ],
   "source": [
    "df.tail(3)"
   ],
   "metadata": {
    "collapsed": false,
    "ExecuteTime": {
     "end_time": "2023-12-25T16:02:20.424265936Z",
     "start_time": "2023-12-25T16:02:19.933303404Z"
    }
   },
   "id": "68cd6000634b9682",
   "execution_count": 8
  },
  {
   "cell_type": "markdown",
   "source": [
    "#### Display the DataFrame.index or DataFrame.columns:"
   ],
   "metadata": {
    "collapsed": false
   },
   "id": "bc60ec6d7a4d0412"
  },
  {
   "cell_type": "code",
   "outputs": [
    {
     "data": {
      "text/plain": "DatetimeIndex(['2013-01-01', '2013-01-02', '2013-01-03', '2013-01-04',\n               '2013-01-05', '2013-01-06'],\n              dtype='datetime64[ns]', freq='D')"
     },
     "execution_count": 9,
     "metadata": {},
     "output_type": "execute_result"
    }
   ],
   "source": [
    "df.index"
   ],
   "metadata": {
    "collapsed": false,
    "ExecuteTime": {
     "end_time": "2023-12-25T16:02:20.461816217Z",
     "start_time": "2023-12-25T16:02:19.950152274Z"
    }
   },
   "id": "b39daf0adbceda6a",
   "execution_count": 9
  },
  {
   "cell_type": "code",
   "outputs": [
    {
     "data": {
      "text/plain": "Index(['A', 'B', 'C', 'D'], dtype='object')"
     },
     "execution_count": 10,
     "metadata": {},
     "output_type": "execute_result"
    }
   ],
   "source": [
    "df.columns"
   ],
   "metadata": {
    "collapsed": false,
    "ExecuteTime": {
     "end_time": "2023-12-25T16:02:20.686724179Z",
     "start_time": "2023-12-25T16:02:20.129987581Z"
    }
   },
   "id": "296be4275e6acb68",
   "execution_count": 10
  },
  {
   "cell_type": "markdown",
   "source": [
    "#### Return a NumPy representation of the underlying data with DataFrame.to_numpy() without the index or column labels:"
   ],
   "metadata": {
    "collapsed": false
   },
   "id": "8475f7a2bd51d953"
  },
  {
   "cell_type": "code",
   "outputs": [
    {
     "data": {
      "text/plain": "array([[-2.67609848, -0.28808205,  1.57264673,  1.01929856],\n       [ 1.42889352, -0.8250139 ,  0.84767911,  0.68915023],\n       [ 0.66980019, -0.27478959,  1.0061622 , -1.14413276],\n       [ 1.32707518, -1.10909093, -0.56961629,  0.5052528 ],\n       [ 0.71951488,  0.75234847, -0.88124702, -0.15015427],\n       [ 0.46848468,  0.0031403 , -0.21168206,  2.91899778]])"
     },
     "execution_count": 11,
     "metadata": {},
     "output_type": "execute_result"
    }
   ],
   "source": [
    "df.to_numpy()"
   ],
   "metadata": {
    "collapsed": false,
    "ExecuteTime": {
     "end_time": "2023-12-25T16:02:21.318034625Z",
     "start_time": "2023-12-25T16:02:20.665099430Z"
    }
   },
   "id": "e2529fac2d9b6653",
   "execution_count": 11
  },
  {
   "cell_type": "markdown",
   "source": [
    "#### NumPy arrays have one dtype for the entire array while pandas DataFrames have one dtype per column. When you call DataFrame.to_numpy(), pandas will find the NumPy dtype that can hold all of the dtypes in the DataFrame. If the common data type is object, DataFrame.to_numpy() will require copying data."
   ],
   "metadata": {
    "collapsed": false
   },
   "id": "d3bb37d5a5f8dd50"
  },
  {
   "cell_type": "code",
   "outputs": [
    {
     "data": {
      "text/plain": "A          float64\nB    datetime64[s]\nC          float32\nD            int32\nE         category\nF           object\ndtype: object"
     },
     "execution_count": 12,
     "metadata": {},
     "output_type": "execute_result"
    }
   ],
   "source": [
    "df2.dtypes"
   ],
   "metadata": {
    "collapsed": false,
    "ExecuteTime": {
     "end_time": "2023-12-25T16:02:21.910794107Z",
     "start_time": "2023-12-25T16:02:21.277928376Z"
    }
   },
   "id": "8a6625e7ebcac8d5",
   "execution_count": 12
  },
  {
   "cell_type": "code",
   "outputs": [
    {
     "data": {
      "text/plain": "array([[1.0, Timestamp('2013-01-02 00:00:00'), 1.0, 3, 'test', 'foo'],\n       [1.0, Timestamp('2013-01-02 00:00:00'), 1.0, 3, 'train', 'foo'],\n       [1.0, Timestamp('2013-01-02 00:00:00'), 1.0, 3, 'test', 'foo'],\n       [1.0, Timestamp('2013-01-02 00:00:00'), 1.0, 3, 'train', 'foo']],\n      dtype=object)"
     },
     "execution_count": 13,
     "metadata": {},
     "output_type": "execute_result"
    }
   ],
   "source": [
    "df2.to_numpy()"
   ],
   "metadata": {
    "collapsed": false,
    "ExecuteTime": {
     "end_time": "2023-12-25T16:02:22.569447885Z",
     "start_time": "2023-12-25T16:02:21.916699714Z"
    }
   },
   "id": "53469c471ce93b20",
   "execution_count": 13
  },
  {
   "cell_type": "markdown",
   "source": [
    "#### describe() shows a quick statistic summary of your data:"
   ],
   "metadata": {
    "collapsed": false
   },
   "id": "4d80de8e1ca655ba"
  },
  {
   "cell_type": "code",
   "outputs": [
    {
     "data": {
      "text/plain": "              A         B         C         D\ncount  6.000000  6.000000  6.000000  6.000000\nmean   0.322945 -0.290248  0.293990  0.639735\nstd    1.518184  0.652657  0.982998  1.353938\nmin   -2.676098 -1.109091 -0.881247 -1.144133\n25%    0.518814 -0.690781 -0.480133  0.013698\n50%    0.694658 -0.281436  0.317999  0.597202\n75%    1.175185 -0.066342  0.966541  0.936761\nmax    1.428894  0.752348  1.572647  2.918998",
      "text/html": "<div>\n<style scoped>\n    .dataframe tbody tr th:only-of-type {\n        vertical-align: middle;\n    }\n\n    .dataframe tbody tr th {\n        vertical-align: top;\n    }\n\n    .dataframe thead th {\n        text-align: right;\n    }\n</style>\n<table border=\"1\" class=\"dataframe\">\n  <thead>\n    <tr style=\"text-align: right;\">\n      <th></th>\n      <th>A</th>\n      <th>B</th>\n      <th>C</th>\n      <th>D</th>\n    </tr>\n  </thead>\n  <tbody>\n    <tr>\n      <th>count</th>\n      <td>6.000000</td>\n      <td>6.000000</td>\n      <td>6.000000</td>\n      <td>6.000000</td>\n    </tr>\n    <tr>\n      <th>mean</th>\n      <td>0.322945</td>\n      <td>-0.290248</td>\n      <td>0.293990</td>\n      <td>0.639735</td>\n    </tr>\n    <tr>\n      <th>std</th>\n      <td>1.518184</td>\n      <td>0.652657</td>\n      <td>0.982998</td>\n      <td>1.353938</td>\n    </tr>\n    <tr>\n      <th>min</th>\n      <td>-2.676098</td>\n      <td>-1.109091</td>\n      <td>-0.881247</td>\n      <td>-1.144133</td>\n    </tr>\n    <tr>\n      <th>25%</th>\n      <td>0.518814</td>\n      <td>-0.690781</td>\n      <td>-0.480133</td>\n      <td>0.013698</td>\n    </tr>\n    <tr>\n      <th>50%</th>\n      <td>0.694658</td>\n      <td>-0.281436</td>\n      <td>0.317999</td>\n      <td>0.597202</td>\n    </tr>\n    <tr>\n      <th>75%</th>\n      <td>1.175185</td>\n      <td>-0.066342</td>\n      <td>0.966541</td>\n      <td>0.936761</td>\n    </tr>\n    <tr>\n      <th>max</th>\n      <td>1.428894</td>\n      <td>0.752348</td>\n      <td>1.572647</td>\n      <td>2.918998</td>\n    </tr>\n  </tbody>\n</table>\n</div>"
     },
     "execution_count": 14,
     "metadata": {},
     "output_type": "execute_result"
    }
   ],
   "source": [
    "df.describe()"
   ],
   "metadata": {
    "collapsed": false,
    "ExecuteTime": {
     "end_time": "2023-12-25T16:02:22.883004850Z",
     "start_time": "2023-12-25T16:02:22.559344909Z"
    }
   },
   "id": "e32972b152fb62f4",
   "execution_count": 14
  },
  {
   "cell_type": "markdown",
   "source": [
    "#### Transposing your data:"
   ],
   "metadata": {
    "collapsed": false
   },
   "id": "b0fb1acfff9ed814"
  },
  {
   "cell_type": "code",
   "outputs": [
    {
     "data": {
      "text/plain": "   2013-01-01  2013-01-02  2013-01-03  2013-01-04  2013-01-05  2013-01-06\nA   -2.676098    1.428894    0.669800    1.327075    0.719515    0.468485\nB   -0.288082   -0.825014   -0.274790   -1.109091    0.752348    0.003140\nC    1.572647    0.847679    1.006162   -0.569616   -0.881247   -0.211682\nD    1.019299    0.689150   -1.144133    0.505253   -0.150154    2.918998",
      "text/html": "<div>\n<style scoped>\n    .dataframe tbody tr th:only-of-type {\n        vertical-align: middle;\n    }\n\n    .dataframe tbody tr th {\n        vertical-align: top;\n    }\n\n    .dataframe thead th {\n        text-align: right;\n    }\n</style>\n<table border=\"1\" class=\"dataframe\">\n  <thead>\n    <tr style=\"text-align: right;\">\n      <th></th>\n      <th>2013-01-01</th>\n      <th>2013-01-02</th>\n      <th>2013-01-03</th>\n      <th>2013-01-04</th>\n      <th>2013-01-05</th>\n      <th>2013-01-06</th>\n    </tr>\n  </thead>\n  <tbody>\n    <tr>\n      <th>A</th>\n      <td>-2.676098</td>\n      <td>1.428894</td>\n      <td>0.669800</td>\n      <td>1.327075</td>\n      <td>0.719515</td>\n      <td>0.468485</td>\n    </tr>\n    <tr>\n      <th>B</th>\n      <td>-0.288082</td>\n      <td>-0.825014</td>\n      <td>-0.274790</td>\n      <td>-1.109091</td>\n      <td>0.752348</td>\n      <td>0.003140</td>\n    </tr>\n    <tr>\n      <th>C</th>\n      <td>1.572647</td>\n      <td>0.847679</td>\n      <td>1.006162</td>\n      <td>-0.569616</td>\n      <td>-0.881247</td>\n      <td>-0.211682</td>\n    </tr>\n    <tr>\n      <th>D</th>\n      <td>1.019299</td>\n      <td>0.689150</td>\n      <td>-1.144133</td>\n      <td>0.505253</td>\n      <td>-0.150154</td>\n      <td>2.918998</td>\n    </tr>\n  </tbody>\n</table>\n</div>"
     },
     "execution_count": 15,
     "metadata": {},
     "output_type": "execute_result"
    }
   ],
   "source": [
    "df.T"
   ],
   "metadata": {
    "collapsed": false,
    "ExecuteTime": {
     "end_time": "2023-12-25T16:02:23.101022057Z",
     "start_time": "2023-12-25T16:02:22.840229630Z"
    }
   },
   "id": "bac0cd561c8d0d35",
   "execution_count": 15
  },
  {
   "cell_type": "markdown",
   "source": [
    "#### DataFrame.sort_index() sorts by an axis:"
   ],
   "metadata": {
    "collapsed": false
   },
   "id": "26ed4db9bb688459"
  },
  {
   "cell_type": "code",
   "outputs": [
    {
     "data": {
      "text/plain": "                   D         C         B         A\n2013-01-01  1.019299  1.572647 -0.288082 -2.676098\n2013-01-02  0.689150  0.847679 -0.825014  1.428894\n2013-01-03 -1.144133  1.006162 -0.274790  0.669800\n2013-01-04  0.505253 -0.569616 -1.109091  1.327075\n2013-01-05 -0.150154 -0.881247  0.752348  0.719515\n2013-01-06  2.918998 -0.211682  0.003140  0.468485",
      "text/html": "<div>\n<style scoped>\n    .dataframe tbody tr th:only-of-type {\n        vertical-align: middle;\n    }\n\n    .dataframe tbody tr th {\n        vertical-align: top;\n    }\n\n    .dataframe thead th {\n        text-align: right;\n    }\n</style>\n<table border=\"1\" class=\"dataframe\">\n  <thead>\n    <tr style=\"text-align: right;\">\n      <th></th>\n      <th>D</th>\n      <th>C</th>\n      <th>B</th>\n      <th>A</th>\n    </tr>\n  </thead>\n  <tbody>\n    <tr>\n      <th>2013-01-01</th>\n      <td>1.019299</td>\n      <td>1.572647</td>\n      <td>-0.288082</td>\n      <td>-2.676098</td>\n    </tr>\n    <tr>\n      <th>2013-01-02</th>\n      <td>0.689150</td>\n      <td>0.847679</td>\n      <td>-0.825014</td>\n      <td>1.428894</td>\n    </tr>\n    <tr>\n      <th>2013-01-03</th>\n      <td>-1.144133</td>\n      <td>1.006162</td>\n      <td>-0.274790</td>\n      <td>0.669800</td>\n    </tr>\n    <tr>\n      <th>2013-01-04</th>\n      <td>0.505253</td>\n      <td>-0.569616</td>\n      <td>-1.109091</td>\n      <td>1.327075</td>\n    </tr>\n    <tr>\n      <th>2013-01-05</th>\n      <td>-0.150154</td>\n      <td>-0.881247</td>\n      <td>0.752348</td>\n      <td>0.719515</td>\n    </tr>\n    <tr>\n      <th>2013-01-06</th>\n      <td>2.918998</td>\n      <td>-0.211682</td>\n      <td>0.003140</td>\n      <td>0.468485</td>\n    </tr>\n  </tbody>\n</table>\n</div>"
     },
     "execution_count": 16,
     "metadata": {},
     "output_type": "execute_result"
    }
   ],
   "source": [
    "df.sort_index(axis=1, ascending=False)"
   ],
   "metadata": {
    "collapsed": false,
    "ExecuteTime": {
     "end_time": "2023-12-25T16:02:23.339391402Z",
     "start_time": "2023-12-25T16:02:22.956342586Z"
    }
   },
   "id": "ee00ae71e343d03f",
   "execution_count": 16
  },
  {
   "cell_type": "markdown",
   "source": [
    "#### DataFrame.sort_values() sorts by values:"
   ],
   "metadata": {
    "collapsed": false
   },
   "id": "8c809c0ca6fd536e"
  },
  {
   "cell_type": "code",
   "outputs": [
    {
     "data": {
      "text/plain": "                   A         B         C         D\n2013-01-04  1.327075 -1.109091 -0.569616  0.505253\n2013-01-02  1.428894 -0.825014  0.847679  0.689150\n2013-01-01 -2.676098 -0.288082  1.572647  1.019299\n2013-01-03  0.669800 -0.274790  1.006162 -1.144133\n2013-01-06  0.468485  0.003140 -0.211682  2.918998\n2013-01-05  0.719515  0.752348 -0.881247 -0.150154",
      "text/html": "<div>\n<style scoped>\n    .dataframe tbody tr th:only-of-type {\n        vertical-align: middle;\n    }\n\n    .dataframe tbody tr th {\n        vertical-align: top;\n    }\n\n    .dataframe thead th {\n        text-align: right;\n    }\n</style>\n<table border=\"1\" class=\"dataframe\">\n  <thead>\n    <tr style=\"text-align: right;\">\n      <th></th>\n      <th>A</th>\n      <th>B</th>\n      <th>C</th>\n      <th>D</th>\n    </tr>\n  </thead>\n  <tbody>\n    <tr>\n      <th>2013-01-04</th>\n      <td>1.327075</td>\n      <td>-1.109091</td>\n      <td>-0.569616</td>\n      <td>0.505253</td>\n    </tr>\n    <tr>\n      <th>2013-01-02</th>\n      <td>1.428894</td>\n      <td>-0.825014</td>\n      <td>0.847679</td>\n      <td>0.689150</td>\n    </tr>\n    <tr>\n      <th>2013-01-01</th>\n      <td>-2.676098</td>\n      <td>-0.288082</td>\n      <td>1.572647</td>\n      <td>1.019299</td>\n    </tr>\n    <tr>\n      <th>2013-01-03</th>\n      <td>0.669800</td>\n      <td>-0.274790</td>\n      <td>1.006162</td>\n      <td>-1.144133</td>\n    </tr>\n    <tr>\n      <th>2013-01-06</th>\n      <td>0.468485</td>\n      <td>0.003140</td>\n      <td>-0.211682</td>\n      <td>2.918998</td>\n    </tr>\n    <tr>\n      <th>2013-01-05</th>\n      <td>0.719515</td>\n      <td>0.752348</td>\n      <td>-0.881247</td>\n      <td>-0.150154</td>\n    </tr>\n  </tbody>\n</table>\n</div>"
     },
     "execution_count": 17,
     "metadata": {},
     "output_type": "execute_result"
    }
   ],
   "source": [
    "df.sort_values(by=\"B\")"
   ],
   "metadata": {
    "collapsed": false,
    "ExecuteTime": {
     "end_time": "2023-12-25T16:02:23.893930556Z",
     "start_time": "2023-12-25T16:02:23.278900547Z"
    }
   },
   "id": "d2b128b6b5e2d31",
   "execution_count": 17
  },
  {
   "cell_type": "markdown",
   "source": [
    "# Selection"
   ],
   "metadata": {
    "collapsed": false
   },
   "id": "55fc5bd838b1ff4a"
  },
  {
   "cell_type": "markdown",
   "source": [
    "#### While standard Python / NumPy expressions for selecting and setting are intuitive and come in handy for interactive work, for production code, we recommend the optimized pandas data access methods, DataFrame.at(), DataFrame.iat(), DataFrame.loc() and DataFrame.iloc()"
   ],
   "metadata": {
    "collapsed": false
   },
   "id": "f972d4f9f6bd7c9c"
  },
  {
   "cell_type": "markdown",
   "source": [
    "## Getitem ([])"
   ],
   "metadata": {
    "collapsed": false
   },
   "id": "772e35b6f9d7008"
  },
  {
   "cell_type": "markdown",
   "source": [
    "#### For a DataFrame, passing a single label selects a columns and yields a Series equivalent to df.A:"
   ],
   "metadata": {
    "collapsed": false
   },
   "id": "62982c09ed393eda"
  },
  {
   "cell_type": "code",
   "outputs": [
    {
     "data": {
      "text/plain": "2013-01-01   -2.676098\n2013-01-02    1.428894\n2013-01-03    0.669800\n2013-01-04    1.327075\n2013-01-05    0.719515\n2013-01-06    0.468485\nFreq: D, Name: A, dtype: float64"
     },
     "execution_count": 18,
     "metadata": {},
     "output_type": "execute_result"
    }
   ],
   "source": [
    "df[\"A\"]"
   ],
   "metadata": {
    "collapsed": false,
    "ExecuteTime": {
     "end_time": "2023-12-25T16:02:24.295052870Z",
     "start_time": "2023-12-25T16:02:23.751616312Z"
    }
   },
   "id": "f538ef03ee99931a",
   "execution_count": 18
  },
  {
   "cell_type": "markdown",
   "source": [
    "#### For a DataFrame, passing a slice : selects matching rows:"
   ],
   "metadata": {
    "collapsed": false
   },
   "id": "1be76d46cf552d23"
  },
  {
   "cell_type": "code",
   "outputs": [
    {
     "data": {
      "text/plain": "                   A         B         C         D\n2013-01-01 -2.676098 -0.288082  1.572647  1.019299\n2013-01-02  1.428894 -0.825014  0.847679  0.689150\n2013-01-03  0.669800 -0.274790  1.006162 -1.144133",
      "text/html": "<div>\n<style scoped>\n    .dataframe tbody tr th:only-of-type {\n        vertical-align: middle;\n    }\n\n    .dataframe tbody tr th {\n        vertical-align: top;\n    }\n\n    .dataframe thead th {\n        text-align: right;\n    }\n</style>\n<table border=\"1\" class=\"dataframe\">\n  <thead>\n    <tr style=\"text-align: right;\">\n      <th></th>\n      <th>A</th>\n      <th>B</th>\n      <th>C</th>\n      <th>D</th>\n    </tr>\n  </thead>\n  <tbody>\n    <tr>\n      <th>2013-01-01</th>\n      <td>-2.676098</td>\n      <td>-0.288082</td>\n      <td>1.572647</td>\n      <td>1.019299</td>\n    </tr>\n    <tr>\n      <th>2013-01-02</th>\n      <td>1.428894</td>\n      <td>-0.825014</td>\n      <td>0.847679</td>\n      <td>0.689150</td>\n    </tr>\n    <tr>\n      <th>2013-01-03</th>\n      <td>0.669800</td>\n      <td>-0.274790</td>\n      <td>1.006162</td>\n      <td>-1.144133</td>\n    </tr>\n  </tbody>\n</table>\n</div>"
     },
     "execution_count": 19,
     "metadata": {},
     "output_type": "execute_result"
    }
   ],
   "source": [
    "df[0:3]"
   ],
   "metadata": {
    "collapsed": false,
    "ExecuteTime": {
     "end_time": "2023-12-25T16:02:24.892172719Z",
     "start_time": "2023-12-25T16:02:24.272718124Z"
    }
   },
   "id": "fba6f5eac676f87d",
   "execution_count": 19
  },
  {
   "cell_type": "code",
   "outputs": [
    {
     "data": {
      "text/plain": "                   A         B         C         D\n2013-01-02  1.428894 -0.825014  0.847679  0.689150\n2013-01-03  0.669800 -0.274790  1.006162 -1.144133\n2013-01-04  1.327075 -1.109091 -0.569616  0.505253",
      "text/html": "<div>\n<style scoped>\n    .dataframe tbody tr th:only-of-type {\n        vertical-align: middle;\n    }\n\n    .dataframe tbody tr th {\n        vertical-align: top;\n    }\n\n    .dataframe thead th {\n        text-align: right;\n    }\n</style>\n<table border=\"1\" class=\"dataframe\">\n  <thead>\n    <tr style=\"text-align: right;\">\n      <th></th>\n      <th>A</th>\n      <th>B</th>\n      <th>C</th>\n      <th>D</th>\n    </tr>\n  </thead>\n  <tbody>\n    <tr>\n      <th>2013-01-02</th>\n      <td>1.428894</td>\n      <td>-0.825014</td>\n      <td>0.847679</td>\n      <td>0.689150</td>\n    </tr>\n    <tr>\n      <th>2013-01-03</th>\n      <td>0.669800</td>\n      <td>-0.274790</td>\n      <td>1.006162</td>\n      <td>-1.144133</td>\n    </tr>\n    <tr>\n      <th>2013-01-04</th>\n      <td>1.327075</td>\n      <td>-1.109091</td>\n      <td>-0.569616</td>\n      <td>0.505253</td>\n    </tr>\n  </tbody>\n</table>\n</div>"
     },
     "execution_count": 20,
     "metadata": {},
     "output_type": "execute_result"
    }
   ],
   "source": [
    "df[\"20130102\":\"20130104\"]"
   ],
   "metadata": {
    "collapsed": false,
    "ExecuteTime": {
     "end_time": "2023-12-25T16:02:25.261497299Z",
     "start_time": "2023-12-25T16:02:24.823834369Z"
    }
   },
   "id": "3bcdb5fe444b3eb4",
   "execution_count": 20
  },
  {
   "cell_type": "markdown",
   "source": [
    "## Selection by label"
   ],
   "metadata": {
    "collapsed": false
   },
   "id": "e8c0fb4cecde6f3e"
  },
  {
   "cell_type": "markdown",
   "source": [
    "#### Selecting a row matching a label:"
   ],
   "metadata": {
    "collapsed": false
   },
   "id": "d28f5d385328e5bf"
  },
  {
   "cell_type": "code",
   "outputs": [
    {
     "data": {
      "text/plain": "A   -2.676098\nB   -0.288082\nC    1.572647\nD    1.019299\nName: 2013-01-01 00:00:00, dtype: float64"
     },
     "execution_count": 21,
     "metadata": {},
     "output_type": "execute_result"
    }
   ],
   "source": [
    "df.loc[dates[0]]"
   ],
   "metadata": {
    "collapsed": false,
    "ExecuteTime": {
     "end_time": "2023-12-25T16:02:25.468405669Z",
     "start_time": "2023-12-25T16:02:25.046218Z"
    }
   },
   "id": "ec1b605e99431f89",
   "execution_count": 21
  },
  {
   "cell_type": "markdown",
   "source": [
    "#### Selecting all rows (:) with a select column labels:"
   ],
   "metadata": {
    "collapsed": false
   },
   "id": "3e3400329d2a652c"
  },
  {
   "cell_type": "code",
   "outputs": [
    {
     "data": {
      "text/plain": "                   A         B\n2013-01-01 -2.676098 -0.288082\n2013-01-02  1.428894 -0.825014\n2013-01-03  0.669800 -0.274790\n2013-01-04  1.327075 -1.109091\n2013-01-05  0.719515  0.752348\n2013-01-06  0.468485  0.003140",
      "text/html": "<div>\n<style scoped>\n    .dataframe tbody tr th:only-of-type {\n        vertical-align: middle;\n    }\n\n    .dataframe tbody tr th {\n        vertical-align: top;\n    }\n\n    .dataframe thead th {\n        text-align: right;\n    }\n</style>\n<table border=\"1\" class=\"dataframe\">\n  <thead>\n    <tr style=\"text-align: right;\">\n      <th></th>\n      <th>A</th>\n      <th>B</th>\n    </tr>\n  </thead>\n  <tbody>\n    <tr>\n      <th>2013-01-01</th>\n      <td>-2.676098</td>\n      <td>-0.288082</td>\n    </tr>\n    <tr>\n      <th>2013-01-02</th>\n      <td>1.428894</td>\n      <td>-0.825014</td>\n    </tr>\n    <tr>\n      <th>2013-01-03</th>\n      <td>0.669800</td>\n      <td>-0.274790</td>\n    </tr>\n    <tr>\n      <th>2013-01-04</th>\n      <td>1.327075</td>\n      <td>-1.109091</td>\n    </tr>\n    <tr>\n      <th>2013-01-05</th>\n      <td>0.719515</td>\n      <td>0.752348</td>\n    </tr>\n    <tr>\n      <th>2013-01-06</th>\n      <td>0.468485</td>\n      <td>0.003140</td>\n    </tr>\n  </tbody>\n</table>\n</div>"
     },
     "execution_count": 22,
     "metadata": {},
     "output_type": "execute_result"
    }
   ],
   "source": [
    "df.loc[:, [\"A\", \"B\"]]"
   ],
   "metadata": {
    "collapsed": false,
    "ExecuteTime": {
     "end_time": "2023-12-25T16:02:25.859871166Z",
     "start_time": "2023-12-25T16:02:25.423652718Z"
    }
   },
   "id": "2d1bc41672ef9553",
   "execution_count": 22
  },
  {
   "cell_type": "markdown",
   "source": [
    "#### For label slicing, both endpoints are included:"
   ],
   "metadata": {
    "collapsed": false
   },
   "id": "cbb1675b5748ba79"
  },
  {
   "cell_type": "code",
   "outputs": [
    {
     "data": {
      "text/plain": "                   A         B\n2013-01-02  1.428894 -0.825014\n2013-01-03  0.669800 -0.274790\n2013-01-04  1.327075 -1.109091",
      "text/html": "<div>\n<style scoped>\n    .dataframe tbody tr th:only-of-type {\n        vertical-align: middle;\n    }\n\n    .dataframe tbody tr th {\n        vertical-align: top;\n    }\n\n    .dataframe thead th {\n        text-align: right;\n    }\n</style>\n<table border=\"1\" class=\"dataframe\">\n  <thead>\n    <tr style=\"text-align: right;\">\n      <th></th>\n      <th>A</th>\n      <th>B</th>\n    </tr>\n  </thead>\n  <tbody>\n    <tr>\n      <th>2013-01-02</th>\n      <td>1.428894</td>\n      <td>-0.825014</td>\n    </tr>\n    <tr>\n      <th>2013-01-03</th>\n      <td>0.669800</td>\n      <td>-0.274790</td>\n    </tr>\n    <tr>\n      <th>2013-01-04</th>\n      <td>1.327075</td>\n      <td>-1.109091</td>\n    </tr>\n  </tbody>\n</table>\n</div>"
     },
     "execution_count": 23,
     "metadata": {},
     "output_type": "execute_result"
    }
   ],
   "source": [
    "df.loc[\"20130102\":\"20130104\", [\"A\", \"B\"]]"
   ],
   "metadata": {
    "collapsed": false,
    "ExecuteTime": {
     "end_time": "2023-12-25T16:02:26.265585533Z",
     "start_time": "2023-12-25T16:02:25.866627597Z"
    }
   },
   "id": "2dfd7c4b5c6a9fc3",
   "execution_count": 23
  },
  {
   "cell_type": "markdown",
   "source": [
    "#### Selecting a single row and column label returns a scalar:"
   ],
   "metadata": {
    "collapsed": false
   },
   "id": "355d3ab9c7e82f49"
  },
  {
   "cell_type": "code",
   "outputs": [
    {
     "data": {
      "text/plain": "-2.6760984754375507"
     },
     "execution_count": 24,
     "metadata": {},
     "output_type": "execute_result"
    }
   ],
   "source": [
    "df.loc[dates[0], \"A\"]"
   ],
   "metadata": {
    "collapsed": false,
    "ExecuteTime": {
     "end_time": "2023-12-25T16:02:26.541263478Z",
     "start_time": "2023-12-25T16:02:26.108213666Z"
    }
   },
   "id": "62dd8486b5283bf4",
   "execution_count": 24
  },
  {
   "cell_type": "markdown",
   "source": [
    "#### For getting fast access to a scalar (equivalent to the prior method):"
   ],
   "metadata": {
    "collapsed": false
   },
   "id": "2143dcb1c4b0b00"
  },
  {
   "cell_type": "code",
   "outputs": [
    {
     "data": {
      "text/plain": "-2.6760984754375507"
     },
     "execution_count": 25,
     "metadata": {},
     "output_type": "execute_result"
    }
   ],
   "source": [
    "df.at[dates[0], \"A\"]"
   ],
   "metadata": {
    "collapsed": false,
    "ExecuteTime": {
     "end_time": "2023-12-25T16:02:26.970893454Z",
     "start_time": "2023-12-25T16:02:26.489625494Z"
    }
   },
   "id": "c22f06e6a01e957d",
   "execution_count": 25
  },
  {
   "cell_type": "markdown",
   "source": [
    "## Selection by position"
   ],
   "metadata": {
    "collapsed": false
   },
   "id": "99fd26892e8d8440"
  },
  {
   "cell_type": "markdown",
   "source": [
    "#### Select via the position of the passed integers:"
   ],
   "metadata": {
    "collapsed": false
   },
   "id": "23b13e43eeea0f71"
  },
  {
   "cell_type": "code",
   "outputs": [
    {
     "data": {
      "text/plain": "A    1.327075\nB   -1.109091\nC   -0.569616\nD    0.505253\nName: 2013-01-04 00:00:00, dtype: float64"
     },
     "execution_count": 26,
     "metadata": {},
     "output_type": "execute_result"
    }
   ],
   "source": [
    "df.iloc[3]"
   ],
   "metadata": {
    "collapsed": false,
    "ExecuteTime": {
     "end_time": "2023-12-25T16:02:27.286165105Z",
     "start_time": "2023-12-25T16:02:26.941907573Z"
    }
   },
   "id": "8e636ed99408eb42",
   "execution_count": 26
  },
  {
   "cell_type": "markdown",
   "source": [
    "#### Integer slices acts similar to NumPy/Python:"
   ],
   "metadata": {
    "collapsed": false
   },
   "id": "9ea780c54ee2fa45"
  },
  {
   "cell_type": "code",
   "outputs": [
    {
     "data": {
      "text/plain": "                   A         B\n2013-01-04  1.327075 -1.109091\n2013-01-05  0.719515  0.752348",
      "text/html": "<div>\n<style scoped>\n    .dataframe tbody tr th:only-of-type {\n        vertical-align: middle;\n    }\n\n    .dataframe tbody tr th {\n        vertical-align: top;\n    }\n\n    .dataframe thead th {\n        text-align: right;\n    }\n</style>\n<table border=\"1\" class=\"dataframe\">\n  <thead>\n    <tr style=\"text-align: right;\">\n      <th></th>\n      <th>A</th>\n      <th>B</th>\n    </tr>\n  </thead>\n  <tbody>\n    <tr>\n      <th>2013-01-04</th>\n      <td>1.327075</td>\n      <td>-1.109091</td>\n    </tr>\n    <tr>\n      <th>2013-01-05</th>\n      <td>0.719515</td>\n      <td>0.752348</td>\n    </tr>\n  </tbody>\n</table>\n</div>"
     },
     "execution_count": 27,
     "metadata": {},
     "output_type": "execute_result"
    }
   ],
   "source": [
    "df.iloc[3:5, 0:2]"
   ],
   "metadata": {
    "collapsed": false,
    "ExecuteTime": {
     "end_time": "2023-12-25T16:02:27.670606079Z",
     "start_time": "2023-12-25T16:02:27.277166319Z"
    }
   },
   "id": "8383efd54023d981",
   "execution_count": 27
  },
  {
   "cell_type": "markdown",
   "source": [
    "#### Lists of integer position locations:"
   ],
   "metadata": {
    "collapsed": false
   },
   "id": "ad6d250435c250b2"
  },
  {
   "cell_type": "code",
   "outputs": [
    {
     "data": {
      "text/plain": "                   A         C\n2013-01-02  1.428894  0.847679\n2013-01-03  0.669800  1.006162\n2013-01-05  0.719515 -0.881247",
      "text/html": "<div>\n<style scoped>\n    .dataframe tbody tr th:only-of-type {\n        vertical-align: middle;\n    }\n\n    .dataframe tbody tr th {\n        vertical-align: top;\n    }\n\n    .dataframe thead th {\n        text-align: right;\n    }\n</style>\n<table border=\"1\" class=\"dataframe\">\n  <thead>\n    <tr style=\"text-align: right;\">\n      <th></th>\n      <th>A</th>\n      <th>C</th>\n    </tr>\n  </thead>\n  <tbody>\n    <tr>\n      <th>2013-01-02</th>\n      <td>1.428894</td>\n      <td>0.847679</td>\n    </tr>\n    <tr>\n      <th>2013-01-03</th>\n      <td>0.669800</td>\n      <td>1.006162</td>\n    </tr>\n    <tr>\n      <th>2013-01-05</th>\n      <td>0.719515</td>\n      <td>-0.881247</td>\n    </tr>\n  </tbody>\n</table>\n</div>"
     },
     "execution_count": 28,
     "metadata": {},
     "output_type": "execute_result"
    }
   ],
   "source": [
    "df.iloc[[1, 2, 4], [0, 2]]"
   ],
   "metadata": {
    "collapsed": false,
    "ExecuteTime": {
     "end_time": "2023-12-25T16:02:27.868378221Z",
     "start_time": "2023-12-25T16:02:27.600424584Z"
    }
   },
   "id": "246d3d1e2c0e87eb",
   "execution_count": 28
  },
  {
   "cell_type": "markdown",
   "source": [
    "#### For slicing rows explicitly:"
   ],
   "metadata": {
    "collapsed": false
   },
   "id": "5ac0b49a8b28acd2"
  },
  {
   "cell_type": "code",
   "outputs": [
    {
     "data": {
      "text/plain": "                   A         B         C         D\n2013-01-02  1.428894 -0.825014  0.847679  0.689150\n2013-01-03  0.669800 -0.274790  1.006162 -1.144133",
      "text/html": "<div>\n<style scoped>\n    .dataframe tbody tr th:only-of-type {\n        vertical-align: middle;\n    }\n\n    .dataframe tbody tr th {\n        vertical-align: top;\n    }\n\n    .dataframe thead th {\n        text-align: right;\n    }\n</style>\n<table border=\"1\" class=\"dataframe\">\n  <thead>\n    <tr style=\"text-align: right;\">\n      <th></th>\n      <th>A</th>\n      <th>B</th>\n      <th>C</th>\n      <th>D</th>\n    </tr>\n  </thead>\n  <tbody>\n    <tr>\n      <th>2013-01-02</th>\n      <td>1.428894</td>\n      <td>-0.825014</td>\n      <td>0.847679</td>\n      <td>0.689150</td>\n    </tr>\n    <tr>\n      <th>2013-01-03</th>\n      <td>0.669800</td>\n      <td>-0.274790</td>\n      <td>1.006162</td>\n      <td>-1.144133</td>\n    </tr>\n  </tbody>\n</table>\n</div>"
     },
     "execution_count": 29,
     "metadata": {},
     "output_type": "execute_result"
    }
   ],
   "source": [
    "df.iloc[1:3, :]"
   ],
   "metadata": {
    "collapsed": false,
    "ExecuteTime": {
     "end_time": "2023-12-25T16:02:28.058998217Z",
     "start_time": "2023-12-25T16:02:27.735455897Z"
    }
   },
   "id": "549a60a7bc938683",
   "execution_count": 29
  },
  {
   "cell_type": "markdown",
   "source": [
    "#### For slicing columns explicitly:"
   ],
   "metadata": {
    "collapsed": false
   },
   "id": "93fd096cc9dd23cd"
  },
  {
   "cell_type": "code",
   "outputs": [
    {
     "data": {
      "text/plain": "                   B         C\n2013-01-01 -0.288082  1.572647\n2013-01-02 -0.825014  0.847679\n2013-01-03 -0.274790  1.006162\n2013-01-04 -1.109091 -0.569616\n2013-01-05  0.752348 -0.881247\n2013-01-06  0.003140 -0.211682",
      "text/html": "<div>\n<style scoped>\n    .dataframe tbody tr th:only-of-type {\n        vertical-align: middle;\n    }\n\n    .dataframe tbody tr th {\n        vertical-align: top;\n    }\n\n    .dataframe thead th {\n        text-align: right;\n    }\n</style>\n<table border=\"1\" class=\"dataframe\">\n  <thead>\n    <tr style=\"text-align: right;\">\n      <th></th>\n      <th>B</th>\n      <th>C</th>\n    </tr>\n  </thead>\n  <tbody>\n    <tr>\n      <th>2013-01-01</th>\n      <td>-0.288082</td>\n      <td>1.572647</td>\n    </tr>\n    <tr>\n      <th>2013-01-02</th>\n      <td>-0.825014</td>\n      <td>0.847679</td>\n    </tr>\n    <tr>\n      <th>2013-01-03</th>\n      <td>-0.274790</td>\n      <td>1.006162</td>\n    </tr>\n    <tr>\n      <th>2013-01-04</th>\n      <td>-1.109091</td>\n      <td>-0.569616</td>\n    </tr>\n    <tr>\n      <th>2013-01-05</th>\n      <td>0.752348</td>\n      <td>-0.881247</td>\n    </tr>\n    <tr>\n      <th>2013-01-06</th>\n      <td>0.003140</td>\n      <td>-0.211682</td>\n    </tr>\n  </tbody>\n</table>\n</div>"
     },
     "execution_count": 30,
     "metadata": {},
     "output_type": "execute_result"
    }
   ],
   "source": [
    "df.iloc[:, 1:3]"
   ],
   "metadata": {
    "collapsed": false,
    "ExecuteTime": {
     "end_time": "2023-12-25T16:02:28.616428005Z",
     "start_time": "2023-12-25T16:02:28.052317975Z"
    }
   },
   "id": "7b87b7004748ba88",
   "execution_count": 30
  },
  {
   "cell_type": "markdown",
   "source": [
    "#### For getting a value explicitly:"
   ],
   "metadata": {
    "collapsed": false
   },
   "id": "54200ada6a5588bb"
  },
  {
   "cell_type": "code",
   "outputs": [
    {
     "data": {
      "text/plain": "-0.8250138989459678"
     },
     "execution_count": 31,
     "metadata": {},
     "output_type": "execute_result"
    }
   ],
   "source": [
    "df.iloc[1, 1]"
   ],
   "metadata": {
    "collapsed": false,
    "ExecuteTime": {
     "end_time": "2023-12-25T16:02:29.095940118Z",
     "start_time": "2023-12-25T16:02:28.540048790Z"
    }
   },
   "id": "b8b83612a0c3367f",
   "execution_count": 31
  },
  {
   "cell_type": "markdown",
   "source": [
    "#### For getting fast access to a scalar (equivalent to the prior method):"
   ],
   "metadata": {
    "collapsed": false
   },
   "id": "92eb565d96286fb1"
  },
  {
   "cell_type": "code",
   "outputs": [
    {
     "data": {
      "text/plain": "-0.8250138989459678"
     },
     "execution_count": 32,
     "metadata": {},
     "output_type": "execute_result"
    }
   ],
   "source": [
    "df.iat[1, 1]"
   ],
   "metadata": {
    "collapsed": false,
    "ExecuteTime": {
     "end_time": "2023-12-25T16:02:29.395940537Z",
     "start_time": "2023-12-25T16:02:28.967234410Z"
    }
   },
   "id": "cceaf320be12073e",
   "execution_count": 32
  },
  {
   "cell_type": "markdown",
   "source": [
    "## Boolean indexing"
   ],
   "metadata": {
    "collapsed": false
   },
   "id": "5c158a42b07f8ae1"
  },
  {
   "cell_type": "markdown",
   "source": [
    "#### Select rows where df.A is greater than 0."
   ],
   "metadata": {
    "collapsed": false
   },
   "id": "dd22474f223b08f4"
  },
  {
   "cell_type": "code",
   "outputs": [
    {
     "data": {
      "text/plain": "                   A         B         C         D\n2013-01-02  1.428894 -0.825014  0.847679  0.689150\n2013-01-03  0.669800 -0.274790  1.006162 -1.144133\n2013-01-04  1.327075 -1.109091 -0.569616  0.505253\n2013-01-05  0.719515  0.752348 -0.881247 -0.150154\n2013-01-06  0.468485  0.003140 -0.211682  2.918998",
      "text/html": "<div>\n<style scoped>\n    .dataframe tbody tr th:only-of-type {\n        vertical-align: middle;\n    }\n\n    .dataframe tbody tr th {\n        vertical-align: top;\n    }\n\n    .dataframe thead th {\n        text-align: right;\n    }\n</style>\n<table border=\"1\" class=\"dataframe\">\n  <thead>\n    <tr style=\"text-align: right;\">\n      <th></th>\n      <th>A</th>\n      <th>B</th>\n      <th>C</th>\n      <th>D</th>\n    </tr>\n  </thead>\n  <tbody>\n    <tr>\n      <th>2013-01-02</th>\n      <td>1.428894</td>\n      <td>-0.825014</td>\n      <td>0.847679</td>\n      <td>0.689150</td>\n    </tr>\n    <tr>\n      <th>2013-01-03</th>\n      <td>0.669800</td>\n      <td>-0.274790</td>\n      <td>1.006162</td>\n      <td>-1.144133</td>\n    </tr>\n    <tr>\n      <th>2013-01-04</th>\n      <td>1.327075</td>\n      <td>-1.109091</td>\n      <td>-0.569616</td>\n      <td>0.505253</td>\n    </tr>\n    <tr>\n      <th>2013-01-05</th>\n      <td>0.719515</td>\n      <td>0.752348</td>\n      <td>-0.881247</td>\n      <td>-0.150154</td>\n    </tr>\n    <tr>\n      <th>2013-01-06</th>\n      <td>0.468485</td>\n      <td>0.003140</td>\n      <td>-0.211682</td>\n      <td>2.918998</td>\n    </tr>\n  </tbody>\n</table>\n</div>"
     },
     "execution_count": 33,
     "metadata": {},
     "output_type": "execute_result"
    }
   ],
   "source": [
    "df[df[\"A\"] > 0]"
   ],
   "metadata": {
    "collapsed": false,
    "ExecuteTime": {
     "end_time": "2023-12-25T16:02:29.730464726Z",
     "start_time": "2023-12-25T16:02:29.339938066Z"
    }
   },
   "id": "f9bb101b917e0fc0",
   "execution_count": 33
  },
  {
   "cell_type": "markdown",
   "source": [
    "#### Selecting values from a DataFrame where a boolean condition is met:"
   ],
   "metadata": {
    "collapsed": false
   },
   "id": "e95037b90f8b4039"
  },
  {
   "cell_type": "code",
   "outputs": [
    {
     "data": {
      "text/plain": "                   A         B         C         D\n2013-01-01       NaN       NaN  1.572647  1.019299\n2013-01-02  1.428894       NaN  0.847679  0.689150\n2013-01-03  0.669800       NaN  1.006162       NaN\n2013-01-04  1.327075       NaN       NaN  0.505253\n2013-01-05  0.719515  0.752348       NaN       NaN\n2013-01-06  0.468485  0.003140       NaN  2.918998",
      "text/html": "<div>\n<style scoped>\n    .dataframe tbody tr th:only-of-type {\n        vertical-align: middle;\n    }\n\n    .dataframe tbody tr th {\n        vertical-align: top;\n    }\n\n    .dataframe thead th {\n        text-align: right;\n    }\n</style>\n<table border=\"1\" class=\"dataframe\">\n  <thead>\n    <tr style=\"text-align: right;\">\n      <th></th>\n      <th>A</th>\n      <th>B</th>\n      <th>C</th>\n      <th>D</th>\n    </tr>\n  </thead>\n  <tbody>\n    <tr>\n      <th>2013-01-01</th>\n      <td>NaN</td>\n      <td>NaN</td>\n      <td>1.572647</td>\n      <td>1.019299</td>\n    </tr>\n    <tr>\n      <th>2013-01-02</th>\n      <td>1.428894</td>\n      <td>NaN</td>\n      <td>0.847679</td>\n      <td>0.689150</td>\n    </tr>\n    <tr>\n      <th>2013-01-03</th>\n      <td>0.669800</td>\n      <td>NaN</td>\n      <td>1.006162</td>\n      <td>NaN</td>\n    </tr>\n    <tr>\n      <th>2013-01-04</th>\n      <td>1.327075</td>\n      <td>NaN</td>\n      <td>NaN</td>\n      <td>0.505253</td>\n    </tr>\n    <tr>\n      <th>2013-01-05</th>\n      <td>0.719515</td>\n      <td>0.752348</td>\n      <td>NaN</td>\n      <td>NaN</td>\n    </tr>\n    <tr>\n      <th>2013-01-06</th>\n      <td>0.468485</td>\n      <td>0.003140</td>\n      <td>NaN</td>\n      <td>2.918998</td>\n    </tr>\n  </tbody>\n</table>\n</div>"
     },
     "execution_count": 34,
     "metadata": {},
     "output_type": "execute_result"
    }
   ],
   "source": [
    "df[df > 0]"
   ],
   "metadata": {
    "collapsed": false,
    "ExecuteTime": {
     "end_time": "2023-12-25T16:02:30.131248378Z",
     "start_time": "2023-12-25T16:02:29.743586462Z"
    }
   },
   "id": "7272a8beae493970",
   "execution_count": 34
  },
  {
   "cell_type": "markdown",
   "source": [
    "#### Using isin() method for filtering:"
   ],
   "metadata": {
    "collapsed": false
   },
   "id": "cafc53ea060c51aa"
  },
  {
   "cell_type": "code",
   "outputs": [
    {
     "data": {
      "text/plain": "                   A         B         C         D      E\n2013-01-01 -2.676098 -0.288082  1.572647  1.019299    one\n2013-01-02  1.428894 -0.825014  0.847679  0.689150    one\n2013-01-03  0.669800 -0.274790  1.006162 -1.144133    two\n2013-01-04  1.327075 -1.109091 -0.569616  0.505253  three\n2013-01-05  0.719515  0.752348 -0.881247 -0.150154   four\n2013-01-06  0.468485  0.003140 -0.211682  2.918998  three",
      "text/html": "<div>\n<style scoped>\n    .dataframe tbody tr th:only-of-type {\n        vertical-align: middle;\n    }\n\n    .dataframe tbody tr th {\n        vertical-align: top;\n    }\n\n    .dataframe thead th {\n        text-align: right;\n    }\n</style>\n<table border=\"1\" class=\"dataframe\">\n  <thead>\n    <tr style=\"text-align: right;\">\n      <th></th>\n      <th>A</th>\n      <th>B</th>\n      <th>C</th>\n      <th>D</th>\n      <th>E</th>\n    </tr>\n  </thead>\n  <tbody>\n    <tr>\n      <th>2013-01-01</th>\n      <td>-2.676098</td>\n      <td>-0.288082</td>\n      <td>1.572647</td>\n      <td>1.019299</td>\n      <td>one</td>\n    </tr>\n    <tr>\n      <th>2013-01-02</th>\n      <td>1.428894</td>\n      <td>-0.825014</td>\n      <td>0.847679</td>\n      <td>0.689150</td>\n      <td>one</td>\n    </tr>\n    <tr>\n      <th>2013-01-03</th>\n      <td>0.669800</td>\n      <td>-0.274790</td>\n      <td>1.006162</td>\n      <td>-1.144133</td>\n      <td>two</td>\n    </tr>\n    <tr>\n      <th>2013-01-04</th>\n      <td>1.327075</td>\n      <td>-1.109091</td>\n      <td>-0.569616</td>\n      <td>0.505253</td>\n      <td>three</td>\n    </tr>\n    <tr>\n      <th>2013-01-05</th>\n      <td>0.719515</td>\n      <td>0.752348</td>\n      <td>-0.881247</td>\n      <td>-0.150154</td>\n      <td>four</td>\n    </tr>\n    <tr>\n      <th>2013-01-06</th>\n      <td>0.468485</td>\n      <td>0.003140</td>\n      <td>-0.211682</td>\n      <td>2.918998</td>\n      <td>three</td>\n    </tr>\n  </tbody>\n</table>\n</div>"
     },
     "execution_count": 35,
     "metadata": {},
     "output_type": "execute_result"
    }
   ],
   "source": [
    "df2 = df.copy()\n",
    "df2[\"E\"] = [\"one\", \"one\", \"two\", \"three\", \"four\", \"three\"]\n",
    "df2"
   ],
   "metadata": {
    "collapsed": false,
    "ExecuteTime": {
     "end_time": "2023-12-25T16:02:30.224827306Z",
     "start_time": "2023-12-25T16:02:29.934210550Z"
    }
   },
   "id": "1e9b7c7632ca2b26",
   "execution_count": 35
  },
  {
   "cell_type": "code",
   "outputs": [
    {
     "data": {
      "text/plain": "                   A         B         C         D     E\n2013-01-03  0.669800 -0.274790  1.006162 -1.144133   two\n2013-01-05  0.719515  0.752348 -0.881247 -0.150154  four",
      "text/html": "<div>\n<style scoped>\n    .dataframe tbody tr th:only-of-type {\n        vertical-align: middle;\n    }\n\n    .dataframe tbody tr th {\n        vertical-align: top;\n    }\n\n    .dataframe thead th {\n        text-align: right;\n    }\n</style>\n<table border=\"1\" class=\"dataframe\">\n  <thead>\n    <tr style=\"text-align: right;\">\n      <th></th>\n      <th>A</th>\n      <th>B</th>\n      <th>C</th>\n      <th>D</th>\n      <th>E</th>\n    </tr>\n  </thead>\n  <tbody>\n    <tr>\n      <th>2013-01-03</th>\n      <td>0.669800</td>\n      <td>-0.274790</td>\n      <td>1.006162</td>\n      <td>-1.144133</td>\n      <td>two</td>\n    </tr>\n    <tr>\n      <th>2013-01-05</th>\n      <td>0.719515</td>\n      <td>0.752348</td>\n      <td>-0.881247</td>\n      <td>-0.150154</td>\n      <td>four</td>\n    </tr>\n  </tbody>\n</table>\n</div>"
     },
     "execution_count": 36,
     "metadata": {},
     "output_type": "execute_result"
    }
   ],
   "source": [
    "df2[df2[\"E\"].isin([\"two\", \"four\"])]"
   ],
   "metadata": {
    "collapsed": false,
    "ExecuteTime": {
     "end_time": "2023-12-25T16:02:30.601156886Z",
     "start_time": "2023-12-25T16:02:30.199900262Z"
    }
   },
   "id": "2dcd9d752d5e5b03",
   "execution_count": 36
  },
  {
   "cell_type": "markdown",
   "source": [
    "## Setting"
   ],
   "metadata": {
    "collapsed": false
   },
   "id": "1ba0290b88e1dee1"
  },
  {
   "cell_type": "markdown",
   "source": [
    "#### Setting a new column automatically aligns the data by the indexes:"
   ],
   "metadata": {
    "collapsed": false
   },
   "id": "c7487f7324403dfd"
  },
  {
   "cell_type": "code",
   "outputs": [
    {
     "data": {
      "text/plain": "2013-01-02    1\n2013-01-03    2\n2013-01-04    3\n2013-01-05    4\n2013-01-06    5\n2013-01-07    6\nFreq: D, dtype: int64"
     },
     "execution_count": 37,
     "metadata": {},
     "output_type": "execute_result"
    }
   ],
   "source": [
    "s1 = pd.Series([1, 2, 3, 4, 5, 6], index=pd.date_range(\"20130102\", periods=6))\n",
    "s1"
   ],
   "metadata": {
    "collapsed": false,
    "ExecuteTime": {
     "end_time": "2023-12-25T16:02:31.091923271Z",
     "start_time": "2023-12-25T16:02:30.605033717Z"
    }
   },
   "id": "56ad4f192595d897",
   "execution_count": 37
  },
  {
   "cell_type": "code",
   "outputs": [],
   "source": [
    "df[\"F\"] = s1"
   ],
   "metadata": {
    "collapsed": false,
    "ExecuteTime": {
     "end_time": "2023-12-25T16:02:31.350495606Z",
     "start_time": "2023-12-25T16:02:31.002288800Z"
    }
   },
   "id": "b425ac07ac2f78c3",
   "execution_count": 38
  },
  {
   "cell_type": "markdown",
   "source": [
    "#### Setting values by label:"
   ],
   "metadata": {
    "collapsed": false
   },
   "id": "bcceb1747eda7efa"
  },
  {
   "cell_type": "code",
   "outputs": [],
   "source": [
    "df.at[dates[0], \"A\"] = 0"
   ],
   "metadata": {
    "collapsed": false,
    "ExecuteTime": {
     "end_time": "2023-12-25T16:02:31.620149182Z",
     "start_time": "2023-12-25T16:02:31.349164458Z"
    }
   },
   "id": "30c5f6925874ee3d",
   "execution_count": 39
  },
  {
   "cell_type": "markdown",
   "source": [
    "#### Setting values by position:"
   ],
   "metadata": {
    "collapsed": false
   },
   "id": "8f0c7740418acc45"
  },
  {
   "cell_type": "code",
   "outputs": [],
   "source": [
    "df.iat[0, 1] = 0"
   ],
   "metadata": {
    "collapsed": false,
    "ExecuteTime": {
     "end_time": "2023-12-25T16:02:31.800618815Z",
     "start_time": "2023-12-25T16:02:31.597553944Z"
    }
   },
   "id": "1c27b7b1afb4a357",
   "execution_count": 40
  },
  {
   "cell_type": "markdown",
   "source": [
    "#### Setting by assigning with a NumPy array:"
   ],
   "metadata": {
    "collapsed": false
   },
   "id": "2ff3ed3e585ccc11"
  },
  {
   "cell_type": "code",
   "outputs": [],
   "source": [
    "df.loc[:, \"D\"] = np.array([5] * len(df))"
   ],
   "metadata": {
    "collapsed": false,
    "ExecuteTime": {
     "end_time": "2023-12-25T16:02:32.238291683Z",
     "start_time": "2023-12-25T16:02:31.808407080Z"
    }
   },
   "id": "265c0298abed4cd3",
   "execution_count": 41
  },
  {
   "cell_type": "markdown",
   "source": [
    "#### The result of the prior setting operations:"
   ],
   "metadata": {
    "collapsed": false
   },
   "id": "96016bc2fb7e6b8"
  },
  {
   "cell_type": "code",
   "outputs": [
    {
     "data": {
      "text/plain": "                   A         B         C    D    F\n2013-01-01  0.000000  0.000000  1.572647  5.0  NaN\n2013-01-02  1.428894 -0.825014  0.847679  5.0  1.0\n2013-01-03  0.669800 -0.274790  1.006162  5.0  2.0\n2013-01-04  1.327075 -1.109091 -0.569616  5.0  3.0\n2013-01-05  0.719515  0.752348 -0.881247  5.0  4.0\n2013-01-06  0.468485  0.003140 -0.211682  5.0  5.0",
      "text/html": "<div>\n<style scoped>\n    .dataframe tbody tr th:only-of-type {\n        vertical-align: middle;\n    }\n\n    .dataframe tbody tr th {\n        vertical-align: top;\n    }\n\n    .dataframe thead th {\n        text-align: right;\n    }\n</style>\n<table border=\"1\" class=\"dataframe\">\n  <thead>\n    <tr style=\"text-align: right;\">\n      <th></th>\n      <th>A</th>\n      <th>B</th>\n      <th>C</th>\n      <th>D</th>\n      <th>F</th>\n    </tr>\n  </thead>\n  <tbody>\n    <tr>\n      <th>2013-01-01</th>\n      <td>0.000000</td>\n      <td>0.000000</td>\n      <td>1.572647</td>\n      <td>5.0</td>\n      <td>NaN</td>\n    </tr>\n    <tr>\n      <th>2013-01-02</th>\n      <td>1.428894</td>\n      <td>-0.825014</td>\n      <td>0.847679</td>\n      <td>5.0</td>\n      <td>1.0</td>\n    </tr>\n    <tr>\n      <th>2013-01-03</th>\n      <td>0.669800</td>\n      <td>-0.274790</td>\n      <td>1.006162</td>\n      <td>5.0</td>\n      <td>2.0</td>\n    </tr>\n    <tr>\n      <th>2013-01-04</th>\n      <td>1.327075</td>\n      <td>-1.109091</td>\n      <td>-0.569616</td>\n      <td>5.0</td>\n      <td>3.0</td>\n    </tr>\n    <tr>\n      <th>2013-01-05</th>\n      <td>0.719515</td>\n      <td>0.752348</td>\n      <td>-0.881247</td>\n      <td>5.0</td>\n      <td>4.0</td>\n    </tr>\n    <tr>\n      <th>2013-01-06</th>\n      <td>0.468485</td>\n      <td>0.003140</td>\n      <td>-0.211682</td>\n      <td>5.0</td>\n      <td>5.0</td>\n    </tr>\n  </tbody>\n</table>\n</div>"
     },
     "execution_count": 42,
     "metadata": {},
     "output_type": "execute_result"
    }
   ],
   "source": [
    "df"
   ],
   "metadata": {
    "collapsed": false,
    "ExecuteTime": {
     "end_time": "2023-12-25T16:02:32.411185705Z",
     "start_time": "2023-12-25T16:02:32.154333428Z"
    }
   },
   "id": "4baf7e033b19f051",
   "execution_count": 42
  },
  {
   "cell_type": "markdown",
   "source": [
    "#### A where operation with setting:"
   ],
   "metadata": {
    "collapsed": false
   },
   "id": "95417c07034903c9"
  },
  {
   "cell_type": "code",
   "outputs": [
    {
     "data": {
      "text/plain": "                   A         B         C    D    F\n2013-01-01  0.000000  0.000000 -1.572647 -5.0  NaN\n2013-01-02 -1.428894 -0.825014 -0.847679 -5.0 -1.0\n2013-01-03 -0.669800 -0.274790 -1.006162 -5.0 -2.0\n2013-01-04 -1.327075 -1.109091 -0.569616 -5.0 -3.0\n2013-01-05 -0.719515 -0.752348 -0.881247 -5.0 -4.0\n2013-01-06 -0.468485 -0.003140 -0.211682 -5.0 -5.0",
      "text/html": "<div>\n<style scoped>\n    .dataframe tbody tr th:only-of-type {\n        vertical-align: middle;\n    }\n\n    .dataframe tbody tr th {\n        vertical-align: top;\n    }\n\n    .dataframe thead th {\n        text-align: right;\n    }\n</style>\n<table border=\"1\" class=\"dataframe\">\n  <thead>\n    <tr style=\"text-align: right;\">\n      <th></th>\n      <th>A</th>\n      <th>B</th>\n      <th>C</th>\n      <th>D</th>\n      <th>F</th>\n    </tr>\n  </thead>\n  <tbody>\n    <tr>\n      <th>2013-01-01</th>\n      <td>0.000000</td>\n      <td>0.000000</td>\n      <td>-1.572647</td>\n      <td>-5.0</td>\n      <td>NaN</td>\n    </tr>\n    <tr>\n      <th>2013-01-02</th>\n      <td>-1.428894</td>\n      <td>-0.825014</td>\n      <td>-0.847679</td>\n      <td>-5.0</td>\n      <td>-1.0</td>\n    </tr>\n    <tr>\n      <th>2013-01-03</th>\n      <td>-0.669800</td>\n      <td>-0.274790</td>\n      <td>-1.006162</td>\n      <td>-5.0</td>\n      <td>-2.0</td>\n    </tr>\n    <tr>\n      <th>2013-01-04</th>\n      <td>-1.327075</td>\n      <td>-1.109091</td>\n      <td>-0.569616</td>\n      <td>-5.0</td>\n      <td>-3.0</td>\n    </tr>\n    <tr>\n      <th>2013-01-05</th>\n      <td>-0.719515</td>\n      <td>-0.752348</td>\n      <td>-0.881247</td>\n      <td>-5.0</td>\n      <td>-4.0</td>\n    </tr>\n    <tr>\n      <th>2013-01-06</th>\n      <td>-0.468485</td>\n      <td>-0.003140</td>\n      <td>-0.211682</td>\n      <td>-5.0</td>\n      <td>-5.0</td>\n    </tr>\n  </tbody>\n</table>\n</div>"
     },
     "execution_count": 43,
     "metadata": {},
     "output_type": "execute_result"
    }
   ],
   "source": [
    "df2 = df.copy()\n",
    "df2[df2 > 0] = -df\n",
    "df2"
   ],
   "metadata": {
    "collapsed": false,
    "ExecuteTime": {
     "end_time": "2023-12-25T16:02:32.837104214Z",
     "start_time": "2023-12-25T16:02:32.408302973Z"
    }
   },
   "id": "67d1de0c46abbb27",
   "execution_count": 43
  },
  {
   "cell_type": "markdown",
   "source": [
    "# Missing data"
   ],
   "metadata": {
    "collapsed": false
   },
   "id": "420c77d27e5ac5d3"
  },
  {
   "cell_type": "markdown",
   "source": [
    "#### Reindexing allows you to change/add/delete the index on a specified axis. This returns a copy of the data:"
   ],
   "metadata": {
    "collapsed": false
   },
   "id": "1a3f78cce951ae4c"
  },
  {
   "cell_type": "code",
   "outputs": [
    {
     "data": {
      "text/plain": "                   A         B         C    D    F    E\n2013-01-01  0.000000  0.000000  1.572647  5.0  NaN  1.0\n2013-01-02  1.428894 -0.825014  0.847679  5.0  1.0  1.0\n2013-01-03  0.669800 -0.274790  1.006162  5.0  2.0  NaN\n2013-01-04  1.327075 -1.109091 -0.569616  5.0  3.0  NaN",
      "text/html": "<div>\n<style scoped>\n    .dataframe tbody tr th:only-of-type {\n        vertical-align: middle;\n    }\n\n    .dataframe tbody tr th {\n        vertical-align: top;\n    }\n\n    .dataframe thead th {\n        text-align: right;\n    }\n</style>\n<table border=\"1\" class=\"dataframe\">\n  <thead>\n    <tr style=\"text-align: right;\">\n      <th></th>\n      <th>A</th>\n      <th>B</th>\n      <th>C</th>\n      <th>D</th>\n      <th>F</th>\n      <th>E</th>\n    </tr>\n  </thead>\n  <tbody>\n    <tr>\n      <th>2013-01-01</th>\n      <td>0.000000</td>\n      <td>0.000000</td>\n      <td>1.572647</td>\n      <td>5.0</td>\n      <td>NaN</td>\n      <td>1.0</td>\n    </tr>\n    <tr>\n      <th>2013-01-02</th>\n      <td>1.428894</td>\n      <td>-0.825014</td>\n      <td>0.847679</td>\n      <td>5.0</td>\n      <td>1.0</td>\n      <td>1.0</td>\n    </tr>\n    <tr>\n      <th>2013-01-03</th>\n      <td>0.669800</td>\n      <td>-0.274790</td>\n      <td>1.006162</td>\n      <td>5.0</td>\n      <td>2.0</td>\n      <td>NaN</td>\n    </tr>\n    <tr>\n      <th>2013-01-04</th>\n      <td>1.327075</td>\n      <td>-1.109091</td>\n      <td>-0.569616</td>\n      <td>5.0</td>\n      <td>3.0</td>\n      <td>NaN</td>\n    </tr>\n  </tbody>\n</table>\n</div>"
     },
     "execution_count": 44,
     "metadata": {},
     "output_type": "execute_result"
    }
   ],
   "source": [
    "df1 = df.reindex(index=dates[0:4], columns=list(df.columns) + [\"E\"])\n",
    "\n",
    "df1.loc[dates[0] : dates[1], \"E\"] = 1\n",
    "\n",
    "df1"
   ],
   "metadata": {
    "collapsed": false,
    "ExecuteTime": {
     "end_time": "2023-12-25T16:02:33.259117635Z",
     "start_time": "2023-12-25T16:02:32.776076777Z"
    }
   },
   "id": "62e0fdde682b2d60",
   "execution_count": 44
  },
  {
   "cell_type": "markdown",
   "source": [
    "#### DataFrame.dropna() drops any rows that have missing data:"
   ],
   "metadata": {
    "collapsed": false
   },
   "id": "f42a257538742bf0"
  },
  {
   "cell_type": "code",
   "outputs": [
    {
     "data": {
      "text/plain": "                   A         B         C    D    F    E\n2013-01-02  1.428894 -0.825014  0.847679  5.0  1.0  1.0",
      "text/html": "<div>\n<style scoped>\n    .dataframe tbody tr th:only-of-type {\n        vertical-align: middle;\n    }\n\n    .dataframe tbody tr th {\n        vertical-align: top;\n    }\n\n    .dataframe thead th {\n        text-align: right;\n    }\n</style>\n<table border=\"1\" class=\"dataframe\">\n  <thead>\n    <tr style=\"text-align: right;\">\n      <th></th>\n      <th>A</th>\n      <th>B</th>\n      <th>C</th>\n      <th>D</th>\n      <th>F</th>\n      <th>E</th>\n    </tr>\n  </thead>\n  <tbody>\n    <tr>\n      <th>2013-01-02</th>\n      <td>1.428894</td>\n      <td>-0.825014</td>\n      <td>0.847679</td>\n      <td>5.0</td>\n      <td>1.0</td>\n      <td>1.0</td>\n    </tr>\n  </tbody>\n</table>\n</div>"
     },
     "execution_count": 45,
     "metadata": {},
     "output_type": "execute_result"
    }
   ],
   "source": [
    "df1.dropna(how=\"any\")"
   ],
   "metadata": {
    "collapsed": false,
    "ExecuteTime": {
     "end_time": "2023-12-25T16:02:33.639189064Z",
     "start_time": "2023-12-25T16:02:33.060714395Z"
    }
   },
   "id": "3781fb3d3f026b92",
   "execution_count": 45
  },
  {
   "cell_type": "markdown",
   "source": [
    "#### DataFrame.fillna() fills missing data:"
   ],
   "metadata": {
    "collapsed": false
   },
   "id": "8e3237b7f37cc22b"
  },
  {
   "cell_type": "code",
   "outputs": [
    {
     "data": {
      "text/plain": "                   A         B         C    D    F    E\n2013-01-01  0.000000  0.000000  1.572647  5.0  5.0  1.0\n2013-01-02  1.428894 -0.825014  0.847679  5.0  1.0  1.0\n2013-01-03  0.669800 -0.274790  1.006162  5.0  2.0  5.0\n2013-01-04  1.327075 -1.109091 -0.569616  5.0  3.0  5.0",
      "text/html": "<div>\n<style scoped>\n    .dataframe tbody tr th:only-of-type {\n        vertical-align: middle;\n    }\n\n    .dataframe tbody tr th {\n        vertical-align: top;\n    }\n\n    .dataframe thead th {\n        text-align: right;\n    }\n</style>\n<table border=\"1\" class=\"dataframe\">\n  <thead>\n    <tr style=\"text-align: right;\">\n      <th></th>\n      <th>A</th>\n      <th>B</th>\n      <th>C</th>\n      <th>D</th>\n      <th>F</th>\n      <th>E</th>\n    </tr>\n  </thead>\n  <tbody>\n    <tr>\n      <th>2013-01-01</th>\n      <td>0.000000</td>\n      <td>0.000000</td>\n      <td>1.572647</td>\n      <td>5.0</td>\n      <td>5.0</td>\n      <td>1.0</td>\n    </tr>\n    <tr>\n      <th>2013-01-02</th>\n      <td>1.428894</td>\n      <td>-0.825014</td>\n      <td>0.847679</td>\n      <td>5.0</td>\n      <td>1.0</td>\n      <td>1.0</td>\n    </tr>\n    <tr>\n      <th>2013-01-03</th>\n      <td>0.669800</td>\n      <td>-0.274790</td>\n      <td>1.006162</td>\n      <td>5.0</td>\n      <td>2.0</td>\n      <td>5.0</td>\n    </tr>\n    <tr>\n      <th>2013-01-04</th>\n      <td>1.327075</td>\n      <td>-1.109091</td>\n      <td>-0.569616</td>\n      <td>5.0</td>\n      <td>3.0</td>\n      <td>5.0</td>\n    </tr>\n  </tbody>\n</table>\n</div>"
     },
     "execution_count": 46,
     "metadata": {},
     "output_type": "execute_result"
    }
   ],
   "source": [
    "df1.fillna(value=5)"
   ],
   "metadata": {
    "collapsed": false,
    "ExecuteTime": {
     "end_time": "2023-12-25T16:02:34.043453740Z",
     "start_time": "2023-12-25T16:02:33.632970228Z"
    }
   },
   "id": "714cfc89aebcfb95",
   "execution_count": 46
  },
  {
   "cell_type": "markdown",
   "source": [
    "#### isna() gets the boolean mask where values are nan:"
   ],
   "metadata": {
    "collapsed": false
   },
   "id": "bce40da72801a726"
  },
  {
   "cell_type": "code",
   "outputs": [
    {
     "data": {
      "text/plain": "                A      B      C      D      F      E\n2013-01-01  False  False  False  False   True  False\n2013-01-02  False  False  False  False  False  False\n2013-01-03  False  False  False  False  False   True\n2013-01-04  False  False  False  False  False   True",
      "text/html": "<div>\n<style scoped>\n    .dataframe tbody tr th:only-of-type {\n        vertical-align: middle;\n    }\n\n    .dataframe tbody tr th {\n        vertical-align: top;\n    }\n\n    .dataframe thead th {\n        text-align: right;\n    }\n</style>\n<table border=\"1\" class=\"dataframe\">\n  <thead>\n    <tr style=\"text-align: right;\">\n      <th></th>\n      <th>A</th>\n      <th>B</th>\n      <th>C</th>\n      <th>D</th>\n      <th>F</th>\n      <th>E</th>\n    </tr>\n  </thead>\n  <tbody>\n    <tr>\n      <th>2013-01-01</th>\n      <td>False</td>\n      <td>False</td>\n      <td>False</td>\n      <td>False</td>\n      <td>True</td>\n      <td>False</td>\n    </tr>\n    <tr>\n      <th>2013-01-02</th>\n      <td>False</td>\n      <td>False</td>\n      <td>False</td>\n      <td>False</td>\n      <td>False</td>\n      <td>False</td>\n    </tr>\n    <tr>\n      <th>2013-01-03</th>\n      <td>False</td>\n      <td>False</td>\n      <td>False</td>\n      <td>False</td>\n      <td>False</td>\n      <td>True</td>\n    </tr>\n    <tr>\n      <th>2013-01-04</th>\n      <td>False</td>\n      <td>False</td>\n      <td>False</td>\n      <td>False</td>\n      <td>False</td>\n      <td>True</td>\n    </tr>\n  </tbody>\n</table>\n</div>"
     },
     "execution_count": 47,
     "metadata": {},
     "output_type": "execute_result"
    }
   ],
   "source": [
    "pd.isna(df1)"
   ],
   "metadata": {
    "collapsed": false,
    "ExecuteTime": {
     "end_time": "2023-12-25T16:02:34.513230530Z",
     "start_time": "2023-12-25T16:02:34.014742202Z"
    }
   },
   "id": "90fa5a877646f1d4",
   "execution_count": 47
  },
  {
   "cell_type": "markdown",
   "source": [
    "# Operations"
   ],
   "metadata": {
    "collapsed": false
   },
   "id": "36d4d27281a8ae6a"
  },
  {
   "cell_type": "markdown",
   "source": [
    "## Stats"
   ],
   "metadata": {
    "collapsed": false
   },
   "id": "8f246fad2f142ef8"
  },
  {
   "cell_type": "markdown",
   "source": [
    "#### Operations in general exclude missing data."
   ],
   "metadata": {
    "collapsed": false
   },
   "id": "6640d622cc0554a4"
  },
  {
   "cell_type": "markdown",
   "source": [
    "#### Calculate the mean value for each column:"
   ],
   "metadata": {
    "collapsed": false
   },
   "id": "39fbaabb1dd90ab2"
  },
  {
   "cell_type": "code",
   "outputs": [
    {
     "data": {
      "text/plain": "A    0.768961\nB   -0.242234\nC    0.293990\nD    5.000000\nF    3.000000\ndtype: float64"
     },
     "execution_count": 48,
     "metadata": {},
     "output_type": "execute_result"
    }
   ],
   "source": [
    "df.mean()"
   ],
   "metadata": {
    "collapsed": false,
    "ExecuteTime": {
     "end_time": "2023-12-25T16:02:34.794217998Z",
     "start_time": "2023-12-25T16:02:34.347866801Z"
    }
   },
   "id": "872d2616f2158551",
   "execution_count": 48
  },
  {
   "cell_type": "markdown",
   "source": [
    "#### Calculate the mean value for each row:"
   ],
   "metadata": {
    "collapsed": false
   },
   "id": "13c77fe33aceb4dd"
  },
  {
   "cell_type": "code",
   "outputs": [
    {
     "data": {
      "text/plain": "2013-01-01    1.643162\n2013-01-02    1.490312\n2013-01-03    1.680235\n2013-01-04    1.529674\n2013-01-05    1.918123\n2013-01-06    2.051989\nFreq: D, dtype: float64"
     },
     "execution_count": 49,
     "metadata": {},
     "output_type": "execute_result"
    }
   ],
   "source": [
    "df.mean(axis=1)"
   ],
   "metadata": {
    "collapsed": false,
    "ExecuteTime": {
     "end_time": "2023-12-25T16:02:35.149345932Z",
     "start_time": "2023-12-25T16:02:34.804700332Z"
    }
   },
   "id": "d7235fd0ab969f5f",
   "execution_count": 49
  },
  {
   "cell_type": "markdown",
   "source": [
    "#### Работа с другой серией или DataFrame с другим индексом или столбцом приведет к выравниванию результата с объединением меток индекса или столбца. Кроме того, pandas автоматически транслирует данные по указанному измерению и заполняет невыровненные метки с помощью np.nan."
   ],
   "metadata": {
    "collapsed": false
   },
   "id": "685a96e0c9a13955"
  },
  {
   "cell_type": "code",
   "outputs": [
    {
     "data": {
      "text/plain": "2013-01-01    NaN\n2013-01-02    NaN\n2013-01-03    1.0\n2013-01-04    3.0\n2013-01-05    5.0\n2013-01-06    NaN\nFreq: D, dtype: float64"
     },
     "execution_count": 50,
     "metadata": {},
     "output_type": "execute_result"
    }
   ],
   "source": [
    "s = pd.Series([1, 3, 5, np.nan, 6, 8], index=dates).shift(2)\n",
    "s"
   ],
   "metadata": {
    "collapsed": false,
    "ExecuteTime": {
     "end_time": "2023-12-25T16:02:35.466815461Z",
     "start_time": "2023-12-25T16:02:35.136759679Z"
    }
   },
   "id": "ab4dd27ca788b464",
   "execution_count": 50
  },
  {
   "cell_type": "code",
   "outputs": [
    {
     "data": {
      "text/plain": "                   A         B         C    D    F\n2013-01-01  0.000000  0.000000  1.572647  5.0  NaN\n2013-01-02  1.428894 -0.825014  0.847679  5.0  1.0\n2013-01-03  0.669800 -0.274790  1.006162  5.0  2.0\n2013-01-04  1.327075 -1.109091 -0.569616  5.0  3.0\n2013-01-05  0.719515  0.752348 -0.881247  5.0  4.0\n2013-01-06  0.468485  0.003140 -0.211682  5.0  5.0",
      "text/html": "<div>\n<style scoped>\n    .dataframe tbody tr th:only-of-type {\n        vertical-align: middle;\n    }\n\n    .dataframe tbody tr th {\n        vertical-align: top;\n    }\n\n    .dataframe thead th {\n        text-align: right;\n    }\n</style>\n<table border=\"1\" class=\"dataframe\">\n  <thead>\n    <tr style=\"text-align: right;\">\n      <th></th>\n      <th>A</th>\n      <th>B</th>\n      <th>C</th>\n      <th>D</th>\n      <th>F</th>\n    </tr>\n  </thead>\n  <tbody>\n    <tr>\n      <th>2013-01-01</th>\n      <td>0.000000</td>\n      <td>0.000000</td>\n      <td>1.572647</td>\n      <td>5.0</td>\n      <td>NaN</td>\n    </tr>\n    <tr>\n      <th>2013-01-02</th>\n      <td>1.428894</td>\n      <td>-0.825014</td>\n      <td>0.847679</td>\n      <td>5.0</td>\n      <td>1.0</td>\n    </tr>\n    <tr>\n      <th>2013-01-03</th>\n      <td>0.669800</td>\n      <td>-0.274790</td>\n      <td>1.006162</td>\n      <td>5.0</td>\n      <td>2.0</td>\n    </tr>\n    <tr>\n      <th>2013-01-04</th>\n      <td>1.327075</td>\n      <td>-1.109091</td>\n      <td>-0.569616</td>\n      <td>5.0</td>\n      <td>3.0</td>\n    </tr>\n    <tr>\n      <th>2013-01-05</th>\n      <td>0.719515</td>\n      <td>0.752348</td>\n      <td>-0.881247</td>\n      <td>5.0</td>\n      <td>4.0</td>\n    </tr>\n    <tr>\n      <th>2013-01-06</th>\n      <td>0.468485</td>\n      <td>0.003140</td>\n      <td>-0.211682</td>\n      <td>5.0</td>\n      <td>5.0</td>\n    </tr>\n  </tbody>\n</table>\n</div>"
     },
     "execution_count": 51,
     "metadata": {},
     "output_type": "execute_result"
    }
   ],
   "source": [
    "df"
   ],
   "metadata": {
    "collapsed": false,
    "ExecuteTime": {
     "end_time": "2023-12-25T16:02:35.678060569Z",
     "start_time": "2023-12-25T16:02:35.377223037Z"
    }
   },
   "id": "a224e70beccaf585",
   "execution_count": 51
  },
  {
   "cell_type": "code",
   "outputs": [
    {
     "data": {
      "text/plain": "                   A         B         C    D    F\n2013-01-01       NaN       NaN       NaN  NaN  NaN\n2013-01-02       NaN       NaN       NaN  NaN  NaN\n2013-01-03 -0.330200 -1.274790  0.006162  4.0  1.0\n2013-01-04 -1.672925 -4.109091 -3.569616  2.0  0.0\n2013-01-05 -4.280485 -4.247652 -5.881247  0.0 -1.0\n2013-01-06       NaN       NaN       NaN  NaN  NaN",
      "text/html": "<div>\n<style scoped>\n    .dataframe tbody tr th:only-of-type {\n        vertical-align: middle;\n    }\n\n    .dataframe tbody tr th {\n        vertical-align: top;\n    }\n\n    .dataframe thead th {\n        text-align: right;\n    }\n</style>\n<table border=\"1\" class=\"dataframe\">\n  <thead>\n    <tr style=\"text-align: right;\">\n      <th></th>\n      <th>A</th>\n      <th>B</th>\n      <th>C</th>\n      <th>D</th>\n      <th>F</th>\n    </tr>\n  </thead>\n  <tbody>\n    <tr>\n      <th>2013-01-01</th>\n      <td>NaN</td>\n      <td>NaN</td>\n      <td>NaN</td>\n      <td>NaN</td>\n      <td>NaN</td>\n    </tr>\n    <tr>\n      <th>2013-01-02</th>\n      <td>NaN</td>\n      <td>NaN</td>\n      <td>NaN</td>\n      <td>NaN</td>\n      <td>NaN</td>\n    </tr>\n    <tr>\n      <th>2013-01-03</th>\n      <td>-0.330200</td>\n      <td>-1.274790</td>\n      <td>0.006162</td>\n      <td>4.0</td>\n      <td>1.0</td>\n    </tr>\n    <tr>\n      <th>2013-01-04</th>\n      <td>-1.672925</td>\n      <td>-4.109091</td>\n      <td>-3.569616</td>\n      <td>2.0</td>\n      <td>0.0</td>\n    </tr>\n    <tr>\n      <th>2013-01-05</th>\n      <td>-4.280485</td>\n      <td>-4.247652</td>\n      <td>-5.881247</td>\n      <td>0.0</td>\n      <td>-1.0</td>\n    </tr>\n    <tr>\n      <th>2013-01-06</th>\n      <td>NaN</td>\n      <td>NaN</td>\n      <td>NaN</td>\n      <td>NaN</td>\n      <td>NaN</td>\n    </tr>\n  </tbody>\n</table>\n</div>"
     },
     "execution_count": 52,
     "metadata": {},
     "output_type": "execute_result"
    }
   ],
   "source": [
    "df.sub(s, axis=\"index\")"
   ],
   "metadata": {
    "collapsed": false,
    "ExecuteTime": {
     "end_time": "2023-12-25T16:02:35.945131339Z",
     "start_time": "2023-12-25T16:02:35.670658200Z"
    }
   },
   "id": "4bef4d259c016a16",
   "execution_count": 52
  },
  {
   "cell_type": "markdown",
   "source": [
    "## User defined functions"
   ],
   "metadata": {
    "collapsed": false
   },
   "id": "e6aff1508e777211"
  },
  {
   "cell_type": "markdown",
   "source": [
    "#### DataFrame.agg() and DataFrame.transform() applies a user defined function that reduces or broadcasts its result respectively."
   ],
   "metadata": {
    "collapsed": false
   },
   "id": "2bb95f38ad0e6649"
  },
  {
   "cell_type": "code",
   "outputs": [
    {
     "data": {
      "text/plain": "A     4.306184\nB    -1.356512\nC     1.646346\nD    28.000000\nF    16.800000\ndtype: float64"
     },
     "execution_count": 53,
     "metadata": {},
     "output_type": "execute_result"
    }
   ],
   "source": [
    "df.agg(lambda x: np.mean(x) * 5.6)"
   ],
   "metadata": {
    "collapsed": false,
    "ExecuteTime": {
     "end_time": "2023-12-25T16:02:36.187211567Z",
     "start_time": "2023-12-25T16:02:35.921574618Z"
    }
   },
   "id": "a825a5d7cca30389",
   "execution_count": 53
  },
  {
   "cell_type": "code",
   "outputs": [
    {
     "data": {
      "text/plain": "                     A           B           C      D      F\n2013-01-01    0.000000    0.000000  159.151849  506.0    NaN\n2013-01-02  144.604024  -83.491407   85.785126  506.0  101.2\n2013-01-03   67.783779  -27.808706  101.823614  506.0  202.4\n2013-01-04  134.300008 -112.240002  -57.645168  506.0  303.6\n2013-01-05   72.814906   76.137666  -89.182199  506.0  404.8\n2013-01-06   47.410650    0.317799  -21.422224  506.0  506.0",
      "text/html": "<div>\n<style scoped>\n    .dataframe tbody tr th:only-of-type {\n        vertical-align: middle;\n    }\n\n    .dataframe tbody tr th {\n        vertical-align: top;\n    }\n\n    .dataframe thead th {\n        text-align: right;\n    }\n</style>\n<table border=\"1\" class=\"dataframe\">\n  <thead>\n    <tr style=\"text-align: right;\">\n      <th></th>\n      <th>A</th>\n      <th>B</th>\n      <th>C</th>\n      <th>D</th>\n      <th>F</th>\n    </tr>\n  </thead>\n  <tbody>\n    <tr>\n      <th>2013-01-01</th>\n      <td>0.000000</td>\n      <td>0.000000</td>\n      <td>159.151849</td>\n      <td>506.0</td>\n      <td>NaN</td>\n    </tr>\n    <tr>\n      <th>2013-01-02</th>\n      <td>144.604024</td>\n      <td>-83.491407</td>\n      <td>85.785126</td>\n      <td>506.0</td>\n      <td>101.2</td>\n    </tr>\n    <tr>\n      <th>2013-01-03</th>\n      <td>67.783779</td>\n      <td>-27.808706</td>\n      <td>101.823614</td>\n      <td>506.0</td>\n      <td>202.4</td>\n    </tr>\n    <tr>\n      <th>2013-01-04</th>\n      <td>134.300008</td>\n      <td>-112.240002</td>\n      <td>-57.645168</td>\n      <td>506.0</td>\n      <td>303.6</td>\n    </tr>\n    <tr>\n      <th>2013-01-05</th>\n      <td>72.814906</td>\n      <td>76.137666</td>\n      <td>-89.182199</td>\n      <td>506.0</td>\n      <td>404.8</td>\n    </tr>\n    <tr>\n      <th>2013-01-06</th>\n      <td>47.410650</td>\n      <td>0.317799</td>\n      <td>-21.422224</td>\n      <td>506.0</td>\n      <td>506.0</td>\n    </tr>\n  </tbody>\n</table>\n</div>"
     },
     "execution_count": 54,
     "metadata": {},
     "output_type": "execute_result"
    }
   ],
   "source": [
    "df.transform(lambda x: x * 101.2)"
   ],
   "metadata": {
    "collapsed": false,
    "ExecuteTime": {
     "end_time": "2023-12-25T16:02:36.513671174Z",
     "start_time": "2023-12-25T16:02:36.168768058Z"
    }
   },
   "id": "322c6d9d247c6008",
   "execution_count": 54
  },
  {
   "cell_type": "markdown",
   "source": [
    "## Value counts"
   ],
   "metadata": {
    "collapsed": false
   },
   "id": "e10a203524db351d"
  },
  {
   "cell_type": "code",
   "outputs": [
    {
     "data": {
      "text/plain": "0    4\n1    5\n2    5\n3    2\n4    0\n5    0\n6    6\n7    6\n8    5\n9    0\ndtype: int64"
     },
     "execution_count": 55,
     "metadata": {},
     "output_type": "execute_result"
    }
   ],
   "source": [
    "s = pd.Series(np.random.randint(0, 7, size=10))\n",
    "s"
   ],
   "metadata": {
    "collapsed": false,
    "ExecuteTime": {
     "end_time": "2023-12-25T16:02:36.910671443Z",
     "start_time": "2023-12-25T16:02:36.488922623Z"
    }
   },
   "id": "b35cec935d0b1779",
   "execution_count": 55
  },
  {
   "cell_type": "code",
   "outputs": [
    {
     "data": {
      "text/plain": "5    3\n0    3\n6    2\n4    1\n2    1\nName: count, dtype: int64"
     },
     "execution_count": 56,
     "metadata": {},
     "output_type": "execute_result"
    }
   ],
   "source": [
    "s.value_counts()"
   ],
   "metadata": {
    "collapsed": false,
    "ExecuteTime": {
     "end_time": "2023-12-25T16:02:37.133765123Z",
     "start_time": "2023-12-25T16:02:36.768356874Z"
    }
   },
   "id": "a03a8cf22e9b0145",
   "execution_count": 56
  },
  {
   "cell_type": "markdown",
   "source": [
    "## String methods"
   ],
   "metadata": {
    "collapsed": false
   },
   "id": "7889a5c7ac990018"
  },
  {
   "cell_type": "markdown",
   "source": [
    "#### Series is equipped with a set of string processing methods in the str attribute that make it easy to operate on each element of the array, as in the code snippet below. See more at Vectorized String Methods."
   ],
   "metadata": {
    "collapsed": false
   },
   "id": "e40dd97c5405af7f"
  },
  {
   "cell_type": "code",
   "outputs": [
    {
     "data": {
      "text/plain": "0       a\n1       b\n2       c\n3    aaba\n4    baca\n5     NaN\n6    caba\n7     dog\n8     cat\ndtype: object"
     },
     "execution_count": 57,
     "metadata": {},
     "output_type": "execute_result"
    }
   ],
   "source": [
    "s = pd.Series([\"A\", \"B\", \"C\", \"Aaba\", \"Baca\", np.nan, \"CABA\", \"dog\", \"cat\"])\n",
    "s.str.lower()"
   ],
   "metadata": {
    "collapsed": false,
    "ExecuteTime": {
     "end_time": "2023-12-25T16:02:37.479173028Z",
     "start_time": "2023-12-25T16:02:37.112280551Z"
    }
   },
   "id": "25736562cfe5d577",
   "execution_count": 57
  },
  {
   "cell_type": "markdown",
   "source": [
    "# Merge"
   ],
   "metadata": {
    "collapsed": false
   },
   "id": "2f1d5464f53ac6fe"
  },
  {
   "cell_type": "markdown",
   "source": [
    "## Concat"
   ],
   "metadata": {
    "collapsed": false
   },
   "id": "c895ee92e4e9e3a5"
  },
  {
   "cell_type": "markdown",
   "source": [
    "#### pandas provides various facilities for easily combining together Series` and DataFrame objects with various kinds of set logic for the indexes and relational algebra functionality in the case of join / merge-type operations. See the Merging section."
   ],
   "metadata": {
    "collapsed": false
   },
   "id": "df07d6eda167410b"
  },
  {
   "cell_type": "markdown",
   "source": [
    "#### Concatenating pandas objects together row-wise with concat():"
   ],
   "metadata": {
    "collapsed": false
   },
   "id": "c0f469ae21b29978"
  },
  {
   "cell_type": "code",
   "outputs": [
    {
     "data": {
      "text/plain": "          0         1         2         3\n0  0.308428  0.375563 -0.118428 -1.089821\n1 -0.933289  0.261574  0.231799 -1.083166\n2 -1.465772  0.482489 -0.104045 -0.163440\n3 -0.257274  0.190751  0.457306 -0.661486\n4 -0.278076  0.506653 -0.293501 -0.324994\n5 -1.314467  2.606302 -0.675680 -2.413944\n6  1.360287  1.401438 -0.945636 -0.070811\n7  1.068371 -1.685217 -1.068911 -1.064030\n8  0.191969 -1.352341 -0.685072  0.781435\n9  0.563879 -0.001888 -0.248003 -0.045772",
      "text/html": "<div>\n<style scoped>\n    .dataframe tbody tr th:only-of-type {\n        vertical-align: middle;\n    }\n\n    .dataframe tbody tr th {\n        vertical-align: top;\n    }\n\n    .dataframe thead th {\n        text-align: right;\n    }\n</style>\n<table border=\"1\" class=\"dataframe\">\n  <thead>\n    <tr style=\"text-align: right;\">\n      <th></th>\n      <th>0</th>\n      <th>1</th>\n      <th>2</th>\n      <th>3</th>\n    </tr>\n  </thead>\n  <tbody>\n    <tr>\n      <th>0</th>\n      <td>0.308428</td>\n      <td>0.375563</td>\n      <td>-0.118428</td>\n      <td>-1.089821</td>\n    </tr>\n    <tr>\n      <th>1</th>\n      <td>-0.933289</td>\n      <td>0.261574</td>\n      <td>0.231799</td>\n      <td>-1.083166</td>\n    </tr>\n    <tr>\n      <th>2</th>\n      <td>-1.465772</td>\n      <td>0.482489</td>\n      <td>-0.104045</td>\n      <td>-0.163440</td>\n    </tr>\n    <tr>\n      <th>3</th>\n      <td>-0.257274</td>\n      <td>0.190751</td>\n      <td>0.457306</td>\n      <td>-0.661486</td>\n    </tr>\n    <tr>\n      <th>4</th>\n      <td>-0.278076</td>\n      <td>0.506653</td>\n      <td>-0.293501</td>\n      <td>-0.324994</td>\n    </tr>\n    <tr>\n      <th>5</th>\n      <td>-1.314467</td>\n      <td>2.606302</td>\n      <td>-0.675680</td>\n      <td>-2.413944</td>\n    </tr>\n    <tr>\n      <th>6</th>\n      <td>1.360287</td>\n      <td>1.401438</td>\n      <td>-0.945636</td>\n      <td>-0.070811</td>\n    </tr>\n    <tr>\n      <th>7</th>\n      <td>1.068371</td>\n      <td>-1.685217</td>\n      <td>-1.068911</td>\n      <td>-1.064030</td>\n    </tr>\n    <tr>\n      <th>8</th>\n      <td>0.191969</td>\n      <td>-1.352341</td>\n      <td>-0.685072</td>\n      <td>0.781435</td>\n    </tr>\n    <tr>\n      <th>9</th>\n      <td>0.563879</td>\n      <td>-0.001888</td>\n      <td>-0.248003</td>\n      <td>-0.045772</td>\n    </tr>\n  </tbody>\n</table>\n</div>"
     },
     "execution_count": 58,
     "metadata": {},
     "output_type": "execute_result"
    }
   ],
   "source": [
    "df = pd.DataFrame(np.random.randn(10, 4))\n",
    "df"
   ],
   "metadata": {
    "collapsed": false,
    "ExecuteTime": {
     "end_time": "2023-12-25T16:02:37.849255803Z",
     "start_time": "2023-12-25T16:02:37.448015187Z"
    }
   },
   "id": "96df73034c5cc7d7",
   "execution_count": 58
  },
  {
   "cell_type": "code",
   "outputs": [
    {
     "data": {
      "text/plain": "          0         1         2         3\n0  0.308428  0.375563 -0.118428 -1.089821\n1 -0.933289  0.261574  0.231799 -1.083166\n2 -1.465772  0.482489 -0.104045 -0.163440\n3 -0.257274  0.190751  0.457306 -0.661486\n4 -0.278076  0.506653 -0.293501 -0.324994\n5 -1.314467  2.606302 -0.675680 -2.413944\n6  1.360287  1.401438 -0.945636 -0.070811\n7  1.068371 -1.685217 -1.068911 -1.064030\n8  0.191969 -1.352341 -0.685072  0.781435\n9  0.563879 -0.001888 -0.248003 -0.045772",
      "text/html": "<div>\n<style scoped>\n    .dataframe tbody tr th:only-of-type {\n        vertical-align: middle;\n    }\n\n    .dataframe tbody tr th {\n        vertical-align: top;\n    }\n\n    .dataframe thead th {\n        text-align: right;\n    }\n</style>\n<table border=\"1\" class=\"dataframe\">\n  <thead>\n    <tr style=\"text-align: right;\">\n      <th></th>\n      <th>0</th>\n      <th>1</th>\n      <th>2</th>\n      <th>3</th>\n    </tr>\n  </thead>\n  <tbody>\n    <tr>\n      <th>0</th>\n      <td>0.308428</td>\n      <td>0.375563</td>\n      <td>-0.118428</td>\n      <td>-1.089821</td>\n    </tr>\n    <tr>\n      <th>1</th>\n      <td>-0.933289</td>\n      <td>0.261574</td>\n      <td>0.231799</td>\n      <td>-1.083166</td>\n    </tr>\n    <tr>\n      <th>2</th>\n      <td>-1.465772</td>\n      <td>0.482489</td>\n      <td>-0.104045</td>\n      <td>-0.163440</td>\n    </tr>\n    <tr>\n      <th>3</th>\n      <td>-0.257274</td>\n      <td>0.190751</td>\n      <td>0.457306</td>\n      <td>-0.661486</td>\n    </tr>\n    <tr>\n      <th>4</th>\n      <td>-0.278076</td>\n      <td>0.506653</td>\n      <td>-0.293501</td>\n      <td>-0.324994</td>\n    </tr>\n    <tr>\n      <th>5</th>\n      <td>-1.314467</td>\n      <td>2.606302</td>\n      <td>-0.675680</td>\n      <td>-2.413944</td>\n    </tr>\n    <tr>\n      <th>6</th>\n      <td>1.360287</td>\n      <td>1.401438</td>\n      <td>-0.945636</td>\n      <td>-0.070811</td>\n    </tr>\n    <tr>\n      <th>7</th>\n      <td>1.068371</td>\n      <td>-1.685217</td>\n      <td>-1.068911</td>\n      <td>-1.064030</td>\n    </tr>\n    <tr>\n      <th>8</th>\n      <td>0.191969</td>\n      <td>-1.352341</td>\n      <td>-0.685072</td>\n      <td>0.781435</td>\n    </tr>\n    <tr>\n      <th>9</th>\n      <td>0.563879</td>\n      <td>-0.001888</td>\n      <td>-0.248003</td>\n      <td>-0.045772</td>\n    </tr>\n  </tbody>\n</table>\n</div>"
     },
     "execution_count": 59,
     "metadata": {},
     "output_type": "execute_result"
    }
   ],
   "source": [
    "# break it into pieces\n",
    "pieces = [df[:3], df[3:7], df[7:]]\n",
    "pd.concat(pieces)"
   ],
   "metadata": {
    "collapsed": false,
    "ExecuteTime": {
     "end_time": "2023-12-25T16:02:38.055261706Z",
     "start_time": "2023-12-25T16:02:37.692588072Z"
    }
   },
   "id": "94dee98d35c8f476",
   "execution_count": 59
  },
  {
   "cell_type": "markdown",
   "source": [
    "#### Adding a column to a DataFrame is relatively fast. However, adding a row requires a copy, and may be expensive. We recommend passing a pre-built list of records to the DataFrame constructor instead of building a DataFrame by iteratively appending records to it."
   ],
   "metadata": {
    "collapsed": false
   },
   "id": "29eb9ab61a31f200"
  },
  {
   "cell_type": "markdown",
   "source": [
    "## Join"
   ],
   "metadata": {
    "collapsed": false
   },
   "id": "483f5cd8a468cf07"
  },
  {
   "cell_type": "markdown",
   "source": [
    "#### merge() enables SQL style join types along specific columns. See the Database style joining section."
   ],
   "metadata": {
    "collapsed": false
   },
   "id": "bfc94c1c41997a5f"
  },
  {
   "cell_type": "code",
   "outputs": [],
   "source": [
    "left = pd.DataFrame({\"key\": [\"foo\", \"foo\"], \"lval\": [1, 2]})\n",
    "right = pd.DataFrame({\"key\": [\"foo\", \"foo\"], \"rval\": [4, 5]})"
   ],
   "metadata": {
    "collapsed": false,
    "ExecuteTime": {
     "end_time": "2023-12-25T16:02:38.313098444Z",
     "start_time": "2023-12-25T16:02:38.007159966Z"
    }
   },
   "id": "f609c3ae6924a57b",
   "execution_count": 60
  },
  {
   "cell_type": "code",
   "outputs": [
    {
     "data": {
      "text/plain": "   key  lval\n0  foo     1\n1  foo     2",
      "text/html": "<div>\n<style scoped>\n    .dataframe tbody tr th:only-of-type {\n        vertical-align: middle;\n    }\n\n    .dataframe tbody tr th {\n        vertical-align: top;\n    }\n\n    .dataframe thead th {\n        text-align: right;\n    }\n</style>\n<table border=\"1\" class=\"dataframe\">\n  <thead>\n    <tr style=\"text-align: right;\">\n      <th></th>\n      <th>key</th>\n      <th>lval</th>\n    </tr>\n  </thead>\n  <tbody>\n    <tr>\n      <th>0</th>\n      <td>foo</td>\n      <td>1</td>\n    </tr>\n    <tr>\n      <th>1</th>\n      <td>foo</td>\n      <td>2</td>\n    </tr>\n  </tbody>\n</table>\n</div>"
     },
     "execution_count": 61,
     "metadata": {},
     "output_type": "execute_result"
    }
   ],
   "source": [
    "left"
   ],
   "metadata": {
    "collapsed": false,
    "ExecuteTime": {
     "end_time": "2023-12-25T16:02:38.588108793Z",
     "start_time": "2023-12-25T16:02:38.307219417Z"
    }
   },
   "id": "220c185f9504bcaa",
   "execution_count": 61
  },
  {
   "cell_type": "code",
   "outputs": [
    {
     "data": {
      "text/plain": "   key  rval\n0  foo     4\n1  foo     5",
      "text/html": "<div>\n<style scoped>\n    .dataframe tbody tr th:only-of-type {\n        vertical-align: middle;\n    }\n\n    .dataframe tbody tr th {\n        vertical-align: top;\n    }\n\n    .dataframe thead th {\n        text-align: right;\n    }\n</style>\n<table border=\"1\" class=\"dataframe\">\n  <thead>\n    <tr style=\"text-align: right;\">\n      <th></th>\n      <th>key</th>\n      <th>rval</th>\n    </tr>\n  </thead>\n  <tbody>\n    <tr>\n      <th>0</th>\n      <td>foo</td>\n      <td>4</td>\n    </tr>\n    <tr>\n      <th>1</th>\n      <td>foo</td>\n      <td>5</td>\n    </tr>\n  </tbody>\n</table>\n</div>"
     },
     "execution_count": 62,
     "metadata": {},
     "output_type": "execute_result"
    }
   ],
   "source": [
    "right"
   ],
   "metadata": {
    "collapsed": false,
    "ExecuteTime": {
     "end_time": "2023-12-25T16:02:38.926167784Z",
     "start_time": "2023-12-25T16:02:38.575177493Z"
    }
   },
   "id": "c631c22b30a587f",
   "execution_count": 62
  },
  {
   "cell_type": "code",
   "outputs": [
    {
     "data": {
      "text/plain": "   key  lval  rval\n0  foo     1     4\n1  foo     1     5\n2  foo     2     4\n3  foo     2     5",
      "text/html": "<div>\n<style scoped>\n    .dataframe tbody tr th:only-of-type {\n        vertical-align: middle;\n    }\n\n    .dataframe tbody tr th {\n        vertical-align: top;\n    }\n\n    .dataframe thead th {\n        text-align: right;\n    }\n</style>\n<table border=\"1\" class=\"dataframe\">\n  <thead>\n    <tr style=\"text-align: right;\">\n      <th></th>\n      <th>key</th>\n      <th>lval</th>\n      <th>rval</th>\n    </tr>\n  </thead>\n  <tbody>\n    <tr>\n      <th>0</th>\n      <td>foo</td>\n      <td>1</td>\n      <td>4</td>\n    </tr>\n    <tr>\n      <th>1</th>\n      <td>foo</td>\n      <td>1</td>\n      <td>5</td>\n    </tr>\n    <tr>\n      <th>2</th>\n      <td>foo</td>\n      <td>2</td>\n      <td>4</td>\n    </tr>\n    <tr>\n      <th>3</th>\n      <td>foo</td>\n      <td>2</td>\n      <td>5</td>\n    </tr>\n  </tbody>\n</table>\n</div>"
     },
     "execution_count": 63,
     "metadata": {},
     "output_type": "execute_result"
    }
   ],
   "source": [
    "pd.merge(left, right, on=\"key\")"
   ],
   "metadata": {
    "collapsed": false,
    "ExecuteTime": {
     "end_time": "2023-12-25T16:02:39.368949994Z",
     "start_time": "2023-12-25T16:02:38.932810906Z"
    }
   },
   "id": "57a7eda324d3bda0",
   "execution_count": 63
  },
  {
   "cell_type": "markdown",
   "source": [
    "#### merge() on unique keys:"
   ],
   "metadata": {
    "collapsed": false
   },
   "id": "f897053e60c0e96c"
  },
  {
   "cell_type": "code",
   "outputs": [],
   "source": [
    "left = pd.DataFrame({\"key\": [\"foo\", \"bar\"], \"lval\": [1, 2]})\n",
    "right = pd.DataFrame({\"key\": [\"foo\", \"bar\"], \"rval\": [4, 5]})"
   ],
   "metadata": {
    "collapsed": false,
    "ExecuteTime": {
     "end_time": "2023-12-25T16:02:39.543549504Z",
     "start_time": "2023-12-25T16:02:39.161958760Z"
    }
   },
   "id": "77edbf29ac96fe25",
   "execution_count": 64
  },
  {
   "cell_type": "code",
   "outputs": [
    {
     "data": {
      "text/plain": "   key  lval\n0  foo     1\n1  bar     2",
      "text/html": "<div>\n<style scoped>\n    .dataframe tbody tr th:only-of-type {\n        vertical-align: middle;\n    }\n\n    .dataframe tbody tr th {\n        vertical-align: top;\n    }\n\n    .dataframe thead th {\n        text-align: right;\n    }\n</style>\n<table border=\"1\" class=\"dataframe\">\n  <thead>\n    <tr style=\"text-align: right;\">\n      <th></th>\n      <th>key</th>\n      <th>lval</th>\n    </tr>\n  </thead>\n  <tbody>\n    <tr>\n      <th>0</th>\n      <td>foo</td>\n      <td>1</td>\n    </tr>\n    <tr>\n      <th>1</th>\n      <td>bar</td>\n      <td>2</td>\n    </tr>\n  </tbody>\n</table>\n</div>"
     },
     "execution_count": 65,
     "metadata": {},
     "output_type": "execute_result"
    }
   ],
   "source": [
    "left"
   ],
   "metadata": {
    "collapsed": false,
    "ExecuteTime": {
     "end_time": "2023-12-25T16:02:39.949603090Z",
     "start_time": "2023-12-25T16:02:39.515770978Z"
    }
   },
   "id": "acc9af404081e705",
   "execution_count": 65
  },
  {
   "cell_type": "code",
   "outputs": [
    {
     "data": {
      "text/plain": "   key  rval\n0  foo     4\n1  bar     5",
      "text/html": "<div>\n<style scoped>\n    .dataframe tbody tr th:only-of-type {\n        vertical-align: middle;\n    }\n\n    .dataframe tbody tr th {\n        vertical-align: top;\n    }\n\n    .dataframe thead th {\n        text-align: right;\n    }\n</style>\n<table border=\"1\" class=\"dataframe\">\n  <thead>\n    <tr style=\"text-align: right;\">\n      <th></th>\n      <th>key</th>\n      <th>rval</th>\n    </tr>\n  </thead>\n  <tbody>\n    <tr>\n      <th>0</th>\n      <td>foo</td>\n      <td>4</td>\n    </tr>\n    <tr>\n      <th>1</th>\n      <td>bar</td>\n      <td>5</td>\n    </tr>\n  </tbody>\n</table>\n</div>"
     },
     "execution_count": 66,
     "metadata": {},
     "output_type": "execute_result"
    }
   ],
   "source": [
    "right"
   ],
   "metadata": {
    "collapsed": false,
    "ExecuteTime": {
     "end_time": "2023-12-25T16:02:40.298614012Z",
     "start_time": "2023-12-25T16:02:39.910829414Z"
    }
   },
   "id": "87b68e57fcb7cf96",
   "execution_count": 66
  },
  {
   "cell_type": "code",
   "outputs": [
    {
     "data": {
      "text/plain": "   key  lval  rval\n0  foo     1     4\n1  bar     2     5",
      "text/html": "<div>\n<style scoped>\n    .dataframe tbody tr th:only-of-type {\n        vertical-align: middle;\n    }\n\n    .dataframe tbody tr th {\n        vertical-align: top;\n    }\n\n    .dataframe thead th {\n        text-align: right;\n    }\n</style>\n<table border=\"1\" class=\"dataframe\">\n  <thead>\n    <tr style=\"text-align: right;\">\n      <th></th>\n      <th>key</th>\n      <th>lval</th>\n      <th>rval</th>\n    </tr>\n  </thead>\n  <tbody>\n    <tr>\n      <th>0</th>\n      <td>foo</td>\n      <td>1</td>\n      <td>4</td>\n    </tr>\n    <tr>\n      <th>1</th>\n      <td>bar</td>\n      <td>2</td>\n      <td>5</td>\n    </tr>\n  </tbody>\n</table>\n</div>"
     },
     "execution_count": 67,
     "metadata": {},
     "output_type": "execute_result"
    }
   ],
   "source": [
    "pd.merge(left, right, on=\"key\")"
   ],
   "metadata": {
    "collapsed": false,
    "ExecuteTime": {
     "end_time": "2023-12-25T16:02:40.554537823Z",
     "start_time": "2023-12-25T16:02:40.183697146Z"
    }
   },
   "id": "e6cc76af10004efa",
   "execution_count": 67
  },
  {
   "cell_type": "markdown",
   "source": [
    "# Grouping"
   ],
   "metadata": {
    "collapsed": false
   },
   "id": "23e103eac1548800"
  },
  {
   "cell_type": "markdown",
   "source": [
    "#### By “group by” we are referring to a process involving one or more of the following steps:\n",
    "\n",
    "#### 1. Splitting the data into groups based on some criteria\n",
    "\n",
    "#### 2. Applying a function to each group independently\n",
    "\n",
    "#### 3. Combining the results into a data structure\n",
    "\n",
    "#### See the Grouping section."
   ],
   "metadata": {
    "collapsed": false
   },
   "id": "a9fe561fabe97531"
  },
  {
   "cell_type": "code",
   "outputs": [
    {
     "data": {
      "text/plain": "     A      B         C         D\n0  foo    one  0.289600 -1.716497\n1  bar    one -1.542522  0.260183\n2  foo    two  0.380181  0.650192\n3  bar  three -1.228638  0.388001\n4  foo    two  0.723156  1.695388\n5  bar    two -0.106186  1.790665\n6  foo    one  2.211459  1.080435\n7  foo  three -0.099452  0.261128",
      "text/html": "<div>\n<style scoped>\n    .dataframe tbody tr th:only-of-type {\n        vertical-align: middle;\n    }\n\n    .dataframe tbody tr th {\n        vertical-align: top;\n    }\n\n    .dataframe thead th {\n        text-align: right;\n    }\n</style>\n<table border=\"1\" class=\"dataframe\">\n  <thead>\n    <tr style=\"text-align: right;\">\n      <th></th>\n      <th>A</th>\n      <th>B</th>\n      <th>C</th>\n      <th>D</th>\n    </tr>\n  </thead>\n  <tbody>\n    <tr>\n      <th>0</th>\n      <td>foo</td>\n      <td>one</td>\n      <td>0.289600</td>\n      <td>-1.716497</td>\n    </tr>\n    <tr>\n      <th>1</th>\n      <td>bar</td>\n      <td>one</td>\n      <td>-1.542522</td>\n      <td>0.260183</td>\n    </tr>\n    <tr>\n      <th>2</th>\n      <td>foo</td>\n      <td>two</td>\n      <td>0.380181</td>\n      <td>0.650192</td>\n    </tr>\n    <tr>\n      <th>3</th>\n      <td>bar</td>\n      <td>three</td>\n      <td>-1.228638</td>\n      <td>0.388001</td>\n    </tr>\n    <tr>\n      <th>4</th>\n      <td>foo</td>\n      <td>two</td>\n      <td>0.723156</td>\n      <td>1.695388</td>\n    </tr>\n    <tr>\n      <th>5</th>\n      <td>bar</td>\n      <td>two</td>\n      <td>-0.106186</td>\n      <td>1.790665</td>\n    </tr>\n    <tr>\n      <th>6</th>\n      <td>foo</td>\n      <td>one</td>\n      <td>2.211459</td>\n      <td>1.080435</td>\n    </tr>\n    <tr>\n      <th>7</th>\n      <td>foo</td>\n      <td>three</td>\n      <td>-0.099452</td>\n      <td>0.261128</td>\n    </tr>\n  </tbody>\n</table>\n</div>"
     },
     "execution_count": 68,
     "metadata": {},
     "output_type": "execute_result"
    }
   ],
   "source": [
    "df = pd.DataFrame(\n",
    "    {\n",
    "        \"A\": [\"foo\", \"bar\", \"foo\", \"bar\", \"foo\", \"bar\", \"foo\", \"foo\"],\n",
    "        \"B\": [\"one\", \"one\", \"two\", \"three\", \"two\", \"two\", \"one\", \"three\"],\n",
    "        \"C\": np.random.randn(8),\n",
    "        \"D\": np.random.randn(8),\n",
    "    }\n",
    ")\n",
    "df"
   ],
   "metadata": {
    "collapsed": false,
    "ExecuteTime": {
     "end_time": "2023-12-25T16:02:40.980089680Z",
     "start_time": "2023-12-25T16:02:40.533083308Z"
    }
   },
   "id": "99e8ab4b72edb082",
   "execution_count": 68
  },
  {
   "cell_type": "markdown",
   "source": [
    "#### Grouping by a column label, selecting column labels, and then applying the sum() function to the resulting groups:"
   ],
   "metadata": {
    "collapsed": false
   },
   "id": "13dae37d17c358f2"
  },
  {
   "cell_type": "code",
   "outputs": [
    {
     "data": {
      "text/plain": "            C         D\nA                      \nbar -2.877346  2.438850\nfoo  3.504943  1.970646",
      "text/html": "<div>\n<style scoped>\n    .dataframe tbody tr th:only-of-type {\n        vertical-align: middle;\n    }\n\n    .dataframe tbody tr th {\n        vertical-align: top;\n    }\n\n    .dataframe thead th {\n        text-align: right;\n    }\n</style>\n<table border=\"1\" class=\"dataframe\">\n  <thead>\n    <tr style=\"text-align: right;\">\n      <th></th>\n      <th>C</th>\n      <th>D</th>\n    </tr>\n    <tr>\n      <th>A</th>\n      <th></th>\n      <th></th>\n    </tr>\n  </thead>\n  <tbody>\n    <tr>\n      <th>bar</th>\n      <td>-2.877346</td>\n      <td>2.438850</td>\n    </tr>\n    <tr>\n      <th>foo</th>\n      <td>3.504943</td>\n      <td>1.970646</td>\n    </tr>\n  </tbody>\n</table>\n</div>"
     },
     "execution_count": 69,
     "metadata": {},
     "output_type": "execute_result"
    }
   ],
   "source": [
    "df.groupby(\"A\")[[\"C\", \"D\"]].sum()"
   ],
   "metadata": {
    "collapsed": false,
    "ExecuteTime": {
     "end_time": "2023-12-25T16:02:41.488917046Z",
     "start_time": "2023-12-25T16:02:40.909022085Z"
    }
   },
   "id": "332f0549d2a27a4f",
   "execution_count": 69
  },
  {
   "cell_type": "markdown",
   "source": [
    "#### Grouping by multiple columns label forms MultiIndex."
   ],
   "metadata": {
    "collapsed": false
   },
   "id": "ae096cdc20d5104f"
  },
  {
   "cell_type": "code",
   "outputs": [
    {
     "data": {
      "text/plain": "                  C         D\nA   B                        \nbar one   -1.542522  0.260183\n    three -1.228638  0.388001\n    two   -0.106186  1.790665\nfoo one    2.501058 -0.636062\n    three -0.099452  0.261128\n    two    1.103336  2.345580",
      "text/html": "<div>\n<style scoped>\n    .dataframe tbody tr th:only-of-type {\n        vertical-align: middle;\n    }\n\n    .dataframe tbody tr th {\n        vertical-align: top;\n    }\n\n    .dataframe thead th {\n        text-align: right;\n    }\n</style>\n<table border=\"1\" class=\"dataframe\">\n  <thead>\n    <tr style=\"text-align: right;\">\n      <th></th>\n      <th></th>\n      <th>C</th>\n      <th>D</th>\n    </tr>\n    <tr>\n      <th>A</th>\n      <th>B</th>\n      <th></th>\n      <th></th>\n    </tr>\n  </thead>\n  <tbody>\n    <tr>\n      <th rowspan=\"3\" valign=\"top\">bar</th>\n      <th>one</th>\n      <td>-1.542522</td>\n      <td>0.260183</td>\n    </tr>\n    <tr>\n      <th>three</th>\n      <td>-1.228638</td>\n      <td>0.388001</td>\n    </tr>\n    <tr>\n      <th>two</th>\n      <td>-0.106186</td>\n      <td>1.790665</td>\n    </tr>\n    <tr>\n      <th rowspan=\"3\" valign=\"top\">foo</th>\n      <th>one</th>\n      <td>2.501058</td>\n      <td>-0.636062</td>\n    </tr>\n    <tr>\n      <th>three</th>\n      <td>-0.099452</td>\n      <td>0.261128</td>\n    </tr>\n    <tr>\n      <th>two</th>\n      <td>1.103336</td>\n      <td>2.345580</td>\n    </tr>\n  </tbody>\n</table>\n</div>"
     },
     "execution_count": 70,
     "metadata": {},
     "output_type": "execute_result"
    }
   ],
   "source": [
    "df.groupby([\"A\", \"B\"]).sum()"
   ],
   "metadata": {
    "collapsed": false,
    "ExecuteTime": {
     "end_time": "2023-12-25T16:02:41.935476869Z",
     "start_time": "2023-12-25T16:02:41.341201295Z"
    }
   },
   "id": "29bb5004b55a39c6",
   "execution_count": 70
  },
  {
   "cell_type": "markdown",
   "source": [
    "# Reshaping"
   ],
   "metadata": {
    "collapsed": false
   },
   "id": "79d333299ebcf257"
  },
  {
   "cell_type": "markdown",
   "source": [
    "## Stack"
   ],
   "metadata": {
    "collapsed": false
   },
   "id": "1ec6794a06cc1547"
  },
  {
   "cell_type": "code",
   "outputs": [
    {
     "data": {
      "text/plain": "                     A         B\nfirst second                    \nbar   one    -1.040266 -0.924075\n      two     0.960926  1.218891\nbaz   one     0.629175  0.344143\n      two     1.043141 -0.384334",
      "text/html": "<div>\n<style scoped>\n    .dataframe tbody tr th:only-of-type {\n        vertical-align: middle;\n    }\n\n    .dataframe tbody tr th {\n        vertical-align: top;\n    }\n\n    .dataframe thead th {\n        text-align: right;\n    }\n</style>\n<table border=\"1\" class=\"dataframe\">\n  <thead>\n    <tr style=\"text-align: right;\">\n      <th></th>\n      <th></th>\n      <th>A</th>\n      <th>B</th>\n    </tr>\n    <tr>\n      <th>first</th>\n      <th>second</th>\n      <th></th>\n      <th></th>\n    </tr>\n  </thead>\n  <tbody>\n    <tr>\n      <th rowspan=\"2\" valign=\"top\">bar</th>\n      <th>one</th>\n      <td>-1.040266</td>\n      <td>-0.924075</td>\n    </tr>\n    <tr>\n      <th>two</th>\n      <td>0.960926</td>\n      <td>1.218891</td>\n    </tr>\n    <tr>\n      <th rowspan=\"2\" valign=\"top\">baz</th>\n      <th>one</th>\n      <td>0.629175</td>\n      <td>0.344143</td>\n    </tr>\n    <tr>\n      <th>two</th>\n      <td>1.043141</td>\n      <td>-0.384334</td>\n    </tr>\n  </tbody>\n</table>\n</div>"
     },
     "execution_count": 71,
     "metadata": {},
     "output_type": "execute_result"
    }
   ],
   "source": [
    "arrays = [\n",
    "   [\"bar\", \"bar\", \"baz\", \"baz\", \"foo\", \"foo\", \"qux\", \"qux\"],\n",
    "   [\"one\", \"two\", \"one\", \"two\", \"one\", \"two\", \"one\", \"two\"],\n",
    "]\n",
    "\n",
    "index = pd.MultiIndex.from_arrays(arrays, names=[\"first\", \"second\"])\n",
    "\n",
    "df = pd.DataFrame(np.random.randn(8, 2), index=index, columns=[\"A\", \"B\"])\n",
    "\n",
    "# df\n",
    "df2 = df[:4]\n",
    "df2"
   ],
   "metadata": {
    "collapsed": false,
    "ExecuteTime": {
     "end_time": "2023-12-25T16:02:42.282551373Z",
     "start_time": "2023-12-25T16:02:41.835301163Z"
    }
   },
   "id": "4ded7b679cb11795",
   "execution_count": 71
  },
  {
   "cell_type": "markdown",
   "source": [
    "#### The stack() method “compresses” a level in the DataFrame’s columns:"
   ],
   "metadata": {
    "collapsed": false
   },
   "id": "c39256f4b63b3b19"
  },
  {
   "cell_type": "code",
   "outputs": [
    {
     "data": {
      "text/plain": "first  second   \nbar    one     A   -1.040266\n               B   -0.924075\n       two     A    0.960926\n               B    1.218891\nbaz    one     A    0.629175\n               B    0.344143\n       two     A    1.043141\n               B   -0.384334\ndtype: float64"
     },
     "execution_count": 72,
     "metadata": {},
     "output_type": "execute_result"
    }
   ],
   "source": [
    "stacked = df2.stack(future_stack=True)\n",
    "stacked"
   ],
   "metadata": {
    "collapsed": false,
    "ExecuteTime": {
     "end_time": "2023-12-25T16:02:42.984805477Z",
     "start_time": "2023-12-25T16:02:42.273190391Z"
    }
   },
   "id": "6ba60051a634f469",
   "execution_count": 72
  },
  {
   "cell_type": "markdown",
   "source": [
    "#### With a “stacked” DataFrame or Series (having a MultiIndex as the index), the inverse operation of stack() is unstack(), which by default unstacks the last level:"
   ],
   "metadata": {
    "collapsed": false
   },
   "id": "e474ab79682b85df"
  },
  {
   "cell_type": "code",
   "outputs": [
    {
     "data": {
      "text/plain": "                     A         B\nfirst second                    \nbar   one    -1.040266 -0.924075\n      two     0.960926  1.218891\nbaz   one     0.629175  0.344143\n      two     1.043141 -0.384334",
      "text/html": "<div>\n<style scoped>\n    .dataframe tbody tr th:only-of-type {\n        vertical-align: middle;\n    }\n\n    .dataframe tbody tr th {\n        vertical-align: top;\n    }\n\n    .dataframe thead th {\n        text-align: right;\n    }\n</style>\n<table border=\"1\" class=\"dataframe\">\n  <thead>\n    <tr style=\"text-align: right;\">\n      <th></th>\n      <th></th>\n      <th>A</th>\n      <th>B</th>\n    </tr>\n    <tr>\n      <th>first</th>\n      <th>second</th>\n      <th></th>\n      <th></th>\n    </tr>\n  </thead>\n  <tbody>\n    <tr>\n      <th rowspan=\"2\" valign=\"top\">bar</th>\n      <th>one</th>\n      <td>-1.040266</td>\n      <td>-0.924075</td>\n    </tr>\n    <tr>\n      <th>two</th>\n      <td>0.960926</td>\n      <td>1.218891</td>\n    </tr>\n    <tr>\n      <th rowspan=\"2\" valign=\"top\">baz</th>\n      <th>one</th>\n      <td>0.629175</td>\n      <td>0.344143</td>\n    </tr>\n    <tr>\n      <th>two</th>\n      <td>1.043141</td>\n      <td>-0.384334</td>\n    </tr>\n  </tbody>\n</table>\n</div>"
     },
     "execution_count": 73,
     "metadata": {},
     "output_type": "execute_result"
    }
   ],
   "source": [
    "stacked.unstack()"
   ],
   "metadata": {
    "collapsed": false,
    "ExecuteTime": {
     "end_time": "2023-12-25T16:02:43.439757625Z",
     "start_time": "2023-12-25T16:02:42.799163208Z"
    }
   },
   "id": "69bcc9b4263fa888",
   "execution_count": 73
  },
  {
   "cell_type": "code",
   "outputs": [
    {
     "data": {
      "text/plain": "second        one       two\nfirst                      \nbar   A -1.040266  0.960926\n      B -0.924075  1.218891\nbaz   A  0.629175  1.043141\n      B  0.344143 -0.384334",
      "text/html": "<div>\n<style scoped>\n    .dataframe tbody tr th:only-of-type {\n        vertical-align: middle;\n    }\n\n    .dataframe tbody tr th {\n        vertical-align: top;\n    }\n\n    .dataframe thead th {\n        text-align: right;\n    }\n</style>\n<table border=\"1\" class=\"dataframe\">\n  <thead>\n    <tr style=\"text-align: right;\">\n      <th></th>\n      <th>second</th>\n      <th>one</th>\n      <th>two</th>\n    </tr>\n    <tr>\n      <th>first</th>\n      <th></th>\n      <th></th>\n      <th></th>\n    </tr>\n  </thead>\n  <tbody>\n    <tr>\n      <th rowspan=\"2\" valign=\"top\">bar</th>\n      <th>A</th>\n      <td>-1.040266</td>\n      <td>0.960926</td>\n    </tr>\n    <tr>\n      <th>B</th>\n      <td>-0.924075</td>\n      <td>1.218891</td>\n    </tr>\n    <tr>\n      <th rowspan=\"2\" valign=\"top\">baz</th>\n      <th>A</th>\n      <td>0.629175</td>\n      <td>1.043141</td>\n    </tr>\n    <tr>\n      <th>B</th>\n      <td>0.344143</td>\n      <td>-0.384334</td>\n    </tr>\n  </tbody>\n</table>\n</div>"
     },
     "execution_count": 74,
     "metadata": {},
     "output_type": "execute_result"
    }
   ],
   "source": [
    "stacked.unstack(1)"
   ],
   "metadata": {
    "collapsed": false,
    "ExecuteTime": {
     "end_time": "2023-12-25T16:02:44.018152885Z",
     "start_time": "2023-12-25T16:02:43.456247214Z"
    }
   },
   "id": "2c96a20e1285c39a",
   "execution_count": 74
  },
  {
   "cell_type": "code",
   "outputs": [
    {
     "data": {
      "text/plain": "first          bar       baz\nsecond                      \none    A -1.040266  0.629175\n       B -0.924075  0.344143\ntwo    A  0.960926  1.043141\n       B  1.218891 -0.384334",
      "text/html": "<div>\n<style scoped>\n    .dataframe tbody tr th:only-of-type {\n        vertical-align: middle;\n    }\n\n    .dataframe tbody tr th {\n        vertical-align: top;\n    }\n\n    .dataframe thead th {\n        text-align: right;\n    }\n</style>\n<table border=\"1\" class=\"dataframe\">\n  <thead>\n    <tr style=\"text-align: right;\">\n      <th></th>\n      <th>first</th>\n      <th>bar</th>\n      <th>baz</th>\n    </tr>\n    <tr>\n      <th>second</th>\n      <th></th>\n      <th></th>\n      <th></th>\n    </tr>\n  </thead>\n  <tbody>\n    <tr>\n      <th rowspan=\"2\" valign=\"top\">one</th>\n      <th>A</th>\n      <td>-1.040266</td>\n      <td>0.629175</td>\n    </tr>\n    <tr>\n      <th>B</th>\n      <td>-0.924075</td>\n      <td>0.344143</td>\n    </tr>\n    <tr>\n      <th rowspan=\"2\" valign=\"top\">two</th>\n      <th>A</th>\n      <td>0.960926</td>\n      <td>1.043141</td>\n    </tr>\n    <tr>\n      <th>B</th>\n      <td>1.218891</td>\n      <td>-0.384334</td>\n    </tr>\n  </tbody>\n</table>\n</div>"
     },
     "execution_count": 75,
     "metadata": {},
     "output_type": "execute_result"
    }
   ],
   "source": [
    "stacked.unstack(0)"
   ],
   "metadata": {
    "collapsed": false,
    "ExecuteTime": {
     "end_time": "2023-12-25T16:02:44.417119311Z",
     "start_time": "2023-12-25T16:02:43.890056691Z"
    }
   },
   "id": "d9f1ab3027fe04fe",
   "execution_count": 75
  },
  {
   "cell_type": "markdown",
   "source": [
    "## Pivot tables"
   ],
   "metadata": {
    "collapsed": false
   },
   "id": "6c85e4bc1462b94d"
  },
  {
   "cell_type": "code",
   "outputs": [
    {
     "data": {
      "text/plain": "        A  B    C         D         E\n0     one  A  foo -0.976367  0.123812\n1     one  B  foo -0.321257 -1.892454\n2     two  C  foo -0.217660 -0.070070\n3   three  A  bar  1.160864  0.779277\n4     one  B  bar -0.820567  0.612759\n5     one  C  bar  0.543568 -0.892624\n6     two  A  foo  0.059736 -1.303067\n7   three  B  foo -0.211529 -0.881141\n8     one  C  foo  0.028566 -1.423901\n9     one  A  bar -1.345861  0.596796\n10    two  B  bar -0.480358 -0.317693\n11  three  C  bar -1.486423  2.145141",
      "text/html": "<div>\n<style scoped>\n    .dataframe tbody tr th:only-of-type {\n        vertical-align: middle;\n    }\n\n    .dataframe tbody tr th {\n        vertical-align: top;\n    }\n\n    .dataframe thead th {\n        text-align: right;\n    }\n</style>\n<table border=\"1\" class=\"dataframe\">\n  <thead>\n    <tr style=\"text-align: right;\">\n      <th></th>\n      <th>A</th>\n      <th>B</th>\n      <th>C</th>\n      <th>D</th>\n      <th>E</th>\n    </tr>\n  </thead>\n  <tbody>\n    <tr>\n      <th>0</th>\n      <td>one</td>\n      <td>A</td>\n      <td>foo</td>\n      <td>-0.976367</td>\n      <td>0.123812</td>\n    </tr>\n    <tr>\n      <th>1</th>\n      <td>one</td>\n      <td>B</td>\n      <td>foo</td>\n      <td>-0.321257</td>\n      <td>-1.892454</td>\n    </tr>\n    <tr>\n      <th>2</th>\n      <td>two</td>\n      <td>C</td>\n      <td>foo</td>\n      <td>-0.217660</td>\n      <td>-0.070070</td>\n    </tr>\n    <tr>\n      <th>3</th>\n      <td>three</td>\n      <td>A</td>\n      <td>bar</td>\n      <td>1.160864</td>\n      <td>0.779277</td>\n    </tr>\n    <tr>\n      <th>4</th>\n      <td>one</td>\n      <td>B</td>\n      <td>bar</td>\n      <td>-0.820567</td>\n      <td>0.612759</td>\n    </tr>\n    <tr>\n      <th>5</th>\n      <td>one</td>\n      <td>C</td>\n      <td>bar</td>\n      <td>0.543568</td>\n      <td>-0.892624</td>\n    </tr>\n    <tr>\n      <th>6</th>\n      <td>two</td>\n      <td>A</td>\n      <td>foo</td>\n      <td>0.059736</td>\n      <td>-1.303067</td>\n    </tr>\n    <tr>\n      <th>7</th>\n      <td>three</td>\n      <td>B</td>\n      <td>foo</td>\n      <td>-0.211529</td>\n      <td>-0.881141</td>\n    </tr>\n    <tr>\n      <th>8</th>\n      <td>one</td>\n      <td>C</td>\n      <td>foo</td>\n      <td>0.028566</td>\n      <td>-1.423901</td>\n    </tr>\n    <tr>\n      <th>9</th>\n      <td>one</td>\n      <td>A</td>\n      <td>bar</td>\n      <td>-1.345861</td>\n      <td>0.596796</td>\n    </tr>\n    <tr>\n      <th>10</th>\n      <td>two</td>\n      <td>B</td>\n      <td>bar</td>\n      <td>-0.480358</td>\n      <td>-0.317693</td>\n    </tr>\n    <tr>\n      <th>11</th>\n      <td>three</td>\n      <td>C</td>\n      <td>bar</td>\n      <td>-1.486423</td>\n      <td>2.145141</td>\n    </tr>\n  </tbody>\n</table>\n</div>"
     },
     "execution_count": 76,
     "metadata": {},
     "output_type": "execute_result"
    }
   ],
   "source": [
    "df = pd.DataFrame(\n",
    "    {\n",
    "        \"A\": [\"one\", \"one\", \"two\", \"three\"] * 3,\n",
    "        \"B\": [\"A\", \"B\", \"C\"] * 4,\n",
    "        \"C\": [\"foo\", \"foo\", \"foo\", \"bar\", \"bar\", \"bar\"] * 2,\n",
    "        \"D\": np.random.randn(12),\n",
    "        \"E\": np.random.randn(12),\n",
    "    }\n",
    ")\n",
    "\n",
    "df"
   ],
   "metadata": {
    "collapsed": false,
    "ExecuteTime": {
     "end_time": "2023-12-25T16:02:44.777930204Z",
     "start_time": "2023-12-25T16:02:44.285337978Z"
    }
   },
   "id": "fd8ed2ec58dcaf63",
   "execution_count": 76
  },
  {
   "cell_type": "markdown",
   "source": [
    "#### pivot_table() pivots a DataFrame specifying the values, index and columns"
   ],
   "metadata": {
    "collapsed": false
   },
   "id": "530f52370ee9fe91"
  },
  {
   "cell_type": "code",
   "outputs": [
    {
     "data": {
      "text/plain": "C             bar       foo\nA     B                    \none   A -1.345861 -0.976367\n      B -0.820567 -0.321257\n      C  0.543568  0.028566\nthree A  1.160864       NaN\n      B       NaN -0.211529\n      C -1.486423       NaN\ntwo   A       NaN  0.059736\n      B -0.480358       NaN\n      C       NaN -0.217660",
      "text/html": "<div>\n<style scoped>\n    .dataframe tbody tr th:only-of-type {\n        vertical-align: middle;\n    }\n\n    .dataframe tbody tr th {\n        vertical-align: top;\n    }\n\n    .dataframe thead th {\n        text-align: right;\n    }\n</style>\n<table border=\"1\" class=\"dataframe\">\n  <thead>\n    <tr style=\"text-align: right;\">\n      <th></th>\n      <th>C</th>\n      <th>bar</th>\n      <th>foo</th>\n    </tr>\n    <tr>\n      <th>A</th>\n      <th>B</th>\n      <th></th>\n      <th></th>\n    </tr>\n  </thead>\n  <tbody>\n    <tr>\n      <th rowspan=\"3\" valign=\"top\">one</th>\n      <th>A</th>\n      <td>-1.345861</td>\n      <td>-0.976367</td>\n    </tr>\n    <tr>\n      <th>B</th>\n      <td>-0.820567</td>\n      <td>-0.321257</td>\n    </tr>\n    <tr>\n      <th>C</th>\n      <td>0.543568</td>\n      <td>0.028566</td>\n    </tr>\n    <tr>\n      <th rowspan=\"3\" valign=\"top\">three</th>\n      <th>A</th>\n      <td>1.160864</td>\n      <td>NaN</td>\n    </tr>\n    <tr>\n      <th>B</th>\n      <td>NaN</td>\n      <td>-0.211529</td>\n    </tr>\n    <tr>\n      <th>C</th>\n      <td>-1.486423</td>\n      <td>NaN</td>\n    </tr>\n    <tr>\n      <th rowspan=\"3\" valign=\"top\">two</th>\n      <th>A</th>\n      <td>NaN</td>\n      <td>0.059736</td>\n    </tr>\n    <tr>\n      <th>B</th>\n      <td>-0.480358</td>\n      <td>NaN</td>\n    </tr>\n    <tr>\n      <th>C</th>\n      <td>NaN</td>\n      <td>-0.217660</td>\n    </tr>\n  </tbody>\n</table>\n</div>"
     },
     "execution_count": 77,
     "metadata": {},
     "output_type": "execute_result"
    }
   ],
   "source": [
    "pd.pivot_table(df, values=\"D\", index=[\"A\", \"B\"], columns=[\"C\"])"
   ],
   "metadata": {
    "collapsed": false,
    "ExecuteTime": {
     "end_time": "2023-12-25T16:02:45.121715110Z",
     "start_time": "2023-12-25T16:02:44.697297035Z"
    }
   },
   "id": "95d8d57e7c9a8eb4",
   "execution_count": 77
  },
  {
   "cell_type": "markdown",
   "source": [
    "# Time series"
   ],
   "metadata": {
    "collapsed": false
   },
   "id": "cb2069b459b8193e"
  },
  {
   "cell_type": "markdown",
   "source": [
    "#### pandas имеет простые, мощные и эффективные функции для выполнения операций передискретизации во время преобразования частоты (например, преобразование секундных данных в 5-минутные данные). Это чрезвычайно распространено в финансовых приложениях, помимо прочего. См. раздел «Временные ряды»."
   ],
   "metadata": {
    "collapsed": false
   },
   "id": "b663e64ac082e398"
  },
  {
   "cell_type": "code",
   "outputs": [
    {
     "data": {
      "text/plain": "2012-01-01    23181\nFreq: 5T, dtype: int64"
     },
     "execution_count": 78,
     "metadata": {},
     "output_type": "execute_result"
    }
   ],
   "source": [
    "rng = pd.date_range(start=\"1/1/2012\", periods=100, freq=\"S\")\n",
    "\n",
    "ts = pd.Series(np.random.randint(low=0, high=500, size=len(rng)), index=rng)\n",
    "\n",
    "ts.resample(\"5Min\").sum()"
   ],
   "metadata": {
    "collapsed": false,
    "ExecuteTime": {
     "end_time": "2023-12-25T16:02:45.781037982Z",
     "start_time": "2023-12-25T16:02:45.136196739Z"
    }
   },
   "id": "86af04a5e40544f9",
   "execution_count": 78
  },
  {
   "cell_type": "markdown",
   "source": [
    "#### Series.tz_localize() localizes a time series to a time zone:"
   ],
   "metadata": {
    "collapsed": false
   },
   "id": "e4b3dfee467ea59"
  },
  {
   "cell_type": "code",
   "outputs": [
    {
     "data": {
      "text/plain": "2012-03-06    0.316199\n2012-03-07    0.366222\n2012-03-08   -0.155667\n2012-03-09   -1.279479\n2012-03-10   -0.587900\nFreq: D, dtype: float64"
     },
     "execution_count": 88,
     "metadata": {},
     "output_type": "execute_result"
    }
   ],
   "source": [
    "rng = pd.date_range(start=\"3/6/2012 00:00\", periods=5, freq=\"D\")\n",
    "\n",
    "ts = pd.Series(data=np.random.randn(len(rng)), index=rng)\n",
    "\n",
    "ts"
   ],
   "metadata": {
    "collapsed": false,
    "ExecuteTime": {
     "end_time": "2023-12-25T16:47:06.093147626Z",
     "start_time": "2023-12-25T16:47:05.882931478Z"
    }
   },
   "id": "82866d1c7041d0df",
   "execution_count": 88
  },
  {
   "cell_type": "code",
   "outputs": [
    {
     "data": {
      "text/plain": "2012-03-06 00:00:00+00:00    0.316199\n2012-03-07 00:00:00+00:00    0.366222\n2012-03-08 00:00:00+00:00   -0.155667\n2012-03-09 00:00:00+00:00   -1.279479\n2012-03-10 00:00:00+00:00   -0.587900\nFreq: D, dtype: float64"
     },
     "execution_count": 89,
     "metadata": {},
     "output_type": "execute_result"
    }
   ],
   "source": [
    "ts_utc = ts.tz_localize(\"UTC\")\n",
    "\n",
    "ts_utc"
   ],
   "metadata": {
    "collapsed": false,
    "ExecuteTime": {
     "end_time": "2023-12-25T16:47:11.402144566Z",
     "start_time": "2023-12-25T16:47:11.361476575Z"
    }
   },
   "id": "1996a4b494000a4f",
   "execution_count": 89
  },
  {
   "cell_type": "markdown",
   "source": [
    "#### Series.tz_convert() converts a timezones aware time series to another time zone:"
   ],
   "metadata": {
    "collapsed": false
   },
   "id": "63ebe6bd82e4a8bd"
  },
  {
   "cell_type": "code",
   "outputs": [
    {
     "data": {
      "text/plain": "2012-03-06 01:00:00+01:00    0.316199\n2012-03-07 01:00:00+01:00    0.366222\n2012-03-08 01:00:00+01:00   -0.155667\n2012-03-09 01:00:00+01:00   -1.279479\n2012-03-10 01:00:00+01:00   -0.587900\nFreq: D, dtype: float64"
     },
     "execution_count": 90,
     "metadata": {},
     "output_type": "execute_result"
    }
   ],
   "source": [
    "ts_utc.tz_convert(\"Europe/Paris\")"
   ],
   "metadata": {
    "collapsed": false,
    "ExecuteTime": {
     "end_time": "2023-12-25T16:47:15.217101700Z",
     "start_time": "2023-12-25T16:47:15.099648068Z"
    }
   },
   "id": "dbd30a69d6dc2256",
   "execution_count": 90
  },
  {
   "cell_type": "markdown",
   "source": [
    "#### Adding a non-fixed duration (BusinessDay) to a time series:"
   ],
   "metadata": {
    "collapsed": false
   },
   "id": "7bb442a6f36f3c4"
  },
  {
   "cell_type": "code",
   "outputs": [
    {
     "data": {
      "text/plain": "DatetimeIndex(['2012-03-06', '2012-03-07', '2012-03-08', '2012-03-09',\n               '2012-03-10'],\n              dtype='datetime64[ns]', freq='D')"
     },
     "execution_count": 91,
     "metadata": {},
     "output_type": "execute_result"
    }
   ],
   "source": [
    "rng"
   ],
   "metadata": {
    "collapsed": false,
    "ExecuteTime": {
     "end_time": "2023-12-25T16:47:22.305772616Z",
     "start_time": "2023-12-25T16:47:22.208260241Z"
    }
   },
   "id": "ff0b6a8466b26f2e",
   "execution_count": 91
  },
  {
   "cell_type": "code",
   "outputs": [
    {
     "data": {
      "text/plain": "DatetimeIndex(['2012-03-13', '2012-03-14', '2012-03-15', '2012-03-16',\n               '2012-03-16'],\n              dtype='datetime64[ns]', freq=None)"
     },
     "execution_count": 92,
     "metadata": {},
     "output_type": "execute_result"
    }
   ],
   "source": [
    "rng + pd.offsets.BusinessDay(5)"
   ],
   "metadata": {
    "collapsed": false,
    "ExecuteTime": {
     "end_time": "2023-12-25T16:47:24.535366917Z",
     "start_time": "2023-12-25T16:47:24.410044982Z"
    }
   },
   "id": "feaa8646ccf5df59",
   "execution_count": 92
  },
  {
   "cell_type": "markdown",
   "source": [
    "# Categoricals"
   ],
   "metadata": {
    "collapsed": false
   },
   "id": "643f83f172b63cc1"
  },
  {
   "cell_type": "markdown",
   "source": [
    "#### pandas can include categorical data in a DataFrame. For full docs, see the categorical introduction and the API documentation."
   ],
   "metadata": {
    "collapsed": false
   },
   "id": "4333d40637dd1470"
  },
  {
   "cell_type": "code",
   "outputs": [
    {
     "data": {
      "text/plain": "   id raw_grade\n0   1         a\n1   2         b\n2   3         b\n3   4         a\n4   5         a\n5   6         e",
      "text/html": "<div>\n<style scoped>\n    .dataframe tbody tr th:only-of-type {\n        vertical-align: middle;\n    }\n\n    .dataframe tbody tr th {\n        vertical-align: top;\n    }\n\n    .dataframe thead th {\n        text-align: right;\n    }\n</style>\n<table border=\"1\" class=\"dataframe\">\n  <thead>\n    <tr style=\"text-align: right;\">\n      <th></th>\n      <th>id</th>\n      <th>raw_grade</th>\n    </tr>\n  </thead>\n  <tbody>\n    <tr>\n      <th>0</th>\n      <td>1</td>\n      <td>a</td>\n    </tr>\n    <tr>\n      <th>1</th>\n      <td>2</td>\n      <td>b</td>\n    </tr>\n    <tr>\n      <th>2</th>\n      <td>3</td>\n      <td>b</td>\n    </tr>\n    <tr>\n      <th>3</th>\n      <td>4</td>\n      <td>a</td>\n    </tr>\n    <tr>\n      <th>4</th>\n      <td>5</td>\n      <td>a</td>\n    </tr>\n    <tr>\n      <th>5</th>\n      <td>6</td>\n      <td>e</td>\n    </tr>\n  </tbody>\n</table>\n</div>"
     },
     "execution_count": 101,
     "metadata": {},
     "output_type": "execute_result"
    }
   ],
   "source": [
    "df = pd.DataFrame(\n",
    "    {\"id\": [1, 2, 3, 4, 5, 6], \"raw_grade\": [\"a\", \"b\", \"b\", \"a\", \"a\", \"e\"]}\n",
    ")\n",
    "df"
   ],
   "metadata": {
    "collapsed": false,
    "ExecuteTime": {
     "end_time": "2023-12-25T17:03:30.551897256Z",
     "start_time": "2023-12-25T17:03:30.353927Z"
    }
   },
   "id": "d1b56a1567f826a8",
   "execution_count": 101
  },
  {
   "cell_type": "markdown",
   "source": [
    "#### Converting the raw grades to a categorical data type:"
   ],
   "metadata": {
    "collapsed": false
   },
   "id": "8da16750d3578321"
  },
  {
   "cell_type": "code",
   "outputs": [
    {
     "data": {
      "text/plain": "0    a\n1    b\n2    b\n3    a\n4    a\n5    e\nName: grade, dtype: category\nCategories (3, object): ['a', 'b', 'e']"
     },
     "execution_count": 102,
     "metadata": {},
     "output_type": "execute_result"
    }
   ],
   "source": [
    "df[\"grade\"] = df[\"raw_grade\"].astype(\"category\")\n",
    "df[\"grade\"]"
   ],
   "metadata": {
    "collapsed": false,
    "ExecuteTime": {
     "end_time": "2023-12-25T17:03:36.324994580Z",
     "start_time": "2023-12-25T17:03:36.284946964Z"
    }
   },
   "id": "e92d8122f16d68d7",
   "execution_count": 102
  },
  {
   "cell_type": "markdown",
   "source": [
    "#### Rename the categories to more meaningful names:"
   ],
   "metadata": {
    "collapsed": false
   },
   "id": "1eaec7d85a5478f5"
  },
  {
   "cell_type": "code",
   "outputs": [
    {
     "data": {
      "text/plain": "0    very good\n1         good\n2         good\n3    very good\n4    very good\n5     very bad\nName: grade, dtype: category\nCategories (3, object): ['very good', 'good', 'very bad']"
     },
     "execution_count": 105,
     "metadata": {},
     "output_type": "execute_result"
    }
   ],
   "source": [
    "new_categories = [\"very good\", \"good\", \"very bad\"]\n",
    "df[\"grade\"] = df[\"grade\"].cat.rename_categories(new_categories)\n",
    "df[\"grade\"]"
   ],
   "metadata": {
    "collapsed": false,
    "ExecuteTime": {
     "end_time": "2023-12-25T17:04:42.991229811Z",
     "start_time": "2023-12-25T17:04:42.909512025Z"
    }
   },
   "id": "2f55bc2adf057592",
   "execution_count": 105
  },
  {
   "cell_type": "markdown",
   "source": [
    "#### Измените порядок категорий и одновременно добавьте недостающие категории (методы Series.cat() по умолчанию возвращают новую серию):"
   ],
   "metadata": {
    "collapsed": false
   },
   "id": "37f37d1e15226922"
  },
  {
   "cell_type": "code",
   "outputs": [
    {
     "data": {
      "text/plain": "0    very good\n1         good\n2         good\n3    very good\n4    very good\n5     very bad\nName: grade, dtype: category\nCategories (5, object): ['very bad', 'bad', 'medium', 'good', 'very good']"
     },
     "execution_count": 108,
     "metadata": {},
     "output_type": "execute_result"
    }
   ],
   "source": [
    "df[\"grade\"] = df[\"grade\"].cat.set_categories(\n",
    "    [\"very bad\", \"bad\", \"medium\", \"good\", \"very good\"]\n",
    ")\n",
    "\n",
    "df[\"grade\"]"
   ],
   "metadata": {
    "collapsed": false,
    "ExecuteTime": {
     "end_time": "2023-12-25T17:10:04.258207169Z",
     "start_time": "2023-12-25T17:10:04.076646855Z"
    }
   },
   "id": "4b3471dd3e77e581",
   "execution_count": 108
  },
  {
   "cell_type": "markdown",
   "source": [
    "#### Sorting is per order in the categories, not lexical order:"
   ],
   "metadata": {
    "collapsed": false
   },
   "id": "e8c0272a7bc5bf90"
  },
  {
   "cell_type": "code",
   "outputs": [
    {
     "data": {
      "text/plain": "   id raw_grade      grade\n5   6         e   very bad\n1   2         b       good\n2   3         b       good\n0   1         a  very good\n3   4         a  very good\n4   5         a  very good",
      "text/html": "<div>\n<style scoped>\n    .dataframe tbody tr th:only-of-type {\n        vertical-align: middle;\n    }\n\n    .dataframe tbody tr th {\n        vertical-align: top;\n    }\n\n    .dataframe thead th {\n        text-align: right;\n    }\n</style>\n<table border=\"1\" class=\"dataframe\">\n  <thead>\n    <tr style=\"text-align: right;\">\n      <th></th>\n      <th>id</th>\n      <th>raw_grade</th>\n      <th>grade</th>\n    </tr>\n  </thead>\n  <tbody>\n    <tr>\n      <th>5</th>\n      <td>6</td>\n      <td>e</td>\n      <td>very bad</td>\n    </tr>\n    <tr>\n      <th>1</th>\n      <td>2</td>\n      <td>b</td>\n      <td>good</td>\n    </tr>\n    <tr>\n      <th>2</th>\n      <td>3</td>\n      <td>b</td>\n      <td>good</td>\n    </tr>\n    <tr>\n      <th>0</th>\n      <td>1</td>\n      <td>a</td>\n      <td>very good</td>\n    </tr>\n    <tr>\n      <th>3</th>\n      <td>4</td>\n      <td>a</td>\n      <td>very good</td>\n    </tr>\n    <tr>\n      <th>4</th>\n      <td>5</td>\n      <td>a</td>\n      <td>very good</td>\n    </tr>\n  </tbody>\n</table>\n</div>"
     },
     "execution_count": 109,
     "metadata": {},
     "output_type": "execute_result"
    }
   ],
   "source": [
    "df.sort_values(by=\"grade\")"
   ],
   "metadata": {
    "collapsed": false,
    "ExecuteTime": {
     "end_time": "2023-12-25T17:10:12.921740052Z",
     "start_time": "2023-12-25T17:10:12.704283141Z"
    }
   },
   "id": "3819e26bed4ee01e",
   "execution_count": 109
  },
  {
   "cell_type": "markdown",
   "source": [
    "#### Grouping by a categorical column with observed=False also shows empty categories:"
   ],
   "metadata": {
    "collapsed": false
   },
   "id": "b1316d2cd0347911"
  },
  {
   "cell_type": "code",
   "outputs": [
    {
     "data": {
      "text/plain": "grade\nvery bad     1\nbad          0\nmedium       0\ngood         2\nvery good    3\ndtype: int64"
     },
     "execution_count": 110,
     "metadata": {},
     "output_type": "execute_result"
    }
   ],
   "source": [
    "df.groupby(\"grade\", observed=False).size()"
   ],
   "metadata": {
    "collapsed": false,
    "ExecuteTime": {
     "end_time": "2023-12-25T17:10:16.449320191Z",
     "start_time": "2023-12-25T17:10:16.295593429Z"
    }
   },
   "id": "7881ea2d79383962",
   "execution_count": 110
  },
  {
   "cell_type": "markdown",
   "source": [
    "# Plotting"
   ],
   "metadata": {
    "collapsed": false
   },
   "id": "93da0b0b0f31de18"
  },
  {
   "cell_type": "markdown",
   "source": [
    "#### See the Plotting docs.\n",
    "\n",
    "#### We use the standard convention for referencing the matplotlib API:"
   ],
   "metadata": {
    "collapsed": false
   },
   "id": "f9cb283b1317efbc"
  },
  {
   "cell_type": "code",
   "outputs": [],
   "source": [
    "import matplotlib.pyplot as plt\n",
    "\n",
    "plt.close(\"all\")"
   ],
   "metadata": {
    "collapsed": false,
    "ExecuteTime": {
     "end_time": "2023-12-25T17:16:24.683672056Z",
     "start_time": "2023-12-25T17:16:24.551518039Z"
    }
   },
   "id": "5f7b17b83a4e8f13",
   "execution_count": 112
  },
  {
   "cell_type": "markdown",
   "source": [
    "The plt.close method is used to close a figure window:"
   ],
   "metadata": {
    "collapsed": false
   },
   "id": "4c1d56bd9520fad6"
  },
  {
   "cell_type": "code",
   "outputs": [
    {
     "data": {
      "text/plain": "<Axes: >"
     },
     "execution_count": 115,
     "metadata": {},
     "output_type": "execute_result"
    },
    {
     "data": {
      "text/plain": "<Figure size 640x480 with 1 Axes>",
      "image/png": "[encoded data removed]"
     },
     "metadata": {},
     "output_type": "display_data"
    }
   ],
   "source": [
    "ts = pd.Series(np.random.randn(1000), index=pd.date_range(\"1/1/2000\", periods=1000))\n",
    "ts = ts.cumsum()\n",
    "ts.plot()"
   ],
   "metadata": {
    "collapsed": false,
    "ExecuteTime": {
     "end_time": "2023-12-25T17:18:13.128475398Z",
     "start_time": "2023-12-25T17:18:12.790781661Z"
    }
   },
   "id": "b7e6b33799305eef",
   "execution_count": 115
  },
  {
   "cell_type": "markdown",
   "source": [
    "#### When using Jupyter, the plot will appear using plot(). Otherwise use matplotlib.pyplot.show to show it or matplotlib.pyplot.savefig to write it to a file."
   ],
   "metadata": {
    "collapsed": false
   },
   "id": "8ad4a2bf3906feb8"
  },
  {
   "cell_type": "markdown",
   "source": [
    "#### plot() plots all columns:"
   ],
   "metadata": {
    "collapsed": false
   },
   "id": "453e03a955b2acaa"
  },
  {
   "cell_type": "code",
   "outputs": [
    {
     "data": {
      "text/plain": "<matplotlib.legend.Legend at 0x7f6dec0cc350>"
     },
     "execution_count": 116,
     "metadata": {},
     "output_type": "execute_result"
    },
    {
     "data": {
      "text/plain": "<Figure size 640x480 with 0 Axes>"
     },
     "metadata": {},
     "output_type": "display_data"
    },
    {
     "data": {
      "text/plain": "<Figure size 640x480 with 1 Axes>",
      "image/png": "[encoded data removed]"
     },
     "metadata": {},
     "output_type": "display_data"
    }
   ],
   "source": [
    "df = pd.DataFrame(\n",
    "    np.random.randn(1000, 4), index=ts.index, columns=[\"A\", \"B\", \"C\", \"D\"]\n",
    ")\n",
    "df = df.cumsum()\n",
    "plt.figure()\n",
    "df.plot()\n",
    "plt.legend(loc=\"best\")"
   ],
   "metadata": {
    "collapsed": false,
    "ExecuteTime": {
     "end_time": "2023-12-25T17:22:21.210223349Z",
     "start_time": "2023-12-25T17:22:20.677467465Z"
    }
   },
   "id": "55d00a0c2139b44a",
   "execution_count": 116
  },
  {
   "cell_type": "markdown",
   "source": [
    "# Importing and exporting data"
   ],
   "metadata": {
    "collapsed": false
   },
   "id": "6f040c23b78476e"
  },
  {
   "cell_type": "markdown",
   "source": [
    "## CSV"
   ],
   "metadata": {
    "collapsed": false
   },
   "id": "f74520a5cd39402d"
  },
  {
   "cell_type": "markdown",
   "source": [
    "#### Writing to a csv file: using DataFrame.to_csv()"
   ],
   "metadata": {
    "collapsed": false
   },
   "id": "d086750df834c326"
  },
  {
   "cell_type": "code",
   "outputs": [],
   "source": [
    "df = pd.DataFrame(np.random.randint(0, 5, (10, 5)))\n",
    "df.to_csv(\"foo.csv\")"
   ],
   "metadata": {
    "collapsed": false,
    "ExecuteTime": {
     "end_time": "2023-12-25T17:28:26.817704457Z",
     "start_time": "2023-12-25T17:28:26.676196763Z"
    }
   },
   "id": "fc5dc10867994d66",
   "execution_count": 118
  },
  {
   "cell_type": "markdown",
   "source": [
    "#### Reading from a csv file: using read_csv()"
   ],
   "metadata": {
    "collapsed": false
   },
   "id": "c9b2e6e0f17d30f4"
  },
  {
   "cell_type": "code",
   "outputs": [
    {
     "data": {
      "text/plain": "   Unnamed: 0  0  1  2  3  4\n0           0  0  0  3  2  2\n1           1  4  3  4  1  1\n2           2  3  1  3  3  3\n3           3  2  3  3  1  0\n4           4  1  1  0  2  0\n5           5  1  3  2  3  3\n6           6  0  1  0  2  3\n7           7  3  2  4  1  2\n8           8  4  4  3  3  2\n9           9  3  4  2  4  1",
      "text/html": "<div>\n<style scoped>\n    .dataframe tbody tr th:only-of-type {\n        vertical-align: middle;\n    }\n\n    .dataframe tbody tr th {\n        vertical-align: top;\n    }\n\n    .dataframe thead th {\n        text-align: right;\n    }\n</style>\n<table border=\"1\" class=\"dataframe\">\n  <thead>\n    <tr style=\"text-align: right;\">\n      <th></th>\n      <th>Unnamed: 0</th>\n      <th>0</th>\n      <th>1</th>\n      <th>2</th>\n      <th>3</th>\n      <th>4</th>\n    </tr>\n  </thead>\n  <tbody>\n    <tr>\n      <th>0</th>\n      <td>0</td>\n      <td>0</td>\n      <td>0</td>\n      <td>3</td>\n      <td>2</td>\n      <td>2</td>\n    </tr>\n    <tr>\n      <th>1</th>\n      <td>1</td>\n      <td>4</td>\n      <td>3</td>\n      <td>4</td>\n      <td>1</td>\n      <td>1</td>\n    </tr>\n    <tr>\n      <th>2</th>\n      <td>2</td>\n      <td>3</td>\n      <td>1</td>\n      <td>3</td>\n      <td>3</td>\n      <td>3</td>\n    </tr>\n    <tr>\n      <th>3</th>\n      <td>3</td>\n      <td>2</td>\n      <td>3</td>\n      <td>3</td>\n      <td>1</td>\n      <td>0</td>\n    </tr>\n    <tr>\n      <th>4</th>\n      <td>4</td>\n      <td>1</td>\n      <td>1</td>\n      <td>0</td>\n      <td>2</td>\n      <td>0</td>\n    </tr>\n    <tr>\n      <th>5</th>\n      <td>5</td>\n      <td>1</td>\n      <td>3</td>\n      <td>2</td>\n      <td>3</td>\n      <td>3</td>\n    </tr>\n    <tr>\n      <th>6</th>\n      <td>6</td>\n      <td>0</td>\n      <td>1</td>\n      <td>0</td>\n      <td>2</td>\n      <td>3</td>\n    </tr>\n    <tr>\n      <th>7</th>\n      <td>7</td>\n      <td>3</td>\n      <td>2</td>\n      <td>4</td>\n      <td>1</td>\n      <td>2</td>\n    </tr>\n    <tr>\n      <th>8</th>\n      <td>8</td>\n      <td>4</td>\n      <td>4</td>\n      <td>3</td>\n      <td>3</td>\n      <td>2</td>\n    </tr>\n    <tr>\n      <th>9</th>\n      <td>9</td>\n      <td>3</td>\n      <td>4</td>\n      <td>2</td>\n      <td>4</td>\n      <td>1</td>\n    </tr>\n  </tbody>\n</table>\n</div>"
     },
     "execution_count": 119,
     "metadata": {},
     "output_type": "execute_result"
    }
   ],
   "source": [
    "pd.read_csv(\"foo.csv\")"
   ],
   "metadata": {
    "collapsed": false,
    "ExecuteTime": {
     "end_time": "2023-12-25T17:31:23.700430070Z",
     "start_time": "2023-12-25T17:31:23.610921429Z"
    }
   },
   "id": "71d440229eb63646",
   "execution_count": 119
  },
  {
   "cell_type": "markdown",
   "source": [
    "## Parquet"
   ],
   "metadata": {
    "collapsed": false
   },
   "id": "1f783359a10d7256"
  },
  {
   "cell_type": "markdown",
   "source": [
    "#### Writing to a Parquet file:"
   ],
   "metadata": {
    "collapsed": false
   },
   "id": "cac0175131079850"
  },
  {
   "cell_type": "code",
   "outputs": [],
   "source": [
    "df.to_parquet(\"foo.parquet\")"
   ],
   "metadata": {
    "collapsed": false,
    "ExecuteTime": {
     "end_time": "2023-12-25T17:35:22.382714896Z",
     "start_time": "2023-12-25T17:35:21.907026602Z"
    }
   },
   "id": "8094d90e495a558e",
   "execution_count": 121
  },
  {
   "cell_type": "markdown",
   "source": [
    "#### Reading from a Parquet file Store using read_parquet()"
   ],
   "metadata": {
    "collapsed": false
   },
   "id": "70df3cb22f392ee6"
  },
  {
   "cell_type": "code",
   "outputs": [
    {
     "data": {
      "text/plain": "   0  1  2  3  4\n0  0  0  3  2  2\n1  4  3  4  1  1\n2  3  1  3  3  3\n3  2  3  3  1  0\n4  1  1  0  2  0\n5  1  3  2  3  3\n6  0  1  0  2  3\n7  3  2  4  1  2\n8  4  4  3  3  2\n9  3  4  2  4  1",
      "text/html": "<div>\n<style scoped>\n    .dataframe tbody tr th:only-of-type {\n        vertical-align: middle;\n    }\n\n    .dataframe tbody tr th {\n        vertical-align: top;\n    }\n\n    .dataframe thead th {\n        text-align: right;\n    }\n</style>\n<table border=\"1\" class=\"dataframe\">\n  <thead>\n    <tr style=\"text-align: right;\">\n      <th></th>\n      <th>0</th>\n      <th>1</th>\n      <th>2</th>\n      <th>3</th>\n      <th>4</th>\n    </tr>\n  </thead>\n  <tbody>\n    <tr>\n      <th>0</th>\n      <td>0</td>\n      <td>0</td>\n      <td>3</td>\n      <td>2</td>\n      <td>2</td>\n    </tr>\n    <tr>\n      <th>1</th>\n      <td>4</td>\n      <td>3</td>\n      <td>4</td>\n      <td>1</td>\n      <td>1</td>\n    </tr>\n    <tr>\n      <th>2</th>\n      <td>3</td>\n      <td>1</td>\n      <td>3</td>\n      <td>3</td>\n      <td>3</td>\n    </tr>\n    <tr>\n      <th>3</th>\n      <td>2</td>\n      <td>3</td>\n      <td>3</td>\n      <td>1</td>\n      <td>0</td>\n    </tr>\n    <tr>\n      <th>4</th>\n      <td>1</td>\n      <td>1</td>\n      <td>0</td>\n      <td>2</td>\n      <td>0</td>\n    </tr>\n    <tr>\n      <th>5</th>\n      <td>1</td>\n      <td>3</td>\n      <td>2</td>\n      <td>3</td>\n      <td>3</td>\n    </tr>\n    <tr>\n      <th>6</th>\n      <td>0</td>\n      <td>1</td>\n      <td>0</td>\n      <td>2</td>\n      <td>3</td>\n    </tr>\n    <tr>\n      <th>7</th>\n      <td>3</td>\n      <td>2</td>\n      <td>4</td>\n      <td>1</td>\n      <td>2</td>\n    </tr>\n    <tr>\n      <th>8</th>\n      <td>4</td>\n      <td>4</td>\n      <td>3</td>\n      <td>3</td>\n      <td>2</td>\n    </tr>\n    <tr>\n      <th>9</th>\n      <td>3</td>\n      <td>4</td>\n      <td>2</td>\n      <td>4</td>\n      <td>1</td>\n    </tr>\n  </tbody>\n</table>\n</div>"
     },
     "execution_count": 122,
     "metadata": {},
     "output_type": "execute_result"
    }
   ],
   "source": [
    "pd.read_parquet(\"foo.parquet\")"
   ],
   "metadata": {
    "collapsed": false,
    "ExecuteTime": {
     "end_time": "2023-12-25T17:35:27.599463847Z",
     "start_time": "2023-12-25T17:35:27.024783812Z"
    }
   },
   "id": "8db988bd18f7e716",
   "execution_count": 122
  },
  {
   "cell_type": "markdown",
   "source": [
    "## Excel"
   ],
   "metadata": {
    "collapsed": false
   },
   "id": "36ca92e8d7e54a4e"
  },
  {
   "cell_type": "markdown",
   "source": [
    "#### Reading and writing to Excel.\n",
    "\n",
    "#### Writing to an excel file using DataFrame.to_excel():"
   ],
   "metadata": {
    "collapsed": false
   },
   "id": "c0f8c2701f47a6e6"
  },
  {
   "cell_type": "code",
   "outputs": [],
   "source": [
    "df.to_excel(\"foo.xlsx\", sheet_name=\"Sheet1\")"
   ],
   "metadata": {
    "collapsed": false,
    "ExecuteTime": {
     "end_time": "2023-12-25T17:38:47.728787180Z",
     "start_time": "2023-12-25T17:38:47.468259779Z"
    }
   },
   "id": "4fc7d55e54555aa2",
   "execution_count": 124
  },
  {
   "cell_type": "markdown",
   "source": [
    "#### Reading from an excel file using read_excel():"
   ],
   "metadata": {
    "collapsed": false
   },
   "id": "451bbd20cd16a92"
  },
  {
   "cell_type": "code",
   "outputs": [
    {
     "data": {
      "text/plain": "   Unnamed: 0  0  1  2  3  4\n0           0  0  0  3  2  2\n1           1  4  3  4  1  1\n2           2  3  1  3  3  3\n3           3  2  3  3  1  0\n4           4  1  1  0  2  0\n5           5  1  3  2  3  3\n6           6  0  1  0  2  3\n7           7  3  2  4  1  2\n8           8  4  4  3  3  2\n9           9  3  4  2  4  1",
      "text/html": "<div>\n<style scoped>\n    .dataframe tbody tr th:only-of-type {\n        vertical-align: middle;\n    }\n\n    .dataframe tbody tr th {\n        vertical-align: top;\n    }\n\n    .dataframe thead th {\n        text-align: right;\n    }\n</style>\n<table border=\"1\" class=\"dataframe\">\n  <thead>\n    <tr style=\"text-align: right;\">\n      <th></th>\n      <th>Unnamed: 0</th>\n      <th>0</th>\n      <th>1</th>\n      <th>2</th>\n      <th>3</th>\n      <th>4</th>\n    </tr>\n  </thead>\n  <tbody>\n    <tr>\n      <th>0</th>\n      <td>0</td>\n      <td>0</td>\n      <td>0</td>\n      <td>3</td>\n      <td>2</td>\n      <td>2</td>\n    </tr>\n    <tr>\n      <th>1</th>\n      <td>1</td>\n      <td>4</td>\n      <td>3</td>\n      <td>4</td>\n      <td>1</td>\n      <td>1</td>\n    </tr>\n    <tr>\n      <th>2</th>\n      <td>2</td>\n      <td>3</td>\n      <td>1</td>\n      <td>3</td>\n      <td>3</td>\n      <td>3</td>\n    </tr>\n    <tr>\n      <th>3</th>\n      <td>3</td>\n      <td>2</td>\n      <td>3</td>\n      <td>3</td>\n      <td>1</td>\n      <td>0</td>\n    </tr>\n    <tr>\n      <th>4</th>\n      <td>4</td>\n      <td>1</td>\n      <td>1</td>\n      <td>0</td>\n      <td>2</td>\n      <td>0</td>\n    </tr>\n    <tr>\n      <th>5</th>\n      <td>5</td>\n      <td>1</td>\n      <td>3</td>\n      <td>2</td>\n      <td>3</td>\n      <td>3</td>\n    </tr>\n    <tr>\n      <th>6</th>\n      <td>6</td>\n      <td>0</td>\n      <td>1</td>\n      <td>0</td>\n      <td>2</td>\n      <td>3</td>\n    </tr>\n    <tr>\n      <th>7</th>\n      <td>7</td>\n      <td>3</td>\n      <td>2</td>\n      <td>4</td>\n      <td>1</td>\n      <td>2</td>\n    </tr>\n    <tr>\n      <th>8</th>\n      <td>8</td>\n      <td>4</td>\n      <td>4</td>\n      <td>3</td>\n      <td>3</td>\n      <td>2</td>\n    </tr>\n    <tr>\n      <th>9</th>\n      <td>9</td>\n      <td>3</td>\n      <td>4</td>\n      <td>2</td>\n      <td>4</td>\n      <td>1</td>\n    </tr>\n  </tbody>\n</table>\n</div>"
     },
     "execution_count": 125,
     "metadata": {},
     "output_type": "execute_result"
    }
   ],
   "source": [
    "pd.read_excel(\"foo.xlsx\", \"Sheet1\", index_col=None, na_values=[\"NA\"])"
   ],
   "metadata": {
    "collapsed": false,
    "ExecuteTime": {
     "end_time": "2023-12-25T17:38:50.810110276Z",
     "start_time": "2023-12-25T17:38:50.714848058Z"
    }
   },
   "id": "65bcfbf91c004b83",
   "execution_count": 125
  },
  {
   "cell_type": "markdown",
   "source": [
    "# Gotchas"
   ],
   "metadata": {
    "collapsed": false
   },
   "id": "7b2f5725fc696239"
  },
  {
   "cell_type": "markdown",
   "source": [
    "#### If you are attempting to perform a boolean operation on a Series or DataFrame you might see an exception like:"
   ],
   "metadata": {
    "collapsed": false
   },
   "id": "d1b556c9ce27eca1"
  },
  {
   "cell_type": "code",
   "outputs": [
    {
     "ename": "ValueError",
     "evalue": "The truth value of a Series is ambiguous. Use a.empty, a.bool(), a.item(), a.any() or a.all().",
     "output_type": "error",
     "traceback": [
      "\u001B[0;31m---------------------------------------------------------------------------\u001B[0m",
      "\u001B[0;31mValueError\u001B[0m                                Traceback (most recent call last)",
      "\u001B[0;32m/tmp/ipykernel_4885/2354700418.py\u001B[0m in \u001B[0;36m?\u001B[0;34m()\u001B[0m\n\u001B[0;32m----> 1\u001B[0;31m \u001B[0;32mif\u001B[0m \u001B[0mpd\u001B[0m\u001B[0;34m.\u001B[0m\u001B[0mSeries\u001B[0m\u001B[0;34m(\u001B[0m\u001B[0;34m[\u001B[0m\u001B[0;32mFalse\u001B[0m\u001B[0;34m,\u001B[0m \u001B[0;32mTrue\u001B[0m\u001B[0;34m,\u001B[0m \u001B[0;32mFalse\u001B[0m\u001B[0;34m]\u001B[0m\u001B[0;34m)\u001B[0m\u001B[0;34m:\u001B[0m\u001B[0;34m\u001B[0m\u001B[0;34m\u001B[0m\u001B[0m\n\u001B[0m\u001B[1;32m      2\u001B[0m      \u001B[0mprint\u001B[0m\u001B[0;34m(\u001B[0m\u001B[0;34m\"I was true\"\u001B[0m\u001B[0;34m)\u001B[0m\u001B[0;34m\u001B[0m\u001B[0;34m\u001B[0m\u001B[0m\n",
      "\u001B[0;32m~/PycharmProjects/hillel/hillel_ml_learning_project/.venv/lib/python3.11/site-packages/pandas/core/generic.py\u001B[0m in \u001B[0;36m?\u001B[0;34m(self)\u001B[0m\n\u001B[1;32m   1517\u001B[0m     \u001B[0;34m@\u001B[0m\u001B[0mfinal\u001B[0m\u001B[0;34m\u001B[0m\u001B[0;34m\u001B[0m\u001B[0m\n\u001B[1;32m   1518\u001B[0m     \u001B[0;32mdef\u001B[0m \u001B[0m__nonzero__\u001B[0m\u001B[0;34m(\u001B[0m\u001B[0mself\u001B[0m\u001B[0;34m)\u001B[0m \u001B[0;34m->\u001B[0m \u001B[0mNoReturn\u001B[0m\u001B[0;34m:\u001B[0m\u001B[0;34m\u001B[0m\u001B[0;34m\u001B[0m\u001B[0m\n\u001B[0;32m-> 1519\u001B[0;31m         raise ValueError(\n\u001B[0m\u001B[1;32m   1520\u001B[0m             \u001B[0;34mf\"The truth value of a {type(self).__name__} is ambiguous. \"\u001B[0m\u001B[0;34m\u001B[0m\u001B[0;34m\u001B[0m\u001B[0m\n\u001B[1;32m   1521\u001B[0m             \u001B[0;34m\"Use a.empty, a.bool(), a.item(), a.any() or a.all().\"\u001B[0m\u001B[0;34m\u001B[0m\u001B[0;34m\u001B[0m\u001B[0m\n\u001B[1;32m   1522\u001B[0m         )\n",
      "\u001B[0;31mValueError\u001B[0m: The truth value of a Series is ambiguous. Use a.empty, a.bool(), a.item(), a.any() or a.all()."
     ]
    }
   ],
   "source": [
    "if pd.Series([False, True, False]):\n",
    "     print(\"I was true\")"
   ],
   "metadata": {
    "collapsed": false,
    "ExecuteTime": {
     "end_time": "2023-12-25T17:42:59.781345597Z",
     "start_time": "2023-12-25T17:42:59.566098492Z"
    }
   },
   "id": "241b0df334cb937b",
   "execution_count": 126
  },
  {
   "cell_type": "markdown",
   "source": [
    "#### See Comparisons and Gotchas for an explanation and what to do."
   ],
   "metadata": {
    "collapsed": false
   },
   "id": "13558e9731d549b7"
  }
 ],
 "metadata": {
  "kernelspec": {
   "display_name": "Python 3",
   "language": "python",
   "name": "python3"
  },
  "language_info": {
   "codemirror_mode": {
    "name": "ipython",
    "version": 2
   },
   "file_extension": ".py",
   "mimetype": "text/x-python",
   "name": "python",
   "nbconvert_exporter": "python",
   "pygments_lexer": "ipython2",
   "version": "2.7.6"
  }
 },
 "nbformat": 4,
 "nbformat_minor": 5
}
