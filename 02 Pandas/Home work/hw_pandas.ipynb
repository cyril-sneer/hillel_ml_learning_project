{
 "cells": [
  {
   "cell_type": "markdown",
   "metadata": {},
   "source": [
    "<center>\n",
    "<img src=\"../../img/ods_stickers.jpg\">\n",
    "## Открытый курс по машинному обучению\n",
    "<center>\n",
    "Автор материала: Юрий Кашницкий, программист-исследователь Mail.Ru Group <br> \n",
    "\n",
    "Материал распространяется на условиях лицензии [Creative Commons CC BY-NC-SA 4.0](https://creativecommons.org/licenses/by-nc-sa/4.0/). Можно использовать в любых целях (редактировать, поправлять и брать за основу), кроме коммерческих, но с обязательным упоминанием автора материала."
   ]
  },
  {
   "cell_type": "markdown",
   "metadata": {},
   "source": [
    "# <center>Домашнее задание № 1 (демо).<br> Анализ данных по доходу населения UCI Adult</center>"
   ]
  },
  {
   "cell_type": "markdown",
   "metadata": {},
   "source": [
    "**В задании предлагается с помощью Pandas ответить на несколько вопросов по данным репозитория UCI [Adult](https://archive.ics.uci.edu/ml/datasets/Adult) (качать данные не надо – они уже есть в репозитории).**"
   ]
  },
  {
   "cell_type": "markdown",
   "metadata": {},
   "source": [
    "Уникальные значения признаков (больше информации по ссылке выше):\n",
    "- age: continuous.\n",
    "- workclass: Private, Self-emp-not-inc, Self-emp-inc, Federal-gov, Local-gov, State-gov, Without-pay, Never-worked.\n",
    "- fnlwgt: continuous.\n",
    "- education: Bachelors, Some-college, 11th, HS-grad, Prof-school, Assoc-acdm, Assoc-voc, 9th, 7th-8th, 12th, Masters, 1st-4th, 10th, Doctorate, 5th-6th, Preschool.\n",
    "- education-num: continuous.\n",
    "- marital-status: Married-civ-spouse, Divorced, Never-married, Separated, Widowed, Married-spouse-absent, Married-AF-spouse.\n",
    "- occupation: Tech-support, Craft-repair, Other-service, Sales, Exec-managerial, Prof-specialty, Handlers-cleaners, Machine-op-inspct, Adm-clerical, Farming-fishing, Transport-moving, Priv-house-serv, Protective-serv, Armed-Forces.\n",
    "- relationship: Wife, Own-child, Husband, Not-in-family, Other-relative, Unmarried.\n",
    "- race: White, Asian-Pac-Islander, Amer-Indian-Eskimo, Other, Black.\n",
    "- sex: Female, Male.\n",
    "- capital-gain: continuous.\n",
    "- capital-loss: continuous.\n",
    "- hours-per-week: continuous.\n",
    "- native-country: United-States, Cambodia, England, Puerto-Rico, Canada, Germany, Outlying-US(Guam-USVI-etc), India, Japan, Greece, South, China, Cuba, Iran, Honduras, Philippines, Italy, Poland, Jamaica, Vietnam, Mexico, Portugal, Ireland, France, Dominican-Republic, Laos, Ecuador, Taiwan, Haiti, Columbia, Hungary, Guatemala, Nicaragua, Scotland, Thailand, Yugoslavia, El-Salvador, Trinadad&Tobago, Peru, Hong, Holand-Netherlands.   \n",
    "- salary: >50K,<=50K"
   ]
  },
  {
   "cell_type": "code",
   "execution_count": 106,
   "metadata": {
    "ExecuteTime": {
     "end_time": "2023-12-26T11:28:44.880155216Z",
     "start_time": "2023-12-26T11:28:44.724908456Z"
    }
   },
   "outputs": [],
   "source": [
    "# import numpy as np\n",
    "import pandas as pd"
   ]
  },
  {
   "cell_type": "code",
   "execution_count": 107,
   "metadata": {
    "ExecuteTime": {
     "end_time": "2023-12-26T11:28:45.156963597Z",
     "start_time": "2023-12-26T11:28:44.885015701Z"
    }
   },
   "outputs": [
    {
     "data": {
      "text/plain": "   age         workclass  fnlwgt  education  education-num  \\\n0   39         State-gov   77516  Bachelors             13   \n1   50  Self-emp-not-inc   83311  Bachelors             13   \n2   38           Private  215646    HS-grad              9   \n3   53           Private  234721       11th              7   \n4   28           Private  338409  Bachelors             13   \n\n       marital-status         occupation   relationship   race     sex  \\\n0       Never-married       Adm-clerical  Not-in-family  White    Male   \n1  Married-civ-spouse    Exec-managerial        Husband  White    Male   \n2            Divorced  Handlers-cleaners  Not-in-family  White    Male   \n3  Married-civ-spouse  Handlers-cleaners        Husband  Black    Male   \n4  Married-civ-spouse     Prof-specialty           Wife  Black  Female   \n\n   capital-gain  capital-loss  hours-per-week native-country salary  \n0          2174             0              40  United-States  <=50K  \n1             0             0              13  United-States  <=50K  \n2             0             0              40  United-States  <=50K  \n3             0             0              40  United-States  <=50K  \n4             0             0              40           Cuba  <=50K  ",
      "text/html": "<div>\n<style scoped>\n    .dataframe tbody tr th:only-of-type {\n        vertical-align: middle;\n    }\n\n    .dataframe tbody tr th {\n        vertical-align: top;\n    }\n\n    .dataframe thead th {\n        text-align: right;\n    }\n</style>\n<table border=\"1\" class=\"dataframe\">\n  <thead>\n    <tr style=\"text-align: right;\">\n      <th></th>\n      <th>age</th>\n      <th>workclass</th>\n      <th>fnlwgt</th>\n      <th>education</th>\n      <th>education-num</th>\n      <th>marital-status</th>\n      <th>occupation</th>\n      <th>relationship</th>\n      <th>race</th>\n      <th>sex</th>\n      <th>capital-gain</th>\n      <th>capital-loss</th>\n      <th>hours-per-week</th>\n      <th>native-country</th>\n      <th>salary</th>\n    </tr>\n  </thead>\n  <tbody>\n    <tr>\n      <th>0</th>\n      <td>39</td>\n      <td>State-gov</td>\n      <td>77516</td>\n      <td>Bachelors</td>\n      <td>13</td>\n      <td>Never-married</td>\n      <td>Adm-clerical</td>\n      <td>Not-in-family</td>\n      <td>White</td>\n      <td>Male</td>\n      <td>2174</td>\n      <td>0</td>\n      <td>40</td>\n      <td>United-States</td>\n      <td>&lt;=50K</td>\n    </tr>\n    <tr>\n      <th>1</th>\n      <td>50</td>\n      <td>Self-emp-not-inc</td>\n      <td>83311</td>\n      <td>Bachelors</td>\n      <td>13</td>\n      <td>Married-civ-spouse</td>\n      <td>Exec-managerial</td>\n      <td>Husband</td>\n      <td>White</td>\n      <td>Male</td>\n      <td>0</td>\n      <td>0</td>\n      <td>13</td>\n      <td>United-States</td>\n      <td>&lt;=50K</td>\n    </tr>\n    <tr>\n      <th>2</th>\n      <td>38</td>\n      <td>Private</td>\n      <td>215646</td>\n      <td>HS-grad</td>\n      <td>9</td>\n      <td>Divorced</td>\n      <td>Handlers-cleaners</td>\n      <td>Not-in-family</td>\n      <td>White</td>\n      <td>Male</td>\n      <td>0</td>\n      <td>0</td>\n      <td>40</td>\n      <td>United-States</td>\n      <td>&lt;=50K</td>\n    </tr>\n    <tr>\n      <th>3</th>\n      <td>53</td>\n      <td>Private</td>\n      <td>234721</td>\n      <td>11th</td>\n      <td>7</td>\n      <td>Married-civ-spouse</td>\n      <td>Handlers-cleaners</td>\n      <td>Husband</td>\n      <td>Black</td>\n      <td>Male</td>\n      <td>0</td>\n      <td>0</td>\n      <td>40</td>\n      <td>United-States</td>\n      <td>&lt;=50K</td>\n    </tr>\n    <tr>\n      <th>4</th>\n      <td>28</td>\n      <td>Private</td>\n      <td>338409</td>\n      <td>Bachelors</td>\n      <td>13</td>\n      <td>Married-civ-spouse</td>\n      <td>Prof-specialty</td>\n      <td>Wife</td>\n      <td>Black</td>\n      <td>Female</td>\n      <td>0</td>\n      <td>0</td>\n      <td>40</td>\n      <td>Cuba</td>\n      <td>&lt;=50K</td>\n    </tr>\n  </tbody>\n</table>\n</div>"
     },
     "execution_count": 107,
     "metadata": {},
     "output_type": "execute_result"
    }
   ],
   "source": [
    "data = pd.read_csv('adult.data.csv')\n",
    "data.head()"
   ]
  },
  {
   "cell_type": "code",
   "outputs": [],
   "source": [
    "pd.options.display.float_format = '{:.3f}'.format"
   ],
   "metadata": {
    "collapsed": false,
    "ExecuteTime": {
     "end_time": "2023-12-26T11:28:45.158019209Z",
     "start_time": "2023-12-26T11:28:45.061137545Z"
    }
   },
   "execution_count": 108
  },
  {
   "cell_type": "markdown",
   "metadata": {},
   "source": [
    "**1. Сколько мужчин и женщин (признак *sex*) представлено в этом наборе данных?**"
   ]
  },
  {
   "cell_type": "code",
   "execution_count": 109,
   "metadata": {
    "collapsed": true,
    "ExecuteTime": {
     "end_time": "2023-12-26T11:28:45.159369748Z",
     "start_time": "2023-12-26T11:28:45.061374503Z"
    }
   },
   "outputs": [
    {
     "data": {
      "text/plain": "sex\nMale      21790\nFemale    10771\nName: count, dtype: int64"
     },
     "execution_count": 109,
     "metadata": {},
     "output_type": "execute_result"
    }
   ],
   "source": [
    "# Ваш код здесь\n",
    "data.groupby(by=\"sex\")[\"sex\"].count()\n",
    "# или так\n",
    "data[\"sex\"].value_counts()"
   ]
  },
  {
   "cell_type": "markdown",
   "metadata": {},
   "source": [
    "**2. Каков средний возраст (признак *age*) женщин?**"
   ]
  },
  {
   "cell_type": "code",
   "execution_count": 110,
   "metadata": {
    "collapsed": true,
    "ExecuteTime": {
     "end_time": "2023-12-26T11:28:45.171642363Z",
     "start_time": "2023-12-26T11:28:45.062303766Z"
    }
   },
   "outputs": [
    {
     "data": {
      "text/plain": "36.85823043357163"
     },
     "execution_count": 110,
     "metadata": {},
     "output_type": "execute_result"
    }
   ],
   "source": [
    "# Ваш код здесь\n",
    "women = (data[\"sex\"] == \"Female\")\n",
    "data[women][\"age\"].mean()"
   ]
  },
  {
   "cell_type": "markdown",
   "metadata": {},
   "source": [
    "**3. Какова доля граждан Германии (признак *native-country*)?**"
   ]
  },
  {
   "cell_type": "code",
   "execution_count": 111,
   "metadata": {
    "collapsed": true,
    "ExecuteTime": {
     "end_time": "2023-12-26T11:28:45.200692777Z",
     "start_time": "2023-12-26T11:28:45.124952401Z"
    }
   },
   "outputs": [
    {
     "data": {
      "text/plain": "0.004207487485028101"
     },
     "execution_count": 111,
     "metadata": {},
     "output_type": "execute_result"
    }
   ],
   "source": [
    "# Ваш код здесь\n",
    "data[\"native-country\"].value_counts(normalize=True)[\"Germany\"]"
   ]
  },
  {
   "cell_type": "markdown",
   "metadata": {},
   "source": [
    "**4-5. Каковы средние значения и среднеквадратичные отклонения возраста тех, кто получает более 50K в год (признак *salary*) и тех, кто получает менее 50K в год? **"
   ]
  },
  {
   "cell_type": "code",
   "execution_count": 128,
   "metadata": {
    "collapsed": true,
    "ExecuteTime": {
     "end_time": "2023-12-26T11:38:24.981309744Z",
     "start_time": "2023-12-26T11:38:24.912614072Z"
    }
   },
   "outputs": [
    {
     "data": {
      "text/plain": "        mean   std\nsalary            \n<=50K  36.78 14.02\n>50K   44.25 10.52",
      "text/html": "<div>\n<style scoped>\n    .dataframe tbody tr th:only-of-type {\n        vertical-align: middle;\n    }\n\n    .dataframe tbody tr th {\n        vertical-align: top;\n    }\n\n    .dataframe thead th {\n        text-align: right;\n    }\n</style>\n<table border=\"1\" class=\"dataframe\">\n  <thead>\n    <tr style=\"text-align: right;\">\n      <th></th>\n      <th>mean</th>\n      <th>std</th>\n    </tr>\n    <tr>\n      <th>salary</th>\n      <th></th>\n      <th></th>\n    </tr>\n  </thead>\n  <tbody>\n    <tr>\n      <th>&lt;=50K</th>\n      <td>36.78</td>\n      <td>14.02</td>\n    </tr>\n    <tr>\n      <th>&gt;50K</th>\n      <td>44.25</td>\n      <td>10.52</td>\n    </tr>\n  </tbody>\n</table>\n</div>"
     },
     "execution_count": 128,
     "metadata": {},
     "output_type": "execute_result"
    }
   ],
   "source": [
    "# Ваш код здесь\n",
    "func_list = [\"mean\", \"std\"]\n",
    "data.groupby(by=\"salary\")[\"age\"].agg(func_list)"
   ]
  },
  {
   "cell_type": "markdown",
   "metadata": {},
   "source": [
    "**6. Правда ли, что люди, которые получают больше 50k, имеют как минимум высшее образование? (признак *education – Bachelors, Prof-school, Assoc-acdm, Assoc-voc, Masters* или *Doctorate*)**"
   ]
  },
  {
   "cell_type": "code",
   "execution_count": 126,
   "metadata": {
    "collapsed": true,
    "ExecuteTime": {
     "end_time": "2023-12-26T11:36:25.150845238Z",
     "start_time": "2023-12-26T11:36:25.099081115Z"
    }
   },
   "outputs": [
    {
     "data": {
      "text/plain": "       age         workclass  fnlwgt     education  education-num  \\\n7       52  Self-emp-not-inc  209642       HS-grad              9   \n10      37           Private  280464  Some-college             10   \n27      54                 ?  180211  Some-college             10   \n38      31           Private   84154  Some-college             10   \n55      43           Private  237993  Some-college             10   \n...    ...               ...     ...           ...            ...   \n32510   39           Private  107302       HS-grad              9   \n32518   57         Local-gov  110417       HS-grad              9   \n32519   46           Private  364548  Some-college             10   \n32557   40           Private  154374       HS-grad              9   \n32560   52      Self-emp-inc  287927       HS-grad              9   \n\n           marital-status         occupation relationship                race  \\\n7      Married-civ-spouse    Exec-managerial      Husband               White   \n10     Married-civ-spouse    Exec-managerial      Husband               Black   \n27     Married-civ-spouse                  ?      Husband  Asian-Pac-Islander   \n38     Married-civ-spouse              Sales      Husband               White   \n55     Married-civ-spouse       Tech-support      Husband               White   \n...                   ...                ...          ...                 ...   \n32510  Married-civ-spouse     Prof-specialty      Husband               White   \n32518  Married-civ-spouse       Craft-repair      Husband               White   \n32519  Married-civ-spouse    Exec-managerial      Husband               White   \n32557  Married-civ-spouse  Machine-op-inspct      Husband               White   \n32560  Married-civ-spouse    Exec-managerial         Wife               White   \n\n          sex  capital-gain  capital-loss  hours-per-week native-country  \\\n7        Male             0             0              45  United-States   \n10       Male             0             0              80  United-States   \n27       Male             0             0              60          South   \n38       Male             0             0              38              ?   \n55       Male             0             0              40  United-States   \n...       ...           ...           ...             ...            ...   \n32510    Male             0             0              45              ?   \n32518    Male         99999             0              40  United-States   \n32519    Male             0             0              48  United-States   \n32557    Male             0             0              40  United-States   \n32560  Female         15024             0              40  United-States   \n\n      salary married  \n7       >50K     Yes  \n10      >50K     Yes  \n27      >50K     Yes  \n38      >50K     Yes  \n55      >50K     Yes  \n...      ...     ...  \n32510   >50K     Yes  \n32518   >50K     Yes  \n32519   >50K     Yes  \n32557   >50K     Yes  \n32560   >50K     Yes  \n\n[3306 rows x 16 columns]",
      "text/html": "<div>\n<style scoped>\n    .dataframe tbody tr th:only-of-type {\n        vertical-align: middle;\n    }\n\n    .dataframe tbody tr th {\n        vertical-align: top;\n    }\n\n    .dataframe thead th {\n        text-align: right;\n    }\n</style>\n<table border=\"1\" class=\"dataframe\">\n  <thead>\n    <tr style=\"text-align: right;\">\n      <th></th>\n      <th>age</th>\n      <th>workclass</th>\n      <th>fnlwgt</th>\n      <th>education</th>\n      <th>education-num</th>\n      <th>marital-status</th>\n      <th>occupation</th>\n      <th>relationship</th>\n      <th>race</th>\n      <th>sex</th>\n      <th>capital-gain</th>\n      <th>capital-loss</th>\n      <th>hours-per-week</th>\n      <th>native-country</th>\n      <th>salary</th>\n      <th>married</th>\n    </tr>\n  </thead>\n  <tbody>\n    <tr>\n      <th>7</th>\n      <td>52</td>\n      <td>Self-emp-not-inc</td>\n      <td>209642</td>\n      <td>HS-grad</td>\n      <td>9</td>\n      <td>Married-civ-spouse</td>\n      <td>Exec-managerial</td>\n      <td>Husband</td>\n      <td>White</td>\n      <td>Male</td>\n      <td>0</td>\n      <td>0</td>\n      <td>45</td>\n      <td>United-States</td>\n      <td>&gt;50K</td>\n      <td>Yes</td>\n    </tr>\n    <tr>\n      <th>10</th>\n      <td>37</td>\n      <td>Private</td>\n      <td>280464</td>\n      <td>Some-college</td>\n      <td>10</td>\n      <td>Married-civ-spouse</td>\n      <td>Exec-managerial</td>\n      <td>Husband</td>\n      <td>Black</td>\n      <td>Male</td>\n      <td>0</td>\n      <td>0</td>\n      <td>80</td>\n      <td>United-States</td>\n      <td>&gt;50K</td>\n      <td>Yes</td>\n    </tr>\n    <tr>\n      <th>27</th>\n      <td>54</td>\n      <td>?</td>\n      <td>180211</td>\n      <td>Some-college</td>\n      <td>10</td>\n      <td>Married-civ-spouse</td>\n      <td>?</td>\n      <td>Husband</td>\n      <td>Asian-Pac-Islander</td>\n      <td>Male</td>\n      <td>0</td>\n      <td>0</td>\n      <td>60</td>\n      <td>South</td>\n      <td>&gt;50K</td>\n      <td>Yes</td>\n    </tr>\n    <tr>\n      <th>38</th>\n      <td>31</td>\n      <td>Private</td>\n      <td>84154</td>\n      <td>Some-college</td>\n      <td>10</td>\n      <td>Married-civ-spouse</td>\n      <td>Sales</td>\n      <td>Husband</td>\n      <td>White</td>\n      <td>Male</td>\n      <td>0</td>\n      <td>0</td>\n      <td>38</td>\n      <td>?</td>\n      <td>&gt;50K</td>\n      <td>Yes</td>\n    </tr>\n    <tr>\n      <th>55</th>\n      <td>43</td>\n      <td>Private</td>\n      <td>237993</td>\n      <td>Some-college</td>\n      <td>10</td>\n      <td>Married-civ-spouse</td>\n      <td>Tech-support</td>\n      <td>Husband</td>\n      <td>White</td>\n      <td>Male</td>\n      <td>0</td>\n      <td>0</td>\n      <td>40</td>\n      <td>United-States</td>\n      <td>&gt;50K</td>\n      <td>Yes</td>\n    </tr>\n    <tr>\n      <th>...</th>\n      <td>...</td>\n      <td>...</td>\n      <td>...</td>\n      <td>...</td>\n      <td>...</td>\n      <td>...</td>\n      <td>...</td>\n      <td>...</td>\n      <td>...</td>\n      <td>...</td>\n      <td>...</td>\n      <td>...</td>\n      <td>...</td>\n      <td>...</td>\n      <td>...</td>\n      <td>...</td>\n    </tr>\n    <tr>\n      <th>32510</th>\n      <td>39</td>\n      <td>Private</td>\n      <td>107302</td>\n      <td>HS-grad</td>\n      <td>9</td>\n      <td>Married-civ-spouse</td>\n      <td>Prof-specialty</td>\n      <td>Husband</td>\n      <td>White</td>\n      <td>Male</td>\n      <td>0</td>\n      <td>0</td>\n      <td>45</td>\n      <td>?</td>\n      <td>&gt;50K</td>\n      <td>Yes</td>\n    </tr>\n    <tr>\n      <th>32518</th>\n      <td>57</td>\n      <td>Local-gov</td>\n      <td>110417</td>\n      <td>HS-grad</td>\n      <td>9</td>\n      <td>Married-civ-spouse</td>\n      <td>Craft-repair</td>\n      <td>Husband</td>\n      <td>White</td>\n      <td>Male</td>\n      <td>99999</td>\n      <td>0</td>\n      <td>40</td>\n      <td>United-States</td>\n      <td>&gt;50K</td>\n      <td>Yes</td>\n    </tr>\n    <tr>\n      <th>32519</th>\n      <td>46</td>\n      <td>Private</td>\n      <td>364548</td>\n      <td>Some-college</td>\n      <td>10</td>\n      <td>Married-civ-spouse</td>\n      <td>Exec-managerial</td>\n      <td>Husband</td>\n      <td>White</td>\n      <td>Male</td>\n      <td>0</td>\n      <td>0</td>\n      <td>48</td>\n      <td>United-States</td>\n      <td>&gt;50K</td>\n      <td>Yes</td>\n    </tr>\n    <tr>\n      <th>32557</th>\n      <td>40</td>\n      <td>Private</td>\n      <td>154374</td>\n      <td>HS-grad</td>\n      <td>9</td>\n      <td>Married-civ-spouse</td>\n      <td>Machine-op-inspct</td>\n      <td>Husband</td>\n      <td>White</td>\n      <td>Male</td>\n      <td>0</td>\n      <td>0</td>\n      <td>40</td>\n      <td>United-States</td>\n      <td>&gt;50K</td>\n      <td>Yes</td>\n    </tr>\n    <tr>\n      <th>32560</th>\n      <td>52</td>\n      <td>Self-emp-inc</td>\n      <td>287927</td>\n      <td>HS-grad</td>\n      <td>9</td>\n      <td>Married-civ-spouse</td>\n      <td>Exec-managerial</td>\n      <td>Wife</td>\n      <td>White</td>\n      <td>Female</td>\n      <td>15024</td>\n      <td>0</td>\n      <td>40</td>\n      <td>United-States</td>\n      <td>&gt;50K</td>\n      <td>Yes</td>\n    </tr>\n  </tbody>\n</table>\n<p>3306 rows × 16 columns</p>\n</div>"
     },
     "execution_count": 126,
     "metadata": {},
     "output_type": "execute_result"
    }
   ],
   "source": [
    "# Ваш код здесь\n",
    "salary_mask = data[\"salary\"] == \">50K\"\n",
    "\n",
    "education_list = [\"Bachelors\", \"Prof-school\", \"Assoc-acdm\", \"Assoc-voc\", \"Masters\", \"Doctorate\"]\n",
    "education_mask = data[\"education\"].isin(education_list)\n",
    "\n",
    "# Result below is the list of those, who have income more than 50K per year but haven't high education.\n",
    "data[salary_mask * ~education_mask]"
   ]
  },
  {
   "cell_type": "markdown",
   "source": [
    "Also we can count their quantity"
   ],
   "metadata": {
    "collapsed": false
   }
  },
  {
   "cell_type": "code",
   "outputs": [
    {
     "data": {
      "text/plain": "3306"
     },
     "execution_count": 127,
     "metadata": {},
     "output_type": "execute_result"
    }
   ],
   "source": [
    "data[salary_mask * ~education_mask][\"education\"].count()"
   ],
   "metadata": {
    "collapsed": false,
    "ExecuteTime": {
     "end_time": "2023-12-26T11:36:43.354261921Z",
     "start_time": "2023-12-26T11:36:43.312792492Z"
    }
   },
   "execution_count": 127
  },
  {
   "cell_type": "markdown",
   "metadata": {},
   "source": [
    "**7. Выведите статистику возраста для каждой расы (признак *race*) и каждого пола. Используйте *groupby* и *describe*. Найдите таким образом максимальный возраст мужчин расы *Amer-Indian-Eskimo*.**"
   ]
  },
  {
   "cell_type": "code",
   "execution_count": 114,
   "metadata": {
    "collapsed": true,
    "ExecuteTime": {
     "end_time": "2023-12-26T11:28:45.708935446Z",
     "start_time": "2023-12-26T11:28:45.495974015Z"
    }
   },
   "outputs": [
    {
     "data": {
      "text/plain": "                              count   mean    std    min    25%    50%    75%  \\\nrace               sex                                                          \nAmer-Indian-Eskimo Female   119.000 37.118 13.115 17.000 27.000 36.000 46.000   \n                   Male     192.000 37.208 12.050 17.000 28.000 35.000 45.000   \nAsian-Pac-Islander Female   346.000 35.090 12.301 17.000 25.000 33.000 43.750   \n                   Male     693.000 39.074 12.884 18.000 29.000 37.000 46.000   \nBlack              Female  1555.000 37.854 12.637 17.000 28.000 37.000 46.000   \n                   Male    1569.000 37.683 12.883 17.000 27.000 36.000 46.000   \nOther              Female   109.000 31.679 11.632 17.000 23.000 29.000 39.000   \n                   Male     162.000 34.654 11.356 17.000 26.000 32.000 42.000   \nWhite              Female  8642.000 36.812 14.329 17.000 25.000 35.000 46.000   \n                   Male   19174.000 39.652 13.436 17.000 29.000 38.000 49.000   \n\n                             max  \nrace               sex            \nAmer-Indian-Eskimo Female 80.000  \n                   Male   82.000  \nAsian-Pac-Islander Female 75.000  \n                   Male   90.000  \nBlack              Female 90.000  \n                   Male   90.000  \nOther              Female 74.000  \n                   Male   77.000  \nWhite              Female 90.000  \n                   Male   90.000  ",
      "text/html": "<div>\n<style scoped>\n    .dataframe tbody tr th:only-of-type {\n        vertical-align: middle;\n    }\n\n    .dataframe tbody tr th {\n        vertical-align: top;\n    }\n\n    .dataframe thead th {\n        text-align: right;\n    }\n</style>\n<table border=\"1\" class=\"dataframe\">\n  <thead>\n    <tr style=\"text-align: right;\">\n      <th></th>\n      <th></th>\n      <th>count</th>\n      <th>mean</th>\n      <th>std</th>\n      <th>min</th>\n      <th>25%</th>\n      <th>50%</th>\n      <th>75%</th>\n      <th>max</th>\n    </tr>\n    <tr>\n      <th>race</th>\n      <th>sex</th>\n      <th></th>\n      <th></th>\n      <th></th>\n      <th></th>\n      <th></th>\n      <th></th>\n      <th></th>\n      <th></th>\n    </tr>\n  </thead>\n  <tbody>\n    <tr>\n      <th rowspan=\"2\" valign=\"top\">Amer-Indian-Eskimo</th>\n      <th>Female</th>\n      <td>119.000</td>\n      <td>37.118</td>\n      <td>13.115</td>\n      <td>17.000</td>\n      <td>27.000</td>\n      <td>36.000</td>\n      <td>46.000</td>\n      <td>80.000</td>\n    </tr>\n    <tr>\n      <th>Male</th>\n      <td>192.000</td>\n      <td>37.208</td>\n      <td>12.050</td>\n      <td>17.000</td>\n      <td>28.000</td>\n      <td>35.000</td>\n      <td>45.000</td>\n      <td>82.000</td>\n    </tr>\n    <tr>\n      <th rowspan=\"2\" valign=\"top\">Asian-Pac-Islander</th>\n      <th>Female</th>\n      <td>346.000</td>\n      <td>35.090</td>\n      <td>12.301</td>\n      <td>17.000</td>\n      <td>25.000</td>\n      <td>33.000</td>\n      <td>43.750</td>\n      <td>75.000</td>\n    </tr>\n    <tr>\n      <th>Male</th>\n      <td>693.000</td>\n      <td>39.074</td>\n      <td>12.884</td>\n      <td>18.000</td>\n      <td>29.000</td>\n      <td>37.000</td>\n      <td>46.000</td>\n      <td>90.000</td>\n    </tr>\n    <tr>\n      <th rowspan=\"2\" valign=\"top\">Black</th>\n      <th>Female</th>\n      <td>1555.000</td>\n      <td>37.854</td>\n      <td>12.637</td>\n      <td>17.000</td>\n      <td>28.000</td>\n      <td>37.000</td>\n      <td>46.000</td>\n      <td>90.000</td>\n    </tr>\n    <tr>\n      <th>Male</th>\n      <td>1569.000</td>\n      <td>37.683</td>\n      <td>12.883</td>\n      <td>17.000</td>\n      <td>27.000</td>\n      <td>36.000</td>\n      <td>46.000</td>\n      <td>90.000</td>\n    </tr>\n    <tr>\n      <th rowspan=\"2\" valign=\"top\">Other</th>\n      <th>Female</th>\n      <td>109.000</td>\n      <td>31.679</td>\n      <td>11.632</td>\n      <td>17.000</td>\n      <td>23.000</td>\n      <td>29.000</td>\n      <td>39.000</td>\n      <td>74.000</td>\n    </tr>\n    <tr>\n      <th>Male</th>\n      <td>162.000</td>\n      <td>34.654</td>\n      <td>11.356</td>\n      <td>17.000</td>\n      <td>26.000</td>\n      <td>32.000</td>\n      <td>42.000</td>\n      <td>77.000</td>\n    </tr>\n    <tr>\n      <th rowspan=\"2\" valign=\"top\">White</th>\n      <th>Female</th>\n      <td>8642.000</td>\n      <td>36.812</td>\n      <td>14.329</td>\n      <td>17.000</td>\n      <td>25.000</td>\n      <td>35.000</td>\n      <td>46.000</td>\n      <td>90.000</td>\n    </tr>\n    <tr>\n      <th>Male</th>\n      <td>19174.000</td>\n      <td>39.652</td>\n      <td>13.436</td>\n      <td>17.000</td>\n      <td>29.000</td>\n      <td>38.000</td>\n      <td>49.000</td>\n      <td>90.000</td>\n    </tr>\n  </tbody>\n</table>\n</div>"
     },
     "execution_count": 114,
     "metadata": {},
     "output_type": "execute_result"
    }
   ],
   "source": [
    "# Ваш код здесь\n",
    "data.groupby([\"race\", \"sex\"])[\"age\"].describe()"
   ]
  },
  {
   "cell_type": "markdown",
   "source": [
    "We can see that the oldest Amer-Indian-Eskimo man is 82 YO.\n",
    "We also can get this value with next:"
   ],
   "metadata": {
    "collapsed": false
   }
  },
  {
   "cell_type": "code",
   "outputs": [
    {
     "data": {
      "text/plain": "82"
     },
     "execution_count": 115,
     "metadata": {},
     "output_type": "execute_result"
    }
   ],
   "source": [
    "race_mask = data[\"race\"] == \"Amer-Indian-Eskimo\"\n",
    "sex_mask = data[\"sex\"] == \"Male\"\n",
    "data[race_mask & sex_mask][\"age\"].max()"
   ],
   "metadata": {
    "collapsed": false,
    "ExecuteTime": {
     "end_time": "2023-12-26T11:28:45.872692934Z",
     "start_time": "2023-12-26T11:28:45.678822571Z"
    }
   },
   "execution_count": 115
  },
  {
   "cell_type": "markdown",
   "metadata": {},
   "source": [
    "**8. Среди кого больше доля зарабатывающих много (>50K): среди женатых или холостых мужчин (признак *marital-status*)? Женатыми считаем тех, у кого *marital-status* начинается с *Married* (Married-civ-spouse, Married-spouse-absent или Married-AF-spouse), остальных считаем холостыми.**"
   ]
  },
  {
   "cell_type": "code",
   "execution_count": 121,
   "metadata": {
    "collapsed": true,
    "ExecuteTime": {
     "end_time": "2023-12-26T11:32:04.211668574Z",
     "start_time": "2023-12-26T11:32:04.136974844Z"
    }
   },
   "outputs": [
    {
     "data": {
      "text/plain": "married  salary\nNo       <=50K    0.92\n         >50K     0.08\nYes      <=50K    0.56\n         >50K     0.44\nName: proportion, dtype: float64"
     },
     "execution_count": 121,
     "metadata": {},
     "output_type": "execute_result"
    }
   ],
   "source": [
    "# Ваш код здесь\n",
    "\n",
    "# add new column with flag Married (Yes) or not_Married (No)\n",
    "data[\"married\"] = data[\"marital-status\"].str.startswith(\"Married\")\n",
    "convert_dict = {False: \"No\", True: \"Yes\"}\n",
    "data = data.replace({\"married\": convert_dict})\n",
    "# or\n",
    "# data[\"married\"] = data[\"married\"].map(convert_dict)\n",
    "\n",
    "men_mask = data[\"sex\"] == \"Male\"\n",
    "\n",
    "pd.options.display.float_format = '{:.2f}'.format\n",
    "data[men_mask].groupby(by=\"married\")[\"salary\"].value_counts(normalize=True)\n"
   ]
  },
  {
   "cell_type": "markdown",
   "metadata": {},
   "source": [
    "**9. Какое максимальное число часов человек работает в неделю (признак *hours-per-week*)? Сколько людей работают такое количество часов и каков среди них процент зарабатывающих много?**"
   ]
  },
  {
   "cell_type": "code",
   "execution_count": 131,
   "metadata": {
    "collapsed": true,
    "ExecuteTime": {
     "end_time": "2023-12-26T11:45:22.000387472Z",
     "start_time": "2023-12-26T11:45:21.945357623Z"
    }
   },
   "outputs": [
    {
     "data": {
      "text/plain": "99"
     },
     "execution_count": 131,
     "metadata": {},
     "output_type": "execute_result"
    }
   ],
   "source": [
    "# Ваш код здесь\n",
    "max_hours_per_week = data[\"hours-per-week\"].max()\n",
    "max_hours_per_week"
   ]
  },
  {
   "cell_type": "code",
   "outputs": [
    {
     "data": {
      "text/plain": "85"
     },
     "execution_count": 140,
     "metadata": {},
     "output_type": "execute_result"
    }
   ],
   "source": [
    "max_working_people = data[data[\"hours-per-week\"] == max_hours_per_week]\n",
    "len(max_working_people)  # quantity those, who work max"
   ],
   "metadata": {
    "collapsed": false,
    "ExecuteTime": {
     "end_time": "2023-12-26T11:51:32.669280468Z",
     "start_time": "2023-12-26T11:51:32.602706204Z"
    }
   },
   "execution_count": 140
  },
  {
   "cell_type": "code",
   "outputs": [
    {
     "data": {
      "text/plain": "salary\n<=50K   70.59%\n>50K    29.41%\nName: proportion, dtype: float64"
     },
     "execution_count": 146,
     "metadata": {},
     "output_type": "execute_result"
    }
   ],
   "source": [
    "pd.options.display.float_format = '{:.2%}'.format\n",
    "\n",
    "max_working_people[\"salary\"].value_counts(normalize=True)"
   ],
   "metadata": {
    "collapsed": false,
    "ExecuteTime": {
     "end_time": "2023-12-26T11:59:45.210155223Z",
     "start_time": "2023-12-26T11:59:45.142004856Z"
    }
   },
   "execution_count": 146
  },
  {
   "cell_type": "markdown",
   "metadata": {},
   "source": [
    "**10. Посчитайте среднее время работы (*hours-per-week*) зарабатывающих мало и много (*salary*) для каждой страны (*native-country*).**"
   ]
  },
  {
   "cell_type": "code",
   "execution_count": 155,
   "metadata": {
    "collapsed": true,
    "ExecuteTime": {
     "end_time": "2023-12-26T12:13:11.994514133Z",
     "start_time": "2023-12-26T12:13:11.926162904Z"
    }
   },
   "outputs": [
    {
     "data": {
      "text/plain": "native-country  salary\n?               <=50K    40.16\n                >50K     45.55\nCambodia        <=50K    41.42\n                >50K     40.00\nCanada          <=50K    37.91\n                          ... \nUnited-States   >50K     45.51\nVietnam         <=50K    37.19\n                >50K     39.20\nYugoslavia      <=50K    41.60\n                >50K     49.50\nName: hours-per-week, Length: 82, dtype: float64"
     },
     "execution_count": 155,
     "metadata": {},
     "output_type": "execute_result"
    }
   ],
   "source": [
    "# Ваш код здесь\n",
    "pd.options.display.float_format = '{:.2f}'.format\n",
    "\n",
    "data.groupby([\"native-country\", \"salary\"])[\"hours-per-week\"].mean()"
   ]
  }
 ],
 "metadata": {
  "anaconda-cloud": {},
  "kernelspec": {
   "display_name": "Python 3",
   "language": "python",
   "name": "python3"
  },
  "language_info": {
   "codemirror_mode": {
    "name": "ipython",
    "version": 3
   },
   "file_extension": ".py",
   "mimetype": "text/x-python",
   "name": "python",
   "nbconvert_exporter": "python",
   "pygments_lexer": "ipython3",
   "version": "3.6.6"
  }
 },
 "nbformat": 4,
 "nbformat_minor": 1
}
