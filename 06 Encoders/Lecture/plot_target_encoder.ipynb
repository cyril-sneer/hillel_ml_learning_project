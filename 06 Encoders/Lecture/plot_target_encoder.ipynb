{
 "cells": [
  {
   "cell_type": "markdown",
   "source": [
    "https://scikit-learn.org/stable/auto_examples/preprocessing/plot_target_encoder.html#sphx-glr-auto-examples-preprocessing-plot-target-encoder-py"
   ],
   "metadata": {
    "collapsed": false
   }
  },
  {
   "cell_type": "markdown",
   "metadata": {},
   "source": [
    "\n",
    "# Comparing Target Encoder with Other Encoders\n",
    "\n",
    ".. currentmodule:: sklearn.preprocessing\n",
    "\n",
    "The :class:`TargetEncoder` uses the value of the target to encode each\n",
    "categorical feature. In this example, we will compare three different approaches\n",
    "for handling categorical features: :class:`TargetEncoder`,\n",
    ":class:`OrdinalEncoder`, :class:`OneHotEncoder` and dropping the category.\n",
    "\n",
    "<div class=\"alert alert-info\"><h4>Note</h4><p>`fit(X, y).transform(X)` does not equal `fit_transform(X, y)` because a\n",
    "    cross fitting scheme is used in `fit_transform` for encoding. See the\n",
    "    `User Guide <target_encoder>`. for details.</p></div>\n"
   ]
  },
  {
   "cell_type": "markdown",
   "metadata": {},
   "source": [
    "## Loading Data from OpenML\n",
    "First, we load the wine reviews dataset, where the target is the points given\n",
    "be a reviewer:\n",
    "\n"
   ]
  },
  {
   "cell_type": "code",
   "execution_count": 1,
   "metadata": {
    "collapsed": false,
    "ExecuteTime": {
     "end_time": "2024-01-15T22:05:56.988894361Z",
     "start_time": "2024-01-15T22:05:48.241639454Z"
    }
   },
   "outputs": [
    {
     "data": {
      "text/plain": "  country                                        description  \\\n0      US  This tremendous 100% varietal wine hails from ...   \n1   Spain  Ripe aromas of fig, blackberry and cassis are ...   \n2      US  Mac Watson honors the memory of a wine once ma...   \n3      US  This spent 20 months in 30% new French oak, an...   \n4  France  This is the top wine from La Bégude, named aft...   \n\n                            designation  points  price        province  \\\n0                     Martha's Vineyard      96  235.0      California   \n1  Carodorum Selección Especial Reserva      96  110.0  Northern Spain   \n2         Special Selected Late Harvest      96   90.0      California   \n3                               Reserve      96   65.0          Oregon   \n4                            La Brûlade      95   66.0        Provence   \n\n            region_1           region_2             variety  \\\n0        Napa Valley               Napa  Cabernet Sauvignon   \n1               Toro                NaN       Tinta de Toro   \n2     Knights Valley             Sonoma     Sauvignon Blanc   \n3  Willamette Valley  Willamette Valley          Pinot Noir   \n4             Bandol                NaN  Provence red blend   \n\n                    winery  \n0                    Heitz  \n1  Bodega Carmen Rodríguez  \n2                 Macauley  \n3                    Ponzi  \n4     Domaine de la Bégude  ",
      "text/html": "<div>\n<style scoped>\n    .dataframe tbody tr th:only-of-type {\n        vertical-align: middle;\n    }\n\n    .dataframe tbody tr th {\n        vertical-align: top;\n    }\n\n    .dataframe thead th {\n        text-align: right;\n    }\n</style>\n<table border=\"1\" class=\"dataframe\">\n  <thead>\n    <tr style=\"text-align: right;\">\n      <th></th>\n      <th>country</th>\n      <th>description</th>\n      <th>designation</th>\n      <th>points</th>\n      <th>price</th>\n      <th>province</th>\n      <th>region_1</th>\n      <th>region_2</th>\n      <th>variety</th>\n      <th>winery</th>\n    </tr>\n  </thead>\n  <tbody>\n    <tr>\n      <th>0</th>\n      <td>US</td>\n      <td>This tremendous 100% varietal wine hails from ...</td>\n      <td>Martha's Vineyard</td>\n      <td>96</td>\n      <td>235.0</td>\n      <td>California</td>\n      <td>Napa Valley</td>\n      <td>Napa</td>\n      <td>Cabernet Sauvignon</td>\n      <td>Heitz</td>\n    </tr>\n    <tr>\n      <th>1</th>\n      <td>Spain</td>\n      <td>Ripe aromas of fig, blackberry and cassis are ...</td>\n      <td>Carodorum Selección Especial Reserva</td>\n      <td>96</td>\n      <td>110.0</td>\n      <td>Northern Spain</td>\n      <td>Toro</td>\n      <td>NaN</td>\n      <td>Tinta de Toro</td>\n      <td>Bodega Carmen Rodríguez</td>\n    </tr>\n    <tr>\n      <th>2</th>\n      <td>US</td>\n      <td>Mac Watson honors the memory of a wine once ma...</td>\n      <td>Special Selected Late Harvest</td>\n      <td>96</td>\n      <td>90.0</td>\n      <td>California</td>\n      <td>Knights Valley</td>\n      <td>Sonoma</td>\n      <td>Sauvignon Blanc</td>\n      <td>Macauley</td>\n    </tr>\n    <tr>\n      <th>3</th>\n      <td>US</td>\n      <td>This spent 20 months in 30% new French oak, an...</td>\n      <td>Reserve</td>\n      <td>96</td>\n      <td>65.0</td>\n      <td>Oregon</td>\n      <td>Willamette Valley</td>\n      <td>Willamette Valley</td>\n      <td>Pinot Noir</td>\n      <td>Ponzi</td>\n    </tr>\n    <tr>\n      <th>4</th>\n      <td>France</td>\n      <td>This is the top wine from La Bégude, named aft...</td>\n      <td>La Brûlade</td>\n      <td>95</td>\n      <td>66.0</td>\n      <td>Provence</td>\n      <td>Bandol</td>\n      <td>NaN</td>\n      <td>Provence red blend</td>\n      <td>Domaine de la Bégude</td>\n    </tr>\n  </tbody>\n</table>\n</div>"
     },
     "execution_count": 1,
     "metadata": {},
     "output_type": "execute_result"
    }
   ],
   "source": [
    "from sklearn.datasets import fetch_openml\n",
    "\n",
    "wine_reviews = fetch_openml(data_id=42074, as_frame=True, parser=\"pandas\")\n",
    "\n",
    "df = wine_reviews.frame\n",
    "df.head()"
   ]
  },
  {
   "cell_type": "markdown",
   "metadata": {},
   "source": [
    "For this example, we use the following subset of numerical and categorical\n",
    "features in the data. The target are continuous values from 80 to 100:\n",
    "\n"
   ]
  },
  {
   "cell_type": "code",
   "execution_count": 2,
   "metadata": {
    "collapsed": false,
    "ExecuteTime": {
     "end_time": "2024-01-15T22:05:57.789227323Z",
     "start_time": "2024-01-15T22:05:57.000671226Z"
    }
   },
   "outputs": [
    {
     "data": {
      "text/plain": "<Figure size 640x480 with 1 Axes>",
      "image/png": "[encoded data removed]"
     },
     "metadata": {},
     "output_type": "display_data"
    }
   ],
   "source": [
    "numerical_features = [\"price\"]\n",
    "categorical_features = [\n",
    "    \"country\",\n",
    "    \"province\",\n",
    "    \"region_1\",\n",
    "    \"region_2\",\n",
    "    \"variety\",\n",
    "    \"winery\",\n",
    "]\n",
    "target_name = \"points\"\n",
    "\n",
    "X = df[numerical_features + categorical_features]\n",
    "y = df[target_name]\n",
    "\n",
    "_ = y.hist()"
   ]
  },
  {
   "cell_type": "markdown",
   "metadata": {},
   "source": [
    "## Training and Evaluating Pipelines with Different Encoders\n",
    "In this section, we will evaluate pipelines with\n",
    ":class:`~sklearn.ensemble.HistGradientBoostingRegressor` with different encoding\n",
    "strategies. First, we list out the encoders we will be using to preprocess\n",
    "the categorical features:\n",
    "\n"
   ]
  },
  {
   "cell_type": "code",
   "execution_count": 3,
   "metadata": {
    "collapsed": false,
    "ExecuteTime": {
     "end_time": "2024-01-15T22:05:57.840542778Z",
     "start_time": "2024-01-15T22:05:57.769871593Z"
    }
   },
   "outputs": [],
   "source": [
    "from sklearn.compose import ColumnTransformer\n",
    "from sklearn.preprocessing import OneHotEncoder, OrdinalEncoder, TargetEncoder\n",
    "\n",
    "categorical_preprocessors = [\n",
    "    (\"drop\", \"drop\"),\n",
    "    (\"ordinal\", OrdinalEncoder(handle_unknown=\"use_encoded_value\", unknown_value=-1)),\n",
    "    (\n",
    "        \"one_hot\",\n",
    "        OneHotEncoder(handle_unknown=\"ignore\", max_categories=20, sparse_output=False),\n",
    "    ),\n",
    "    (\"target\", TargetEncoder(target_type=\"continuous\")),\n",
    "]"
   ]
  },
  {
   "cell_type": "markdown",
   "metadata": {},
   "source": [
    "Next, we evaluate the models using cross validation and record the results:\n",
    "\n"
   ]
  },
  {
   "cell_type": "code",
   "execution_count": 4,
   "metadata": {
    "collapsed": false,
    "ExecuteTime": {
     "end_time": "2024-01-15T22:06:12.033458724Z",
     "start_time": "2024-01-15T22:05:57.839718826Z"
    }
   },
   "outputs": [],
   "source": [
    "from sklearn.ensemble import HistGradientBoostingRegressor\n",
    "from sklearn.model_selection import cross_validate\n",
    "from sklearn.pipeline import make_pipeline\n",
    "\n",
    "n_cv_folds = 3\n",
    "max_iter = 20\n",
    "results = []\n",
    "\n",
    "\n",
    "def evaluate_model_and_store(name, pipe):\n",
    "    result = cross_validate(\n",
    "        pipe,\n",
    "        X,\n",
    "        y,\n",
    "        scoring=\"neg_root_mean_squared_error\",\n",
    "        cv=n_cv_folds,\n",
    "        return_train_score=True,\n",
    "    )\n",
    "    rmse_test_score = -result[\"test_score\"]\n",
    "    rmse_train_score = -result[\"train_score\"]\n",
    "    results.append(\n",
    "        {\n",
    "            \"preprocessor\": name,\n",
    "            \"rmse_test_mean\": rmse_test_score.mean(),\n",
    "            \"rmse_test_std\": rmse_train_score.std(),\n",
    "            \"rmse_train_mean\": rmse_train_score.mean(),\n",
    "            \"rmse_train_std\": rmse_train_score.std(),\n",
    "        }\n",
    "    )\n",
    "\n",
    "\n",
    "for name, categorical_preprocessor in categorical_preprocessors:\n",
    "    preprocessor = ColumnTransformer(\n",
    "        [\n",
    "            (\"numerical\", \"passthrough\", numerical_features),\n",
    "            (\"categorical\", categorical_preprocessor, categorical_features),\n",
    "        ]\n",
    "    )\n",
    "    pipe = make_pipeline(\n",
    "        preprocessor, HistGradientBoostingRegressor(random_state=0, max_iter=max_iter)\n",
    "    )\n",
    "    evaluate_model_and_store(name, pipe)"
   ]
  },
  {
   "cell_type": "markdown",
   "metadata": {},
   "source": [
    "## Native Categorical Feature Support\n",
    "In this section, we build and evaluate a pipeline that uses native categorical\n",
    "feature support in :class:`~sklearn.ensemble.HistGradientBoostingRegressor`,\n",
    "which only supports up to 255 unique categories. In our dataset, the most of\n",
    "the categorical features have more than 255 unique categories:\n",
    "\n"
   ]
  },
  {
   "cell_type": "code",
   "execution_count": 5,
   "metadata": {
    "collapsed": false,
    "ExecuteTime": {
     "end_time": "2024-01-15T22:06:12.100562338Z",
     "start_time": "2024-01-15T22:06:12.036134776Z"
    }
   },
   "outputs": [
    {
     "data": {
      "text/plain": "winery      14810\nregion_1     1236\nvariety       632\nprovince      455\ncountry        48\nregion_2       18\ndtype: int64"
     },
     "execution_count": 5,
     "metadata": {},
     "output_type": "execute_result"
    }
   ],
   "source": [
    "n_unique_categories = df[categorical_features].nunique().sort_values(ascending=False)\n",
    "n_unique_categories"
   ]
  },
  {
   "cell_type": "markdown",
   "metadata": {},
   "source": [
    "To workaround the limitation above, we group the categorical features into\n",
    "low cardinality and high cardinality features. The high cardinality features\n",
    "will be target encoded and the low cardinality features will use the native\n",
    "categorical feature in gradient boosting.\n",
    "\n"
   ]
  },
  {
   "cell_type": "code",
   "execution_count": 6,
   "metadata": {
    "collapsed": false,
    "ExecuteTime": {
     "end_time": "2024-01-15T22:06:12.151746312Z",
     "start_time": "2024-01-15T22:06:12.097262818Z"
    }
   },
   "outputs": [
    {
     "data": {
      "text/plain": "Pipeline(steps=[('columntransformer',\n                 ColumnTransformer(transformers=[('numerical', 'passthrough',\n                                                  ['price']),\n                                                 ('high_cardinality',\n                                                  TargetEncoder(target_type='continuous'),\n                                                  Index(['winery', 'region_1', 'variety', 'province'], dtype='object')),\n                                                 ('low_cardinality',\n                                                  OrdinalEncoder(handle_unknown='use_encoded_value',\n                                                                 unknown_value=-1),\n                                                  Index(['country', 'region_2'], dtype='object'))],\n                                   verbose_feature_names_out=False)),\n                ('histgradientboostingregressor',\n                 HistGradientBoostingRegressor(categorical_features=Index(['country', 'region_2'], dtype='object'),\n                                               max_iter=20, random_state=0))])",
      "text/html": "<style>#sk-container-id-1 {color: black;}#sk-container-id-1 pre{padding: 0;}#sk-container-id-1 div.sk-toggleable {background-color: white;}#sk-container-id-1 label.sk-toggleable__label {cursor: pointer;display: block;width: 100%;margin-bottom: 0;padding: 0.3em;box-sizing: border-box;text-align: center;}#sk-container-id-1 label.sk-toggleable__label-arrow:before {content: \"▸\";float: left;margin-right: 0.25em;color: #696969;}#sk-container-id-1 label.sk-toggleable__label-arrow:hover:before {color: black;}#sk-container-id-1 div.sk-estimator:hover label.sk-toggleable__label-arrow:before {color: black;}#sk-container-id-1 div.sk-toggleable__content {max-height: 0;max-width: 0;overflow: hidden;text-align: left;background-color: #f0f8ff;}#sk-container-id-1 div.sk-toggleable__content pre {margin: 0.2em;color: black;border-radius: 0.25em;background-color: #f0f8ff;}#sk-container-id-1 input.sk-toggleable__control:checked~div.sk-toggleable__content {max-height: 200px;max-width: 100%;overflow: auto;}#sk-container-id-1 input.sk-toggleable__control:checked~label.sk-toggleable__label-arrow:before {content: \"▾\";}#sk-container-id-1 div.sk-estimator input.sk-toggleable__control:checked~label.sk-toggleable__label {background-color: #d4ebff;}#sk-container-id-1 div.sk-label input.sk-toggleable__control:checked~label.sk-toggleable__label {background-color: #d4ebff;}#sk-container-id-1 input.sk-hidden--visually {border: 0;clip: rect(1px 1px 1px 1px);clip: rect(1px, 1px, 1px, 1px);height: 1px;margin: -1px;overflow: hidden;padding: 0;position: absolute;width: 1px;}#sk-container-id-1 div.sk-estimator {font-family: monospace;background-color: #f0f8ff;border: 1px dotted black;border-radius: 0.25em;box-sizing: border-box;margin-bottom: 0.5em;}#sk-container-id-1 div.sk-estimator:hover {background-color: #d4ebff;}#sk-container-id-1 div.sk-parallel-item::after {content: \"\";width: 100%;border-bottom: 1px solid gray;flex-grow: 1;}#sk-container-id-1 div.sk-label:hover label.sk-toggleable__label {background-color: #d4ebff;}#sk-container-id-1 div.sk-serial::before {content: \"\";position: absolute;border-left: 1px solid gray;box-sizing: border-box;top: 0;bottom: 0;left: 50%;z-index: 0;}#sk-container-id-1 div.sk-serial {display: flex;flex-direction: column;align-items: center;background-color: white;padding-right: 0.2em;padding-left: 0.2em;position: relative;}#sk-container-id-1 div.sk-item {position: relative;z-index: 1;}#sk-container-id-1 div.sk-parallel {display: flex;align-items: stretch;justify-content: center;background-color: white;position: relative;}#sk-container-id-1 div.sk-item::before, #sk-container-id-1 div.sk-parallel-item::before {content: \"\";position: absolute;border-left: 1px solid gray;box-sizing: border-box;top: 0;bottom: 0;left: 50%;z-index: -1;}#sk-container-id-1 div.sk-parallel-item {display: flex;flex-direction: column;z-index: 1;position: relative;background-color: white;}#sk-container-id-1 div.sk-parallel-item:first-child::after {align-self: flex-end;width: 50%;}#sk-container-id-1 div.sk-parallel-item:last-child::after {align-self: flex-start;width: 50%;}#sk-container-id-1 div.sk-parallel-item:only-child::after {width: 0;}#sk-container-id-1 div.sk-dashed-wrapped {border: 1px dashed gray;margin: 0 0.4em 0.5em 0.4em;box-sizing: border-box;padding-bottom: 0.4em;background-color: white;}#sk-container-id-1 div.sk-label label {font-family: monospace;font-weight: bold;display: inline-block;line-height: 1.2em;}#sk-container-id-1 div.sk-label-container {text-align: center;}#sk-container-id-1 div.sk-container {/* jupyter's `normalize.less` sets `[hidden] { display: none; }` but bootstrap.min.css set `[hidden] { display: none !important; }` so we also need the `!important` here to be able to override the default hidden behavior on the sphinx rendered scikit-learn.org. See: https://github.com/scikit-learn/scikit-learn/issues/21755 */display: inline-block !important;position: relative;}#sk-container-id-1 div.sk-text-repr-fallback {display: none;}</style><div id=\"sk-container-id-1\" class=\"sk-top-container\"><div class=\"sk-text-repr-fallback\"><pre>Pipeline(steps=[(&#x27;columntransformer&#x27;,\n                 ColumnTransformer(transformers=[(&#x27;numerical&#x27;, &#x27;passthrough&#x27;,\n                                                  [&#x27;price&#x27;]),\n                                                 (&#x27;high_cardinality&#x27;,\n                                                  TargetEncoder(target_type=&#x27;continuous&#x27;),\n                                                  Index([&#x27;winery&#x27;, &#x27;region_1&#x27;, &#x27;variety&#x27;, &#x27;province&#x27;], dtype=&#x27;object&#x27;)),\n                                                 (&#x27;low_cardinality&#x27;,\n                                                  OrdinalEncoder(handle_unknown=&#x27;use_encoded_value&#x27;,\n                                                                 unknown_value=-1),\n                                                  Index([&#x27;country&#x27;, &#x27;region_2&#x27;], dtype=&#x27;object&#x27;))],\n                                   verbose_feature_names_out=False)),\n                (&#x27;histgradientboostingregressor&#x27;,\n                 HistGradientBoostingRegressor(categorical_features=Index([&#x27;country&#x27;, &#x27;region_2&#x27;], dtype=&#x27;object&#x27;),\n                                               max_iter=20, random_state=0))])</pre><b>In a Jupyter environment, please rerun this cell to show the HTML representation or trust the notebook. <br />On GitHub, the HTML representation is unable to render, please try loading this page with nbviewer.org.</b></div><div class=\"sk-container\" hidden><div class=\"sk-item sk-dashed-wrapped\"><div class=\"sk-label-container\"><div class=\"sk-label sk-toggleable\"><input class=\"sk-toggleable__control sk-hidden--visually\" id=\"sk-estimator-id-1\" type=\"checkbox\" ><label for=\"sk-estimator-id-1\" class=\"sk-toggleable__label sk-toggleable__label-arrow\">Pipeline</label><div class=\"sk-toggleable__content\"><pre>Pipeline(steps=[(&#x27;columntransformer&#x27;,\n                 ColumnTransformer(transformers=[(&#x27;numerical&#x27;, &#x27;passthrough&#x27;,\n                                                  [&#x27;price&#x27;]),\n                                                 (&#x27;high_cardinality&#x27;,\n                                                  TargetEncoder(target_type=&#x27;continuous&#x27;),\n                                                  Index([&#x27;winery&#x27;, &#x27;region_1&#x27;, &#x27;variety&#x27;, &#x27;province&#x27;], dtype=&#x27;object&#x27;)),\n                                                 (&#x27;low_cardinality&#x27;,\n                                                  OrdinalEncoder(handle_unknown=&#x27;use_encoded_value&#x27;,\n                                                                 unknown_value=-1),\n                                                  Index([&#x27;country&#x27;, &#x27;region_2&#x27;], dtype=&#x27;object&#x27;))],\n                                   verbose_feature_names_out=False)),\n                (&#x27;histgradientboostingregressor&#x27;,\n                 HistGradientBoostingRegressor(categorical_features=Index([&#x27;country&#x27;, &#x27;region_2&#x27;], dtype=&#x27;object&#x27;),\n                                               max_iter=20, random_state=0))])</pre></div></div></div><div class=\"sk-serial\"><div class=\"sk-item sk-dashed-wrapped\"><div class=\"sk-label-container\"><div class=\"sk-label sk-toggleable\"><input class=\"sk-toggleable__control sk-hidden--visually\" id=\"sk-estimator-id-2\" type=\"checkbox\" ><label for=\"sk-estimator-id-2\" class=\"sk-toggleable__label sk-toggleable__label-arrow\">columntransformer: ColumnTransformer</label><div class=\"sk-toggleable__content\"><pre>ColumnTransformer(transformers=[(&#x27;numerical&#x27;, &#x27;passthrough&#x27;, [&#x27;price&#x27;]),\n                                (&#x27;high_cardinality&#x27;,\n                                 TargetEncoder(target_type=&#x27;continuous&#x27;),\n                                 Index([&#x27;winery&#x27;, &#x27;region_1&#x27;, &#x27;variety&#x27;, &#x27;province&#x27;], dtype=&#x27;object&#x27;)),\n                                (&#x27;low_cardinality&#x27;,\n                                 OrdinalEncoder(handle_unknown=&#x27;use_encoded_value&#x27;,\n                                                unknown_value=-1),\n                                 Index([&#x27;country&#x27;, &#x27;region_2&#x27;], dtype=&#x27;object&#x27;))],\n                  verbose_feature_names_out=False)</pre></div></div></div><div class=\"sk-parallel\"><div class=\"sk-parallel-item\"><div class=\"sk-item\"><div class=\"sk-label-container\"><div class=\"sk-label sk-toggleable\"><input class=\"sk-toggleable__control sk-hidden--visually\" id=\"sk-estimator-id-3\" type=\"checkbox\" ><label for=\"sk-estimator-id-3\" class=\"sk-toggleable__label sk-toggleable__label-arrow\">numerical</label><div class=\"sk-toggleable__content\"><pre>[&#x27;price&#x27;]</pre></div></div></div><div class=\"sk-serial\"><div class=\"sk-item\"><div class=\"sk-estimator sk-toggleable\"><input class=\"sk-toggleable__control sk-hidden--visually\" id=\"sk-estimator-id-4\" type=\"checkbox\" ><label for=\"sk-estimator-id-4\" class=\"sk-toggleable__label sk-toggleable__label-arrow\">passthrough</label><div class=\"sk-toggleable__content\"><pre>passthrough</pre></div></div></div></div></div></div><div class=\"sk-parallel-item\"><div class=\"sk-item\"><div class=\"sk-label-container\"><div class=\"sk-label sk-toggleable\"><input class=\"sk-toggleable__control sk-hidden--visually\" id=\"sk-estimator-id-5\" type=\"checkbox\" ><label for=\"sk-estimator-id-5\" class=\"sk-toggleable__label sk-toggleable__label-arrow\">high_cardinality</label><div class=\"sk-toggleable__content\"><pre>Index([&#x27;winery&#x27;, &#x27;region_1&#x27;, &#x27;variety&#x27;, &#x27;province&#x27;], dtype=&#x27;object&#x27;)</pre></div></div></div><div class=\"sk-serial\"><div class=\"sk-item\"><div class=\"sk-estimator sk-toggleable\"><input class=\"sk-toggleable__control sk-hidden--visually\" id=\"sk-estimator-id-6\" type=\"checkbox\" ><label for=\"sk-estimator-id-6\" class=\"sk-toggleable__label sk-toggleable__label-arrow\">TargetEncoder</label><div class=\"sk-toggleable__content\"><pre>TargetEncoder(target_type=&#x27;continuous&#x27;)</pre></div></div></div></div></div></div><div class=\"sk-parallel-item\"><div class=\"sk-item\"><div class=\"sk-label-container\"><div class=\"sk-label sk-toggleable\"><input class=\"sk-toggleable__control sk-hidden--visually\" id=\"sk-estimator-id-7\" type=\"checkbox\" ><label for=\"sk-estimator-id-7\" class=\"sk-toggleable__label sk-toggleable__label-arrow\">low_cardinality</label><div class=\"sk-toggleable__content\"><pre>Index([&#x27;country&#x27;, &#x27;region_2&#x27;], dtype=&#x27;object&#x27;)</pre></div></div></div><div class=\"sk-serial\"><div class=\"sk-item\"><div class=\"sk-estimator sk-toggleable\"><input class=\"sk-toggleable__control sk-hidden--visually\" id=\"sk-estimator-id-8\" type=\"checkbox\" ><label for=\"sk-estimator-id-8\" class=\"sk-toggleable__label sk-toggleable__label-arrow\">OrdinalEncoder</label><div class=\"sk-toggleable__content\"><pre>OrdinalEncoder(handle_unknown=&#x27;use_encoded_value&#x27;, unknown_value=-1)</pre></div></div></div></div></div></div></div></div><div class=\"sk-item\"><div class=\"sk-estimator sk-toggleable\"><input class=\"sk-toggleable__control sk-hidden--visually\" id=\"sk-estimator-id-9\" type=\"checkbox\" ><label for=\"sk-estimator-id-9\" class=\"sk-toggleable__label sk-toggleable__label-arrow\">HistGradientBoostingRegressor</label><div class=\"sk-toggleable__content\"><pre>HistGradientBoostingRegressor(categorical_features=Index([&#x27;country&#x27;, &#x27;region_2&#x27;], dtype=&#x27;object&#x27;),\n                              max_iter=20, random_state=0)</pre></div></div></div></div></div></div></div>"
     },
     "execution_count": 6,
     "metadata": {},
     "output_type": "execute_result"
    }
   ],
   "source": [
    "high_cardinality_features = n_unique_categories[n_unique_categories > 255].index\n",
    "low_cardinality_features = n_unique_categories[n_unique_categories <= 255].index\n",
    "mixed_encoded_preprocessor = ColumnTransformer(\n",
    "    [\n",
    "        (\"numerical\", \"passthrough\", numerical_features),\n",
    "        (\n",
    "            \"high_cardinality\",\n",
    "            TargetEncoder(target_type=\"continuous\"),\n",
    "            high_cardinality_features,\n",
    "        ),\n",
    "        (\n",
    "            \"low_cardinality\",\n",
    "            OrdinalEncoder(handle_unknown=\"use_encoded_value\", unknown_value=-1),\n",
    "            low_cardinality_features,\n",
    "        ),\n",
    "    ],\n",
    "    verbose_feature_names_out=False,\n",
    ")\n",
    "\n",
    "# The output of the of the preprocessor must be set to pandas so the\n",
    "# gradient boosting model can detect the low cardinality features.\n",
    "mixed_encoded_preprocessor.set_output(transform=\"pandas\")\n",
    "mixed_pipe = make_pipeline(\n",
    "    mixed_encoded_preprocessor,\n",
    "    HistGradientBoostingRegressor(\n",
    "        random_state=0, max_iter=max_iter, categorical_features=low_cardinality_features\n",
    "    ),\n",
    ")\n",
    "mixed_pipe"
   ]
  },
  {
   "cell_type": "markdown",
   "metadata": {},
   "source": [
    "Finally, we evaluate the pipeline using cross validation and record the results:\n",
    "\n"
   ]
  },
  {
   "cell_type": "code",
   "execution_count": 7,
   "metadata": {
    "collapsed": false,
    "ExecuteTime": {
     "end_time": "2024-01-15T22:06:14.454245875Z",
     "start_time": "2024-01-15T22:06:12.144216041Z"
    }
   },
   "outputs": [],
   "source": [
    "evaluate_model_and_store(\"mixed_target\", mixed_pipe)"
   ]
  },
  {
   "cell_type": "markdown",
   "metadata": {},
   "source": [
    "## Plotting the Results\n",
    "In this section, we display the results by plotting the test and train scores:\n",
    "\n"
   ]
  },
  {
   "cell_type": "code",
   "execution_count": 8,
   "metadata": {
    "collapsed": false,
    "ExecuteTime": {
     "end_time": "2024-01-15T22:06:14.791697805Z",
     "start_time": "2024-01-15T22:06:14.454122454Z"
    }
   },
   "outputs": [
    {
     "data": {
      "text/plain": "<Figure size 1200x800 with 2 Axes>",
      "image/png": "[encoded data removed]"
     },
     "metadata": {},
     "output_type": "display_data"
    }
   ],
   "source": [
    "import matplotlib.pyplot as plt\n",
    "import pandas as pd\n",
    "\n",
    "results_df = (\n",
    "    pd.DataFrame(results).set_index(\"preprocessor\").sort_values(\"rmse_test_mean\")\n",
    ")\n",
    "\n",
    "fig, (ax1, ax2) = plt.subplots(\n",
    "    1, 2, figsize=(12, 8), sharey=True, constrained_layout=True\n",
    ")\n",
    "xticks = range(len(results_df))\n",
    "name_to_color = dict(\n",
    "    zip((r[\"preprocessor\"] for r in results), [\"C0\", \"C1\", \"C2\", \"C3\", \"C4\"])\n",
    ")\n",
    "\n",
    "for subset, ax in zip([\"test\", \"train\"], [ax1, ax2]):\n",
    "    mean, std = f\"rmse_{subset}_mean\", f\"rmse_{subset}_std\"\n",
    "    data = results_df[[mean, std]].sort_values(mean)\n",
    "    ax.bar(\n",
    "        x=xticks,\n",
    "        height=data[mean],\n",
    "        yerr=data[std],\n",
    "        width=0.9,\n",
    "        color=[name_to_color[name] for name in data.index],\n",
    "    )\n",
    "    ax.set(\n",
    "        title=f\"RMSE ({subset.title()})\",\n",
    "        xlabel=\"Encoding Scheme\",\n",
    "        xticks=xticks,\n",
    "        xticklabels=data.index,\n",
    "    )"
   ]
  },
  {
   "cell_type": "markdown",
   "metadata": {},
   "source": [
    "When evaluating the predictive performance on the test set, dropping the\n",
    "categories perform the worst and the target encoders performs the best. This\n",
    "can be explained as follows:\n",
    "\n",
    "- Dropping the categorical features makes the pipeline less expressive and\n",
    "  underfitting as a result;\n",
    "- Due to the high cardinality and to reduce the training time, the one-hot\n",
    "  encoding scheme uses `max_categories=20` which prevents the features from\n",
    "  expanding too much, which can result in underfitting.\n",
    "- If we had not set `max_categories=20`, the one-hot encoding scheme would have\n",
    "  likely made the pipeline overfitting as the number of features explodes with rare\n",
    "  category occurrences that are correlated with the target by chance (on the training\n",
    "  set only);\n",
    "- The ordinal encoding imposes an arbitrary order to the features which are then\n",
    "  treated as numerical values by the\n",
    "  :class:`~sklearn.ensemble.HistGradientBoostingRegressor`. Since this\n",
    "  model groups numerical features in 256 bins per feature, many unrelated categories\n",
    "  can be grouped together and as a result overall pipeline can underfit;\n",
    "- When using the target encoder, the same binning happens, but since the encoded\n",
    "  values are statistically ordered by marginal association with the target variable,\n",
    "  the binning use by the :class:`~sklearn.ensemble.HistGradientBoostingRegressor`\n",
    "  makes sense and leads to good results: the combination of smoothed target\n",
    "  encoding and binning works as a good regularizing strategy against\n",
    "  overfitting while not limiting the expressiveness of the pipeline too much.\n",
    "\n"
   ]
  }
 ],
 "metadata": {
  "kernelspec": {
   "display_name": "Python 3",
   "language": "python",
   "name": "python3"
  },
  "language_info": {
   "codemirror_mode": {
    "name": "ipython",
    "version": 3
   },
   "file_extension": ".py",
   "mimetype": "text/x-python",
   "name": "python",
   "nbconvert_exporter": "python",
   "pygments_lexer": "ipython3",
   "version": "3.9.18"
  }
 },
 "nbformat": 4,
 "nbformat_minor": 0
}
