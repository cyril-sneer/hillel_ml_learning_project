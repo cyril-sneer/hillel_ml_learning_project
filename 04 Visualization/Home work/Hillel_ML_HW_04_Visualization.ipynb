{
 "cells": [
  {
   "cell_type": "markdown",
   "source": [
    "Сделать анализ датасета. Построить не менее 10 картинок, графиков, диаграм. \n",
    "По каждой картинке сделать сделать небольшой вывод. "
   ],
   "metadata": {
    "collapsed": false
   },
   "id": "1dd70888d5f84716"
  }
 ],
 "metadata": {
  "kernelspec": {
   "display_name": "Python 3",
   "language": "python",
   "name": "python3"
  },
  "language_info": {
   "codemirror_mode": {
    "name": "ipython",
    "version": 2
   },
   "file_extension": ".py",
   "mimetype": "text/x-python",
   "name": "python",
   "nbconvert_exporter": "python",
   "pygments_lexer": "ipython2",
   "version": "2.7.6"
  }
 },
 "nbformat": 4,
 "nbformat_minor": 5
}
