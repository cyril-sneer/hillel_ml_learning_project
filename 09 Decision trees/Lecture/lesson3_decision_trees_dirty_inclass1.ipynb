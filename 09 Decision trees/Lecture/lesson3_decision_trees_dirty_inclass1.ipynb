{
 "cells": [
  {
   "cell_type": "code",
   "execution_count": 1,
   "metadata": {
    "ExecuteTime": {
     "end_time": "2024-01-23T16:10:14.309869609Z",
     "start_time": "2024-01-23T16:10:14.133009736Z"
    }
   },
   "outputs": [],
   "source": [
    "import pandas as pd\n",
    "from sklearn.tree import DecisionTreeClassifier"
   ]
  },
  {
   "cell_type": "code",
   "execution_count": 4,
   "metadata": {
    "ExecuteTime": {
     "end_time": "2024-01-23T16:11:09.424077463Z",
     "start_time": "2024-01-23T16:11:09.267171227Z"
    }
   },
   "outputs": [],
   "source": [
    "data = pd.read_csv(\"telecom_churn.csv\")"
   ]
  },
  {
   "cell_type": "code",
   "execution_count": 5,
   "metadata": {
    "ExecuteTime": {
     "end_time": "2024-01-23T16:11:09.530548664Z",
     "start_time": "2024-01-23T16:11:09.436460980Z"
    }
   },
   "outputs": [
    {
     "data": {
      "text/plain": "  State  Account length  Area code International plan Voice mail plan  \\\n0    KS             128        415                 No             Yes   \n1    OH             107        415                 No             Yes   \n2    NJ             137        415                 No              No   \n3    OH              84        408                Yes              No   \n4    OK              75        415                Yes              No   \n\n   Number vmail messages  Total day minutes  Total day calls  \\\n0                     25              265.1              110   \n1                     26              161.6              123   \n2                      0              243.4              114   \n3                      0              299.4               71   \n4                      0              166.7              113   \n\n   Total day charge  Total eve minutes  Total eve calls  Total eve charge  \\\n0             45.07              197.4               99             16.78   \n1             27.47              195.5              103             16.62   \n2             41.38              121.2              110             10.30   \n3             50.90               61.9               88              5.26   \n4             28.34              148.3              122             12.61   \n\n   Total night minutes  Total night calls  Total night charge  \\\n0                244.7                 91               11.01   \n1                254.4                103               11.45   \n2                162.6                104                7.32   \n3                196.9                 89                8.86   \n4                186.9                121                8.41   \n\n   Total intl minutes  Total intl calls  Total intl charge  \\\n0                10.0                 3               2.70   \n1                13.7                 3               3.70   \n2                12.2                 5               3.29   \n3                 6.6                 7               1.78   \n4                10.1                 3               2.73   \n\n   Customer service calls  Churn  \n0                       1  False  \n1                       1  False  \n2                       0  False  \n3                       2  False  \n4                       3  False  ",
      "text/html": "<div>\n<style scoped>\n    .dataframe tbody tr th:only-of-type {\n        vertical-align: middle;\n    }\n\n    .dataframe tbody tr th {\n        vertical-align: top;\n    }\n\n    .dataframe thead th {\n        text-align: right;\n    }\n</style>\n<table border=\"1\" class=\"dataframe\">\n  <thead>\n    <tr style=\"text-align: right;\">\n      <th></th>\n      <th>State</th>\n      <th>Account length</th>\n      <th>Area code</th>\n      <th>International plan</th>\n      <th>Voice mail plan</th>\n      <th>Number vmail messages</th>\n      <th>Total day minutes</th>\n      <th>Total day calls</th>\n      <th>Total day charge</th>\n      <th>Total eve minutes</th>\n      <th>Total eve calls</th>\n      <th>Total eve charge</th>\n      <th>Total night minutes</th>\n      <th>Total night calls</th>\n      <th>Total night charge</th>\n      <th>Total intl minutes</th>\n      <th>Total intl calls</th>\n      <th>Total intl charge</th>\n      <th>Customer service calls</th>\n      <th>Churn</th>\n    </tr>\n  </thead>\n  <tbody>\n    <tr>\n      <th>0</th>\n      <td>KS</td>\n      <td>128</td>\n      <td>415</td>\n      <td>No</td>\n      <td>Yes</td>\n      <td>25</td>\n      <td>265.1</td>\n      <td>110</td>\n      <td>45.07</td>\n      <td>197.4</td>\n      <td>99</td>\n      <td>16.78</td>\n      <td>244.7</td>\n      <td>91</td>\n      <td>11.01</td>\n      <td>10.0</td>\n      <td>3</td>\n      <td>2.70</td>\n      <td>1</td>\n      <td>False</td>\n    </tr>\n    <tr>\n      <th>1</th>\n      <td>OH</td>\n      <td>107</td>\n      <td>415</td>\n      <td>No</td>\n      <td>Yes</td>\n      <td>26</td>\n      <td>161.6</td>\n      <td>123</td>\n      <td>27.47</td>\n      <td>195.5</td>\n      <td>103</td>\n      <td>16.62</td>\n      <td>254.4</td>\n      <td>103</td>\n      <td>11.45</td>\n      <td>13.7</td>\n      <td>3</td>\n      <td>3.70</td>\n      <td>1</td>\n      <td>False</td>\n    </tr>\n    <tr>\n      <th>2</th>\n      <td>NJ</td>\n      <td>137</td>\n      <td>415</td>\n      <td>No</td>\n      <td>No</td>\n      <td>0</td>\n      <td>243.4</td>\n      <td>114</td>\n      <td>41.38</td>\n      <td>121.2</td>\n      <td>110</td>\n      <td>10.30</td>\n      <td>162.6</td>\n      <td>104</td>\n      <td>7.32</td>\n      <td>12.2</td>\n      <td>5</td>\n      <td>3.29</td>\n      <td>0</td>\n      <td>False</td>\n    </tr>\n    <tr>\n      <th>3</th>\n      <td>OH</td>\n      <td>84</td>\n      <td>408</td>\n      <td>Yes</td>\n      <td>No</td>\n      <td>0</td>\n      <td>299.4</td>\n      <td>71</td>\n      <td>50.90</td>\n      <td>61.9</td>\n      <td>88</td>\n      <td>5.26</td>\n      <td>196.9</td>\n      <td>89</td>\n      <td>8.86</td>\n      <td>6.6</td>\n      <td>7</td>\n      <td>1.78</td>\n      <td>2</td>\n      <td>False</td>\n    </tr>\n    <tr>\n      <th>4</th>\n      <td>OK</td>\n      <td>75</td>\n      <td>415</td>\n      <td>Yes</td>\n      <td>No</td>\n      <td>0</td>\n      <td>166.7</td>\n      <td>113</td>\n      <td>28.34</td>\n      <td>148.3</td>\n      <td>122</td>\n      <td>12.61</td>\n      <td>186.9</td>\n      <td>121</td>\n      <td>8.41</td>\n      <td>10.1</td>\n      <td>3</td>\n      <td>2.73</td>\n      <td>3</td>\n      <td>False</td>\n    </tr>\n  </tbody>\n</table>\n</div>"
     },
     "execution_count": 5,
     "metadata": {},
     "output_type": "execute_result"
    }
   ],
   "source": [
    "data.head()"
   ]
  },
  {
   "cell_type": "code",
   "execution_count": 6,
   "metadata": {
    "ExecuteTime": {
     "end_time": "2024-01-23T16:11:09.531786410Z",
     "start_time": "2024-01-23T16:11:09.489041337Z"
    }
   },
   "outputs": [],
   "source": [
    "data.drop([\"State\", \"Voice mail plan\"], axis=1, inplace=True)"
   ]
  },
  {
   "cell_type": "code",
   "execution_count": 7,
   "metadata": {
    "ExecuteTime": {
     "end_time": "2024-01-23T16:11:09.587497024Z",
     "start_time": "2024-01-23T16:11:09.512311577Z"
    }
   },
   "outputs": [],
   "source": [
    "data[\"International plan\"] = data[\"International plan\"].map({\"Yes\": 1, \"No\": 0})"
   ]
  },
  {
   "cell_type": "code",
   "execution_count": 8,
   "metadata": {
    "ExecuteTime": {
     "end_time": "2024-01-23T16:11:09.609394747Z",
     "start_time": "2024-01-23T16:11:09.580895661Z"
    }
   },
   "outputs": [
    {
     "name": "stdout",
     "output_type": "stream",
     "text": [
      "<class 'pandas.core.frame.DataFrame'>\n",
      "RangeIndex: 3333 entries, 0 to 3332\n",
      "Data columns (total 18 columns):\n",
      " #   Column                  Non-Null Count  Dtype  \n",
      "---  ------                  --------------  -----  \n",
      " 0   Account length          3333 non-null   int64  \n",
      " 1   Area code               3333 non-null   int64  \n",
      " 2   International plan      3333 non-null   int64  \n",
      " 3   Number vmail messages   3333 non-null   int64  \n",
      " 4   Total day minutes       3333 non-null   float64\n",
      " 5   Total day calls         3333 non-null   int64  \n",
      " 6   Total day charge        3333 non-null   float64\n",
      " 7   Total eve minutes       3333 non-null   float64\n",
      " 8   Total eve calls         3333 non-null   int64  \n",
      " 9   Total eve charge        3333 non-null   float64\n",
      " 10  Total night minutes     3333 non-null   float64\n",
      " 11  Total night calls       3333 non-null   int64  \n",
      " 12  Total night charge      3333 non-null   float64\n",
      " 13  Total intl minutes      3333 non-null   float64\n",
      " 14  Total intl calls        3333 non-null   int64  \n",
      " 15  Total intl charge       3333 non-null   float64\n",
      " 16  Customer service calls  3333 non-null   int64  \n",
      " 17  Churn                   3333 non-null   bool   \n",
      "dtypes: bool(1), float64(8), int64(9)\n",
      "memory usage: 446.0 KB\n"
     ]
    }
   ],
   "source": [
    "data.info()"
   ]
  },
  {
   "cell_type": "code",
   "execution_count": 9,
   "metadata": {
    "ExecuteTime": {
     "end_time": "2024-01-23T16:11:09.761313617Z",
     "start_time": "2024-01-23T16:11:09.594487839Z"
    }
   },
   "outputs": [],
   "source": [
    "y = data[\"Churn\"].astype(\"int\")"
   ]
  },
  {
   "cell_type": "code",
   "execution_count": 10,
   "metadata": {
    "ExecuteTime": {
     "end_time": "2024-01-23T16:11:09.771370826Z",
     "start_time": "2024-01-23T16:11:09.653767848Z"
    }
   },
   "outputs": [],
   "source": [
    "X = data.drop(\"Churn\", axis=1)"
   ]
  },
  {
   "cell_type": "code",
   "execution_count": 11,
   "metadata": {
    "ExecuteTime": {
     "end_time": "2024-01-23T16:11:09.851352457Z",
     "start_time": "2024-01-23T16:11:09.776799853Z"
    }
   },
   "outputs": [
    {
     "data": {
      "text/plain": "((3333, 17), (3333,))"
     },
     "execution_count": 11,
     "metadata": {},
     "output_type": "execute_result"
    }
   ],
   "source": [
    "X.shape, y.shape"
   ]
  },
  {
   "cell_type": "code",
   "execution_count": 12,
   "metadata": {
    "ExecuteTime": {
     "end_time": "2024-01-23T16:11:09.904210128Z",
     "start_time": "2024-01-23T16:11:09.816885017Z"
    }
   },
   "outputs": [],
   "source": [
    "import numpy as np\n",
    "from sklearn.model_selection import cross_val_score, train_test_split"
   ]
  },
  {
   "cell_type": "code",
   "execution_count": 13,
   "metadata": {
    "ExecuteTime": {
     "end_time": "2024-01-23T16:11:09.926835757Z",
     "start_time": "2024-01-23T16:11:09.896856908Z"
    }
   },
   "outputs": [],
   "source": [
    "X_train, X_valid, y_train, y_valid = train_test_split(\n",
    "    X, y, test_size=0.3, random_state=17\n",
    ")"
   ]
  },
  {
   "cell_type": "code",
   "execution_count": 14,
   "metadata": {
    "ExecuteTime": {
     "end_time": "2024-01-23T16:11:09.982330475Z",
     "start_time": "2024-01-23T16:11:09.912395697Z"
    }
   },
   "outputs": [
    {
     "data": {
      "text/plain": "((2333, 17), (1000, 17))"
     },
     "execution_count": 14,
     "metadata": {},
     "output_type": "execute_result"
    }
   ],
   "source": [
    "X_train.shape, X_valid.shape"
   ]
  },
  {
   "cell_type": "code",
   "execution_count": 15,
   "metadata": {
    "ExecuteTime": {
     "end_time": "2024-01-23T16:11:10.005601663Z",
     "start_time": "2024-01-23T16:11:09.982444483Z"
    }
   },
   "outputs": [],
   "source": [
    "first_tree = DecisionTreeClassifier(random_state=17)"
   ]
  },
  {
   "cell_type": "code",
   "execution_count": 16,
   "metadata": {
    "ExecuteTime": {
     "end_time": "2024-01-23T16:11:10.213680225Z",
     "start_time": "2024-01-23T16:11:10.002746214Z"
    }
   },
   "outputs": [
    {
     "data": {
      "text/plain": "0.9138423504976518"
     },
     "execution_count": 16,
     "metadata": {},
     "output_type": "execute_result"
    }
   ],
   "source": [
    "np.mean(cross_val_score(first_tree, X_train, y_train, cv=5))"
   ]
  },
  {
   "cell_type": "code",
   "execution_count": 17,
   "metadata": {
    "ExecuteTime": {
     "end_time": "2024-01-23T16:11:10.225798549Z",
     "start_time": "2024-01-23T16:11:10.207967327Z"
    }
   },
   "outputs": [],
   "source": [
    "from sklearn.neighbors import KNeighborsClassifier"
   ]
  },
  {
   "cell_type": "code",
   "execution_count": 18,
   "metadata": {
    "ExecuteTime": {
     "end_time": "2024-01-23T16:11:10.228799085Z",
     "start_time": "2024-01-23T16:11:10.208173415Z"
    }
   },
   "outputs": [],
   "source": [
    "first_knn = KNeighborsClassifier()"
   ]
  },
  {
   "cell_type": "code",
   "execution_count": 19,
   "metadata": {
    "ExecuteTime": {
     "end_time": "2024-01-23T16:11:10.490328391Z",
     "start_time": "2024-01-23T16:11:10.208333604Z"
    }
   },
   "outputs": [
    {
     "data": {
      "text/plain": "0.8671274043984523"
     },
     "execution_count": 19,
     "metadata": {},
     "output_type": "execute_result"
    }
   ],
   "source": [
    "np.mean(cross_val_score(first_knn, X_train, y_train, cv=5))"
   ]
  },
  {
   "cell_type": "markdown",
   "metadata": {},
   "source": [
    "## настраиваем max_depth для дерева"
   ]
  },
  {
   "cell_type": "code",
   "execution_count": 20,
   "metadata": {
    "ExecuteTime": {
     "end_time": "2024-01-23T16:11:10.493070589Z",
     "start_time": "2024-01-23T16:11:10.480926924Z"
    }
   },
   "outputs": [],
   "source": [
    "from sklearn.model_selection import GridSearchCV"
   ]
  },
  {
   "cell_type": "code",
   "execution_count": 21,
   "metadata": {
    "ExecuteTime": {
     "end_time": "2024-01-23T16:11:10.508598716Z",
     "start_time": "2024-01-23T16:11:10.481127311Z"
    }
   },
   "outputs": [],
   "source": [
    "tree_params = {\"max_depth\": np.arange(1, 11), \"max_features\": [0.5, 0.7, 1]}"
   ]
  },
  {
   "cell_type": "code",
   "execution_count": 22,
   "metadata": {
    "ExecuteTime": {
     "end_time": "2024-01-23T16:11:10.511034861Z",
     "start_time": "2024-01-23T16:11:10.481221254Z"
    }
   },
   "outputs": [],
   "source": [
    "tree_grid = GridSearchCV(first_tree, tree_params, cv=5, n_jobs=-1)"
   ]
  },
  {
   "cell_type": "code",
   "execution_count": 23,
   "metadata": {
    "ExecuteTime": {
     "end_time": "2024-01-23T16:11:13.594694959Z",
     "start_time": "2024-01-23T16:11:10.481302414Z"
    }
   },
   "outputs": [
    {
     "name": "stdout",
     "output_type": "stream",
     "text": [
      "CPU times: user 268 ms, sys: 135 ms, total: 403 ms\n",
      "Wall time: 3.06 s\n"
     ]
    }
   ],
   "source": [
    "%%time\n",
    "tree_grid.fit(X_train, y_train);"
   ]
  },
  {
   "cell_type": "code",
   "execution_count": 24,
   "metadata": {
    "ExecuteTime": {
     "end_time": "2024-01-23T16:11:13.625071004Z",
     "start_time": "2024-01-23T16:11:13.576990557Z"
    }
   },
   "outputs": [
    {
     "data": {
      "text/plain": "(0.9391366681677404, {'max_depth': 6, 'max_features': 0.7})"
     },
     "execution_count": 24,
     "metadata": {},
     "output_type": "execute_result"
    }
   ],
   "source": [
    "tree_grid.best_score_, tree_grid.best_params_"
   ]
  },
  {
   "cell_type": "code",
   "execution_count": 25,
   "metadata": {
    "ExecuteTime": {
     "end_time": "2024-01-23T16:11:13.627631673Z",
     "start_time": "2024-01-23T16:11:13.577226400Z"
    }
   },
   "outputs": [],
   "source": [
    "knn_params = {\"n_neighbors\": range(5, 30, 5)}  # + list(range(50, 100, 10))}"
   ]
  },
  {
   "cell_type": "code",
   "execution_count": 26,
   "metadata": {
    "ExecuteTime": {
     "end_time": "2024-01-23T16:11:13.651219160Z",
     "start_time": "2024-01-23T16:11:13.577395696Z"
    }
   },
   "outputs": [],
   "source": [
    "knn_grid = GridSearchCV(first_knn, knn_params, cv=5)"
   ]
  },
  {
   "cell_type": "code",
   "execution_count": 27,
   "metadata": {
    "ExecuteTime": {
     "end_time": "2024-01-23T16:11:14.559567350Z",
     "start_time": "2024-01-23T16:11:13.577524646Z"
    }
   },
   "outputs": [
    {
     "name": "stdout",
     "output_type": "stream",
     "text": [
      "CPU times: user 2.52 s, sys: 375 ms, total: 2.9 s\n",
      "Wall time: 991 ms\n"
     ]
    }
   ],
   "source": [
    "%%time\n",
    "knn_grid.fit(X_train, y_train);"
   ]
  },
  {
   "cell_type": "code",
   "execution_count": 28,
   "metadata": {
    "ExecuteTime": {
     "end_time": "2024-01-23T16:11:14.613394120Z",
     "start_time": "2024-01-23T16:11:14.562549588Z"
    }
   },
   "outputs": [
    {
     "data": {
      "text/plain": "(0.8701289391697531, {'n_neighbors': 10})"
     },
     "execution_count": 28,
     "metadata": {},
     "output_type": "execute_result"
    }
   ],
   "source": [
    "knn_grid.best_score_, knn_grid.best_params_"
   ]
  },
  {
   "cell_type": "code",
   "execution_count": 29,
   "metadata": {
    "ExecuteTime": {
     "end_time": "2024-01-23T16:11:14.615295235Z",
     "start_time": "2024-01-23T16:11:14.605063307Z"
    }
   },
   "outputs": [],
   "source": [
    "tree_valid_pred = tree_grid.predict(X_valid)"
   ]
  },
  {
   "cell_type": "code",
   "execution_count": 30,
   "metadata": {
    "ExecuteTime": {
     "end_time": "2024-01-23T16:11:14.617912178Z",
     "start_time": "2024-01-23T16:11:14.605287847Z"
    }
   },
   "outputs": [],
   "source": [
    "from sklearn.metrics import accuracy_score"
   ]
  },
  {
   "cell_type": "code",
   "execution_count": 31,
   "metadata": {
    "ExecuteTime": {
     "end_time": "2024-01-23T16:11:14.631399917Z",
     "start_time": "2024-01-23T16:11:14.605457584Z"
    }
   },
   "outputs": [
    {
     "data": {
      "text/plain": "0.936"
     },
     "execution_count": 31,
     "metadata": {},
     "output_type": "execute_result"
    }
   ],
   "source": [
    "accuracy_score(y_valid, tree_valid_pred)"
   ]
  },
  {
   "cell_type": "code",
   "execution_count": 32,
   "metadata": {
    "ExecuteTime": {
     "end_time": "2024-01-23T16:11:14.632832365Z",
     "start_time": "2024-01-23T16:11:14.605600218Z"
    }
   },
   "outputs": [],
   "source": [
    "from sklearn.metrics import confusion_matrix"
   ]
  },
  {
   "cell_type": "code",
   "execution_count": 33,
   "metadata": {
    "ExecuteTime": {
     "end_time": "2024-01-23T16:11:14.739517116Z",
     "start_time": "2024-01-23T16:11:14.605720640Z"
    }
   },
   "outputs": [
    {
     "data": {
      "text/plain": "array([[858,   9],\n       [ 55,  78]])"
     },
     "execution_count": 33,
     "metadata": {},
     "output_type": "execute_result"
    }
   ],
   "source": [
    "confusion_matrix(y_valid, tree_valid_pred)"
   ]
  },
  {
   "cell_type": "code",
   "execution_count": 34,
   "metadata": {
    "ExecuteTime": {
     "end_time": "2024-01-23T16:11:14.742505003Z",
     "start_time": "2024-01-23T16:11:14.648954939Z"
    }
   },
   "outputs": [
    {
     "data": {
      "text/plain": "array([867, 133])"
     },
     "execution_count": 34,
     "metadata": {},
     "output_type": "execute_result"
    }
   ],
   "source": [
    "np.bincount(y_valid)"
   ]
  },
  {
   "cell_type": "code",
   "execution_count": 35,
   "metadata": {
    "ExecuteTime": {
     "end_time": "2024-01-23T16:11:14.764157117Z",
     "start_time": "2024-01-23T16:11:14.649176819Z"
    }
   },
   "outputs": [],
   "source": [
    "from sklearn.tree import export_graphviz"
   ]
  },
  {
   "cell_type": "code",
   "execution_count": 36,
   "metadata": {
    "ExecuteTime": {
     "end_time": "2024-01-23T16:11:14.766314887Z",
     "start_time": "2024-01-23T16:11:14.649346158Z"
    }
   },
   "outputs": [
    {
     "data": {
      "text/plain": "0.905"
     },
     "execution_count": 36,
     "metadata": {},
     "output_type": "execute_result"
    }
   ],
   "source": [
    "second_tree = DecisionTreeClassifier(max_depth=3).fit(X_train, y_train)\n",
    "second_tree.score(X_valid, y_valid)"
   ]
  },
  {
   "cell_type": "code",
   "execution_count": 37,
   "metadata": {
    "ExecuteTime": {
     "end_time": "2024-01-23T16:11:14.769157658Z",
     "start_time": "2024-01-23T16:11:14.650902527Z"
    }
   },
   "outputs": [],
   "source": [
    "export_graphviz(\n",
    "    second_tree, out_file=\"telecom_tree2.dot\", feature_names=X.columns, filled=True,\n",
    ")\n"
   ]
  },
  {
   "cell_type": "code",
   "execution_count": 38,
   "metadata": {
    "ExecuteTime": {
     "end_time": "2024-01-23T16:11:14.785804300Z",
     "start_time": "2024-01-23T16:11:14.655108495Z"
    }
   },
   "outputs": [],
   "source": [
    "#!ls -l *.png"
   ]
  },
  {
   "cell_type": "code",
   "execution_count": 39,
   "metadata": {
    "ExecuteTime": {
     "end_time": "2024-01-23T16:11:14.851753502Z",
     "start_time": "2024-01-23T16:11:14.667293443Z"
    }
   },
   "outputs": [
    {
     "name": "stdout",
     "output_type": "stream",
     "text": [
      "/bin/bash: line 1: dot: command not found\r\n"
     ]
    }
   ],
   "source": [
    "!dot -Tpng telecom_tree2.dot -o telecom_tree2.png"
   ]
  },
  {
   "cell_type": "markdown",
   "metadata": {},
   "source": [
    "<img src='telecom_tree2.png'>"
   ]
  },
  {
   "cell_type": "code",
   "outputs": [],
   "source": [],
   "metadata": {
    "collapsed": false
   },
   "execution_count": 39
  }
 ],
 "metadata": {
  "kernelspec": {
   "display_name": "Python 3",
   "language": "python",
   "name": "python3"
  },
  "language_info": {
   "codemirror_mode": {
    "name": "ipython",
    "version": 3
   },
   "file_extension": ".py",
   "mimetype": "text/x-python",
   "name": "python",
   "nbconvert_exporter": "python",
   "pygments_lexer": "ipython3",
   "version": "3.6.1"
  }
 },
 "nbformat": 4,
 "nbformat_minor": 2
}
